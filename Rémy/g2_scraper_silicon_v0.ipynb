{
 "cells": [
  {
   "cell_type": "code",
   "execution_count": 2,
   "metadata": {},
   "outputs": [
    {
     "name": "stdout",
     "output_type": "stream",
     "text": [
      "Requirement already satisfied: textblob in c:\\users\\aaa\\anaconda3\\lib\\site-packages (0.15.3)\n",
      "Requirement already satisfied: nltk>=3.1 in c:\\users\\aaa\\anaconda3\\lib\\site-packages (from textblob) (3.5)\n",
      "Requirement already satisfied: joblib in c:\\users\\aaa\\anaconda3\\lib\\site-packages (from nltk>=3.1->textblob) (0.17.0)\n",
      "Requirement already satisfied: tqdm in c:\\users\\aaa\\anaconda3\\lib\\site-packages (from nltk>=3.1->textblob) (4.50.2)\n",
      "Requirement already satisfied: click in c:\\users\\aaa\\anaconda3\\lib\\site-packages (from nltk>=3.1->textblob) (7.1.2)\n",
      "Requirement already satisfied: regex in c:\\users\\aaa\\anaconda3\\lib\\site-packages (from nltk>=3.1->textblob) (2020.10.15)\n",
      "Requirement already satisfied: bs4 in c:\\users\\aaa\\anaconda3\\lib\\site-packages (0.0.1)\n",
      "Requirement already satisfied: beautifulsoup4 in c:\\users\\aaa\\anaconda3\\lib\\site-packages (from bs4) (4.9.3)\n",
      "Requirement already satisfied: soupsieve>1.2; python_version >= \"3.0\" in c:\\users\\aaa\\anaconda3\\lib\\site-packages (from beautifulsoup4->bs4) (2.0.1)\n"
     ]
    }
   ],
   "source": [
    "import pandas as pd\n",
    "import numpy as np\n",
    "!pip install textblob\n",
    "!pip install bs4\n",
    "from textblob import TextBlob\n",
    "from requests import get\n",
    "from bs4 import BeautifulSoup\n",
    "from datetime import datetime"
   ]
  },
  {
   "cell_type": "code",
   "execution_count": 59,
   "metadata": {},
   "outputs": [],
   "source": [
    "\"\"\"\n",
    "Created on Fri Jan 8 15:32:02 2021\n",
    "Group 2\n",
    "@authors: Rémy Lapeyre\n",
    "\"\"\"\n",
    "\n",
    "def scraping(url : str) -> tuple :\n",
    "  \"\"\"Documentation\n",
    "  function which from a url creates a BeautifulSoup object,\n",
    "  then researches informations about the article and the website and\n",
    "  finally returns all this data as a tuple\n",
    "  Parameters:\n",
    "  param1: url: str\n",
    "  Out:\n",
    "  out1: tuple: contains properties of the article and the source\n",
    "  \"\"\"  \n",
    "  req = get(url)\n",
    "  html_soup = BeautifulSoup(req.text, 'html.parser')\n",
    "  #Retrieval of the content of the article with the html tags\n",
    "  art_content_html = html_soup.find(\"section\",{\"class\":\"article-content\"})\n",
    "  #Removal of the html tags and replacement of '\\xa0' by ''\n",
    "  art_content = art_content_html.text.replace('\\xa0',' ')\n",
    "  #Retrieval of the date and conversion to the datetime format\n",
    "  art_published_datetime = datetime.strptime(html_soup.find(\"meta\",{\"itemprop\":\"datePublished\"})['content'], \"%Y-%m-%dT%H:%M:%S%z\").date() \n",
    "  #Analysis of the language of the text with the TextBlob library\n",
    "  art_lang = TextBlob(art_content).detect_language()\n",
    "  #Retrieval of the title in meta property, replacing '\\xa0' by ''\n",
    "  art_title = html_soup.find(\"meta\",{\"property\":\"og:title\"})['content'].replace('\\xa0',' ')\n",
    "  #Retrieval of the website's name in meta property\n",
    "  src_name = html_soup.find(\"meta\",{\"property\":\"og:site_name\"})['content']\n",
    "  src_type = 'xpath_source' #default value \n",
    "  src_url = 'https://www.silicon.fr/'\n",
    "  #Retrieval of the image representing the article\n",
    "  #Because this website the image can be found at two different places in the html code we use a if/else condition\n",
    "  if html_soup.find(\"picture\",{\"class\":\"img\"}) is not None:\n",
    "    art_img = html_soup.find(\"picture\",{\"class\":\"img\"}).find(\"source\")[\"srcset\"]\n",
    "  else:\n",
    "    art_img = html_soup.find(\"meta\",{\"itemprop\":\"image\"})[\"content\"]\n",
    "  #Retrieval of the author of the article\n",
    "  art_auth = html_soup.find(\"meta\",{\"itemprop\":\"author\"})['content']\n",
    "  #Retrieval of the tag(s) of the article in meta property, if there are no tags we return 'no_data'\n",
    "  art_tag = [el['content'] for el in html_soup.find_all(\"meta\",{\"property\":\"article:tag\"})]\n",
    "  if art_tag == []:\n",
    "    art_tag = 'no_data'\n",
    "  return art_content,art_content_html,art_published_datetime,art_lang,art_title,url,src_name,src_type,src_url,art_img,art_auth,art_tag\n"
   ]
  },
  {
   "cell_type": "code",
   "execution_count": 60,
   "metadata": {},
   "outputs": [
    {
     "name": "stdout",
     "output_type": "stream",
     "text": [
      "https://www.silicon.fr/emploi-it-recrutements-2021-356166.html\n",
      "('\\nLes analystes en sécurité des systèmes, les ingénieurs cloud et les devops sont les plus recherchés par les DSI en France, selon le cabinet Robert Half.\\n\\nLe cabinet de recrutement Robert Half a dévoilé les résultats d’une enquête sur les perspectives d’embauche de moyennes et grandes entreprises en 2021. \\nContexte économique global, carnets de commandes, numérisation du travail… La pandémie de Covid-19 perturbe encore les perspectives. Toutefois, 78% des dirigeants (DG, DAF et DSI) interrogés en France se déclarent « assez » ou « très confiants » quant aux perspectives de croissance de leur organisation sur l’année. \\nIls sont plus mesurés concernant les recrutements. Ainsi, 69% des répondants disent vouloir « stabiliser » leurs effectifs au premier semestre 2021. Une minorité (8%) opte même pour le gel total des embauches, après des mois marqués par la crise sanitaire. \\nEn revanche, 23% des dirigeants prévoient d’étoffer leurs équipes. Malgré les incertitudes, les intentions de recrutements de cadres restent plus élevées dans les technologies et les systèmes d’information que dans d’autres secteurs.\\nQuels sont les choix de directeurs des systèmes d’information (DSI) ?\\nSécurité, Cloud, DevOps\\nPour les DSI, rapporte Robert Half, les 5 fonctions prioriraires sont les suivantes : \\n– Analyste en sécurité des systèmes informatiques\\n– Ingénieur cloud\\n– Ingénieur DevOps\\n– Gestionnaire systèmes et réseaux\\n– Gestionnaire support applicatif \\nGlobalement, « la tendance au télétravail et au travail hybride, ainsi qu’à la génération de revenus en ligne et issus du commerce électronique à l’échelle internationale, influent sur les intentions et les priorités en matière de recrutements », a expliqué Albane Prieto, directrice chez Robert Half France. « Selon les premières indications, 2021 sera une année de reprise et de reconstruction, tant pour les entreprises que pour les salariés. »\\n*L’enquête a été menée pour Robert Half auprès de 1800 directeurs généraux, financiers et informatiques en novembre 2020. Six pays sont concernés : France, Allemagne, Belgique, Royaume-Uni, Brésil et Australie.\\n(crédit photo © Shutterstock)\\n\\n\\nLire aussi : \\n\\n\\n\\n\\nDéveloppeur : le joker des professionnels en transition\\n\\n\\n\\n\\n\\n\\nIA : quand sonne le glas du management intermédiaire\\n\\n\\n\\n\\n\\n\\nEmploi IT : le Covid-19 perturbe les recrutements\\n\\n\\n\\n\\n', <section class=\"article-content\" itemprop=\"articleBody\">\n",
      "<div class=\"entry-excerpt\"><p>Les analystes en sécurité des systèmes, les ingénieurs cloud et les devops sont les plus recherchés par les DSI en France, selon le cabinet Robert Half.</p>\n",
      "</div>\n",
      "<div class=\"entry-content\"><p>Le cabinet de recrutement Robert Half a dévoilé les résultats d’une <a href=\"https://www.roberthalf.fr/blog/perspectives-de-croissance-et-tendances-pour-le-recrutement-en-2021\" rel=\"nofollow noopener noreferrer\" target=\"_blank\">enquête</a> sur les perspectives d’embauche de moyennes et grandes entreprises en 2021. </p><script id=\"DESKTOP_IN_ARTICLE-356166-0\" type=\"text/javascript\">var screensize = document.documentElement.clientWidth;if (screensize  < 1800) {var minscreenwidth = \"1280\";} else {var minscreenwidth = \"1920\";}var u_company = \"n/a\";var u_job_description = \"n/a\";var u_company_size = \"n/a\";var u_industry = \"n/a\";if (kaminoCookie.getItem(\"ct_echo\") != undefined) {var ct_echo = JSON.parse(kaminoCookie.getItem(\"ct_echo\"));ct_echo.details = ct_echo.details || {};u_company = ct_echo.company || \"n/a\";u_job_description = ct_echo.details.jd || \"n/a\";u_company_size = ct_echo.details.ne || \"n/a\";u_industry = ct_echo.details.is || \"n/a\";}console.log(\"id:DESKTOP_IN_ARTICLE-356166-0\");var scr = document.getElementById(\"DESKTOP_IN_ARTICLE-356166-0\");var device = \"desktop\";if(dfp_device_view == device){var slot_div = document.createElement(\"div\");slot_div.setAttribute(\"id\", \"div-gpt-ad-DESKTOP_IN_ARTICLE-356166-0\");slot_div.setAttribute(\"class\", \"dfp_ad div-gpt-ad-DESKTOP_IN_ARTICLE-0 desktop sticky-DESKTOP_IN_ARTICLE-356166-0\");slot_div.setAttribute(\"height\", \"0\");var word = \"Publicité\";if(word != \"\"){var slot_word_div = document.createElement(\"div\");slot_word_div.setAttribute(\"class\", \"dfp_word\");slot_word_div.innerHTML = word;slot_div.appendChild(slot_word_div);}scr.parentNode.insertBefore(slot_div, scr.nextSibling);googletag.cmd.push(function() {var infinite_scroll = false;if(\"\" != \"\"){infinite_scroll = true;if(hutt_original_page_id != \"\"){hutt_original_page_id = \"\";hutt_defineSlot_slot_object_infinite_scroll = [];}}var slot = googletag.defineSlot(\"/14668010/silicon/article/emploi\",[8, 8], \"div-gpt-ad-DESKTOP_IN_ARTICLE-356166-0\").setTargeting(\"artid\", \"356166\").setTargeting(\"cat\", \"emploi\").setTargeting(\"tag\", [\"emploi\",\"recrutements\",\"robert-half\"]).setTargeting(\"type\", \"post\").setTargeting(\"min_width\", minscreenwidth).setTargeting(\"job_description\", u_job_description).setTargeting(\"company_size\", u_company_size).setTargeting(\"industry\", u_industry).setTargeting(\"company\", u_company).addService(googletag.pubads());if(infinite_scroll == true){hutt_defineSlot_slot_object_infinite_scroll.push( slot );}var size = \"[8, 8]\";size = size.replace(/\\s+/g, \"\");hutt_defineSlot[\"div-gpt-ad-DESKTOP_IN_ARTICLE-356166-0\"] = {};hutt_defineSlot[\"div-gpt-ad-DESKTOP_IN_ARTICLE-356166-0\"][\"size\"] = size;hutt_defineSlot_slot_object[\"div-gpt-ad-DESKTOP_IN_ARTICLE-356166-0\"] = {};hutt_defineSlot_slot_object[\"div-gpt-ad-DESKTOP_IN_ARTICLE-356166-0\"][\"slot\"] = slot;googletag.display(\"div-gpt-ad-DESKTOP_IN_ARTICLE-356166-0\");});}</script><script id=\"VIDEO_INFEED-356166-0\" type=\"text/javascript\">var screensize = document.documentElement.clientWidth;if (screensize  < 1800) {var minscreenwidth = \"1280\";} else {var minscreenwidth = \"1920\";}var u_company = \"n/a\";var u_job_description = \"n/a\";var u_company_size = \"n/a\";var u_industry = \"n/a\";if (kaminoCookie.getItem(\"ct_echo\") != undefined) {var ct_echo = JSON.parse(kaminoCookie.getItem(\"ct_echo\"));ct_echo.details = ct_echo.details || {};u_company = ct_echo.company || \"n/a\";u_job_description = ct_echo.details.jd || \"n/a\";u_company_size = ct_echo.details.ne || \"n/a\";u_industry = ct_echo.details.is || \"n/a\";}console.log(\"id:VIDEO_INFEED-356166-0\");var scr = document.getElementById(\"VIDEO_INFEED-356166-0\");var device = \"desktop\";if(dfp_device_view == device){var slot_div = document.createElement(\"div\");slot_div.setAttribute(\"id\", \"div-gpt-ad-VIDEO_INFEED-356166-0\");slot_div.setAttribute(\"class\", \"dfp_ad div-gpt-ad-VIDEO_INFEED-0 desktop sticky-VIDEO_INFEED-356166-0\");slot_div.setAttribute(\"height\", \"0\");var word = \"Publicité\";if(word != \"\"){var slot_word_div = document.createElement(\"div\");slot_word_div.setAttribute(\"class\", \"dfp_word\");slot_word_div.innerHTML = word;slot_div.appendChild(slot_word_div);}scr.parentNode.insertBefore(slot_div, scr.nextSibling);googletag.cmd.push(function() {var infinite_scroll = false;if(\"\" != \"\"){infinite_scroll = true;if(hutt_original_page_id != \"\"){hutt_original_page_id = \"\";hutt_defineSlot_slot_object_infinite_scroll = [];}}var slot = googletag.defineSlot(\"/14668010/silicon/article/emploi\",['fluid'], \"div-gpt-ad-VIDEO_INFEED-356166-0\").setTargeting(\"artid\", \"356166\").setTargeting(\"cat\", \"emploi\").setTargeting(\"tag\", [\"emploi\",\"recrutements\",\"robert-half\"]).setTargeting(\"type\", \"post\").setTargeting(\"min_width\", minscreenwidth).setTargeting(\"job_description\", u_job_description).setTargeting(\"company_size\", u_company_size).setTargeting(\"industry\", u_industry).setTargeting(\"company\", u_company).addService(googletag.pubads());if(infinite_scroll == true){hutt_defineSlot_slot_object_infinite_scroll.push( slot );}var size = \"['fluid']\";size = size.replace(/\\s+/g, \"\");hutt_defineSlot[\"div-gpt-ad-VIDEO_INFEED-356166-0\"] = {};hutt_defineSlot[\"div-gpt-ad-VIDEO_INFEED-356166-0\"][\"size\"] = size;hutt_defineSlot_slot_object[\"div-gpt-ad-VIDEO_INFEED-356166-0\"] = {};hutt_defineSlot_slot_object[\"div-gpt-ad-VIDEO_INFEED-356166-0\"][\"slot\"] = slot;googletag.display(\"div-gpt-ad-VIDEO_INFEED-356166-0\");});}</script>\n",
      "<p>Contexte économique global, carnets de commandes, numérisation du travail… La pandémie de Covid-19 perturbe encore les perspectives. Toutefois, 78% des dirigeants (DG, DAF et DSI) interrogés en France se déclarent « assez » ou « très confiants » quant aux perspectives de croissance de leur organisation sur l’année. </p>\n",
      "<p>Ils sont plus mesurés concernant les recrutements. Ainsi, 69% des répondants disent vouloir « stabiliser » leurs effectifs au premier semestre 2021. Une minorité (8%) opte même pour le gel total des embauches, après des mois marqués par la crise sanitaire. </p>\n",
      "<p>En revanche, 23% des dirigeants prévoient d’étoffer leurs équipes. Malgré les incertitudes, les intentions de recrutements <a href=\"https://www.silicon.fr/emploi-it-covid-19-recrutements-349476.html\" rel=\"nofollow noopener noreferrer\" target=\"_blank\">de cadres</a> restent plus élevées dans les technologies et les systèmes d’information que dans d’autres secteurs.</p>\n",
      "<p>Quels sont les choix de directeurs des systèmes d’information (DSI) ?</p>\n",
      "<h2>Sécurité, Cloud, DevOps</h2>\n",
      "<p>Pour les DSI, rapporte Robert Half, les 5 fonctions prioriraires sont les suivantes : </p>\n",
      "<p>– Analyste en sécurité des systèmes informatiques<br/>\n",
      "– Ingénieur cloud<br/>\n",
      "– Ingénieur <a href=\"https://www.silicon.fr/open-source-emplois-milliers-devops-350343.html\" rel=\"nofollow noopener noreferrer\" target=\"_blank\">DevOps</a><br/>\n",
      "– Gestionnaire systèmes et réseaux<br/>\n",
      "– Gestionnaire support applicatif </p>\n",
      "<p>Globalement, « la tendance au <a href=\"https://www.silicon.fr/teletravail-attractivite-entreprises-cadres-354911.html\" rel=\"nofollow noopener noreferrer\" target=\"_blank\">télétravail</a> et au travail hybride, ainsi qu’à la génération de revenus en ligne et issus du commerce électronique à l’échelle internationale, influent sur les intentions et les priorités en matière de recrutements », a expliqué Albane Prieto, directrice chez Robert Half France. « Selon les premières indications, 2021 sera une année de reprise et de reconstruction, tant pour les entreprises que pour les salariés. »</p>\n",
      "<p>*<sub>L’enquête a été menée pour Robert Half auprès de 1800 directeurs généraux, financiers et informatiques en novembre 2020. Six pays sont concernés : France, Allemagne, Belgique, Royaume-Uni, Brésil et Australie.</sub></p>\n",
      "<p><sub>(crédit photo © Shutterstock)</sub></p>\n",
      "<div class=\"BeOpinionWidget\"></div></div>\n",
      "<div class=\"visibility-end-of-article\"></div>\n",
      "<div class=\"title-similarposts\">Lire aussi : </div>\n",
      "<div class=\"similarposts\">\n",
      "<a href=\"https://www.silicon.fr/developpeur-joker-professionnels-reconversion-351686.html\">\n",
      "<div class=\"similar-post\">\n",
      "<div class=\"similar-post-details\">\n",
      "<h2 class=\"title-post\">Développeur : le joker des professionnels en transition</h2>\n",
      "</div>\n",
      "</div>\n",
      "</a>\n",
      "<a href=\"https://www.silicon.fr/ia-management-intermediaire-351303.html\">\n",
      "<div class=\"similar-post\">\n",
      "<div class=\"similar-post-details\">\n",
      "<h2 class=\"title-post\">IA : quand sonne le glas du management intermédiaire</h2>\n",
      "</div>\n",
      "</div>\n",
      "</a>\n",
      "<a href=\"https://www.silicon.fr/emploi-it-covid-19-recrutements-349476.html\">\n",
      "<div class=\"similar-post\">\n",
      "<div class=\"similar-post-details\">\n",
      "<h2 class=\"title-post\">Emploi IT : le Covid-19 perturbe les recrutements</h2>\n",
      "</div>\n",
      "</div>\n",
      "</a>\n",
      "</div>\n",
      "</section>, datetime.date(2021, 1, 8), 'fr', 'Emploi IT : des recrutements à géométrie variable en 2021 | Silicon', 'https://www.silicon.fr/emploi-it-recrutements-2021-356166.html', 'Silicon', 'xpath_source', 'https://www.silicon.fr/', 'https://www.silicon.fr/wp-content/uploads/2016/05/shutterstock_234146047-684x513.jpg', 'Ariane Beky', ['Emploi', 'recrutements', 'Robert Half'])\n"
     ]
    }
   ],
   "source": [
    "url=input()\n",
    "print(scraping(url))"
   ]
  },
  {
   "cell_type": "code",
   "execution_count": null,
   "metadata": {},
   "outputs": [],
   "source": []
  }
 ],
 "metadata": {
  "kernelspec": {
   "display_name": "Python 3",
   "language": "python",
   "name": "python3"
  },
  "language_info": {
   "codemirror_mode": {
    "name": "ipython",
    "version": 3
   },
   "file_extension": ".py",
   "mimetype": "text/x-python",
   "name": "python",
   "nbconvert_exporter": "python",
   "pygments_lexer": "ipython3",
   "version": "3.8.5"
  }
 },
 "nbformat": 4,
 "nbformat_minor": 4
}
