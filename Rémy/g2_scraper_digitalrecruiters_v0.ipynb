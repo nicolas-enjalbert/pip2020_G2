{
 "cells": [
  {
   "cell_type": "code",
   "execution_count": 1,
   "metadata": {},
   "outputs": [
    {
     "name": "stdout",
     "output_type": "stream",
     "text": [
      "Requirement already satisfied: textblob in c:\\users\\aaa\\anaconda3\\lib\\site-packages (0.15.3)\n",
      "Requirement already satisfied: nltk>=3.1 in c:\\users\\aaa\\anaconda3\\lib\\site-packages (from textblob) (3.5)\n",
      "Requirement already satisfied: click in c:\\users\\aaa\\anaconda3\\lib\\site-packages (from nltk>=3.1->textblob) (7.1.2)\n",
      "Requirement already satisfied: regex in c:\\users\\aaa\\anaconda3\\lib\\site-packages (from nltk>=3.1->textblob) (2020.10.15)\n",
      "Requirement already satisfied: joblib in c:\\users\\aaa\\anaconda3\\lib\\site-packages (from nltk>=3.1->textblob) (0.17.0)\n",
      "Requirement already satisfied: tqdm in c:\\users\\aaa\\anaconda3\\lib\\site-packages (from nltk>=3.1->textblob) (4.50.2)\n",
      "Requirement already satisfied: bs4 in c:\\users\\aaa\\anaconda3\\lib\\site-packages (0.0.1)\n",
      "Requirement already satisfied: beautifulsoup4 in c:\\users\\aaa\\anaconda3\\lib\\site-packages (from bs4) (4.9.3)\n",
      "Requirement already satisfied: soupsieve>1.2; python_version >= \"3.0\" in c:\\users\\aaa\\anaconda3\\lib\\site-packages (from beautifulsoup4->bs4) (2.0.1)\n"
     ]
    }
   ],
   "source": [
    "import pandas as pd\n",
    "import numpy as np\n",
    "!pip install textblob\n",
    "!pip install bs4\n",
    "from textblob import TextBlob\n",
    "from requests import get\n",
    "from bs4 import BeautifulSoup"
   ]
  },
  {
   "cell_type": "code",
   "execution_count": 53,
   "metadata": {},
   "outputs": [
    {
     "name": "stdout",
     "output_type": "stream",
     "text": [
      "Gestion des talents et des compétences : comment éviter les déséquilibres ? - DigitalRecruiters\n"
     ]
    }
   ],
   "source": [
    "\"\"\"\n",
    "Created on Wed Jan 6 09:20:43 2021\n",
    "Group 2\n",
    "@authors: Rémy Lapeyre\n",
    "\"\"\"\n",
    "\n",
    "def get_Title(url : str) -> str :\n",
    "  \"\"\"\n",
    "    function which from a url parses the HTLM domain and returns the title of the article\n",
    "  \"\"\"\n",
    "  req = get(url)\n",
    "  html_soup = BeautifulSoup(req.text, 'html.parser')\n",
    "  title = html_soup.find(\"meta\",{\"property\":\"og:title\"})['content']\n",
    "  return title\n",
    "\n",
    "def get_img(url : str) -> str :\n",
    "  \"\"\"\n",
    "    function which from a url parses the HTLM domain and returns the image of the article\n",
    "  \"\"\"\n",
    "  req = get(url)\n",
    "  html_soup = BeautifulSoup(req.text, 'html.parser')\n",
    "  image = html_soup.find(\"meta\",{\"property\":\"og:image\"})['content']\n",
    "  return image\n",
    "\n",
    "def get_Author(url : str) -> str :\n",
    "  \"\"\"\n",
    "    function which from a url parses the HTLM domain and returns the author of the article\n",
    "  \"\"\"\n",
    "  req = get(url)\n",
    "  html_soup = BeautifulSoup(req.text, 'html.parser')\n",
    "  authortemp1 = html_soup.find(\"ul\",{\"class\":\"list-inline infos\"}).text\n",
    "  authortemp2 = authortemp1.split(\"\\n\")[5]\n",
    "  author = authortemp2.split(\" \")[1:]\n",
    "  return str(author[0]+\" \"+author[1])\n",
    "\n",
    "def get_Date(url : str) -> str :\n",
    "  \"\"\"\n",
    "    function which from a url parses the HTLM domain and returns the date of publication of the article\n",
    "  \"\"\"\n",
    "  req = get(url)\n",
    "  html_soup = BeautifulSoup(req.text, 'html.parser')\n",
    "  Datetemp = html_soup.find(\"ul\",{\"class\":\"list-inline infos\"}).text\n",
    "  Date = Datetemp.split(\"\\n\")[4]\n",
    "  return Date\n",
    "\n",
    "def get_Content(url :str) -> str :\n",
    "  \"\"\"\n",
    "    function which from a url parses the HTLM domain and returns the content, with and without the html tags, of the article\n",
    "  \"\"\"\n",
    "  req = get(url)\n",
    "  html_soup = BeautifulSoup(req.text, 'html.parser')\n",
    "  paragraphe = html_soup.find_all('p')\n",
    "  content_html=\" \".join([str(x) for x in paragraphe])\n",
    "  content=\" \".join([x.text for x in paragraphe])\n",
    "  return content, content_html\n",
    "\n",
    "def get_Langue(url : str) -> str :\n",
    "  \"\"\"\n",
    "    function which from a url parses the HTLM domain and returns the language of the article\n",
    "  \"\"\"\n",
    "  a = TextBlob(get_Content(url)[0])\n",
    "  langue = a.detect_language()\n",
    "  return langue\n",
    "\n",
    "def scraping(url : str) -> tuple :\n",
    "  \"\"\"\n",
    "    function which from a url returns all the data collected with the functions above in a tuple\n",
    "  \"\"\"\n",
    "  art_content , art_content_html = get_Content(url)\n",
    "  art_extract_datetime = get_Date(url)\n",
    "  art_lang = get_Langue(url)\n",
    "  art_title = get_Title(url)\n",
    "  art_url = url\n",
    "  src_name = 'digitalrecruiters'\n",
    "  src_type = 'xpath_source' \n",
    "  src_url = 'https://www.digitalrecruiters.com/'\n",
    "  src_img = get_img(url)\n",
    "  art_auth = get_Author(url)\n",
    "  art_tag = 'no_data'\n",
    "  return art_content,art_content_html,art_extract_datetime,art_lang,art_title,art_url,src_name,src_type,src_url,src_img,art_auth,art_tag\n"
   ]
  },
  {
   "cell_type": "code",
   "execution_count": 54,
   "metadata": {},
   "outputs": [
    {
     "name": "stdout",
     "output_type": "stream",
     "text": [
      "https://www.digitalrecruiters.com/blog/comment-la-crise-ravive-quete-de-sens-au-travail.html\n"
     ]
    },
    {
     "data": {
      "text/html": [
       "<div>\n",
       "<style scoped>\n",
       "    .dataframe tbody tr th:only-of-type {\n",
       "        vertical-align: middle;\n",
       "    }\n",
       "\n",
       "    .dataframe tbody tr th {\n",
       "        vertical-align: top;\n",
       "    }\n",
       "\n",
       "    .dataframe thead th {\n",
       "        text-align: right;\n",
       "    }\n",
       "</style>\n",
       "<table border=\"1\" class=\"dataframe\">\n",
       "  <thead>\n",
       "    <tr style=\"text-align: right;\">\n",
       "      <th></th>\n",
       "      <th>art_content</th>\n",
       "      <th>art_content_html</th>\n",
       "      <th>art_extract_datetime</th>\n",
       "      <th>art_lang</th>\n",
       "      <th>art_title</th>\n",
       "      <th>art_url</th>\n",
       "      <th>src_name</th>\n",
       "      <th>src_type</th>\n",
       "      <th>src_url</th>\n",
       "      <th>src_img</th>\n",
       "      <th>art_auth</th>\n",
       "      <th>art_tag</th>\n",
       "    </tr>\n",
       "  </thead>\n",
       "  <tbody>\n",
       "    <tr>\n",
       "      <th>0</th>\n",
       "      <td>Le recrutement nécessite de la méthode et des ...</td>\n",
       "      <td>&lt;p&gt;Le recrutement nécessite de la méthode et d...</td>\n",
       "      <td>28/12/2020</td>\n",
       "      <td>fr</td>\n",
       "      <td>Comment la crise a-t-elle ravivé la quête de s...</td>\n",
       "      <td>https://www.digitalrecruiters.com/blog/comment...</td>\n",
       "      <td>digitalrecruiters</td>\n",
       "      <td>xpath_source</td>\n",
       "      <td>https://www.digitalrecruiters.com/</td>\n",
       "      <td>https://www.digitalrecruiters.com/medias/2020/...</td>\n",
       "      <td>Dalale Belhout</td>\n",
       "      <td>no_data</td>\n",
       "    </tr>\n",
       "  </tbody>\n",
       "</table>\n",
       "</div>"
      ],
      "text/plain": [
       "                                         art_content  \\\n",
       "0  Le recrutement nécessite de la méthode et des ...   \n",
       "\n",
       "                                    art_content_html art_extract_datetime  \\\n",
       "0  <p>Le recrutement nécessite de la méthode et d...           28/12/2020   \n",
       "\n",
       "  art_lang                                          art_title  \\\n",
       "0       fr  Comment la crise a-t-elle ravivé la quête de s...   \n",
       "\n",
       "                                             art_url           src_name  \\\n",
       "0  https://www.digitalrecruiters.com/blog/comment...  digitalrecruiters   \n",
       "\n",
       "       src_type                             src_url  \\\n",
       "0  xpath_source  https://www.digitalrecruiters.com/   \n",
       "\n",
       "                                             src_img        art_auth  art_tag  \n",
       "0  https://www.digitalrecruiters.com/medias/2020/...  Dalale Belhout  no_data  "
      ]
     },
     "execution_count": 54,
     "metadata": {},
     "output_type": "execute_result"
    }
   ],
   "source": [
    "url=input()\n",
    "d = {'art_content' : [scraping(url)[0]],\n",
    "     'art_content_html' : [scraping(url)[1]],\n",
    "     'art_extract_datetime' : [scraping(url)[2]],\n",
    "     'art_lang' : [scraping(url)[3]],\n",
    "     'art_title' : [scraping(url)[4]],\n",
    "     'art_url' : [scraping(url)[5]],\n",
    "     'src_name' : [scraping(url)[6]],\n",
    "     'src_type' : [scraping(url)[7]],\n",
    "     'src_url' : [scraping(url)[8]],\n",
    "     'src_img' : [scraping(url)[9]],\n",
    "     'art_auth' : [scraping(url)[10]],\n",
    "     'art_tag' : [scraping(url)[11]]}\n",
    "df = pd.DataFrame(data=d)\n",
    "df"
   ]
  },
  {
   "cell_type": "code",
   "execution_count": null,
   "metadata": {},
   "outputs": [],
   "source": []
  }
 ],
 "metadata": {
  "kernelspec": {
   "display_name": "Python 3",
   "language": "python",
   "name": "python3"
  },
  "language_info": {
   "codemirror_mode": {
    "name": "ipython",
    "version": 3
   },
   "file_extension": ".py",
   "mimetype": "text/x-python",
   "name": "python",
   "nbconvert_exporter": "python",
   "pygments_lexer": "ipython3",
   "version": "3.8.5"
  }
 },
 "nbformat": 4,
 "nbformat_minor": 4
}
