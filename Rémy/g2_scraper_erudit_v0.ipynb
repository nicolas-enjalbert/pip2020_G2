{
 "cells": [
  {
   "cell_type": "code",
   "execution_count": 31,
   "metadata": {},
   "outputs": [
    {
     "name": "stdout",
     "output_type": "stream",
     "text": [
      "Requirement already satisfied: textblob in c:\\users\\aaa\\anaconda3\\lib\\site-packages (0.15.3)\n",
      "Requirement already satisfied: nltk>=3.1 in c:\\users\\aaa\\anaconda3\\lib\\site-packages (from textblob) (3.5)\n",
      "Requirement already satisfied: click in c:\\users\\aaa\\anaconda3\\lib\\site-packages (from nltk>=3.1->textblob) (7.1.2)\n",
      "Requirement already satisfied: regex in c:\\users\\aaa\\anaconda3\\lib\\site-packages (from nltk>=3.1->textblob) (2020.10.15)\n",
      "Requirement already satisfied: tqdm in c:\\users\\aaa\\anaconda3\\lib\\site-packages (from nltk>=3.1->textblob) (4.50.2)\n",
      "Requirement already satisfied: joblib in c:\\users\\aaa\\anaconda3\\lib\\site-packages (from nltk>=3.1->textblob) (0.17.0)\n",
      "Requirement already satisfied: bs4 in c:\\users\\aaa\\anaconda3\\lib\\site-packages (0.0.1)\n",
      "Requirement already satisfied: beautifulsoup4 in c:\\users\\aaa\\anaconda3\\lib\\site-packages (from bs4) (4.9.3)\n",
      "Requirement already satisfied: soupsieve>1.2; python_version >= \"3.0\" in c:\\users\\aaa\\anaconda3\\lib\\site-packages (from beautifulsoup4->bs4) (2.0.1)\n"
     ]
    }
   ],
   "source": [
    "import pandas as pd\n",
    "import numpy as np\n",
    "!pip install textblob\n",
    "!pip install bs4\n",
    "from textblob import TextBlob\n",
    "from requests import get\n",
    "from bs4 import BeautifulSoup\n",
    "from datetime import datetime"
   ]
  },
  {
   "cell_type": "code",
   "execution_count": 66,
   "metadata": {},
   "outputs": [],
   "source": [
    "\"\"\"\n",
    "Created on Wed Jan 6 xx:xx:xx xxxx\n",
    "Group 2\n",
    "@authors: Rémy Lapeyre\n",
    "\"\"\"\n",
    "\n",
    "def scraping(url : str) -> tuple :\n",
    "  \"\"\"\n",
    "    function which from a url returns all the data collected with the functions above in a tuple\n",
    "  \"\"\"\n",
    "  req = get(url)\n",
    "  html_soup = BeautifulSoup(req.text, 'html.parser')\n",
    "  art_content_html = html_soup.find(\"section\",{\"id\":\"s1n1\"})\n",
    "  art_content = art_content_html.text.replace('\\xa0','')\n",
    "  art_published_datetime = datetime.strptime(html_soup.find(\"meta\",{\"name\":\"citation_online_date\"})['content'], \"%Y/%m/%d\").date()\n",
    "  art_lang = TextBlob(get_Content(url)[0]).detect_language()\n",
    "  art_title = html_soup.find(\"meta\",{\"property\":\"og:title\"})['content'].replace('\\xa0','')\n",
    "  art_url = html_soup.find(\"meta\",{\"property\":\"og:url\"})['content']\n",
    "  src_name = html_soup.find(\"meta\",{\"property\":\"og:site_name\"})['content']\n",
    "  src_type = 'xpath_source' #default value \n",
    "  src_url = 'https://www.erudit.org/fr/'\n",
    "  art_img = 'https://www.erudit.org'+html_soup.find(\"meta\",{\"property\":\"og:image\"})['content']\n",
    "  art_auth = [el.text.replace('\\n      ',' ') for el in html_soup.find_all(\"span\",{\"class\":\"nompers\"})]\n",
    "  art_tag = 'no_data'\n",
    "  return art_content,art_content_html,art_published_datetime,art_lang,art_title,art_url,src_name,src_type,src_url,art_img,art_auth,art_tag\n"
   ]
  },
  {
   "cell_type": "code",
   "execution_count": 67,
   "metadata": {},
   "outputs": [
    {
     "name": "stdout",
     "output_type": "stream",
     "text": [
      "https://www.erudit.org/fr/revues/ateliers/2019-v14-n2-ateliers05462/1071130ar/\n",
      "('July 2018, Turtle Island (Canada). Robert Lepage’s works Slāv and Kanata, based, respectively, on slave songs and on the relationship between First Nations and white settlers in Canada, make the headlines and spark debates on cultural appropriation. “We as Indigenous people have a voice, …[one] that Lepage needs to learn from and never dismiss. You cannot, no matter how educated you think you are, tell our stories without us. That is just not possible. You need us to provide the context, the pain, the suffering, the texture. Without that you’re left with a vapid production that continues to perpetuate stereotypes and ignores our very existence today,” said Steve Bonspiel, editor and publisher of The Eastern Door in Kahnawake (Drimonis, 2018).\\nOctober 2019, Santiago de Chile. A popular uprising takes place in Chile. In response, President Piñera declares a state of emergency in the metropolitan region on October 19, then quickly extends it to other regions. The military takes over, dictates curfews, and makes hundreds of arrests in just the few first hours. Cacerolazos break the silence at night. The events recall Pinochet’s dictatorship, and, on October 25, over two million people protest, claiming they are not at war and that Piñera is “a murderer just like Pinochet.” The protests will unravel for months, in the midst of which a constitutional process will be launched to replace Pinochet’s 1980 constitution. In parallel, vandalism against at least a dozen memorial sites and Human Rights Houses (established to remember human rights abuses during Pinochet’s dictatorship) will be perpetrated, confirming how the contestation of memory was a central aspect of these events (Andrade Daigre, 2020). \\nThese recent events in Canada and Chile highlight how debates and issues around collective memory are contemporary and can have vital consequences. Whether the desire for reconciliation is superficial or real, there have been multiple initiatives to shape and preserve the ways in which individuals and collectives remember episodes of oppression or authoritarianism. However, these initiatives often raise debates and questions about the instrumentalization of memory for political or personal purposes. Sometimes the victims do not feel understood; at other times, the allies of the protagonists feel that they are wrongly judged. Recovering historical memory, especially in connection to episodes of oppression and violence, is a sensitive—and far from unanimous—process.\\nThis special issue explores ethical issues around the inclusiveness, politicization, and instrumentalization of memory, particularly in relation to the remembering of episodes of oppression or violence. The articles address these issues from the perspectives of various disciplines (political science, art history, philosophy, sociology, law) and in light of case studies from Canada, Chile, Colombia, Rwanda, South Korea, and Spain.\\nWe believe the main contribution of this special issue is twofold. First, the special issue exposes a great variety of memory-recall mechanisms (both official and unofficial) and sheds light on their respective specificities, limitations, and challenges. Second, it discusses and analyzes how sociopolitical variables interact with memory processes, as plural memories emerge, become hierarchized (and sometimes silenced), and play into politics. The next two sections will detail this double contribution and situate it in the existing literature. A third section will present the organization of this special issue and the individual contributions of each paper. (Some readers could be interested in reading this last section first.)', <section id=\"s1n1\"><div class=\"para\" id=\"pa1\"><p class=\"alinea\">July 2018, Turtle Island (Canada). Robert Lepage’s works <em>Slāv</em> and <em>Kanata</em>, based, respectively, on slave songs and on the relationship between First Nations and white settlers in Canada, make the headlines and spark debates on cultural appropriation. “We as Indigenous people have a voice, …[one] that Lepage needs to learn from and never dismiss. You cannot, no matter how educated you think you are, tell our stories without us. That is just not possible. You need us to provide the context, the pain, the suffering, the texture. Without that you’re left with a vapid production that continues to perpetuate stereotypes and ignores our very existence today,” said Steve Bonspiel, editor and publisher of <em>The Eastern Door</em> in Kahnawake (Drimonis, 2018).</p></div>\n",
      "<div class=\"para\" id=\"pa2\"><p class=\"alinea\">October 2019, Santiago de Chile. A popular uprising takes place in Chile. In response, President Piñera declares a state of emergency in the metropolitan region on October 19, then quickly extends it to other regions. The military takes over, dictates curfews, and makes hundreds of arrests in just the few first hours. <em>Cacerolazos </em>break the silence at night. The events recall Pinochet’s dictatorship, and, on October 25, over two million people protest, claiming they are not at war and that Piñera is “a murderer just like Pinochet.” The protests will unravel for months, in the midst of which a constitutional process will be launched to replace Pinochet’s 1980 constitution. In parallel, vandalism against at least a dozen memorial sites and Human Rights Houses (established to remember human rights abuses during Pinochet’s dictatorship) will be perpetrated, confirming how the contestation of memory was a central aspect of these events (Andrade Daigre, 2020). </p></div>\n",
      "<div class=\"para\" id=\"pa3\"><p class=\"alinea\">These recent events in Canada and Chile highlight how debates and issues around collective memory are contemporary and can have vital consequences. Whether the desire for reconciliation is superficial or real, there have been multiple initiatives to shape and preserve the ways in which individuals and collectives remember episodes of oppression or authoritarianism. However, these initiatives often raise debates and questions about the instrumentalization of memory for political or personal purposes. Sometimes the victims do not feel understood; at other times, the allies of the protagonists feel that they are wrongly judged. Recovering historical memory, especially in connection to episodes of oppression and violence, is a sensitive—and far from unanimous—process.</p></div>\n",
      "<div class=\"para\" id=\"pa4\"><p class=\"alinea\">This special issue explores ethical issues around the inclusiveness, politicization, and instrumentalization of memory, particularly in relation to the remembering of episodes of oppression or violence. The articles address these issues from the perspectives of various disciplines (political science, art history, philosophy, sociology, law) and in light of case studies from Canada, Chile, Colombia, Rwanda, South Korea, and Spain.</p></div>\n",
      "<div class=\"para\" id=\"pa5\"><p class=\"alinea\">We believe the main contribution of this special issue is twofold. First, the special issue exposes a great variety of memory-recall mechanisms (both official and unofficial) and sheds light on their respective specificities, limitations, and challenges. Second, it discusses and analyzes how sociopolitical variables interact with memory processes, as plural memories emerge, become hierarchized (and sometimes silenced), and play into politics. The next two sections will detail this double contribution and situate it in the existing literature. A third section will present the organization of this special issue and the individual contributions of each paper. (Some readers could be interested in reading this last section first.)</p></div></section>, datetime.date(2020, 8, 18), 'fr', \"Dealing with Difficult Pasts: Memory, History and Ethics: Introduction – Les ateliers de l'éthique / The Ethics Forum\", 'https://www.erudit.org/fr/revues/ateliers/2019-v14-n2-ateliers05462/1071130ar/', 'Érudit', 'xpath_source', 'https://www.erudit.org/fr/', 'https://www.erudit.org/fr/revues/ateliers/2019-v14-n2-ateliers05462/coverpage.jpg', ['Florence Larocque', 'Anne-Marie Reynaud'], 'no_data')\n"
     ]
    }
   ],
   "source": []
  },
  {
   "cell_type": "code",
   "execution_count": null,
   "metadata": {},
   "outputs": [],
   "source": []
  }
 ],
 "metadata": {
  "kernelspec": {
   "display_name": "Python 3",
   "language": "python",
   "name": "python3"
  },
  "language_info": {
   "codemirror_mode": {
    "name": "ipython",
    "version": 3
   },
   "file_extension": ".py",
   "mimetype": "text/x-python",
   "name": "python",
   "nbconvert_exporter": "python",
   "pygments_lexer": "ipython3",
   "version": "3.8.5"
  }
 },
 "nbformat": 4,
 "nbformat_minor": 4
}
