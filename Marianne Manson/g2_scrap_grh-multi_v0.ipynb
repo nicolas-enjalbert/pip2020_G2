{
 "cells": [
  {
   "cell_type": "markdown",
   "metadata": {},
   "source": [
    "Created on Tuesday 12 January 2021\n",
    "\n",
    "**Group 2 - Identification**\n",
    "\n",
    "**\"grh-multi.net\" scraper**\n",
    "\n",
    "@authors: Marianne Manson"
   ]
  },
  {
   "cell_type": "code",
   "execution_count": 3,
   "metadata": {},
   "outputs": [],
   "source": [
    "#import de lib\n",
    "import pandas as pd\n",
    "import re\n",
    "from datetime import datetime\n",
    "from requests import get\n",
    "from bs4 import BeautifulSoup"
   ]
  },
  {
   "cell_type": "code",
   "execution_count": 27,
   "metadata": {},
   "outputs": [],
   "source": [
    "# url : https://grh-multi.net/fr/2016/05/compte-rendu-de-levenement-big-data-gpec/\n",
    "\n",
    "def scraping(url):\n",
    "    req = get(url)\n",
    "    html_soup = BeautifulSoup(req.text, 'html.parser')\n",
    "    # content, html_content\n",
    "    content_html = html_soup.find(\"article\",{'class':\"col-md-9 item-page col2r\"})\n",
    "    content = content_html.text\n",
    "    #date\n",
    "    date = html_soup.find(\"meta\",{'property':\"article:published_time\"})['content']\n",
    "    format_end = date[-5:]\n",
    "    date = datetime.strptime(date,'%Y-%m-%dT%H:%M:%S+'+format_end)\n",
    "    #title\n",
    "    title = html_soup.find(\"meta\",{'property':\"og:title\"})['content']\n",
    "    # data to add in dataframe \n",
    "    new_row = {'art_content': content_html ,\n",
    "               'art_content_html': content ,\n",
    "               'art_published_datetime': date ,\n",
    "               'art_lang': 'fr' , \n",
    "               'art_title' : title , \n",
    "               'art_url' : url ,\n",
    "               'src_name' :'grh-multi',\n",
    "               'src_type' : 'xpath_source',\n",
    "               'src_url' : 'http://grh-multi.net/fr/',\n",
    "               'src_img' : \"no_data\" ,\n",
    "               'art_auth': \"no_data\" ,\n",
    "               'art_tag': \"no_data\"}\n",
    "    return new_row"
   ]
  },
  {
   "cell_type": "code",
   "execution_count": 29,
   "metadata": {},
   "outputs": [
    {
     "data": {
      "text/html": [
       "<div>\n",
       "<style scoped>\n",
       "    .dataframe tbody tr th:only-of-type {\n",
       "        vertical-align: middle;\n",
       "    }\n",
       "\n",
       "    .dataframe tbody tr th {\n",
       "        vertical-align: top;\n",
       "    }\n",
       "\n",
       "    .dataframe thead th {\n",
       "        text-align: right;\n",
       "    }\n",
       "</style>\n",
       "<table border=\"1\" class=\"dataframe\">\n",
       "  <thead>\n",
       "    <tr style=\"text-align: right;\">\n",
       "      <th></th>\n",
       "      <th>art_content</th>\n",
       "      <th>art_content_html</th>\n",
       "      <th>art_published_datetime</th>\n",
       "      <th>art_lang</th>\n",
       "      <th>art_title</th>\n",
       "      <th>art_url</th>\n",
       "      <th>src_name</th>\n",
       "      <th>src_type</th>\n",
       "      <th>src_url</th>\n",
       "      <th>src_img</th>\n",
       "      <th>art_auth</th>\n",
       "      <th>art_tag</th>\n",
       "    </tr>\n",
       "  </thead>\n",
       "  <tbody>\n",
       "    <tr>\n",
       "      <th>0</th>\n",
       "      <td>[\\n, [Présentation Promotion 2018-2019], \\n, [...</td>\n",
       "      <td>\\nPrésentation Promotion 2018-2019\\n\\n\\nLa pro...</td>\n",
       "      <td>2019-03-08 11:40:08</td>\n",
       "      <td>fr</td>\n",
       "      <td>Présentation Promotion 2018-2019 - M2 GRH EMN</td>\n",
       "      <td>http://grh-multi.net/fr/2019/03/presentation-p...</td>\n",
       "      <td>grh-multi</td>\n",
       "      <td>xpath_source</td>\n",
       "      <td>http://grh-multi.net/fr/</td>\n",
       "      <td>no_data</td>\n",
       "      <td>no_data</td>\n",
       "      <td>no_data</td>\n",
       "    </tr>\n",
       "  </tbody>\n",
       "</table>\n",
       "</div>"
      ],
      "text/plain": [
       "                                         art_content  \\\n",
       "0  [\\n, [Présentation Promotion 2018-2019], \\n, [...   \n",
       "\n",
       "                                    art_content_html art_published_datetime  \\\n",
       "0  \\nPrésentation Promotion 2018-2019\\n\\n\\nLa pro...    2019-03-08 11:40:08   \n",
       "\n",
       "  art_lang                                      art_title  \\\n",
       "0       fr  Présentation Promotion 2018-2019 - M2 GRH EMN   \n",
       "\n",
       "                                             art_url   src_name      src_type  \\\n",
       "0  http://grh-multi.net/fr/2019/03/presentation-p...  grh-multi  xpath_source   \n",
       "\n",
       "                    src_url  src_img art_auth  art_tag  \n",
       "0  http://grh-multi.net/fr/  no_data  no_data  no_data  "
      ]
     },
     "execution_count": 29,
     "metadata": {},
     "output_type": "execute_result"
    }
   ],
   "source": [
    "df_scrap = pd.DataFrame(columns=['art_content','art_content_html','art_published_datetime','art_lang','art_title','art_url','src_name','src_type','src_url','src_img','art_auth','art_tag'])\n",
    "row = scraping(\"http://grh-multi.net/fr/2019/03/presentation-promotion-2018-2019/\")\n",
    "df_test = df_scrap.append(row, ignore_index=True)\n",
    "df_test"
   ]
  },
  {
   "cell_type": "code",
   "execution_count": null,
   "metadata": {},
   "outputs": [],
   "source": []
  }
 ],
 "metadata": {
  "kernelspec": {
   "display_name": "Python 3",
   "language": "python",
   "name": "python3"
  },
  "language_info": {
   "codemirror_mode": {
    "name": "ipython",
    "version": 3
   },
   "file_extension": ".py",
   "mimetype": "text/x-python",
   "name": "python",
   "nbconvert_exporter": "python",
   "pygments_lexer": "ipython3",
   "version": "3.8.3"
  }
 },
 "nbformat": 4,
 "nbformat_minor": 4
}
