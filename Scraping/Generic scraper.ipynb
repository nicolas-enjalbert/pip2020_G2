{
 "cells": [
  {
   "cell_type": "code",
   "execution_count": 1,
   "metadata": {},
   "outputs": [],
   "source": [
    "import scrapy\n",
    "import requests\n",
    "from bs4 import BeautifulSoup\n",
    "import datetime\n",
    "from textblob import TextBlob\n",
    "import pandas as pd\n",
    "import json\n",
    "import numpy as np\n",
    "import re"
   ]
  },
  {
   "cell_type": "code",
   "execution_count": 2,
   "metadata": {},
   "outputs": [],
   "source": [
    "def get_content(url):\n",
    "    response = requests.get(url)\n",
    "    soup = BeautifulSoup(response.text, 'html.parser')\n",
    "    if soup.find('article') is not None:\n",
    "        if 'p' in [tag.name for tag in soup.find('article').contents]:\n",
    "            content_html = soup.find('article')\n",
    "            content = '\\n'.join(tag.text for tag in content_html.contents if tag.name in ['p', 'li', 'h1', 'h2', 'h3', 'ul', 'strong', 'span']).replace('\\xa0', '')\n",
    "        else:\n",
    "            list_div = list()\n",
    "            for el in soup.find_all('div'):\n",
    "                if el.find('p') and not el.find('div'):\n",
    "                    list_div.append(el)\n",
    "            index_max = np.argmax([len(block.find_all('p')) for block in list_div])\n",
    "            content_html = list_div[index_max]\n",
    "            content = '\\n'.join(tag.text for tag in content_html.contents if tag.name in ['p', 'li', 'h1', 'h2', 'h3', 'ul', 'strong', 'span']).replace('\\xa0', '')\n",
    "    else:\n",
    "        list_div = list()\n",
    "        for el in soup.find_all('div'):\n",
    "            if el.find('p') and not el.find('div'):\n",
    "                list_div.append(el)\n",
    "        index_max = np.argmax([len(block.find_all('p')) for block in list_div])\n",
    "        content_html = list_div[index_max]\n",
    "        content = '\\n'.join(tag.text for tag in content_html.contents if tag.name in ['p', 'li', 'h1', 'h2', 'h3', 'ul', 'strong', 'span']).replace('\\xa0', '')\n",
    "    return content_html, content"
   ]
  },
  {
   "cell_type": "code",
   "execution_count": null,
   "metadata": {},
   "outputs": [],
   "source": []
  }
 ],
 "metadata": {
  "kernelspec": {
   "display_name": "Python 3",
   "language": "python",
   "name": "python3"
  },
  "language_info": {
   "codemirror_mode": {
    "name": "ipython",
    "version": 3
   },
   "file_extension": ".py",
   "mimetype": "text/x-python",
   "name": "python",
   "nbconvert_exporter": "python",
   "pygments_lexer": "ipython3",
   "version": "3.7.1"
  }
 },
 "nbformat": 4,
 "nbformat_minor": 2
}
