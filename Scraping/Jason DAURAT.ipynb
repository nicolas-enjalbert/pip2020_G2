{
 "cells": [
  {
   "cell_type": "code",
   "execution_count": 71,
   "metadata": {},
   "outputs": [],
   "source": [
    "import scrapy\n",
    "import requests\n",
    "from bs4 import BeautifulSoup\n",
    "import datetime\n",
    "from textblob import TextBlob\n",
    "import pandas as pd"
   ]
  },
  {
   "cell_type": "code",
   "execution_count": null,
   "metadata": {},
   "outputs": [],
   "source": [
    "# [art_content,art_content_html,art_extract_datetime,art_lang,art_title,art_url,src_name,src_type,src_url,src_img,art_auth]"
   ]
  },
  {
   "cell_type": "code",
   "execution_count": 2,
   "metadata": {},
   "outputs": [],
   "source": [
    "url = 'https://changethework.com/chatbot-rh-recrutement/'"
   ]
  },
  {
   "cell_type": "code",
   "execution_count": 135,
   "metadata": {},
   "outputs": [],
   "source": [
    "class BigScraper:\n",
    "    cols = ['art_content', 'art_content_html', 'art_extract_datetime', 'art_lang', 'art_title', 'art_url', 'src_name', 'src_type', 'src_url', 'src_img', 'art_auth']\n",
    "    \n",
    "    def __init__(self):\n",
    "        self.df = pd.DataFrame(columns = BigScraper.cols)\n",
    "        \n",
    "    def add_row(self, row_scrap):\n",
    "        self.df.loc[len(self.df)] = row_scrap\n",
    "        \n",
    "    def scrap_changethework(url):\n",
    "        response = requests.get(url)\n",
    "        soup = BeautifulSoup(response.text, 'html.parser')\n",
    "        art_html = soup.find('div', {'style': 'text-align: justify;'})\n",
    "        art_content = art_html.get_text().replace('\\n', ' ').strip()\n",
    "        if soup.find('meta', {'property': 'article:modified_time'})['content'] == None:\n",
    "            if soup.find('meta', {'property': 'article:modified_time'})['content'] == None:\n",
    "                art_extract_datetime = datetime.datetime.now()\n",
    "            else:\n",
    "                art_extract_datetime = soup.find('meta', {'property': 'article:published_time'})['content']\n",
    "        else:\n",
    "            art_extract_datetime = soup.find('meta', {'property': 'article:modified_time'})['content']\n",
    "        art_lang = TextBlob(art_content).detect_language()\n",
    "        art_title = soup.find('meta', {'property': 'og:title'})['content']\n",
    "        art_url = soup.find('meta', {'property': 'og:url'})['content']\n",
    "        src_name = soup.find('meta', {'property': 'og:site_name'})['content']\n",
    "        src_type = 'xpath_source'\n",
    "        src_url = 'https://changethework.com/'\n",
    "        src_img = soup.find('meta', {'property': 'og:image'})['content']\n",
    "        art_auth = [el.get_text().strip() for el in soup.find_all(\n",
    "            'span', class_='elementor-post-author')]\n",
    "        return [art_content, art_html, art_extract_datetime, art_lang, art_title, art_url, src_name, src_type, src_url, src_img, art_auth]\n",
    "    \n",
    "    def assign_scraper(url):\n",
    "        if 'https://changethework.com/' in url:\n",
    "            return BigScraper.scrap_changethework(url)\n",
    "        return None\n",
    "\n",
    "    def scrap(self, url):\n",
    "        row = BigScraper.assign_scraper(url)\n",
    "        self.add_row(row)\n",
    "        return row"
   ]
  },
  {
   "cell_type": "code",
   "execution_count": 136,
   "metadata": {
    "scrolled": false
   },
   "outputs": [],
   "source": [
    "BG = BigScraper()\n",
    "row = BG.scrap('https://changethework.com/chatbot-rh-recrutement/')"
   ]
  },
  {
   "cell_type": "code",
   "execution_count": 137,
   "metadata": {},
   "outputs": [
    {
     "data": {
      "text/html": [
       "<div>\n",
       "<style scoped>\n",
       "    .dataframe tbody tr th:only-of-type {\n",
       "        vertical-align: middle;\n",
       "    }\n",
       "\n",
       "    .dataframe tbody tr th {\n",
       "        vertical-align: top;\n",
       "    }\n",
       "\n",
       "    .dataframe thead th {\n",
       "        text-align: right;\n",
       "    }\n",
       "</style>\n",
       "<table border=\"1\" class=\"dataframe\">\n",
       "  <thead>\n",
       "    <tr style=\"text-align: right;\">\n",
       "      <th></th>\n",
       "      <th>art_content</th>\n",
       "      <th>art_content_html</th>\n",
       "      <th>art_extract_datetime</th>\n",
       "      <th>art_lang</th>\n",
       "      <th>art_title</th>\n",
       "      <th>art_url</th>\n",
       "      <th>src_name</th>\n",
       "      <th>src_type</th>\n",
       "      <th>src_url</th>\n",
       "      <th>src_img</th>\n",
       "      <th>art_auth</th>\n",
       "    </tr>\n",
       "  </thead>\n",
       "  <tbody>\n",
       "    <tr>\n",
       "      <th>0</th>\n",
       "      <td>Les chatbots, ou agents relationnels, sont dep...</td>\n",
       "      <td>[\\n, [[Les , &lt;a href=\"https://changethework.co...</td>\n",
       "      <td>2017-11-28T07:25:43+00:00</td>\n",
       "      <td>fr</td>\n",
       "      <td>Chatbot RH : l'assistant fun du recrutement</td>\n",
       "      <td>https://changethework.com/chatbot-rh-recrutement/</td>\n",
       "      <td>Change the work</td>\n",
       "      <td>xpath_source</td>\n",
       "      <td>https://changethework.com/</td>\n",
       "      <td>https://changethework.com/wp-content/uploads/2...</td>\n",
       "      <td>[Léo Bernard, Aurélien Leleux]</td>\n",
       "    </tr>\n",
       "  </tbody>\n",
       "</table>\n",
       "</div>"
      ],
      "text/plain": [
       "                                         art_content  \\\n",
       "0  Les chatbots, ou agents relationnels, sont dep...   \n",
       "\n",
       "                                    art_content_html  \\\n",
       "0  [\\n, [[Les , <a href=\"https://changethework.co...   \n",
       "\n",
       "        art_extract_datetime art_lang  \\\n",
       "0  2017-11-28T07:25:43+00:00       fr   \n",
       "\n",
       "                                     art_title  \\\n",
       "0  Chatbot RH : l'assistant fun du recrutement   \n",
       "\n",
       "                                             art_url         src_name  \\\n",
       "0  https://changethework.com/chatbot-rh-recrutement/  Change the work   \n",
       "\n",
       "       src_type                     src_url  \\\n",
       "0  xpath_source  https://changethework.com/   \n",
       "\n",
       "                                             src_img  \\\n",
       "0  https://changethework.com/wp-content/uploads/2...   \n",
       "\n",
       "                         art_auth  \n",
       "0  [Léo Bernard, Aurélien Leleux]  "
      ]
     },
     "execution_count": 137,
     "metadata": {},
     "output_type": "execute_result"
    }
   ],
   "source": [
    "BG.df"
   ]
  },
  {
   "cell_type": "code",
   "execution_count": null,
   "metadata": {},
   "outputs": [],
   "source": []
  }
 ],
 "metadata": {
  "kernelspec": {
   "display_name": "Python 3",
   "language": "python",
   "name": "python3"
  },
  "language_info": {
   "codemirror_mode": {
    "name": "ipython",
    "version": 3
   },
   "file_extension": ".py",
   "mimetype": "text/x-python",
   "name": "python",
   "nbconvert_exporter": "python",
   "pygments_lexer": "ipython3",
   "version": "3.7.1"
  }
 },
 "nbformat": 4,
 "nbformat_minor": 2
}
