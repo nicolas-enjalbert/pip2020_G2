{
  "nbformat": 4,
  "nbformat_minor": 0,
  "metadata": {
    "colab": {
      "name": "Untitled1.ipynb",
      "provenance": []
    },
    "kernelspec": {
      "name": "python3",
      "display_name": "Python 3"
    }
  },
  "cells": [
    {
      "cell_type": "code",
      "metadata": {
        "id": "Ly_uHkPnUvfF"
      },
      "source": [
        "#il faut lire ou importer un data frame d'url d'articles au début df\r\n",
        "\r\n",
        "\r\n",
        "#pour transformer un data frame d'articles en df articles+nom du site\r\n",
        "def turnDF(df):\r\n",
        "  df['nom_site'] = [nom_site(i) for i in df['art_URL']]\r\n",
        "  return df\r\n",
        "\r\n",
        "#pour conter les articles par site\r\n",
        "def countSite(df):\r\n",
        "  return df.groupby('nom_site').count()\r\n",
        "\r\n",
        "#pour avoir le pourcentage de sites les plus sortis\r\n",
        "def mostSeenSitesProp(dataSite,prop=5):\r\n",
        "  dataSite=dataSite.sort_values('art_url', axis=0, ascending=False)\r\n",
        "  numb=int((prop/100)*len(dataSite))\r\n",
        "  mostSeen=dataSite.head(n=numb)\r\n",
        "  moreThanOne=dataSite[dataSite.art_url != 1]\r\n",
        "  return mostSeen,moreThanOne\r\n",
        "\r\n",
        "#pour avoir le nombre de sites les plus sortis\r\n",
        "def mostSeenSitesNumb(dataSite,numb=10):\r\n",
        "  dataSite=dataSite.sort_values('art_url', axis=0, ascending=False)\r\n",
        "  mostSeen=dataSite.head(n=numb)\r\n",
        "  moreThanOne=dataSite[dataSite.art_url != 1]\r\n",
        "  return mostSeen,moreThanOne\r\n",
        "\r\n",
        "#on applique sur notre data frame\r\n",
        "dataSite=turnDF(df)\r\n",
        "dataSite=countSite(dataSite)\r\n",
        "mostSeen,moreThanOne=mostSeenSitesProp(dataSite)\r\n",
        "\r\n",
        "#pour avoir le diagramme camembert des sites (y a une catégorie \"site unique\")\r\n",
        "new_row={'nom_site':'sites uniques','art_url':len(dataSite)-len(moreThanOne)}\r\n",
        "all_sites=moreThanOne.copy()\r\n",
        "all_sites.loc['sites unique']=new_row\r\n",
        "plot = all_sites.plot.pie(y='art_url', figsize=(5, 5))\r\n",
        "\r\n",
        "#dataSite.plot(kind='bar') pour un diagramme"
      ],
      "execution_count": null,
      "outputs": []
    }
  ]
}