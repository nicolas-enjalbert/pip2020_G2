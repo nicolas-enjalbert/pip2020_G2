{
 "cells": [
  {
   "cell_type": "markdown",
   "metadata": {
    "id": "gtGvIWt9t_Gy"
   },
   "source": [
    "# Scrapy + Scraper API"
   ]
  },
  {
   "cell_type": "code",
   "execution_count": 39,
   "metadata": {
    "colab": {
     "base_uri": "https://localhost:8080/"
    },
    "id": "c5uJzvSTrOYC",
    "outputId": "95560fee-e91a-4b36-e8fb-523a1e921832"
   },
   "outputs": [
    {
     "name": "stdout",
     "output_type": "stream",
     "text": [
      "Requirement already satisfied: scrapy in c:\\users\\flavien\\appdata\\roaming\\python\\python37\\site-packages (2.4.1)\n",
      "Requirement already satisfied: PyDispatcher>=2.0.5 in c:\\programdata\\anaconda3\\lib\\site-packages (from scrapy) (2.0.5)\n",
      "Requirement already satisfied: parsel>=1.5.0 in c:\\programdata\\anaconda3\\lib\\site-packages (from scrapy) (1.6.0)\n",
      "Requirement already satisfied: cssselect>=0.9.1 in c:\\programdata\\anaconda3\\lib\\site-packages (from scrapy) (1.1.0)\n",
      "Requirement already satisfied: zope.interface>=4.1.3 in c:\\users\\flavien\\appdata\\roaming\\python\\python37\\site-packages (from scrapy) (5.2.0)\n",
      "Requirement already satisfied: itemloaders>=1.0.1 in c:\\programdata\\anaconda3\\lib\\site-packages (from scrapy) (1.0.4)\n",
      "Requirement already satisfied: cryptography>=2.0 in c:\\programdata\\anaconda3\\lib\\site-packages (from scrapy) (2.6.1)\n",
      "Requirement already satisfied: queuelib>=1.4.2 in c:\\users\\flavien\\appdata\\roaming\\python\\python37\\site-packages (from scrapy) (1.5.0)\n",
      "Requirement already satisfied: w3lib>=1.17.0 in c:\\programdata\\anaconda3\\lib\\site-packages (from scrapy) (1.22.0)\n",
      "Requirement already satisfied: itemadapter>=0.1.0 in c:\\programdata\\anaconda3\\lib\\site-packages (from scrapy) (0.2.0)\n",
      "Requirement already satisfied: lxml>=3.5.0; platform_python_implementation == \"CPython\" in c:\\programdata\\anaconda3\\lib\\site-packages (from scrapy) (4.3.2)\n",
      "Requirement already satisfied: Twisted>=17.9.0 in c:\\users\\flavien\\appdata\\roaming\\python\\python37\\site-packages (from scrapy) (20.3.0)\n",
      "Requirement already satisfied: protego>=0.1.15 in c:\\programdata\\anaconda3\\lib\\site-packages (from scrapy) (0.1.16)\n",
      "Requirement already satisfied: service-identity>=16.0.0 in c:\\users\\flavien\\appdata\\roaming\\python\\python37\\site-packages (from scrapy) (18.1.0)\n",
      "Requirement already satisfied: pyOpenSSL>=16.2.0 in c:\\programdata\\anaconda3\\lib\\site-packages (from scrapy) (19.0.0)\n",
      "Requirement already satisfied: six>=1.6.0 in c:\\programdata\\anaconda3\\lib\\site-packages (from parsel>=1.5.0->scrapy) (1.12.0)\n",
      "Requirement already satisfied: setuptools in c:\\programdata\\anaconda3\\lib\\site-packages (from zope.interface>=4.1.3->scrapy) (40.8.0)\n",
      "Requirement already satisfied: jmespath>=0.9.5 in c:\\programdata\\anaconda3\\lib\\site-packages (from itemloaders>=1.0.1->scrapy) (0.10.0)\n",
      "Requirement already satisfied: asn1crypto>=0.21.0 in c:\\programdata\\anaconda3\\lib\\site-packages (from cryptography>=2.0->scrapy) (0.24.0)\n",
      "Requirement already satisfied: cffi!=1.11.3,>=1.8 in c:\\programdata\\anaconda3\\lib\\site-packages (from cryptography>=2.0->scrapy) (1.12.2)\n",
      "Requirement already satisfied: Automat>=0.3.0 in c:\\users\\flavien\\appdata\\roaming\\python\\python37\\site-packages (from Twisted>=17.9.0->scrapy) (20.2.0)\n",
      "Requirement already satisfied: attrs>=19.2.0 in c:\\users\\flavien\\appdata\\roaming\\python\\python37\\site-packages (from Twisted>=17.9.0->scrapy) (20.3.0)\n",
      "Requirement already satisfied: PyHamcrest!=1.10.0,>=1.9.0 in c:\\users\\flavien\\appdata\\roaming\\python\\python37\\site-packages (from Twisted>=17.9.0->scrapy) (2.0.2)\n",
      "Requirement already satisfied: constantly>=15.1 in c:\\programdata\\anaconda3\\lib\\site-packages (from Twisted>=17.9.0->scrapy) (15.1.0)\n",
      "Requirement already satisfied: incremental>=16.10.1 in c:\\users\\flavien\\appdata\\roaming\\python\\python37\\site-packages (from Twisted>=17.9.0->scrapy) (17.5.0)\n",
      "Requirement already satisfied: hyperlink>=17.1.1 in c:\\users\\flavien\\appdata\\roaming\\python\\python37\\site-packages (from Twisted>=17.9.0->scrapy) (20.0.1)\n",
      "Requirement already satisfied: pyasn1-modules in c:\\users\\flavien\\appdata\\roaming\\python\\python37\\site-packages (from service-identity>=16.0.0->scrapy) (0.2.8)\n",
      "Requirement already satisfied: pyasn1 in c:\\users\\flavien\\appdata\\roaming\\python\\python37\\site-packages (from service-identity>=16.0.0->scrapy) (0.4.8)\n",
      "Requirement already satisfied: pycparser in c:\\programdata\\anaconda3\\lib\\site-packages (from cffi!=1.11.3,>=1.8->cryptography>=2.0->scrapy) (2.19)\n",
      "Requirement already satisfied: idna>=2.5 in c:\\programdata\\anaconda3\\lib\\site-packages (from hyperlink>=17.1.1->Twisted>=17.9.0->scrapy) (2.8)\n",
      "Note: you may need to restart the kernel to use updated packages.\n"
     ]
    }
   ],
   "source": [
    "pip install scrapy"
   ]
  },
  {
   "cell_type": "code",
   "execution_count": 40,
   "metadata": {
    "id": "DomkuBTXt-Qx"
   },
   "outputs": [],
   "source": [
    "import scrapy\n",
    "from urllib.parse import urlencode\n",
    "from urllib.parse import urlparse\n",
    "import json\n",
    "from datetime import datetime\n",
    "API_KEY = 'afd4c282f739aadfe2b28f623ddb2b17'"
   ]
  },
  {
   "cell_type": "code",
   "execution_count": 41,
   "metadata": {
    "id": "nonaoAbhuKO-"
   },
   "outputs": [],
   "source": [
    "def get_url(url):\n",
    "   payload = {'api_key': API_KEY, 'url': url, 'autoparse': 'true', 'country_code': 'fr'}\n",
    "   proxy_url = 'http://api.scraperapi.com/?' + urlencode(payload)\n",
    "   return proxy_url\n",
    "\n",
    "def create_google_url(query, site=''):\n",
    "   google_dict = {'q': query, 'num': 100, }\n",
    "   if site:\n",
    "       web = urlparse(site).netloc\n",
    "       google_dict['as_sitesearch'] = web\n",
    "       return 'http://www.google.com/search?' + urlencode(google_dict)\n",
    "   return 'http://www.google.com/search?' + urlencode(google_dict)\n",
    "\n",
    "class GoogleSpider(scrapy.Spider):\n",
    "   name = 'google'\n",
    "   #allowed_domains = ['api.scraperapi.com']\n",
    "   #custom_settings = {'ROBOTSTXT_OBEY': False, 'LOG_LEVEL': 'INFO', 'CONCURRENT_REQUESTS_PER_DOMAIN': 5, 'RETRY_TIMES': 0}\n",
    "   allowed_domains = ['www.google.com']\n",
    "   custom_settings = {'ROBOTSTXT_OBEY': False, 'LOG_LEVEL': 'INFO', 'CONCURRENT_REQUESTS_PER_DOMAIN': 5, 'RETRY_TIMES': 0}\n",
    "\n",
    "   def start_requests(self):\n",
    "       queries = ['innovation'] \n",
    "       for query in queries:\n",
    "           url = create_google_url(query)\n",
    "           yield scrapy.Request(get_url(url), callback=self.parse, meta={'pos': 0})\n",
    "\n",
    "   def parse(self, response):\n",
    "       di = json.loads(response.text)\n",
    "       pos = response.meta['pos']\n",
    "       dt = datetime.now().strftime('%Y-%m-%d %H:%M:%S')\n",
    "       for result in di['organic_results']:\n",
    "           title = result['title']\n",
    "           snippet = result['snippet']\n",
    "           link = result['link']\n",
    "           item = {'title': title, 'snippet': snippet, 'link': link, 'position': pos, 'date': dt}\n",
    "           pos += 1\n",
    "           yield item\n",
    "       next_page = di['pagination']['nextPageUrl']\n",
    "       if next_page:\n",
    "           yield print(scrapy.Request(get_url(next_page), callback=self.parse, meta={'pos': pos}).text)"
   ]
  },
  {
   "cell_type": "code",
   "execution_count": 42,
   "metadata": {
    "id": "LzVqLYjYwxFB"
   },
   "outputs": [],
   "source": [
    "if __name__ == '__main__':\n",
    "    result = list(GoogleSpider().start_requests())"
   ]
  },
  {
   "cell_type": "code",
   "execution_count": 43,
   "metadata": {
    "colab": {
     "base_uri": "https://localhost:8080/"
    },
    "id": "RIfxibUr6OvN",
    "outputId": "ecc50889-521a-439c-a73b-ef1f2f24b529"
   },
   "outputs": [
    {
     "data": {
      "text/plain": [
       "[<GET http://api.scraperapi.com/?api_key=afd4c282f739aadfe2b28f623ddb2b17&url=http%3A%2F%2Fwww.google.com%2Fsearch%3Fq%3Dinnovation%26num%3D100&autoparse=true&country_code=fr>]"
      ]
     },
     "execution_count": 43,
     "metadata": {},
     "output_type": "execute_result"
    }
   ],
   "source": [
    "result"
   ]
  },
  {
   "cell_type": "code",
   "execution_count": 44,
   "metadata": {
    "colab": {
     "base_uri": "https://localhost:8080/",
     "height": 35
    },
    "id": "W2Yu_AKJ5-XJ",
    "outputId": "43bf8617-f2c8-4313-89f4-2d0b76ed52b4"
   },
   "outputs": [
    {
     "data": {
      "text/plain": [
       "'http://api.scraperapi.com/?api_key=afd4c282f739aadfe2b28f623ddb2b17&url=http%3A%2F%2Fwww.google.com%2Fsearch%3Fq%3Dinnovation%26num%3D100&autoparse=true&country_code=fr'"
      ]
     },
     "execution_count": 44,
     "metadata": {},
     "output_type": "execute_result"
    }
   ],
   "source": [
    "link = str(result[0])[5:-1]\n",
    "link"
   ]
  },
  {
   "cell_type": "code",
   "execution_count": 45,
   "metadata": {},
   "outputs": [],
   "source": [
    "import datetime \n",
    "\n",
    "#function that allows to add a \"limit date\" parameter in the link\n",
    "def link_sub_month(nbmonths,link):\n",
    "    today = datetime.date.today()\n",
    "    \n",
    "    nbdays=nbmonths*31\n",
    "\n",
    "    days_to_substract = datetime.timedelta(days=nbdays)\n",
    "\n",
    "    date = today - days_to_substract\n",
    "    #limit date\n",
    "    \n",
    "    jour=str(date.day)\n",
    "    mois=str(date.month)\n",
    "    annee=str(date.year)\n",
    "    \n",
    "    link = link+\"&source=lnt&tbs=cdr%3A1%2Ccd_min%3A\"+mois+\"%2F\"+jour+\"%2F\"+annee+\"%2Ccd_max%3A&tbm=\"\n",
    "    return link"
   ]
  },
  {
   "cell_type": "code",
   "execution_count": 47,
   "metadata": {},
   "outputs": [
    {
     "data": {
      "text/plain": [
       "'http://api.scraperapi.com/?api_key=afd4c282f739aadfe2b28f623ddb2b17&url=http%3A%2F%2Fwww.google.com%2Fsearch%3Fq%3Dinnovation%26num%3D100&autoparse=true&country_code=fr&source=lnt&tbs=cdr%3A1%2Ccd_min%3A9%2F4%2F2020%2Ccd_max%3A&tbm=&source=lnt&tbs=cdr%3A1%2Ccd_min%3A11%2F5%2F2020%2Ccd_max%3A&tbm='"
      ]
     },
     "execution_count": 47,
     "metadata": {},
     "output_type": "execute_result"
    }
   ],
   "source": [
    "link=link_sub_month(2,link)\n",
    "link"
   ]
  },
  {
   "cell_type": "code",
   "execution_count": 48,
   "metadata": {
    "id": "tSB3AuDk7Rqq"
   },
   "outputs": [],
   "source": [
    "# On importe la fonction 'get' (téléchargement) de 'requests' \n",
    "# Et la classe 'Selector' (Parsing) de 'scrapy'\n",
    "from requests import get\n",
    "from scrapy import Selector\n",
    "# Lien de la page à scraper\n",
    "url = link\n",
    "response = get(url)\n",
    "source = None # Le code source de la page \n",
    "if response.status_code == 200 :\n",
    "    # Si la requete s'est bien passee\n",
    "    source = response.text"
   ]
  },
  {
   "cell_type": "code",
   "execution_count": 49,
   "metadata": {
    "colab": {
     "base_uri": "https://localhost:8080/",
     "height": 103
    },
    "id": "I_JMbrcICta5",
    "outputId": "22a7f050-e8ed-4cb3-c732-67327fe95a2a"
   },
   "outputs": [
    {
     "data": {
      "text/plain": [
       "'{\"search_information\":{\"total_results\":1790000000,\"time_taken_displayed\":0.86,\"query_displayed\":\"innovation\"},\"ads\":[],\"knowledge_graph\":{\"title\":\"\",\"description\":\"\",\"source\":{\"name\":\"\"},\"related\":[],\"related_link\":null,\"social_media\":[],\"see_more_about\":[{\"title\":\"People also search for\",\"link\":\"https://www.google.com/search?num=100&gl=FR&q=Innovation&stick=H4sIAAAAAAAAAONgFuLQz9U3KMuwLFCCs7SEs5Ot9JPzc3Pz86yKM1NSyxMrixexcnnm5eWXJZZk5uftYGUEANz69kA7AAAA&sa=X&ved=2ahUKEwif6YPO_IbuAhUSGVkFHfwtDQ8QMSgAMHd6BAgmEAE\"},{\"title\":\"View 15+ more\",\"link\":\"https://www.google.com/search?num=100&gl=FR&q=Innovation&stick=H4sIAAAAAAAAAONgFuLQz9U3KMuwLFCCs7SEs5Ot9JPzc3Pz86yKM1NSyxMrixexcnnm5eWXJZZk5uftYGUEANz69kA7AAAA&sa=X&ved=2ahUKEwif6YPO_IbuAhUSGVkFHfwtDQ8QzTooATB3egQIJhAC\"},{\"title\":\"Creativity\",\"link\":\"https://www.google.com/search?num=100&gl=FR&q=Creativity&stick=H4sIAAAAAAAAAONgFuLQz9U3KMuwLFDiBLEMjQzS8rT4nPNzc_PzgjNTUssTK4sXsXI5F6UmlmSWZZZU7mBlBAAGVG_qNwAAAA&sa=X&ved=2ahUKEwif6YPO_IbuAhUSGVkFHfwtDQ8QxA0wd3oECCYQBQ\"},{\"title\":\"Entrepreneurship\",\"link\":\"https://www.google.com/search?num=100&gl=FR&q=Entrepreneurship&stick=H4sIAAAAAAAAAONgFuLQz9U3KMuwLFACs4zyygu1-Jzzc3Pz84IzU1LLEyuLF7EKuOaVFKUWFKXmpZYWFWdkFuxgZQQA8JAD7zwAAAA&sa=X&ved=2ahUKEwif6YPO_IbuAhUSGVkFHfwtDQ8QxA0wd3oECCYQBw\"},{\"title\":\"Sustainability\",\"link\":\"https://www.google.com/search?num=100&gl=FR&q=Sustainability&stick=H4sIAAAAAAAAAONgFuLQz9U3KMuwLFACszKyi0u0-Jzzc3Pz84IzU1LLEyuLF7HyBZcWlyRm5iUmZeZkllTuYGUEAFd2a_86AAAA&sa=X&ved=2ahUKEwif6YPO_IbuAhUSGVkFHfwtDQ8QxA0wd3oECCYQCQ\"},{\"title\":\"Technology\",\"link\":\"https://www.google.com/search?num=100&gl=FR&q=Technology&stick=H4sIAAAAAAAAAONgFuLQz9U3KMuwLFACs8yTDcu0-Jzzc3Pz84IzU1LLEyuLF7FyhaQmZ-Tl5-SnV-5gZQQA0Pd9fzYAAAA&sa=X&ved=2ahUKEwif6YPO_IbuAhUSGVkFHfwtDQ8QxA0wd3oECCYQCw\"},{\"title\":\"Efficiency\",\"link\":\"https://www.google.com/search?num=100&gl=FR&q=Efficiency&stick=H4sIAAAAAAAAAONgFuLQz9U3KMuwLFDiBrEMDS3z0oqztfic83Nz8_OCM1NSyxMrixexcrmmpWUmZ6bmJVfuYGUEAJU4ogc5AAAA&sa=X&ved=2ahUKEwif6YPO_IbuAhUSGVkFHfwtDQ8QxA0wd3oECCYQDQ\"}]},\"related_questions\":[{\"question\":\"What is innovation in simple words?\"},{\"question\":\"What are the 4 types of innovation?\"},{\"question\":\"What is the best definition of innovation?\"},{\"question\":\"What is innovation in business?\"}],\"answer_box\":null,\"organic_results\":[{\"position\":1,\"title\":\"Innovation - Wikipedia\",\"snippet\":\"\\\\\"An idea, practice, or object that is perceived as new by an individual or other unit of adoption\\\\\" According to Kanter, innovation includes original invention and creative use and defines innovation as a generation, admission and realization of new ideas, products, services and processes.\",\"link\":\"https://en.wikipedia.org/wiki/Innovation\",\"date\":\"\",\"displayed_link\":\"en.wikipedia.org › wiki › Innovation\",\"thumbnail\":null,\"sitelinks\":{\"inline\":[],\"block\":[]},\"cached_page_link\":\"https://webcache.googleusercontent.com/search?q=cache:p2_f1CXugWQJ:https://en.wikipedia.org/wiki/Innovation+&cd=2&hl=en&ct=clnk&gl=fr\",\"related_pages_link\":\"https://www.google.com/search?gl=FR&q=related:https://en.wikipedia.org/wiki/Innovation+innovation&sa=X&ved=2ahUKEwif6YPO_IbuAhUSGVkFHfwtDQ8QHzABegQIARAI\"},{\"position\":2,\"title\":\"Innovation — Wikipédia\",\"snippet\":\"L\\'innovation est la recherche constante d\\'améliorations de l\\'existant, par contraste avec l\\'invention, qui vise à créer du nouveau. Dans le domaine économique,\\xa0...\",\"link\":\"https://fr.wikipedia.org/wiki/Innovation\",\"date\":\"\",\"displayed_link\":\"fr.wikipedia.org › wiki › Innovation\",\"thumbnail\":null,\"sitelinks\":{\"inline\":[],\"block\":[]},\"cached_page_link\":\"https://webcache.googleusercontent.com/search?q=cache:VqzOXLqHl4oJ:https://fr.wikipedia.org/wiki/Innovation+&cd=3&hl=en&ct=clnk&gl=fr\",\"related_pages_link\":\"https://www.google.com/search?gl=FR&q=related:https://fr.wikipedia.org/wiki/Innovation+innovation&sa=X&ved=2ahUKEwif6YPO_IbuAhUSGVkFHfwtDQ8QHzACegQIAhAI\"},{\"position\":3,\"title\":\"Définitions : innovation - Dictionnaire de français Larousse\",\"snippet\":\"Définitions de innovation. Action d\\'innover ; son résultat : L\\'innovation technique. Avoir horreur des innovations. Introduction, dans le processus de production\\xa0...\",\"link\":\"https://www.larousse.fr/dictionnaires/francais/innovation/43196\",\"date\":\"\",\"displayed_link\":\"www.larousse.fr › francais › innovati...\",\"thumbnail\":null,\"sitelinks\":{\"inline\":[],\"block\":[]},\"cached_page_link\":\"https://webcache.googleusercontent.com/search?q=cache:DXsdCmfUtiMJ:https://www.larousse.fr/dictionnaires/francais/innovation/43196+&cd=12&hl=en&ct=clnk&gl=fr\"},{\"position\":4,\"title\":\"How do you Define Innovation and Make it Practical and ...\",\"snippet\":\"Jan 7, 2008 — An innovation is an idea that has been transformed into practical reality. For a business, this is a product, process, or business concept, or\\xa0...\",\"link\":\"https://innovationmanagement.se/2008/01/07/how-do-you-define-innovation-and-make-it-practical-and-saleable-to-senior-management/\",\"date\":\"Jan 7, 2008 —\",\"displayed_link\":\"innovationmanagement.se › 2008/01/07 › how-do-you...\",\"thumbnail\":null,\"sitelinks\":{\"inline\":[],\"block\":[]},\"cached_page_link\":\"https://webcache.googleusercontent.com/search?q=cache:zxym4J2MKmkJ:https://innovationmanagement.se/2008/01/07/how-do-you-define-innovation-and-make-it-practical-and-saleable-to-senior-management/+&cd=13&hl=en&ct=clnk&gl=fr\"},{\"position\":5,\"title\":\"Innovation | Definition of Innovation by Merriam-Webster\",\"snippet\":\"Innovation, for its part, can refer to something new or to a change made to an existing product, idea, or field. One might say that the first telephone was an\\xa0...\",\"link\":\"https://www.merriam-webster.com/dictionary/innovation\",\"date\":\"\",\"displayed_link\":\"www.merriam-webster.com › dictionary › innovation\",\"thumbnail\":null,\"sitelinks\":{\"inline\":[],\"block\":[]},\"cached_page_link\":\"https://webcache.googleusercontent.com/search?q=cache:28VUzr6o7REJ:https://www.merriam-webster.com/dictionary/innovation+&cd=14&hl=en&ct=clnk&gl=fr\",\"related_pages_link\":\"https://www.google.com/search?gl=FR&q=related:https://www.merriam-webster.com/dictionary/innovation+innovation&sa=X&ved=2ahUKEwif6YPO_IbuAhUSGVkFHfwtDQ8QHzANegQIeRAI\"},{\"position\":6,\"title\":\"Définition - Innovation | Insee\",\"snippet\":\"Nov 17, 2020 — Deux types d\\'innovation sont distingués : les innovations de produits (biens ou services) et de procédés (incluant les innovations d\\'organisation\\xa0...\",\"link\":\"https://www.insee.fr/fr/metadonnees/definition/c1182\",\"date\":\"Nov 17, 2020 —\",\"displayed_link\":\"www.insee.fr › definition\",\"thumbnail\":null,\"sitelinks\":{\"inline\":[],\"block\":[]},\"cached_page_link\":\"https://webcache.googleusercontent.com/search?q=cache:MTtVzJqhrTgJ:https://www.insee.fr/fr/metadonnees/definition/c1182+&cd=15&hl=en&ct=clnk&gl=fr\",\"related_pages_link\":\"https://www.google.com/search?gl=FR&q=related:https://www.insee.fr/fr/metadonnees/definition/c1182+innovation&sa=X&ved=2ahUKEwif6YPO_IbuAhUSGVkFHfwtDQ8QHzAOegQIQhAI\"},{\"position\":7,\"title\":\"Innovation : Définition simple et facile du dictionnaire\",\"snippet\":\"Innovation : définition, synonymes, citations, traduction dans le dictionnaire de la langue française. Définition ...\",\"link\":\"https://www.linternaute.fr/dictionnaire/fr/definition/innovation/\",\"date\":\"\",\"displayed_link\":\"www.linternaute.fr › Dictionnaire\",\"thumbnail\":null,\"sitelinks\":{\"inline\":[],\"block\":[]}},{\"position\":8,\"title\":\"Définition : Innovation - La Toupie\",\"snippet\":\"Définition d\\'innovation. Etymologie : du latin in, dans et novare, rendre nouveau, renouveler, refaire, restaurer, transformer, changer, innover. L\\xa0...\",\"link\":\"http://www.toupie.org/Dictionnaire/Innovation.htm\",\"date\":\"\",\"displayed_link\":\"www.toupie.org › Dictionnaire\",\"thumbnail\":null,\"sitelinks\":{\"inline\":[],\"block\":[]},\"cached_page_link\":\"http://webcache.googleusercontent.com/search?q=cache:wgdiuOnQmfQJ:www.toupie.org/Dictionnaire/Innovation.htm+&cd=17&hl=en&ct=clnk&gl=fr\",\"related_pages_link\":\"https://www.google.com/search?gl=FR&q=related:www.toupie.org/Dictionnaire/Innovation.htm+innovation&sa=X&ved=2ahUKEwif6YPO_IbuAhUSGVkFHfwtDQ8QHzAQegQIaBAK\"},{\"position\":9,\"title\":\"What is Innovation? Introduction and Definition for Practitioners\",\"snippet\":\"Mar 10, 2020 — Innovation is a process by which a domain, a product, or a service is renewed and brought up to date by applying new processes, introducing\\xa0...\",\"link\":\"https://innolytics-innovation.com/what-is-innovation/\",\"date\":\"Mar 10, 2020 —\",\"displayed_link\":\"innolytics-innovation.com › what-is-innovation\",\"thumbnail\":null,\"sitelinks\":{\"inline\":[],\"block\":[]},\"cached_page_link\":\"https://webcache.googleusercontent.com/search?q=cache:1WlnZhMj1CAJ:https://innolytics-innovation.com/what-is-innovation/+&cd=21&hl=en&ct=clnk&gl=fr\"},{\"position\":10,\"title\":\"The eight essentials of innovation - McKinsey\",\"snippet\":\"Apr 1, 2015 — It\\'s no secret: innovation is difficult for well-established companies. ... Yet hard as it is for such organizations to innovate, large ones as diverse\\xa0...\",\"link\":\"https://www.mckinsey.com/business-functions/strategy-and-corporate-finance/our-insights/the-eight-essentials-of-innovation\",\"date\":\"Apr 1, 2015 —\",\"displayed_link\":\"www.mckinsey.com › business-functions › our-insights\",\"thumbnail\":null,\"sitelinks\":{\"inline\":[],\"block\":[]},\"cached_page_link\":\"https://webcache.googleusercontent.com/search?q=cache:knCvZbmKv3IJ:https://www.mckinsey.com/business-functions/strategy-and-corporate-finance/our-insights/the-eight-essentials-of-innovation+&cd=22&hl=en&ct=clnk&gl=fr\"},{\"position\":11,\"title\":\"INNOVATION | meaning in the Cambridge English Dictionary\",\"snippet\":\"Dec 30, 2020 — innovation | Business English. innovation. noun. uk.\",\"link\":\"https://dictionary.cambridge.org/dictionary/english/innovation\",\"date\":\"Dec 30, 2020 —\",\"displayed_link\":\"dictionary.cambridge.org › dictionary › innovation\",\"thumbnail\":null,\"sitelinks\":{\"inline\":[],\"block\":[]},\"cached_page_link\":\"https://webcache.googleusercontent.com/search?q=cache:Z1ZLro-tYhYJ:https://dictionary.cambridge.org/dictionary/english/innovation+&cd=23&hl=en&ct=clnk&gl=fr\"},{\"position\":12,\"title\":\"Qu\\'est-ce que l\\'innovation ? Comment innover ? Quelle ...\",\"snippet\":\"L\\'innovation tient une place déterminante dans la stratégie de l\\'entreprise. Ce dossier explicite le concept et propose un ensemble d\\'outils et méthodes.\",\"link\":\"https://www.manager-go.com/strategie-entreprise/innovation.htm\",\"date\":\"\",\"displayed_link\":\"www.manager-go.com › innovation\",\"thumbnail\":null,\"sitelinks\":{\"inline\":[],\"block\":[]},\"cached_page_link\":\"https://webcache.googleusercontent.com/search?q=cache:7Nm9iP-HLXIJ:https://www.manager-go.com/strategie-entreprise/innovation.htm+&cd=24&hl=en&ct=clnk&gl=fr\",\"related_pages_link\":\"https://www.google.com/search?gl=FR&q=related:https://www.manager-go.com/strategie-entreprise/innovation.htm+innovation&sa=X&ved=2ahUKEwif6YPO_IbuAhUSGVkFHfwtDQ8QHzAXegUIgQEQCA\"},{\"position\":13,\"title\":\"Innovation: Definition, types of innovation and business ...\",\"snippet\":\"Product Innovation. Product innovation is the introduction of a new or improved good or service. These ...\",\"link\":\"https://youmatter.world/en/definition/definitions-innovation-definition-types-examples/\",\"date\":\"\",\"displayed_link\":\"youmatter.world › definition › definitions-innovation-defi...\",\"thumbnail\":null,\"sitelinks\":{\"inline\":[],\"block\":[]}},{\"position\":14,\"title\":\"Innovation | Definition of Innovation at Dictionary.com\",\"snippet\":\"What does innovation mean? Innovation can refer to something new, such as an invention, or the practice of developing and introducing new\\xa0...\",\"link\":\"https://www.dictionary.com/browse/innovation\",\"date\":\"\",\"displayed_link\":\"www.dictionary.com › browse › innovation\",\"thumbnail\":null,\"sitelinks\":{\"inline\":[],\"block\":[]},\"cached_page_link\":\"https://webcache.googleusercontent.com/search?q=cache:96jUWzc6QosJ:https://www.dictionary.com/browse/innovation+&cd=26&hl=en&ct=clnk&gl=fr\"},{\"position\":15,\"title\":\"Quels sont les 4 types d\\'innovation - Usabilis\",\"snippet\":\"Jan 22, 2020 — Innovation incrémentale (mineure) versus innovation radicale (majeure). Proposer des innovations mineures (incrémentales) consiste à\\xa0...\",\"link\":\"https://www.usabilis.com/4-types-d-innovation/\",\"date\":\"Jan 22, 2020 —\",\"displayed_link\":\"www.usabilis.com › 4-types-d-innov...\",\"thumbnail\":null,\"sitelinks\":{\"inline\":[],\"block\":[]},\"cached_page_link\":\"https://webcache.googleusercontent.com/search?q=cache:bH0WNW7SYx8J:https://www.usabilis.com/4-types-d-innovation/+&cd=27&hl=en&ct=clnk&gl=fr\"},{\"position\":16,\"title\":\"What Exactly Is Innovation? - Forbes\",\"snippet\":\"Mar 12, 2014 — Innovations can involve simply taking something that has long been utilized or enjoyed in one market, such as a food, or face cream, and\\xa0...\",\"link\":\"https://www.forbes.com/sites/michellegreenwald/2014/03/12/what-exactly-is-innovation/\",\"date\":\"Mar 12, 2014 —\",\"displayed_link\":\"www.forbes.com › michellegreenwald › 2014/03/12\",\"thumbnail\":null,\"sitelinks\":{\"inline\":[],\"block\":[]},\"cached_page_link\":\"https://webcache.googleusercontent.com/search?q=cache:yTMXjEDtqxgJ:https://www.forbes.com/sites/michellegreenwald/2014/03/12/what-exactly-is-innovation/+&cd=28&hl=en&ct=clnk&gl=fr\"},{\"position\":17,\"title\":\"INNOVATION : Définition de INNOVATION\",\"snippet\":\"− Dans le domaine de l\\'industr. et des affaires.Profit(s) d\\'innovation. Périodes de construction d\\'un bien de capital, période de sa maturation et\\xa0...\",\"link\":\"https://www.cnrtl.fr/lexicographie/innovation\",\"date\":\"\",\"displayed_link\":\"www.cnrtl.fr › lexicographie › innov...\",\"thumbnail\":null,\"sitelinks\":{\"inline\":[],\"block\":[]},\"cached_page_link\":\"https://webcache.googleusercontent.com/search?q=cache:5Be8CKzkoToJ:https://www.cnrtl.fr/lexicographie/innovation+&cd=29&hl=en&ct=clnk&gl=fr\"},{\"position\":18,\"title\":\"Définition innovation : Qu\\'est-ce que c\\'est? Pourquoi innover?\",\"snippet\":\"Jul 16, 2018 — Qu\\'est-ce que l\\'innovation ? Pourquoi innover ? Comment faire ? L\\'innovation en entreprise, grande boîte ou TPE / PME est primordial pour\\xa0...\",\"link\":\"https://www.petite-entreprise.net/articles/J-accompagne-les-dirigeants/Definition-innovation-Qu-est-ce-que-c-est-Pourquoi-innover\",\"date\":\"Jul 16, 2018 —\",\"displayed_link\":\"www.petite-entreprise.net › articles\",\"thumbnail\":null,\"sitelinks\":{\"inline\":[],\"block\":[]},\"cached_page_link\":\"https://webcache.googleusercontent.com/search?q=cache:QKJNViTqfoAJ:https://www.petite-entreprise.net/articles/J-accompagne-les-dirigeants/Definition-innovation-Qu-est-ce-que-c-est-Pourquoi-innover+&cd=30&hl=en&ct=clnk&gl=fr\"},{\"position\":19,\"title\":\"What Is Disruptive Innovation? - Harvard Business Review\",\"snippet\":\"Is Uber a Disruptive Innovation? · Disruptive innovations originate in low-end or new-market footholds. · Disruptive innovations don\\'t catch on with mainstream\\xa0...\",\"link\":\"https://hbr.org/2015/12/what-is-disruptive-innovation\",\"date\":\"\",\"displayed_link\":\"hbr.org › 2015/12 › what-is-disruptive-innovation\",\"thumbnail\":null,\"sitelinks\":{\"inline\":[],\"block\":[]},\"cached_page_link\":\"https://webcache.googleusercontent.com/search?q=cache:qj1DeXwsNBQJ:https://hbr.org/2015/12/what-is-disruptive-innovation+&cd=31&hl=en&ct=clnk&gl=fr\",\"related_pages_link\":\"https://www.google.com/search?gl=FR&q=related:https://hbr.org/2015/12/what-is-disruptive-innovation+innovation&sa=X&ved=2ahUKEwif6YPO_IbuAhUSGVkFHfwtDQ8QHzAeegUIhgEQCA\"},{\"position\":20,\"title\":\"France Innovation | Les acteurs privés de la R&D et de l ...\",\"snippet\":\"Au service des entreprises innovantes. France Innovation est une association professionnelle qui fédère les prestataires privés de recherche et de développement\\xa0...\",\"link\":\"https://www.france-innovation.fr/\",\"date\":\"\",\"displayed_link\":\"www.france-innovation.fr\",\"thumbnail\":null,\"sitelinks\":{\"inline\":[],\"block\":[]},\"cached_page_link\":\"https://webcache.googleusercontent.com/search?q=cache:kKn4JVUKYR8J:https://www.france-innovation.fr/+&cd=32&hl=en&ct=clnk&gl=fr\"},{\"position\":21,\"title\":\"Innovation - HBR\",\"snippet\":\"Innovation Digital Article. Freek Vermeulen; Amandine Ody-Brasier. Newcomers may have the will, but industry insiders have the way. Save; Share; December\\xa0...\",\"link\":\"https://hbr.org/topic/innovation\",\"date\":\"\",\"displayed_link\":\"hbr.org › topic › innovation\",\"thumbnail\":null,\"sitelinks\":{\"inline\":[],\"block\":[]},\"cached_page_link\":\"https://webcache.googleusercontent.com/search?q=cache:vSYj-T15DtsJ:https://hbr.org/topic/innovation+&cd=33&hl=en&ct=clnk&gl=fr\",\"related_pages_link\":\"https://www.google.com/search?gl=FR&q=related:https://hbr.org/topic/innovation+innovation&sa=X&ved=2ahUKEwif6YPO_IbuAhUSGVkFHfwtDQ8QHzAgegQIcBAI\"},{\"position\":22,\"title\":\"Définir l\\'innovation - OCDE\",\"snippet\":\"Aug 10, 2020 — Le Manuel d\\'Oslo définit quatre types d\\'innovation : les innovations de produit, les innovations de procédé, les innovations de\\xa0...\",\"link\":\"https://www.oecd.org/fr/sites/strategiedelocdepourlinnovation/definirlinnovation.htm\",\"date\":\"Aug 10, 2020 —\",\"displayed_link\":\"www.oecd.org › definirlinnovation\",\"thumbnail\":null,\"sitelinks\":{\"inline\":[],\"block\":[]},\"cached_page_link\":\"https://webcache.googleusercontent.com/search?q=cache:py2TlG5S6AsJ:https://www.oecd.org/fr/sites/strategiedelocdepourlinnovation/definirlinnovation.htm+&cd=34&hl=en&ct=clnk&gl=fr\",\"related_pages_link\":\"https://www.google.com/search?gl=FR&q=related:https://www.oecd.org/fr/sites/strategiedelocdepourlinnovation/definirlinnovation.htm+innovation&sa=X&ved=2ahUKEwif6YPO_IbuAhUSGVkFHfwtDQ8QHzAhegUIgwEQCA\"},{\"position\":23,\"title\":\"INnoVation - Liquipedia - The StarCraft II Encyclopedia\",\"snippet\":\"Lee \\\\\"INnoVation\\\\\" Shin Hyung, also known as \\\\\"Bogus\\\\\", is a StarCraft progamer from South Korea who is currently playing for KaiZi Gaming.\",\"link\":\"https://liquipedia.net/starcraft2/INnoVation\",\"date\":\"\",\"displayed_link\":\"liquipedia.net › starcraft2 › INnoVation\",\"thumbnail\":null,\"sitelinks\":{\"inline\":[],\"block\":[]},\"cached_page_link\":\"https://webcache.googleusercontent.com/search?q=cache:voLLcrQkg28J:https://liquipedia.net/starcraft2/INnoVation+&cd=35&hl=en&ct=clnk&gl=fr\"},{\"position\":24,\"title\":\"L\\'innovation, au coeur de la croissance et du développement ...\",\"snippet\":\"Source essentielle de compétitivité, l\\'innovation est l\\'une des priorités de Bpifrance, depuis le soutien de la R&D jusqu\\'au renforcement du capital des\\xa0...\",\"link\":\"https://www.bpifrance.fr/Qui-sommes-nous/Nos-metiers/Innovation/Innovation\",\"date\":\"\",\"displayed_link\":\"www.bpifrance.fr › Nos-metiers › In...\",\"thumbnail\":null,\"sitelinks\":{\"inline\":[],\"block\":[]},\"cached_page_link\":\"https://webcache.googleusercontent.com/search?q=cache:tnMbB9WePc8J:https://www.bpifrance.fr/Qui-sommes-nous/Nos-metiers/Innovation/Innovation+&cd=36&hl=en&ct=clnk&gl=fr\"},{\"position\":25,\"title\":\"Bpifrance - Servir l\\'Avenir\",\"snippet\":\"Qui sommes-nous. Nos métiers. Innovation · Financement · Garantie · Fonds propres · International · Accompagnement · Notre mission · Notre organisation\\xa0...\",\"link\":\"https://www.bpifrance.fr/\",\"date\":\"\",\"displayed_link\":\"www.bpifrance.fr\",\"thumbnail\":null,\"sitelinks\":{\"inline\":[],\"block\":[]},\"cached_page_link\":\"https://webcache.googleusercontent.com/search?q=cache:z1aCwVQKD5MJ:https://www.bpifrance.fr/+&cd=37&hl=en&ct=clnk&gl=fr\"},{\"position\":26,\"title\":\"News High Tech du secteur Innovation\",\"snippet\":\"General Motors ouvre un centre d\\'innovation pour accélérer dans la fabrication additive. L\\'Additive Industrialization Center va permettre à General Motors de\\xa0...\",\"link\":\"https://www.usine-digitale.fr/innovation/\",\"date\":\"\",\"displayed_link\":\"www.usine-digitale.fr › innovation\",\"thumbnail\":null,\"sitelinks\":{\"inline\":[],\"block\":[]},\"cached_page_link\":\"https://webcache.googleusercontent.com/search?q=cache:xpFzYHDktjAJ:https://www.usine-digitale.fr/innovation/+&cd=38&hl=en&ct=clnk&gl=fr\"},{\"position\":27,\"title\":\"Innovation – Topics - IEA\",\"snippet\":\"Innovation. A critical driver of clean energy transitions. Through research, investments and collaboration, a wide variety of energy fields are being reshaped by\\xa0...\",\"link\":\"https://www.iea.org/topics/innovation\",\"date\":\"\",\"displayed_link\":\"www.iea.org › topics › innovation\",\"thumbnail\":null,\"sitelinks\":{\"inline\":[],\"block\":[]},\"cached_page_link\":\"https://webcache.googleusercontent.com/search?q=cache:xz8ADE5XXx8J:https://www.iea.org/topics/innovation+&cd=39&hl=en&ct=clnk&gl=fr\"},{\"position\":28,\"title\":\"Arc de l\\'innovation: •\",\"snippet\":\"ARC INNOVATION GRAND PARIS. Appel à projets #7. Vous portez un projet innovant, à impact local positif, situé dans l\\'Arc de l\\'innovation ? Postulez jusqu\\'au\\xa0...\",\"link\":\"https://arcinnovation.fr/\",\"date\":\"\",\"displayed_link\":\"arcinnovation.fr\",\"thumbnail\":null,\"sitelinks\":{\"inline\":[],\"block\":[]},\"cached_page_link\":\"https://webcache.googleusercontent.com/search?q=cache:JdZ5rR1jAYYJ:https://arcinnovation.fr/+&cd=40&hl=en&ct=clnk&gl=fr\",\"related_pages_link\":\"https://www.google.com/search?gl=FR&q=related:https://arcinnovation.fr/+innovation&sa=X&ved=2ahUKEwif6YPO_IbuAhUSGVkFHfwtDQ8QHzAnegQIfRAG\"},{\"position\":29,\"title\":\"Les Mardis de l\\'Innovation\",\"snippet\":\"Formation ouverte à l\\'excellence en innovation et progrès humain.\",\"link\":\"https://mardis-innovation.fr/\",\"date\":\"\",\"displayed_link\":\"mardis-innovation.fr\",\"thumbnail\":null,\"sitelinks\":{\"inline\":[],\"block\":[]},\"cached_page_link\":\"https://webcache.googleusercontent.com/search?q=cache:ygvwzhONV4gJ:https://mardis-innovation.fr/+&cd=41&hl=en&ct=clnk&gl=fr\"},{\"position\":30,\"title\":\"Innovation Way : Outils et méthodes au service de l\\'innovation\",\"snippet\":\"Diagnostic innovation et formations de haut niveau permettant aux conseils en innovation de moderniser leurs pratiques et de développer leur expertise.\",\"link\":\"http://innovation-way.com/\",\"date\":\"\",\"displayed_link\":\"innovation-way.com\",\"thumbnail\":null,\"sitelinks\":{\"inline\":[],\"block\":[]},\"cached_page_link\":\"http://webcache.googleusercontent.com/search?q=cache:kVzuRMj5pjMJ:innovation-way.com/+&cd=42&hl=en&ct=clnk&gl=fr\",\"related_pages_link\":\"https://www.google.com/search?gl=FR&q=related:innovation-way.com/+innovation&sa=X&ved=2ahUKEwif6YPO_IbuAhUSGVkFHfwtDQ8QHzApegQIWhAG\"},{\"position\":31,\"title\":\"Research Handbook on Innovation Governance for Emerging ...\",\"snippet\":\"Kraemer-Mbula, E. and E. Wamae (eds) (2010), Innovation and the Development Agenda, Paris: Organisation for Economic Co-operation and Development.\",\"link\":\"https://books.google.fr/books?id=qaTfDQAAQBAJ&pg=PA84&lpg=PA84&dq=innovation&source=bl&ots=qVQKfyBgR1&sig=ACfU3U0TfIIJE3BSs3FOxG2iJxDHMX48zA&hl=en&sa=X&ved=2ahUKEwif6YPO_IbuAhUSGVkFHfwtDQ8Q6AEwKnoECB4QAg\",\"date\":\"\",\"displayed_link\":\"books.google.fr › books\",\"thumbnail\":null,\"sitelinks\":{\"inline\":[],\"block\":[]}},{\"position\":32,\"title\":\"Project-Based Knowledge in Organizing Open Innovation\",\"snippet\":\"The division of labour in innovation management, R&D management 19(2): 161–171. Chesbrough, H.W., (2003). Open innovation: The new imperative for\\xa0...\",\"link\":\"https://books.google.fr/books?id=VH8pBAAAQBAJ&pg=PA16&lpg=PA16&dq=innovation&source=bl&ots=i4G43tHtrB&sig=ACfU3U1ZMj7CoXAfJuk-g4fhFa40-xkuyw&hl=en&sa=X&ved=2ahUKEwif6YPO_IbuAhUSGVkFHfwtDQ8Q6AEwK3oECBwQAg\",\"date\":\"\",\"displayed_link\":\"books.google.fr › books\",\"thumbnail\":null,\"sitelinks\":{\"inline\":[],\"block\":[]}},{\"position\":33,\"title\":\"Innovation Systems and Capabilities in Developing Regions: ...\",\"snippet\":\"Government, Governance and the Development of the Innovation System: The Example of the Taiwanese Biotechnology and Related Sectoral Policies, PhD\\xa0...\",\"link\":\"https://books.google.fr/books?id=FSc3DAAAQBAJ&pg=PA116&lpg=PA116&dq=innovation&source=bl&ots=Kg566uUSGM&sig=ACfU3U24MwmyAz7Eoe6uxw2VG9UgCqTubg&hl=en&sa=X&ved=2ahUKEwif6YPO_IbuAhUSGVkFHfwtDQ8Q6AEwLHoECB0QAg\",\"date\":\"\",\"displayed_link\":\"books.google.fr › books\",\"thumbnail\":null,\"sitelinks\":{\"inline\":[],\"block\":[]}},{\"position\":34,\"title\":\"SIVAL Innovation\",\"snippet\":\"Lauréats 2021. Concours Sival Innovation. Le jury final s\\'est tenu le 10 décembre 2020 pour départager les candidats autour de quatre critères majeurs :.\",\"link\":\"https://www.sival-innovation.com/\",\"date\":\"\",\"displayed_link\":\"www.sival-innovation.com\",\"thumbnail\":null,\"sitelinks\":{\"inline\":[],\"block\":[]},\"cached_page_link\":\"https://webcache.googleusercontent.com/search?q=cache:HH9dTHfX_U8J:https://www.sival-innovation.com/+&cd=46&hl=en&ct=clnk&gl=fr\",\"related_pages_link\":\"https://www.google.com/search?gl=FR&q=related:https://www.sival-innovation.com/+innovation&sa=X&ved=2ahUKEwif6YPO_IbuAhUSGVkFHfwtDQ8QHzAtegQIVRAG\"},{\"position\":35,\"title\":\"Innovation Living - Expand Your Living Space\",\"snippet\":\"We strive to offer a wide range of sofa beds that match individual needs and personalities. Our sofa beds are designed to Expand Your Living Space!\",\"link\":\"https://www.innovationliving.com/\",\"date\":\"\",\"displayed_link\":\"www.innovationliving.com\",\"thumbnail\":null,\"sitelinks\":{\"inline\":[],\"block\":[]},\"cached_page_link\":\"https://webcache.googleusercontent.com/search?q=cache:SjIfVkHXe4UJ:https://www.innovationliving.com/+&cd=47&hl=en&ct=clnk&gl=fr\"},{\"position\":36,\"title\":\"FINANCE INNOVATION - Pôle de compétitivité mondial\",\"snippet\":\"FINANCE INNOVATION est le leader français de l\\'accompagnement des startups financières. Pôle de compétitivité mondial créé par l\\'Etat en 2007, tiers de\\xa0...\",\"link\":\"https://finance-innovation.org/\",\"date\":\"\",\"displayed_link\":\"finance-innovation.org\",\"thumbnail\":null,\"sitelinks\":{\"inline\":[],\"block\":[]},\"cached_page_link\":\"https://webcache.googleusercontent.com/search?q=cache:uyUvnklZjKIJ:https://finance-innovation.org/+&cd=48&hl=en&ct=clnk&gl=fr\",\"related_pages_link\":\"https://www.google.com/search?gl=FR&q=related:https://finance-innovation.org/+innovation&sa=X&ved=2ahUKEwif6YPO_IbuAhUSGVkFHfwtDQ8QHzAvegQIdxAG\"},{\"position\":37,\"title\":\"Innovation actualité\",\"snippet\":\"Actualité innovation : découvrez toutes les inventions le plus folles !\",\"link\":\"https://www.20minutes.fr/dossier/innovation\",\"date\":\"\",\"displayed_link\":\"www.20minutes.fr › dossier › innova...\",\"thumbnail\":null,\"sitelinks\":{\"inline\":[],\"block\":[]},\"cached_page_link\":\"https://webcache.googleusercontent.com/search?q=cache:ApqWQ7uVSg8J:https://www.20minutes.fr/dossier/innovation+&cd=49&hl=en&ct=clnk&gl=fr\"},{\"position\":38,\"title\":\"Accueil | Mois de l\\'innovation publique\",\"snippet\":\"La Semaine de l\\'innovation publique est, depuis 2014, coordonnée par la Direction interministérielle de la transformation publique (DITP). Elle fédère un\\xa0...\",\"link\":\"https://www.modernisation.gouv.fr/mois-innovation-publique/\",\"date\":\"\",\"displayed_link\":\"www.modernisation.gouv.fr › mois-i...\",\"thumbnail\":null,\"sitelinks\":{\"inline\":[],\"block\":[]},\"cached_page_link\":\"https://webcache.googleusercontent.com/search?q=cache:6Q1hI5xFPd8J:https://www.modernisation.gouv.fr/mois-innovation-publique/+&cd=50&hl=en&ct=clnk&gl=fr\"},{\"position\":39,\"title\":\"Votre Culture D\\'Innovation En 6 Étapes | Forbes France\",\"snippet\":\"May 9, 2017 — Comment créer une véritable culture d\\'innovation, adaptée à son entreprise ? Comment pérenniser l\\'envie d\\'innover et utiliser les bonnes\\xa0...\",\"link\":\"https://www.forbes.fr/management/votre-culture-dinnovation-en-6-etapes/\",\"date\":\"May 9, 2017 —\",\"displayed_link\":\"www.forbes.fr › management › votre...\",\"thumbnail\":null,\"sitelinks\":{\"inline\":[],\"block\":[]},\"cached_page_link\":\"https://webcache.googleusercontent.com/search?q=cache:BYJ-_HO30KsJ:https://www.forbes.fr/management/votre-culture-dinnovation-en-6-etapes/+&cd=51&hl=en&ct=clnk&gl=fr\"},{\"position\":40,\"title\":\"Research and innovation | European Commission\",\"snippet\":\"Research and innovation. Find current and upcoming funding opportunities for your research, as well as research partners, jobs and fellowships. Learn about\\xa0...\",\"link\":\"https://ec.europa.eu/info/research-and-innovation_en\",\"date\":\"\",\"displayed_link\":\"ec.europa.eu › Home › Research and innovation\",\"thumbnail\":null,\"sitelinks\":{\"inline\":[],\"block\":[]},\"cached_page_link\":\"https://webcache.googleusercontent.com/search?q=cache:dw7G-VS5ewcJ:https://ec.europa.eu/info/research-and-innovation_en+&cd=52&hl=en&ct=clnk&gl=fr\"},{\"position\":41,\"title\":\"Option Innovation 4 journées de découvertes pour les métiers ...\",\"snippet\":\"Option Innovation souhaite renforcer cette dynamique et offre cette année la possibilité aux jeunes de visiter des lieux d\\'innovation ou d\\'assister à une\\xa0...\",\"link\":\"https://www.optioninnovation.org/\",\"date\":\"\",\"displayed_link\":\"www.optioninnovation.org\",\"thumbnail\":null,\"sitelinks\":{\"inline\":[],\"block\":[]},\"cached_page_link\":\"https://webcache.googleusercontent.com/search?q=cache:XQjIN07XWlwJ:https://www.optioninnovation.org/+&cd=53&hl=en&ct=clnk&gl=fr\"},{\"position\":42,\"title\":\"Innovation Factory - 1er Cluster de l\\'Innovation Numérique\",\"snippet\":\"Premier Cluster de l\\'Innovation Numérique de Paris, l\\'Innovation Factory a créé un lieu hybride où se rencontrent entreprises, startups et étudiants.\",\"link\":\"http://www.innovationfcty.fr/\",\"date\":\"\",\"displayed_link\":\"www.innovationfcty.fr\",\"thumbnail\":null,\"sitelinks\":{\"inline\":[],\"block\":[]},\"cached_page_link\":\"http://webcache.googleusercontent.com/search?q=cache:g5w5dt4XAKIJ:www.innovationfcty.fr/+&cd=54&hl=en&ct=clnk&gl=fr\",\"related_pages_link\":\"https://www.google.com/search?gl=FR&q=related:www.innovationfcty.fr/+innovation&sa=X&ved=2ahUKEwif6YPO_IbuAhUSGVkFHfwtDQ8QHzA1egQIPhAG\"},{\"position\":43,\"title\":\"Innovation - Accor\",\"snippet\":\"We foster living innovation with “openness” as our mantra— open to new practices, technologies, and opportunities. 10 Accor innovations transforming hospitality.\",\"link\":\"https://group.accor.com/en/innovation\",\"date\":\"\",\"displayed_link\":\"group.accor.com › innovation\",\"thumbnail\":null,\"sitelinks\":{\"inline\":[],\"block\":[]},\"cached_page_link\":\"https://webcache.googleusercontent.com/search?q=cache:tw0BZC-cfCoJ:https://group.accor.com/en/innovation+&cd=55&hl=en&ct=clnk&gl=fr\"},{\"position\":44,\"title\":\"UMR Innovation\",\"snippet\":\"Les recherches portent sur le processus d\\'innovation, depuis la compréhension des objectifs des acteurs pour innover jusqu\\'à l\\'analyse des effets de ces\\xa0...\",\"link\":\"https://umr-innovation.cirad.fr/\",\"date\":\"\",\"displayed_link\":\"umr-innovation.cirad.fr\",\"thumbnail\":null,\"sitelinks\":{\"inline\":[],\"block\":[]},\"cached_page_link\":\"https://webcache.googleusercontent.com/search?q=cache:7sw34vCos7sJ:https://umr-innovation.cirad.fr/+&cd=56&hl=en&ct=clnk&gl=fr\"},{\"position\":45,\"title\":\"Innovation REVIEW\",\"snippet\":\"360° Actus. Décryptage. Novartis se recentre sur les traitements innovants. Le géant suisse est en train d\\'ouvrir une nouvelle ère. Sous la houlette de son\\xa0...\",\"link\":\"http://www.innovationreview.eu/\",\"date\":\"\",\"displayed_link\":\"www.innovationreview.eu\",\"thumbnail\":null,\"sitelinks\":{\"inline\":[],\"block\":[]},\"cached_page_link\":\"http://webcache.googleusercontent.com/search?q=cache:RDnj7241rAQJ:www.innovationreview.eu/+&cd=57&hl=en&ct=clnk&gl=fr\",\"related_pages_link\":\"https://www.google.com/search?gl=FR&q=related:www.innovationreview.eu/+innovation&sa=X&ved=2ahUKEwif6YPO_IbuAhUSGVkFHfwtDQ8QHzA4egQILxAG\"},{\"position\":46,\"title\":\"Innovation | Board Game | BoardGameGeek\",\"snippet\":\"This game by Carl Chudyk is a journey through innovations from the stone age through modern times. Each player builds a civilization based on various\\xa0...\",\"link\":\"https://boardgamegeek.com/boardgame/63888/innovation\",\"date\":\"\",\"displayed_link\":\"boardgamegeek.com › boardgame › innovation\",\"thumbnail\":null,\"sitelinks\":{\"inline\":[],\"block\":[]},\"cached_page_link\":\"https://webcache.googleusercontent.com/search?q=cache:xV4iHBNTqbQJ:https://boardgamegeek.com/boardgame/63888/innovation+&cd=58&hl=en&ct=clnk&gl=fr\",\"related_pages_link\":\"https://www.google.com/search?gl=FR&q=related:https://boardgamegeek.com/boardgame/63888/innovation+innovation&sa=X&ved=2ahUKEwif6YPO_IbuAhUSGVkFHfwtDQ8QHzA5egQIJxAI\"},{\"position\":47,\"title\":\"Citations, proverbes Innovation\",\"snippet\":\"innovation: citations sur innovation parmi une collection de 100.000 citations. Découvrez le meilleur des citations sur innovation, mais aussi des phrases\\xa0...\",\"link\":\"http://evene.lefigaro.fr/citations/mot.php?mot=innovation\",\"date\":\"\",\"displayed_link\":\"evene.lefigaro.fr › citations › mot\",\"thumbnail\":null,\"sitelinks\":{\"inline\":[],\"block\":[]},\"cached_page_link\":\"http://webcache.googleusercontent.com/search?q=cache:oEzIx3lxg8YJ:evene.lefigaro.fr/citations/mot.php%3Fmot%3Dinnovation+&cd=59&hl=en&ct=clnk&gl=fr\",\"related_pages_link\":\"https://www.google.com/search?gl=FR&q=related:evene.lefigaro.fr/citations/mot.php%3Fmot%3Dinnovation+innovation&sa=X&ved=2ahUKEwif6YPO_IbuAhUSGVkFHfwtDQ8QHzA6egQIIRAI\"},{\"position\":48,\"title\":\"Quartier de l\\'innovation\",\"snippet\":\"Le Quartier de l\\'innovation: de nouveaux... Universités et Recherche. Nos conférences Mat\\'inno. Vie de quartier. Actualité · Bien vieillir à domicile en ville\\xa0...\",\"link\":\"http://www.quartierinnovationmontreal.com/fr\",\"date\":\"\",\"displayed_link\":\"www.quartierinnovationmontreal.com › ...\",\"thumbnail\":null,\"sitelinks\":{\"inline\":[],\"block\":[]},\"cached_page_link\":\"http://webcache.googleusercontent.com/search?q=cache:m_2hjZhjSN0J:www.quartierinnovationmontreal.com/fr+&cd=60&hl=en&ct=clnk&gl=fr\"},{\"position\":49,\"title\":\"Le forfait innovation - Ministère des Solidarités et de la Santé\",\"snippet\":\"Le forfait innovation est un processus innovant fusionnant ces deux approches, permettant simultanément un accès sécurisé à des innovations de rupture pour les\\xa0...\",\"link\":\"https://solidarites-sante.gouv.fr/systeme-de-sante-et-medico-social/recherche-et-innovation/forfait-innovation\",\"date\":\"\",\"displayed_link\":\"solidarites-sante.gouv.fr › forfait-inn...\",\"thumbnail\":null,\"sitelinks\":{\"inline\":[],\"block\":[]},\"cached_page_link\":\"https://webcache.googleusercontent.com/search?q=cache:QcZIPlisPFkJ:https://solidarites-sante.gouv.fr/systeme-de-sante-et-medico-social/recherche-et-innovation/forfait-innovation+&cd=61&hl=en&ct=clnk&gl=fr\"},{\"position\":50,\"title\":\"1 innovation par jour. - Home | Facebook\",\"snippet\":\"1 innovation par jour. 1956096 likes · 96359 talking about this. Communauté de passionnés d\\'innovation (tech, gadgets, food, scientifique etc..) Une...\",\"link\":\"https://www.facebook.com/1innovbyExploreMedia/\",\"date\":\"\",\"displayed_link\":\"www.facebook.com › ... › Community\",\"thumbnail\":null,\"sitelinks\":{\"inline\":[],\"block\":[]},\"cached_page_link\":\"https://webcache.googleusercontent.com/search?q=cache:W-3dNfSxRrkJ:https://www.facebook.com/1innovbyExploreMedia/+&cd=62&hl=en&ct=clnk&gl=fr\"},{\"position\":51,\"title\":\"TVT Innovation - Accompagnement à l\\'Innovation dans le Var ...\",\"snippet\":\"Pour développer vos projets dans le Var et en PACA, TVT Innovation détecte et accompagne sur le terrain les initiatives prometteuses.\",\"link\":\"http://www.tvt.fr/\",\"date\":\"\",\"displayed_link\":\"www.tvt.fr\",\"thumbnail\":null,\"sitelinks\":{\"inline\":[],\"block\":[]},\"cached_page_link\":\"http://webcache.googleusercontent.com/search?q=cache:8WVDQCg4x7AJ:www.tvt.fr/+&cd=63&hl=en&ct=clnk&gl=fr\",\"related_pages_link\":\"https://www.google.com/search?gl=FR&q=related:www.tvt.fr/+innovation&sa=X&ved=2ahUKEwif6YPO_IbuAhUSGVkFHfwtDQ8QHzA-egQIZhAG\"},{\"position\":52,\"title\":\"10 Types of Innovation: The Art of Discovering a Breakthrough ...\",\"snippet\":\"Jul 1, 2020 — How do companies like Amazon and Apple consistently make game-changing products? Here are 10 types of innovation and the tactics that\\xa0...\",\"link\":\"https://www.visualcapitalist.com/10-types-of-innovation-the-art-of-discovering-a-breakthrough-product/\",\"date\":\"Jul 1, 2020 —\",\"displayed_link\":\"www.visualcapitalist.com › 10-types-of-innovation-the-...\",\"thumbnail\":null,\"sitelinks\":{\"inline\":[],\"block\":[]},\"cached_page_link\":\"https://webcache.googleusercontent.com/search?q=cache:v3H4uL2-QcgJ:https://www.visualcapitalist.com/10-types-of-innovation-the-art-of-discovering-a-breakthrough-product/+&cd=64&hl=en&ct=clnk&gl=fr\"},{\"position\":53,\"title\":\"Bretagne Développement Innovation: Accueil\",\"snippet\":\"Au service de l\\'attractivité et du développement économique de la Bretagne, des projets d\\'innovation et de transformation avec et pour les entreprises.\",\"link\":\"https://www.bdi.fr/fr/accueil/\",\"date\":\"\",\"displayed_link\":\"www.bdi.fr › accueil\",\"thumbnail\":null,\"sitelinks\":{\"inline\":[],\"block\":[]},\"cached_page_link\":\"https://webcache.googleusercontent.com/search?q=cache:7Y93RtX0TR0J:https://www.bdi.fr/fr/accueil/+&cd=65&hl=en&ct=clnk&gl=fr\"},{\"position\":54,\"title\":\"Innovation Alzheimer\",\"snippet\":\"Tweets by InnoAlzheimer. Illustration page d\\'accueil : Designed by Freepik & Designed by Freepik. © Innovation Alzheimer - 2011 | Tous droits réservés.\",\"link\":\"http://www.innovation-alzheimer.fr/\",\"date\":\"\",\"displayed_link\":\"www.innovation-alzheimer.fr\",\"thumbnail\":null,\"sitelinks\":{\"inline\":[],\"block\":[]},\"cached_page_link\":\"http://webcache.googleusercontent.com/search?q=cache:UBjm3NMIs9IJ:www.innovation-alzheimer.fr/+&cd=66&hl=en&ct=clnk&gl=fr\",\"related_pages_link\":\"https://www.google.com/search?gl=FR&q=related:www.innovation-alzheimer.fr/+innovation&sa=X&ved=2ahUKEwif6YPO_IbuAhUSGVkFHfwtDQ8QHzBBegQIYhAG\"},{\"position\":55,\"title\":\"The Innovation Company\",\"snippet\":\"The Innovation Company® has developed, manufactured and offered a wide and functional range of innovative cosmetic raw materials for 30 years.\",\"link\":\"https://theinnovationcompany.fr/\",\"date\":\"\",\"displayed_link\":\"theinnovationcompany.fr\",\"thumbnail\":null,\"sitelinks\":{\"inline\":[],\"block\":[]},\"cached_page_link\":\"https://webcache.googleusercontent.com/search?q=cache:NJhGikXfFH8J:https://theinnovationcompany.fr/+&cd=67&hl=en&ct=clnk&gl=fr\"},{\"position\":56,\"title\":\"Revue Innovations | Cairn.info\",\"snippet\":\"Innovations; Revue d\\'économie et de management de l\\'innovation. Éditeur : De Boeck Supérieur; Site : innovations.cairn.info; Sur Cairn.info : Années 2001 à\\xa0...\",\"link\":\"https://www.cairn.info/revue-innovations.htm\",\"date\":\"\",\"displayed_link\":\"www.cairn.info › revue-innovations\",\"thumbnail\":null,\"sitelinks\":{\"inline\":[],\"block\":[]}},{\"position\":57,\"title\":\"Congrès de l\\'innovation en éducation à Paris - Accueil\",\"snippet\":\"14 conférences autour de l\\'éducation, tous les ans à Paris se tient le congrès Innovation en éducation. Participez à ce colloque autour de l\\'éducation.\",\"link\":\"https://www.innovation-en-education.fr/\",\"date\":\"\",\"displayed_link\":\"www.innovation-en-education.fr\",\"thumbnail\":null,\"sitelinks\":{\"inline\":[],\"block\":[]},\"cached_page_link\":\"https://webcache.googleusercontent.com/search?q=cache:2HuioiBM04MJ:https://www.innovation-en-education.fr/+&cd=69&hl=en&ct=clnk&gl=fr\"},{\"position\":58,\"title\":\"Global Innovation 1000 | Most Innovative Companies | Strategy&\",\"snippet\":\"The 13th edition of Strategy&\\'s Global Innovation 1000 study looks at how the flow of talent, investment, and ideas that has boosted companies\\' global R&D\\xa0...\",\"link\":\"https://www.strategyand.pwc.com/gx/en/insights/innovation1000.html\",\"date\":\"\",\"displayed_link\":\"www.strategyand.pwc.com › insights › innovation1000\",\"thumbnail\":null,\"sitelinks\":{\"inline\":[],\"block\":[]},\"cached_page_link\":\"https://webcache.googleusercontent.com/search?q=cache:c1aEZwrNf-UJ:https://www.strategyand.pwc.com/gx/en/insights/innovation1000.html+&cd=70&hl=en&ct=clnk&gl=fr\"},{\"position\":59,\"title\":\"Sacred and Mediaeval Architecture: Architectural innovation ...\",\"snippet\":\"I will not presume entirely to raise a warning voice , but anxiously hope that at Peterborough Cathedral architectural innovation has done its worst . London .\",\"link\":\"https://books.google.fr/books?id=CykPAQAAMAAJ&pg=PA4&lpg=PA4&dq=innovation&source=bl&ots=_FK0VIfq5V&sig=ACfU3U2DL3LZCB0FlV6IaNF4hWdVsumx-Q&hl=en&sa=X&ved=2ahUKEwif6YPO_IbuAhUSGVkFHfwtDQ8Q6AEwRnoECBsQAg\",\"date\":\"\",\"displayed_link\":\"books.google.fr › books\",\"thumbnail\":null,\"sitelinks\":{\"inline\":[],\"block\":[]}},{\"position\":60,\"title\":\"Innovation Capital - Growing Tech Companies in Partnership ...\",\"snippet\":\"CDC Innovation Welcome to Innovation Capital website. Founded in 1996, Innovation Capital is an international venture capital firm based in Paris with a local\\xa0...\",\"link\":\"https://www.innovationcapital.fr/\",\"date\":\"\",\"displayed_link\":\"www.innovationcapital.fr\",\"thumbnail\":null,\"sitelinks\":{\"inline\":[],\"block\":[]},\"cached_page_link\":\"https://webcache.googleusercontent.com/search?q=cache:cMRGYlVu_dMJ:https://www.innovationcapital.fr/+&cd=72&hl=en&ct=clnk&gl=fr\"},{\"position\":61,\"title\":\"Forfait innovation - Haute Autorité de Santé\",\"snippet\":\"Feb 5, 2020 — Le forfait innovation est un dispositif de prise en charge dérogatoire et temporaire pour faciliter l\\'accès précoce des patients à des technologies\\xa0...\",\"link\":\"https://www.has-sante.fr/jcms/c_2035788/fr/forfait-innovation\",\"date\":\"Feb 5, 2020 —\",\"displayed_link\":\"www.has-sante.fr › jcms › forfait-inn...\",\"thumbnail\":null,\"sitelinks\":{\"inline\":[],\"block\":[]},\"cached_page_link\":\"https://webcache.googleusercontent.com/search?q=cache:c-H8ZKGzqWwJ:https://www.has-sante.fr/jcms/c_2035788/fr/forfait-innovation+&cd=73&hl=en&ct=clnk&gl=fr\"},{\"position\":62,\"title\":\"orano – innovation experience\",\"snippet\":\"Intervention in nuclear environment is leading us to innovate over and over, in order to enhance safety and security. The driver of our creativity is the safey of our\\xa0...\",\"link\":\"https://www.orano.group/experience/innovation/en\",\"date\":\"\",\"displayed_link\":\"www.orano.group › experience › innovation\",\"thumbnail\":null,\"sitelinks\":{\"inline\":[],\"block\":[]},\"cached_page_link\":\"https://webcache.googleusercontent.com/search?q=cache:HzVTY7tWbwgJ:https://www.orano.group/experience/innovation/en+&cd=74&hl=en&ct=clnk&gl=fr\"},{\"position\":63,\"title\":\"Toutes les actus sur l\\'innovation dans le secteur industriel ...\",\"snippet\":\"Innovation. Open innovation. Avec son programme Magellan, le CEA veut créer plus de 100 startups avec ses technologies d\\'ici à 2030. Le Commissariat à\\xa0...\",\"link\":\"https://www.industrie-techno.com/innovation\",\"date\":\"\",\"displayed_link\":\"www.industrie-techno.com › innovat...\",\"thumbnail\":null,\"sitelinks\":{\"inline\":[],\"block\":[]}},{\"position\":64,\"title\":\"Vertical Innovation: Conseils en Management de l\\'innovation\",\"snippet\":\"Vertical Innovation est une société de conseils en management de l\\'innovation et marketing qui accompagne les entreprises depuis 2014 pour innover..\",\"link\":\"https://vertical-innovation.com/\",\"date\":\"\",\"displayed_link\":\"vertical-innovation.com\",\"thumbnail\":null,\"sitelinks\":{\"inline\":[],\"block\":[]},\"cached_page_link\":\"https://webcache.googleusercontent.com/search?q=cache:T04PcrRECyMJ:https://vertical-innovation.com/+&cd=76&hl=en&ct=clnk&gl=fr\"},{\"position\":65,\"title\":\"Innovation. Le dynamisme des entreprises de l\\'Ouest en ...\",\"snippet\":\"1 day ago — Innovation. Le dynamisme des entreprises de l\\'Ouest en faveur du climat trouve du soutien. Grâce au programme d\\'investissement d\\'avenir de\\xa0...\",\"link\":\"https://www.ouest-france.fr/economie/innovation-le-dynamisme-des-entreprises-de-l-ouest-en-faveur-du-climat-trouve-du-soutien-7107329\",\"date\":\"1 day ago —\",\"displayed_link\":\"www.ouest-france.fr › economie › in...\",\"thumbnail\":null,\"sitelinks\":{\"inline\":[],\"block\":[]},\"cached_page_link\":\"https://webcache.googleusercontent.com/search?q=cache:DPPOKGcoDB0J:https://www.ouest-france.fr/economie/innovation-le-dynamisme-des-entreprises-de-l-ouest-en-faveur-du-climat-trouve-du-soutien-7107329+&cd=77&hl=en&ct=clnk&gl=fr\"},{\"position\":66,\"title\":\"Les Enjeux Innovation B2B, le rendez-vous de l\\'innovation ...\",\"snippet\":\"Les Enjeux Innovation B2B est une conférence annuelle qui fédère des décideurs de l\\'économie, de la distribution et du marketing autour des thématiques de\\xa0...\",\"link\":\"https://www.innovation-b2b.com/\",\"date\":\"\",\"displayed_link\":\"www.innovation-b2b.com\",\"thumbnail\":null,\"sitelinks\":{\"inline\":[],\"block\":[]},\"cached_page_link\":\"https://webcache.googleusercontent.com/search?q=cache:tJJ7DxkfCwIJ:https://www.innovation-b2b.com/+&cd=78&hl=en&ct=clnk&gl=fr\"},{\"position\":67,\"title\":\"Innovation - Ministère de l\\'Enseignement supérieur, de la ...\",\"snippet\":\"Les mesures en faveur de l\\'innovation. Crédit impôt recherche, pôles de compétitivité, instituts Carnot, pôles d\\'entrepreneuriat étudiants, sociétés d\\'accélération\\xa0...\",\"link\":\"https://www.enseignementsup-recherche.gouv.fr/pid24627/innovation.html\",\"date\":\"\",\"displayed_link\":\"www.enseignementsup-recherche.gouv.fr › ...\",\"thumbnail\":null,\"sitelinks\":{\"inline\":[],\"block\":[]},\"cached_page_link\":\"https://webcache.googleusercontent.com/search?q=cache:vQkBOVyqvXcJ:https://www.enseignementsup-recherche.gouv.fr/pid24627/innovation.html+&cd=79&hl=en&ct=clnk&gl=fr\"},{\"position\":68,\"title\":\"Innovation sociale : de quoi parle-t-on ? | Avise.org\",\"snippet\":\"Jan 20, 2020 — Les innovations combinent souvent plusieurs dimensions. Elles peuvent avoir des intensités différentes, de l\\'innovation incrémentale (\\xa0...\",\"link\":\"https://www.avise.org/decouvrir/innovation-sociale/innovation-sociale-de-quoi-parle-t-on\",\"date\":\"Jan 20, 2020 —\",\"displayed_link\":\"www.avise.org › decouvrir › innovat...\",\"thumbnail\":null,\"sitelinks\":{\"inline\":[],\"block\":[]},\"cached_page_link\":\"https://webcache.googleusercontent.com/search?q=cache:9xidUYKGhq8J:https://www.avise.org/decouvrir/innovation-sociale/innovation-sociale-de-quoi-parle-t-on+&cd=80&hl=en&ct=clnk&gl=fr\"},{\"position\":69,\"title\":\"Comité Innovation Routes et Rues (CIRR) - IDRRIM\",\"snippet\":\"Outils mis en place en 2007 par la Direction des Infrastructures de Transport (DIT) du Ministère de la Transition Ecologique (MTE) pour encourager l\\'innovation\\xa0...\",\"link\":\"https://www.idrrim.com/Innovation/programmes-nationaux/comite-innovation-routes-rues-cirr/\",\"date\":\"\",\"displayed_link\":\"www.idrrim.com › Innovation › com...\",\"thumbnail\":null,\"sitelinks\":{\"inline\":[],\"block\":[]},\"cached_page_link\":\"https://webcache.googleusercontent.com/search?q=cache:jaN1udqw1YQJ:https://www.idrrim.com/Innovation/programmes-nationaux/comite-innovation-routes-rues-cirr/+&cd=81&hl=en&ct=clnk&gl=fr\"},{\"position\":70,\"title\":\"Cathay Innovation\",\"snippet\":\"A Global Venture Capital Platform Connecting Innovators Everywhere.\",\"link\":\"https://cathayinnovation.com/\",\"date\":\"\",\"displayed_link\":\"cathayinnovation.com\",\"thumbnail\":null,\"sitelinks\":{\"inline\":[],\"block\":[]},\"cached_page_link\":\"https://webcache.googleusercontent.com/search?q=cache:8fBLzyJ6x1sJ:https://cathayinnovation.com/+&cd=82&hl=en&ct=clnk&gl=fr\"},{\"position\":71,\"title\":\"Global Innovation Index | Who Will Finance Innovation?\",\"snippet\":\"Discover the Global Innovation Index (GII): Ranking the world\\'s countries and economies through innovational measures, environments, and outputs.\",\"link\":\"https://www.globalinnovationindex.org/\",\"date\":\"\",\"displayed_link\":\"www.globalinnovationindex.org\",\"thumbnail\":null,\"sitelinks\":{\"inline\":[],\"block\":[]},\"cached_page_link\":\"https://webcache.googleusercontent.com/search?q=cache:pcJQj3i7uhsJ:https://www.globalinnovationindex.org/+&cd=83&hl=en&ct=clnk&gl=fr\",\"related_pages_link\":\"https://www.google.com/search?gl=FR&q=related:https://www.globalinnovationindex.org/+innovation&sa=X&ved=2ahUKEwif6YPO_IbuAhUSGVkFHfwtDQ8QHzBSegQIUhAG\"},{\"position\":72,\"title\":\"Journée de l\\'innovation | Ministère de l\\'Education Nationale ...\",\"snippet\":\"Le ministère de l\\'Éducation nationale organisera la 10e édition de la Journée de l\\'innovation le 1er avril 2020 à la Gaîté Lyrique . Cette journée a pour objectif\\xa0...\",\"link\":\"https://www.education.gouv.fr/journee-de-l-innovation-5198\",\"date\":\"\",\"displayed_link\":\"www.education.gouv.fr › journee-de...\",\"thumbnail\":null,\"sitelinks\":{\"inline\":[],\"block\":[]},\"cached_page_link\":\"https://webcache.googleusercontent.com/search?q=cache:x4UnBpw4ol8J:https://www.education.gouv.fr/journee-de-l-innovation-5198+&cd=84&hl=en&ct=clnk&gl=fr\"},{\"position\":73,\"title\":\"Efficient Innovation\",\"snippet\":\"Efficient Innovation rejoint In Extenso Innovation Croissance pour créer un leader du conseil en innovation au service des organisations. Abonnez-vous à la\\xa0...\",\"link\":\"http://www.efficient-innovation.com/\",\"date\":\"\",\"displayed_link\":\"www.efficient-innovation.com\",\"thumbnail\":null,\"sitelinks\":{\"inline\":[],\"block\":[]},\"cached_page_link\":\"http://webcache.googleusercontent.com/search?q=cache:XhTbd-Ym6AcJ:www.efficient-innovation.com/+&cd=85&hl=en&ct=clnk&gl=fr\",\"related_pages_link\":\"https://www.google.com/search?gl=FR&q=related:www.efficient-innovation.com/+innovation&sa=X&ved=2ahUKEwif6YPO_IbuAhUSGVkFHfwtDQ8QHzBUegQIThAG\"},{\"position\":74,\"title\":\"In Extenso Innovation Croissance\",\"snippet\":\"Etude et Conseil en Management stratégique de l\\'innovation. Nos métiers. Mieux Innover. Nos secteurs d\\'activité. A la frontière de la technologie et du marché\\xa0...\",\"link\":\"https://www.inextenso-innovation.fr/\",\"date\":\"\",\"displayed_link\":\"www.inextenso-innovation.fr\",\"thumbnail\":null,\"sitelinks\":{\"inline\":[],\"block\":[]},\"cached_page_link\":\"https://webcache.googleusercontent.com/search?q=cache:Dl6IwGWVfDoJ:https://www.inextenso-innovation.fr/+&cd=86&hl=en&ct=clnk&gl=fr\"},{\"position\":75,\"title\":\"ENGIE Innovation: Open Innovation Call for projects ...\",\"snippet\":\"ENGIE Innovation Sharing your expertise, responding to our calls for projects | All the news about innovation in energy, transport, smart city, buildings.\",\"link\":\"https://innovation.engie.com/en/\",\"date\":\"\",\"displayed_link\":\"innovation.engie.com › ...\",\"thumbnail\":null,\"sitelinks\":{\"inline\":[],\"block\":[]},\"cached_page_link\":\"https://webcache.googleusercontent.com/search?q=cache:E4VVxBwgl3MJ:https://innovation.engie.com/en/+&cd=87&hl=en&ct=clnk&gl=fr\"},{\"position\":76,\"title\":\"ENGIE Innovation: Open Innovation, appels à projet, solutions ...\",\"snippet\":\"L\\'Open Innovation avec ENGIE Innovation Répondez aux appels à projet Proposez des solutions innovantes suivez l\\'actualité de l\\'innovation liée à l\\'énergie.\",\"link\":\"https://innovation.engie.com/\",\"date\":\"\",\"displayed_link\":\"innovation.engie.com\",\"thumbnail\":null,\"sitelinks\":{\"inline\":[],\"block\":[]},\"cached_page_link\":\"https://webcache.googleusercontent.com/search?q=cache:8aXGjpxd3RQJ:https://innovation.engie.com/+&cd=88&hl=en&ct=clnk&gl=fr\"},{\"position\":77,\"title\":\"Innovation - Airbus\",\"snippet\":\"At Airbus, we believe the future of aerospace is autonomous, connected and zero-emission. We collaborate with our innovation ecosystem and leverage our\\xa0...\",\"link\":\"https://www.airbus.com/innovation.html\",\"date\":\"\",\"displayed_link\":\"www.airbus.com › innovation\",\"thumbnail\":null,\"sitelinks\":{\"inline\":[],\"block\":[]},\"cached_page_link\":\"https://webcache.googleusercontent.com/search?q=cache:nRO9VsVYMOIJ:https://www.airbus.com/innovation.html+&cd=89&hl=en&ct=clnk&gl=fr\"},{\"position\":78,\"title\":\"Innovation Cup - Research - Merck KGaA\",\"snippet\":\"As a participant in our Innovation Cup, you get a chance to network with top students from around the world, work in teams to develop new innovative ideas for\\xa0...\",\"link\":\"https://www.merckgroup.com/en/research/open-innovation/innovation-cup.html\",\"date\":\"\",\"displayed_link\":\"www.merckgroup.com › Research › Open Innovation\",\"thumbnail\":null,\"sitelinks\":{\"inline\":[],\"block\":[]},\"cached_page_link\":\"https://webcache.googleusercontent.com/search?q=cache:agCG-KzzSbQJ:https://www.merckgroup.com/en/research/open-innovation/innovation-cup.html+&cd=90&hl=en&ct=clnk&gl=fr\"},{\"position\":79,\"title\":\"Food Innovation Means More Plant-Based Choices Everyone ...\",\"snippet\":\"16 hours ago — When food companies act like tech companies, innovation means consumers will have more plant-based meat and dairy alternatives that are\\xa0...\",\"link\":\"https://thebeet.com/the-future-of-food-innovations-in-vegtech-will-bring-you-new-plant-based-options/\",\"date\":\"16 hours ago —\",\"displayed_link\":\"thebeet.com › the-future-of-food-innovations-in-vegtec...\",\"thumbnail\":null,\"sitelinks\":{\"inline\":[],\"block\":[]},\"cached_page_link\":\"https://webcache.googleusercontent.com/search?q=cache:2U1tUaoS3HoJ:https://thebeet.com/the-future-of-food-innovations-in-vegtech-will-bring-you-new-plant-based-options/+&cd=91&hl=en&ct=clnk&gl=fr\"},{\"position\":80,\"title\":\"Senior Officer-Advocacy & Innovation | ReliefWeb\",\"snippet\":\"19 hours ago — The Senior Officer Advocacy and Innovation will contribute to evidence-based advocacy efforts to ensure quality implementation of all advocacy\\xa0...\",\"link\":\"https://reliefweb.int/job/3701865/senior-officer-advocacy-innovation\",\"date\":\"19 hours ago —\",\"displayed_link\":\"reliefweb.int › job › senior-officer-advocacy-innovation\",\"thumbnail\":null,\"sitelinks\":{\"inline\":[],\"block\":[]},\"cached_page_link\":\"https://webcache.googleusercontent.com/search?q=cache:5CYQWmcLBIYJ:https://reliefweb.int/job/3701865/senior-officer-advocacy-innovation+&cd=92&hl=en&ct=clnk&gl=fr\"},{\"position\":81,\"title\":\"Innovation Award Honorees - CES 2021 - CES.tech\",\"snippet\":\"The CES Innovation Awards is an annual competition honoring outstanding design and engineering in consumer technology products.\",\"link\":\"https://www.ces.tech/Innovation-Awards/Honorees.aspx\",\"date\":\"\",\"displayed_link\":\"www.ces.tech › Innovation-Awards › Honorees\",\"thumbnail\":null,\"sitelinks\":{\"inline\":[],\"block\":[]},\"cached_page_link\":\"https://webcache.googleusercontent.com/search?q=cache:RYlhOc5RSQcJ:https://www.ces.tech/Innovation-Awards/Honorees.aspx+&cd=93&hl=en&ct=clnk&gl=fr\"},{\"position\":82,\"title\":\"22 Companies Spearheading Digital Innovation in their ...\",\"snippet\":\"17 hours ago — Plenty of innovation is happening far outside tech media\\'s typical scope of coverage. We\\'d like to shift that focus. As we leave the madness of\\xa0...\",\"link\":\"https://builtin.com/corporate-innovation/corporate-digital-innovation-transformation-2021\",\"date\":\"17 hours ago —\",\"displayed_link\":\"builtin.com › corporate-innovation › corporate-digital-i...\",\"thumbnail\":null,\"sitelinks\":{\"inline\":[],\"block\":[]},\"cached_page_link\":\"https://webcache.googleusercontent.com/search?q=cache:mNvHXk3tIbAJ:https://builtin.com/corporate-innovation/corporate-digital-innovation-transformation-2021+&cd=94&hl=en&ct=clnk&gl=fr\"},{\"position\":83,\"title\":\"What Is Innovation?\",\"snippet\":\"Various definitions of innovation · Application of ideas that are novel and useful · It\\'s about staying relevant · Great idea, executed brilliantly, and communicated well\\xa0...\",\"link\":\"https://digintent.com/what-is-innovation/\",\"date\":\"\",\"displayed_link\":\"digintent.com › what-is-innovation\",\"thumbnail\":null,\"sitelinks\":{\"inline\":[],\"block\":[]},\"cached_page_link\":\"https://webcache.googleusercontent.com/search?q=cache:H1Y8RB_rDkYJ:https://digintent.com/what-is-innovation/+&cd=95&hl=en&ct=clnk&gl=fr\"},{\"position\":84,\"title\":\"Office of Innovation | UNICEF Office of Innovation\",\"snippet\":\"Innovating for Children. Innovation at UNICEF is about doing new things to solve problems and improve the lives of children around the world. It is about\\xa0...\",\"link\":\"https://www.unicef.org/innovation/\",\"date\":\"\",\"displayed_link\":\"www.unicef.org › innovation\",\"thumbnail\":null,\"sitelinks\":{\"inline\":[],\"block\":[]},\"cached_page_link\":\"https://webcache.googleusercontent.com/search?q=cache:8vxoo40rN_QJ:https://www.unicef.org/innovation/+&cd=96&hl=en&ct=clnk&gl=fr\",\"related_pages_link\":\"https://www.google.com/search?gl=FR&q=related:https://www.unicef.org/innovation/+innovation&sa=X&ved=2ahUKEwif6YPO_IbuAhUSGVkFHfwtDQ8QHzBfegQIMhAI\"},{\"position\":85,\"title\":\"Innovation : un pizzaïolo de l\\'Oise investit dans des ...\",\"snippet\":\"2 days ago — Innovation : un pizzaïolo de l\\'Oise investit dans des distributeurs à pizzas. La France regorge de citoyens enthousiastes et porteurs de projets\\xa0...\",\"link\":\"https://www.francetvinfo.fr/economie/emploi/metiers/restauration-hotellerie-sports-loisirs/innovation-unpizzaiolo-de-l-oise-investit-dans-des-distributeurs-a-pizzas_4244285.html\",\"date\":\"2 days ago —\",\"displayed_link\":\"www.francetvinfo.fr › emploi › metiers\",\"thumbnail\":null,\"sitelinks\":{\"inline\":[],\"block\":[]}},{\"position\":86,\"title\":\"INNOVATION\\u200b | Auto-entrepreneur. Un « artisan » du monde ...\",\"snippet\":\"4 hours ago — INNOVATION\\u200b | Auto-entrepreneur Un « artisan » du monde numérique. Installé à Kintzheim, près de Sélestat, après avoir travaillé en Suisse,\\xa0...\",\"link\":\"https://www.dna.fr/economie/2021/01/06/un-artisan-du-monde-numerique\",\"date\":\"4 hours ago —\",\"displayed_link\":\"www.dna.fr › economie › 2021/01/06\",\"thumbnail\":null,\"sitelinks\":{\"inline\":[],\"block\":[]},\"cached_page_link\":\"https://webcache.googleusercontent.com/search?q=cache:PqCBFhEu7hkJ:https://www.dna.fr/economie/2021/01/06/un-artisan-du-monde-numerique+&cd=98&hl=en&ct=clnk&gl=fr\"},{\"position\":87,\"title\":\"NASA Highlights Innovation, Technology at Virtual SciTech ...\",\"snippet\":\"16 hours ago — Topics range from diversity in science, technology, engineering, and math (STEM) to innovations in space technology, aeronautics, and more.\",\"link\":\"https://www.nasa.gov/press-release/nasa-highlights-innovation-technology-at-virtual-scitech-forum\",\"date\":\"16 hours ago —\",\"displayed_link\":\"www.nasa.gov › press-release › nasa-highlights-innovat...\",\"thumbnail\":null,\"sitelinks\":{\"inline\":[],\"block\":[]},\"cached_page_link\":\"https://webcache.googleusercontent.com/search?q=cache:qQ1eLJAqSpUJ:https://www.nasa.gov/press-release/nasa-highlights-innovation-technology-at-virtual-scitech-forum+&cd=99&hl=en&ct=clnk&gl=fr\"},{\"position\":88,\"title\":\"Vinci retient 44 projets d\\'innovation sur ses métiers\",\"snippet\":\"\",\"link\":\"https://www.lemondeinformatique.fr/actualites/lire-vinci-retient-44-projets-d-innovation-sur-ses-metiers-81540.html\",\"date\":\"\",\"displayed_link\":\"www.lemondeinformatique.fr › lire-...\",\"thumbnail\":null,\"sitelinks\":{\"inline\":[],\"block\":[]},\"cached_page_link\":\"https://webcache.googleusercontent.com/search?q=cache:GS8eska3I9cJ:https://www.lemondeinformatique.fr/actualites/lire-vinci-retient-44-projets-d-innovation-sur-ses-metiers-81540.html+&cd=100&hl=en&ct=clnk&gl=fr\"},{\"position\":89,\"title\":\"Agence de l\\'innovation de défense - Ministère des Armées\",\"snippet\":\"Mettre l\\'animation en pause. Agence de l\\'innovation de défense. Actualités · Ministère · Le rôle du ministère des Armées · Organisation du ministère des Armées.\",\"link\":\"https://www.defense.gouv.fr/aid\",\"date\":\"\",\"displayed_link\":\"www.defense.gouv.fr › aid\",\"thumbnail\":null,\"sitelinks\":{\"inline\":[],\"block\":[]},\"cached_page_link\":\"https://webcache.googleusercontent.com/search?q=cache:sRX-3EQCDfoJ:https://www.defense.gouv.fr/aid+&cd=101&hl=en&ct=clnk&gl=fr\"},{\"position\":90,\"title\":\"Retis Innovation, réseau français des écosystèmes territoriaux ...\",\"snippet\":\"Les membres du réseau RETIS accompagnent au quotidien la création et le développement d\\'entreprises innovantes sur les territoires.\",\"link\":\"https://www.retis-innovation.fr/\",\"date\":\"\",\"displayed_link\":\"www.retis-innovation.fr\",\"thumbnail\":null,\"sitelinks\":{\"inline\":[],\"block\":[]},\"cached_page_link\":\"https://webcache.googleusercontent.com/search?q=cache:kzKo90WKIhMJ:https://www.retis-innovation.fr/+&cd=102&hl=en&ct=clnk&gl=fr\"},{\"position\":91,\"title\":\"Home | Innovation Unit | New solutions for thriving societies\",\"snippet\":\"Innovation Unit is a social enterprise that grows new solutions to complex social challenges. By making innovation happen we help create a world where more\\xa0...\",\"link\":\"https://www.innovationunit.org/\",\"date\":\"\",\"displayed_link\":\"www.innovationunit.org\",\"thumbnail\":null,\"sitelinks\":{\"inline\":[],\"block\":[]},\"cached_page_link\":\"https://webcache.googleusercontent.com/search?q=cache:ryUJgjyBaYgJ:https://www.innovationunit.org/+&cd=103&hl=en&ct=clnk&gl=fr\"},{\"position\":92,\"title\":\"Agri Sud-Ouest Innovation: Home\",\"snippet\":\"Numérique, robotique, biocontrôle, management de l\\'innovation, agroalimentaire, agriculture ou encore RDV BtoB, toutes les thématiques seront abordées sous\\xa0...\",\"link\":\"https://www.agrisudouest.com/\",\"date\":\"\",\"displayed_link\":\"www.agrisudouest.com\",\"thumbnail\":null,\"sitelinks\":{\"inline\":[],\"block\":[]},\"cached_page_link\":\"https://webcache.googleusercontent.com/search?q=cache:i1MtBYzLGPcJ:https://www.agrisudouest.com/+&cd=104&hl=en&ct=clnk&gl=fr\"},{\"position\":93,\"title\":\"Innovation at Work - Xerox\",\"snippet\":\"Integrating artificial intelligence, 3D printing technology, workplace assistants and IoT sensors, Xerox aims to create solutions for customers\\' business\\xa0...\",\"link\":\"https://www.xerox.com/en-us/innovation\",\"date\":\"\",\"displayed_link\":\"www.xerox.com › en-us › innovation\",\"thumbnail\":null,\"sitelinks\":{\"inline\":[],\"block\":[]},\"cached_page_link\":\"https://webcache.googleusercontent.com/search?q=cache:d0HyFtq-ZKMJ:https://www.xerox.com/en-us/innovation+&cd=105&hl=en&ct=clnk&gl=fr\",\"related_pages_link\":\"https://www.google.com/search?gl=FR&q=related:https://www.xerox.com/en-us/innovation+innovation&sa=X&ved=2ahUKEwif6YPO_IbuAhUSGVkFHfwtDQ8QHzBoegQIIhAI\"},{\"position\":94,\"title\":\"CNRS Innovation\",\"snippet\":\"Filiale de valorisation du CNRS - De la recherche à l\\'innovation depuis plus de 25 ans. 50. Experts à votre service. 2200. Contrats d\\'exploitation. 30. Prises de\\xa0...\",\"link\":\"https://www.cnrsinnovation.com/\",\"date\":\"\",\"displayed_link\":\"www.cnrsinnovation.com\",\"thumbnail\":null,\"sitelinks\":{\"inline\":[],\"block\":[]},\"cached_page_link\":\"https://webcache.googleusercontent.com/search?q=cache:7sTJdxCAsrsJ:https://www.cnrsinnovation.com/+&cd=106&hl=en&ct=clnk&gl=fr\"},{\"position\":95,\"title\":\"Journée de l\\'innovation 2020 | éduscol | Ministère de l ...\",\"snippet\":\"Les prix de l\\'innovation. Comme chaque année, un appel à projets national a été lancé. Il s\\'adresse à tous les personnels enseignants, de vie scolaire et de\\xa0...\",\"link\":\"https://eduscol.education.fr/872/journee-de-l-innovation-2020\",\"date\":\"\",\"displayed_link\":\"eduscol.education.fr › journee-de-l-i...\",\"thumbnail\":null,\"sitelinks\":{\"inline\":[],\"block\":[]}},{\"position\":96,\"title\":\"Innovation Policy Platform\",\"snippet\":\"The IPP aims to provide policy practitioners with a simple and easy-to-use tool, supporting them in the innovation policy-making process.\",\"link\":\"https://www.innovationpolicyplatform.org/\",\"date\":\"\",\"displayed_link\":\"www.innovationpolicyplatform.org\",\"thumbnail\":null,\"sitelinks\":{\"inline\":[],\"block\":[]},\"cached_page_link\":\"https://webcache.googleusercontent.com/search?q=cache:NMm3Qrgr7vMJ:https://www.innovationpolicyplatform.org/+&cd=108&hl=en&ct=clnk&gl=fr\",\"related_pages_link\":\"https://www.google.com/search?gl=FR&q=related:https://www.innovationpolicyplatform.org/+innovation&sa=X&ved=2ahUKEwif6YPO_IbuAhUSGVkFHfwtDQ8QHzBregUIgAEQBg\"},{\"position\":97,\"title\":\"Le crédit d\\'impôt innovation | entreprises.gouv.fr\",\"snippet\":\"Le crédit d\\'impôt innovation est une mesure fiscale réservée aux PME. Ces dernières peuvent bénéficier d\\'un crédit d\\'impôt de 20 % des dépenses nécessaires\\xa0...\",\"link\":\"https://www.entreprises.gouv.fr/fr/entrepreneuriat/aides-et-financement/credit-d-impot-innovation\",\"date\":\"\",\"displayed_link\":\"www.entreprises.gouv.fr › credit-d-i...\",\"thumbnail\":null,\"sitelinks\":{\"inline\":[],\"block\":[]},\"cached_page_link\":\"https://webcache.googleusercontent.com/search?q=cache:AC70M1V4LhYJ:https://www.entreprises.gouv.fr/fr/entrepreneuriat/aides-et-financement/credit-d-impot-innovation+&cd=109&hl=en&ct=clnk&gl=fr\"},{\"position\":98,\"title\":\"Innovation in 2020: Fintechs facing challenges, lessons and ...\",\"snippet\":\"\",\"link\":\"https://www.bbva.com/en/innovation-in-2020-fintechs-facing-challenges-lessons-and-changes/\",\"date\":\"\",\"displayed_link\":\"www.bbva.com › innovation-in-2020-fintechs-facing-c...\",\"thumbnail\":null,\"sitelinks\":{\"inline\":[],\"block\":[]},\"cached_page_link\":\"https://webcache.googleusercontent.com/search?q=cache:y8aAfgtU5UAJ:https://www.bbva.com/en/innovation-in-2020-fintechs-facing-challenges-lessons-and-changes/+&cd=110&hl=en&ct=clnk&gl=fr\"},{\"position\":99,\"title\":\"Innovation | Financial Times\",\"snippet\":\"$50 for your first 3 months Get the print edition and steer from crisis to recovery. Subscribe now. Innovation. Add to myFT. Add to myFT Digest. Add this topic to\\xa0...\",\"link\":\"https://www.ft.com/reports/innovations-education\",\"date\":\"\",\"displayed_link\":\"www.ft.com › reports › innovations-education\",\"thumbnail\":null,\"sitelinks\":{\"inline\":[],\"block\":[]},\"cached_page_link\":\"https://webcache.googleusercontent.com/search?q=cache:-m6U1U6EqDoJ:https://www.ft.com/reports/innovations-education+&cd=111&hl=en&ct=clnk&gl=fr\",\"related_pages_link\":\"https://www.google.com/search?gl=FR&q=related:https://www.ft.com/reports/innovations-education+innovation&sa=X&ved=2ahUKEwif6YPO_IbuAhUSGVkFHfwtDQ8QHzBuegUIjQEQCA\"}],\"related_searches\":[{\"query\":\"innovation synonym\",\"link\":\"https://www.google.com/search?num=100&gl=FR&q=innovation+synonym&sa=X&ved=2ahUKEwif6YPO_IbuAhUSGVkFHfwtDQ8Q1QIoAHoECBAQAQ\"},{\"query\":\"innovation in business\",\"link\":\"https://www.google.com/search?num=100&gl=FR&q=innovation+in+business&sa=X&ved=2ahUKEwif6YPO_IbuAhUSGVkFHfwtDQ8Q1QIoAXoECBAQAg\"},{\"query\":\"innovation examples\",\"link\":\"https://www.google.com/search?num=100&gl=FR&q=innovation+examples&sa=X&ved=2ahUKEwif6YPO_IbuAhUSGVkFHfwtDQ8Q1QIoAnoECBAQAw\"},{\"query\":\"types of innovation\",\"link\":\"https://www.google.com/search?num=100&gl=FR&q=types+of+innovation&sa=X&ved=2ahUKEwif6YPO_IbuAhUSGVkFHfwtDQ8Q1QIoA3oECBAQBA\"},{\"query\":\"innovation management\",\"link\":\"https://www.google.com/search?num=100&gl=FR&q=innovation+management&sa=X&ved=2ahUKEwif6YPO_IbuAhUSGVkFHfwtDQ8Q1QIoBHoECBAQBQ\"},{\"query\":\"innovation definition business\",\"link\":\"https://www.google.com/search?num=100&gl=FR&q=innovation+definition+business&sa=X&ved=2ahUKEwif6YPO_IbuAhUSGVkFHfwtDQ8Q1QIoBXoECBAQBg\"},{\"query\":\"why is innovation important\",\"link\":\"https://www.google.com/search?num=100&gl=FR&q=why+is+innovation+important&sa=X&ved=2ahUKEwif6YPO_IbuAhUSGVkFHfwtDQ8Q1QIoBnoECBAQBw\"},{\"query\":\"innovation quotes\",\"link\":\"https://www.google.com/search?num=100&gl=FR&q=innovation+quotes&sa=X&ved=2ahUKEwif6YPO_IbuAhUSGVkFHfwtDQ8Q1QIoB3oECBAQCA\"}],\"pagination\":{\"pagesCount\":4,\"currentPage\":1,\"nextPageUrl\":\"https://www.google.com/search?q=innovation&num=100&gl=FR&ei=F4D1X9-BCJKy5NoP_Nu0eA&start=100&sa=N&ved=2ahUKEwif6YPO_IbuAhUSGVkFHfwtDQ8Q8tMDegQIEhA8\",\"prevPageUrl\":null,\"pages\":[{\"page\":2,\"url\":\"https://www.google.com/search?q=innovation&num=100&gl=FR&ei=F4D1X9-BCJKy5NoP_Nu0eA&start=100&sa=N&ved=2ahUKEwif6YPO_IbuAhUSGVkFHfwtDQ8Q8tMDegQIEhA8\"},{\"page\":3,\"url\":\"https://www.google.com/search?q=innovation&num=100&gl=FR&ei=F4D1X9-BCJKy5NoP_Nu0eA&start=200&sa=N&ved=2ahUKEwif6YPO_IbuAhUSGVkFHfwtDQ8Q8tMDegQIEhA-\"},{\"page\":4,\"url\":\"https://www.google.com/search?q=innovation&num=100&gl=FR&ei=F4D1X9-BCJKy5NoP_Nu0eA&start=300&sa=N&ved=2ahUKEwif6YPO_IbuAhUSGVkFHfwtDQ8Q8tMDegQIEhBA\"}]}}'"
      ]
     },
     "execution_count": 49,
     "metadata": {},
     "output_type": "execute_result"
    }
   ],
   "source": [
    "source"
   ]
  },
  {
   "cell_type": "code",
   "execution_count": 50,
   "metadata": {},
   "outputs": [
    {
     "data": {
      "text/plain": [
       "['https://www.cnrtl.fr/lexicographie/innovation',\n",
       " 'https://www.enseignementsup-recherche.gouv.fr/pid24627/innovation.html',\n",
       " 'https://reliefweb.int/job/3701865/senior-officer-advocacy-innovation',\n",
       " 'https://theinnovationcompany.fr/',\n",
       " 'http://evene.lefigaro.fr/citations/mot.php?mot=innovation',\n",
       " 'https://www.mckinsey.com/business-functions/strategy-and-corporate-finance/our-insights/the-eight-essentials-of-innovation',\n",
       " 'https://finance-innovation.org/',\n",
       " 'https://www.industrie-techno.com/innovation',\n",
       " 'https://www.cairn.info/revue-innovations.htm',\n",
       " 'https://www.retis-innovation.fr/',\n",
       " 'https://www.education.gouv.fr/journee-de-l-innovation-5198',\n",
       " 'https://www.airbus.com/innovation.html',\n",
       " 'https://www.merckgroup.com/en/research/open-innovation/innovation-cup.html',\n",
       " 'https://www.sival-innovation.com/',\n",
       " 'https://www.unicef.org/innovation/',\n",
       " 'https://www.entreprises.gouv.fr/fr/entrepreneuriat/aides-et-financement/credit-d-impot-innovation',\n",
       " 'https://www.agrisudouest.com/',\n",
       " 'https://www.petite-entreprise.net/articles/J-accompagne-les-dirigeants/Definition-innovation-Qu-est-ce-que-c-est-Pourquoi-innover',\n",
       " 'https://dictionary.cambridge.org/dictionary/english/innovation',\n",
       " 'https://www.france-innovation.fr/',\n",
       " 'http://www.tvt.fr/',\n",
       " 'https://youmatter.world/en/definition/definitions-innovation-definition-types-examples/',\n",
       " 'https://ec.europa.eu/info/research-and-innovation_en',\n",
       " 'https://www.ces.tech/Innovation-Awards/Honorees.aspx',\n",
       " 'https://www.modernisation.gouv.fr/mois-innovation-publique/',\n",
       " 'https://www.ouest-france.fr/economie/innovation-le-dynamisme-des-entreprises-de-l-ouest-en-faveur-du-climat-trouve-du-soutien-7107329',\n",
       " 'https://innovationmanagement.se/2008/01/07/how-do-you-define-innovation-and-make-it-practical-and-saleable-to-senior-management/',\n",
       " 'https://digintent.com/what-is-innovation/',\n",
       " 'https://www.innovationliving.com/',\n",
       " 'https://www.nasa.gov/press-release/nasa-highlights-innovation-technology-at-virtual-scitech-forum',\n",
       " 'https://books.google.fr/books?id=qaTfDQAAQBAJ&pg=PA84&lpg=PA84&dq=innovation&source=bl&ots=qVQKfyBgR1&sig=ACfU3U0TfIIJE3BSs3FOxG2iJxDHMX48zA&hl=en&sa=X&ved=2ahUKEwif6YPO_IbuAhUSGVkFHfwtDQ8Q6AEwKnoECB4QAg',\n",
       " 'https://hbr.org/2015/12/what-is-disruptive-innovation',\n",
       " 'https://arcinnovation.fr/',\n",
       " 'https://www.insee.fr/fr/metadonnees/definition/c1182',\n",
       " 'https://www.innovation-b2b.com/',\n",
       " 'https://www.francetvinfo.fr/economie/emploi/metiers/restauration-hotellerie-sports-loisirs/innovation-unpizzaiolo-de-l-oise-investit-dans-des-distributeurs-a-pizzas_4244285.html',\n",
       " 'https://www.20minutes.fr/dossier/innovation',\n",
       " 'https://www.has-sante.fr/jcms/c_2035788/fr/forfait-innovation',\n",
       " 'https://thebeet.com/the-future-of-food-innovations-in-vegtech-will-bring-you-new-plant-based-options/',\n",
       " 'https://www.lemondeinformatique.fr/actualites/lire-vinci-retient-44-projets-d-innovation-sur-ses-metiers-81540.html',\n",
       " 'https://www.idrrim.com/Innovation/programmes-nationaux/comite-innovation-routes-rues-cirr/',\n",
       " 'https://www.bpifrance.fr/',\n",
       " 'https://www.dictionary.com/browse/innovation',\n",
       " 'https://cathayinnovation.com/',\n",
       " 'https://www.larousse.fr/dictionnaires/francais/innovation/43196',\n",
       " 'https://mardis-innovation.fr/',\n",
       " 'http://www.efficient-innovation.com/',\n",
       " 'https://www.globalinnovationindex.org/',\n",
       " 'http://www.innovationfcty.fr/',\n",
       " 'https://www.innovationcapital.fr/',\n",
       " 'https://www.bdi.fr/fr/accueil/',\n",
       " 'https://www.forbes.fr/management/votre-culture-dinnovation-en-6-etapes/',\n",
       " 'https://www.strategyand.pwc.com/gx/en/insights/innovation1000.html',\n",
       " 'https://www.dna.fr/economie/2021/01/06/un-artisan-du-monde-numerique',\n",
       " 'https://www.iea.org/topics/innovation',\n",
       " 'https://books.google.fr/books?id=VH8pBAAAQBAJ&pg=PA16&lpg=PA16&dq=innovation&source=bl&ots=i4G43tHtrB&sig=ACfU3U1ZMj7CoXAfJuk-g4fhFa40-xkuyw&hl=en&sa=X&ved=2ahUKEwif6YPO_IbuAhUSGVkFHfwtDQ8Q6AEwK3oECBwQAg',\n",
       " 'http://www.innovation-alzheimer.fr/',\n",
       " 'https://www.ft.com/reports/innovations-education',\n",
       " 'https://www.forbes.com/sites/michellegreenwald/2014/03/12/what-exactly-is-innovation/',\n",
       " 'https://builtin.com/corporate-innovation/corporate-digital-innovation-transformation-2021',\n",
       " 'https://hbr.org/topic/innovation',\n",
       " 'https://www.orano.group/experience/innovation/en',\n",
       " 'https://boardgamegeek.com/boardgame/63888/innovation',\n",
       " 'http://innovation-way.com/',\n",
       " 'https://www.oecd.org/fr/sites/strategiedelocdepourlinnovation/definirlinnovation.htm',\n",
       " 'https://books.google.fr/books?id=CykPAQAAMAAJ&pg=PA4&lpg=PA4&dq=innovation&source=bl&ots=_FK0VIfq5V&sig=ACfU3U2DL3LZCB0FlV6IaNF4hWdVsumx-Q&hl=en&sa=X&ved=2ahUKEwif6YPO_IbuAhUSGVkFHfwtDQ8Q6AEwRnoECBsQAg',\n",
       " 'https://innovation.engie.com/en/',\n",
       " 'https://www.avise.org/decouvrir/innovation-sociale/innovation-sociale-de-quoi-parle-t-on',\n",
       " 'https://www.bpifrance.fr/Qui-sommes-nous/Nos-metiers/Innovation/Innovation',\n",
       " 'https://www.merriam-webster.com/dictionary/innovation',\n",
       " 'https://www.innovationpolicyplatform.org/',\n",
       " 'https://group.accor.com/en/innovation',\n",
       " 'http://www.toupie.org/Dictionnaire/Innovation.htm',\n",
       " 'https://www.innovation-en-education.fr/',\n",
       " 'https://www.innovationunit.org/',\n",
       " 'https://www.manager-go.com/strategie-entreprise/innovation.htm',\n",
       " 'https://innovation.engie.com/',\n",
       " 'https://www.xerox.com/en-us/innovation',\n",
       " 'https://books.google.fr/books?id=FSc3DAAAQBAJ&pg=PA116&lpg=PA116&dq=innovation&source=bl&ots=Kg566uUSGM&sig=ACfU3U24MwmyAz7Eoe6uxw2VG9UgCqTubg&hl=en&sa=X&ved=2ahUKEwif6YPO_IbuAhUSGVkFHfwtDQ8Q6AEwLHoECB0QAg',\n",
       " 'http://www.innovationreview.eu/',\n",
       " 'http://www.quartierinnovationmontreal.com/fr',\n",
       " 'https://www.optioninnovation.org/',\n",
       " 'https://www.usine-digitale.fr/innovation/',\n",
       " 'https://www.defense.gouv.fr/aid',\n",
       " 'https://www.bbva.com/en/innovation-in-2020-fintechs-facing-challenges-lessons-and-changes/',\n",
       " 'https://solidarites-sante.gouv.fr/systeme-de-sante-et-medico-social/recherche-et-innovation/forfait-innovation',\n",
       " 'https://fr.wikipedia.org/wiki/Innovation',\n",
       " 'https://liquipedia.net/starcraft2/INnoVation',\n",
       " 'https://www.cnrsinnovation.com/',\n",
       " 'https://www.usabilis.com/4-types-d-innovation/',\n",
       " 'https://www.visualcapitalist.com/10-types-of-innovation-the-art-of-discovering-a-breakthrough-product/',\n",
       " 'https://www.inextenso-innovation.fr/',\n",
       " 'https://en.wikipedia.org/wiki/Innovation',\n",
       " 'https://www.linternaute.fr/dictionnaire/fr/definition/innovation/',\n",
       " 'https://www.facebook.com/1innovbyExploreMedia/',\n",
       " 'https://eduscol.education.fr/872/journee-de-l-innovation-2020',\n",
       " 'https://vertical-innovation.com/',\n",
       " 'https://innolytics-innovation.com/what-is-innovation/',\n",
       " 'https://umr-innovation.cirad.fr/']"
      ]
     },
     "execution_count": 50,
     "metadata": {},
     "output_type": "execute_result"
    }
   ],
   "source": [
    "import re\n",
    "s = source\n",
    "pattern = re.compile(\"\\\"link\\\"[^,]+\")\n",
    "my_links = list(set([x for x in pattern.findall(s)]))\n",
    "my_links\n",
    "my_links = [i[8:] for i in my_links]\n",
    "my_links = [i[:-1] for i in my_links]\n",
    "\n",
    "mylinks=[]\n",
    "\n",
    "for i in my_links:\n",
    "    if \"https://www.google\" not in i:\n",
    "        mylinks.append(i)\n",
    "\n",
    "mylinks"
   ]
  },
  {
   "cell_type": "code",
   "execution_count": null,
   "metadata": {},
   "outputs": [],
   "source": []
  }
 ],
 "metadata": {
  "colab": {
   "collapsed_sections": [],
   "name": "g2_crawling_test_v0.ipynb",
   "provenance": []
  },
  "kernelspec": {
   "display_name": "Python 3",
   "language": "python",
   "name": "python3"
  },
  "language_info": {
   "codemirror_mode": {
    "name": "ipython",
    "version": 3
   },
   "file_extension": ".py",
   "mimetype": "text/x-python",
   "name": "python",
   "nbconvert_exporter": "python",
   "pygments_lexer": "ipython3",
   "version": "3.7.3"
  }
 },
 "nbformat": 4,
 "nbformat_minor": 1
}
