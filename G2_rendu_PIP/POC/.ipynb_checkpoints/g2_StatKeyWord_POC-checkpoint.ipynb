{
 "cells": [
  {
   "cell_type": "markdown",
   "metadata": {
    "id": "1mH8jNRqQgXm"
   },
   "source": [
    "**POC : Série de statistiques sur les mots clés par rapport au nombre de résultats scrappés**"
   ]
  },
  {
   "cell_type": "code",
   "execution_count": 3,
   "metadata": {
    "id": "hyzPsHDlQfe9"
   },
   "outputs": [],
   "source": [
    "import pandas as pd"
   ]
  },
  {
   "cell_type": "code",
   "execution_count": 4,
   "metadata": {
    "colab": {
     "base_uri": "https://localhost:8080/",
     "height": 402
    },
    "id": "eli6wlj9QffG",
    "outputId": "5b006faf-e3ce-4ee2-b924-7b898492d8ea",
    "scrolled": true
   },
   "outputs": [
    {
     "data": {
      "text/html": [
       "<div>\n",
       "<style scoped>\n",
       "    .dataframe tbody tr th:only-of-type {\n",
       "        vertical-align: middle;\n",
       "    }\n",
       "\n",
       "    .dataframe tbody tr th {\n",
       "        vertical-align: top;\n",
       "    }\n",
       "\n",
       "    .dataframe thead th {\n",
       "        text-align: right;\n",
       "    }\n",
       "</style>\n",
       "<table border=\"1\" class=\"dataframe\">\n",
       "  <thead>\n",
       "    <tr style=\"text-align: right;\">\n",
       "      <th></th>\n",
       "      <th>Nom</th>\n",
       "      <th>URL</th>\n",
       "      <th>src_url</th>\n",
       "      <th>art_theme</th>\n",
       "    </tr>\n",
       "  </thead>\n",
       "  <tbody>\n",
       "    <tr>\n",
       "      <th>0</th>\n",
       "      <td>fncdg</td>\n",
       "      <td>http://fncdg.com/</td>\n",
       "      <td>http://fncdg.com/</td>\n",
       "      <td>[Ic, Gd]</td>\n",
       "    </tr>\n",
       "    <tr>\n",
       "      <th>1</th>\n",
       "      <td>lab-innovation.cget.gouv</td>\n",
       "      <td>http://lab-innovation.cget.gouv.fr/</td>\n",
       "      <td>http://lab-innovation.cget.gouv.fr/</td>\n",
       "      <td>[Ia, Ga]</td>\n",
       "    </tr>\n",
       "    <tr>\n",
       "      <th>2</th>\n",
       "      <td>public.agedi</td>\n",
       "      <td>http://public.agedi.fr/</td>\n",
       "      <td>http://public.agedi.fr/</td>\n",
       "      <td>[Id, Gb]</td>\n",
       "    </tr>\n",
       "    <tr>\n",
       "      <th>4</th>\n",
       "      <td>departements</td>\n",
       "      <td>http://www.departements.fr/</td>\n",
       "      <td>http://www.departements.fr/</td>\n",
       "      <td>[Ia, Gd]</td>\n",
       "    </tr>\n",
       "    <tr>\n",
       "      <th>5</th>\n",
       "      <td>departements</td>\n",
       "      <td>http://www.departements.fr/actualites/</td>\n",
       "      <td>http://www.departements.fr/</td>\n",
       "      <td>[Ib, Ga]</td>\n",
       "    </tr>\n",
       "    <tr>\n",
       "      <th>...</th>\n",
       "      <td>...</td>\n",
       "      <td>...</td>\n",
       "      <td>...</td>\n",
       "      <td>...</td>\n",
       "    </tr>\n",
       "    <tr>\n",
       "      <th>106</th>\n",
       "      <td>vie-publique</td>\n",
       "      <td>https://www.vie-publique.fr/actualites-feeds.x...</td>\n",
       "      <td>https://www.vie-publique.fr/</td>\n",
       "      <td>[Ia, Ga]</td>\n",
       "    </tr>\n",
       "    <tr>\n",
       "      <th>107</th>\n",
       "      <td>vie-publique</td>\n",
       "      <td>https://www.vie-publique.fr/fiches/finances-pu...</td>\n",
       "      <td>https://www.vie-publique.fr/</td>\n",
       "      <td>[Ib, Ga]</td>\n",
       "    </tr>\n",
       "    <tr>\n",
       "      <th>108</th>\n",
       "      <td>vie-publique</td>\n",
       "      <td>https://www.vie-publique.fr/finances-publiques',</td>\n",
       "      <td>https://www.vie-publique.fr/</td>\n",
       "      <td>[Ia, Gb]</td>\n",
       "    </tr>\n",
       "    <tr>\n",
       "      <th>109</th>\n",
       "      <td>viepublique</td>\n",
       "      <td>https://www.viepublique.fr/fiches/finances-pub...</td>\n",
       "      <td>https://www.viepublique.fr/</td>\n",
       "      <td>[Ia, Ga]</td>\n",
       "    </tr>\n",
       "    <tr>\n",
       "      <th>110</th>\n",
       "      <td>villeintelligente-mag</td>\n",
       "      <td>https://www.villeintelligente-mag.fr/</td>\n",
       "      <td>https://www.villeintelligente-mag.fr/</td>\n",
       "      <td>[Ia, Gd]</td>\n",
       "    </tr>\n",
       "  </tbody>\n",
       "</table>\n",
       "<p>86 rows × 4 columns</p>\n",
       "</div>"
      ],
      "text/plain": [
       "                          Nom  ... art_theme\n",
       "0                       fncdg  ...  [Ic, Gd]\n",
       "1    lab-innovation.cget.gouv  ...  [Ia, Ga]\n",
       "2                public.agedi  ...  [Id, Gb]\n",
       "4                departements  ...  [Ia, Gd]\n",
       "5                departements  ...  [Ib, Ga]\n",
       "..                        ...  ...       ...\n",
       "106              vie-publique  ...  [Ia, Ga]\n",
       "107              vie-publique  ...  [Ib, Ga]\n",
       "108              vie-publique  ...  [Ia, Gb]\n",
       "109               viepublique  ...  [Ia, Ga]\n",
       "110     villeintelligente-mag  ...  [Ia, Gd]\n",
       "\n",
       "[86 rows x 4 columns]"
      ]
     },
     "execution_count": 4,
     "metadata": {
      "tags": []
     },
     "output_type": "execute_result"
    }
   ],
   "source": [
    "df = pd.read_json('./dataCrawlLexique.json')\n",
    "df"
   ]
  },
  {
   "cell_type": "code",
   "execution_count": 7,
   "metadata": {
    "id": "4AHxTRjsQffI"
   },
   "outputs": [],
   "source": [
    "#split 'art_theme' in 'gest' and 'ino'\n",
    "df['gest']=[x[1] for x in df.art_theme]\n",
    "df['ino']=[x[0] for x in df.art_theme]"
   ]
  },
  {
   "cell_type": "code",
   "execution_count": 8,
   "metadata": {
    "colab": {
     "base_uri": "https://localhost:8080/",
     "height": 402
    },
    "id": "_XmlvBCMQffJ",
    "outputId": "0daa7491-8103-4d3d-ee1b-21c88da92bab",
    "scrolled": true
   },
   "outputs": [
    {
     "data": {
      "text/html": [
       "<div>\n",
       "<style scoped>\n",
       "    .dataframe tbody tr th:only-of-type {\n",
       "        vertical-align: middle;\n",
       "    }\n",
       "\n",
       "    .dataframe tbody tr th {\n",
       "        vertical-align: top;\n",
       "    }\n",
       "\n",
       "    .dataframe thead th {\n",
       "        text-align: right;\n",
       "    }\n",
       "</style>\n",
       "<table border=\"1\" class=\"dataframe\">\n",
       "  <thead>\n",
       "    <tr style=\"text-align: right;\">\n",
       "      <th></th>\n",
       "      <th>Nom</th>\n",
       "      <th>URL</th>\n",
       "      <th>src_url</th>\n",
       "      <th>art_theme</th>\n",
       "      <th>gest</th>\n",
       "      <th>ino</th>\n",
       "    </tr>\n",
       "  </thead>\n",
       "  <tbody>\n",
       "    <tr>\n",
       "      <th>0</th>\n",
       "      <td>fncdg</td>\n",
       "      <td>http://fncdg.com/</td>\n",
       "      <td>http://fncdg.com/</td>\n",
       "      <td>[Ic, Gd]</td>\n",
       "      <td>Gd</td>\n",
       "      <td>Ic</td>\n",
       "    </tr>\n",
       "    <tr>\n",
       "      <th>1</th>\n",
       "      <td>lab-innovation.cget.gouv</td>\n",
       "      <td>http://lab-innovation.cget.gouv.fr/</td>\n",
       "      <td>http://lab-innovation.cget.gouv.fr/</td>\n",
       "      <td>[Ia, Ga]</td>\n",
       "      <td>Ga</td>\n",
       "      <td>Ia</td>\n",
       "    </tr>\n",
       "    <tr>\n",
       "      <th>2</th>\n",
       "      <td>public.agedi</td>\n",
       "      <td>http://public.agedi.fr/</td>\n",
       "      <td>http://public.agedi.fr/</td>\n",
       "      <td>[Id, Gb]</td>\n",
       "      <td>Gb</td>\n",
       "      <td>Id</td>\n",
       "    </tr>\n",
       "    <tr>\n",
       "      <th>4</th>\n",
       "      <td>departements</td>\n",
       "      <td>http://www.departements.fr/</td>\n",
       "      <td>http://www.departements.fr/</td>\n",
       "      <td>[Ia, Gd]</td>\n",
       "      <td>Gd</td>\n",
       "      <td>Ia</td>\n",
       "    </tr>\n",
       "    <tr>\n",
       "      <th>5</th>\n",
       "      <td>departements</td>\n",
       "      <td>http://www.departements.fr/actualites/</td>\n",
       "      <td>http://www.departements.fr/</td>\n",
       "      <td>[Ib, Ga]</td>\n",
       "      <td>Ga</td>\n",
       "      <td>Ib</td>\n",
       "    </tr>\n",
       "    <tr>\n",
       "      <th>...</th>\n",
       "      <td>...</td>\n",
       "      <td>...</td>\n",
       "      <td>...</td>\n",
       "      <td>...</td>\n",
       "      <td>...</td>\n",
       "      <td>...</td>\n",
       "    </tr>\n",
       "    <tr>\n",
       "      <th>106</th>\n",
       "      <td>vie-publique</td>\n",
       "      <td>https://www.vie-publique.fr/actualites-feeds.x...</td>\n",
       "      <td>https://www.vie-publique.fr/</td>\n",
       "      <td>[Ia, Ga]</td>\n",
       "      <td>Ga</td>\n",
       "      <td>Ia</td>\n",
       "    </tr>\n",
       "    <tr>\n",
       "      <th>107</th>\n",
       "      <td>vie-publique</td>\n",
       "      <td>https://www.vie-publique.fr/fiches/finances-pu...</td>\n",
       "      <td>https://www.vie-publique.fr/</td>\n",
       "      <td>[Ib, Ga]</td>\n",
       "      <td>Ga</td>\n",
       "      <td>Ib</td>\n",
       "    </tr>\n",
       "    <tr>\n",
       "      <th>108</th>\n",
       "      <td>vie-publique</td>\n",
       "      <td>https://www.vie-publique.fr/finances-publiques',</td>\n",
       "      <td>https://www.vie-publique.fr/</td>\n",
       "      <td>[Ia, Gb]</td>\n",
       "      <td>Gb</td>\n",
       "      <td>Ia</td>\n",
       "    </tr>\n",
       "    <tr>\n",
       "      <th>109</th>\n",
       "      <td>viepublique</td>\n",
       "      <td>https://www.viepublique.fr/fiches/finances-pub...</td>\n",
       "      <td>https://www.viepublique.fr/</td>\n",
       "      <td>[Ia, Ga]</td>\n",
       "      <td>Ga</td>\n",
       "      <td>Ia</td>\n",
       "    </tr>\n",
       "    <tr>\n",
       "      <th>110</th>\n",
       "      <td>villeintelligente-mag</td>\n",
       "      <td>https://www.villeintelligente-mag.fr/</td>\n",
       "      <td>https://www.villeintelligente-mag.fr/</td>\n",
       "      <td>[Ia, Gd]</td>\n",
       "      <td>Gd</td>\n",
       "      <td>Ia</td>\n",
       "    </tr>\n",
       "  </tbody>\n",
       "</table>\n",
       "<p>86 rows × 6 columns</p>\n",
       "</div>"
      ],
      "text/plain": [
       "                          Nom  ... ino\n",
       "0                       fncdg  ...  Ic\n",
       "1    lab-innovation.cget.gouv  ...  Ia\n",
       "2                public.agedi  ...  Id\n",
       "4                departements  ...  Ia\n",
       "5                departements  ...  Ib\n",
       "..                        ...  ...  ..\n",
       "106              vie-publique  ...  Ia\n",
       "107              vie-publique  ...  Ib\n",
       "108              vie-publique  ...  Ia\n",
       "109               viepublique  ...  Ia\n",
       "110     villeintelligente-mag  ...  Ia\n",
       "\n",
       "[86 rows x 6 columns]"
      ]
     },
     "execution_count": 8,
     "metadata": {
      "tags": []
     },
     "output_type": "execute_result"
    }
   ],
   "source": [
    "df"
   ]
  },
  {
   "cell_type": "code",
   "execution_count": 9,
   "metadata": {
    "id": "KHMNi5LhQffJ"
   },
   "outputs": [],
   "source": [
    "#count the number of times the words appear\n",
    "nbgest=df.groupby('gest').count()\n",
    "nbino=df.groupby('ino').count()"
   ]
  },
  {
   "cell_type": "code",
   "execution_count": 10,
   "metadata": {
    "colab": {
     "base_uri": "https://localhost:8080/",
     "height": 195
    },
    "id": "fzXZhzGKQffK",
    "outputId": "1b7aee18-8ca4-45bd-af10-4ba64110c462"
   },
   "outputs": [
    {
     "data": {
      "text/html": [
       "<div>\n",
       "<style scoped>\n",
       "    .dataframe tbody tr th:only-of-type {\n",
       "        vertical-align: middle;\n",
       "    }\n",
       "\n",
       "    .dataframe tbody tr th {\n",
       "        vertical-align: top;\n",
       "    }\n",
       "\n",
       "    .dataframe thead th {\n",
       "        text-align: right;\n",
       "    }\n",
       "</style>\n",
       "<table border=\"1\" class=\"dataframe\">\n",
       "  <thead>\n",
       "    <tr style=\"text-align: right;\">\n",
       "      <th></th>\n",
       "      <th>Nom</th>\n",
       "      <th>URL</th>\n",
       "      <th>src_url</th>\n",
       "      <th>art_theme</th>\n",
       "      <th>ino</th>\n",
       "    </tr>\n",
       "    <tr>\n",
       "      <th>gest</th>\n",
       "      <th></th>\n",
       "      <th></th>\n",
       "      <th></th>\n",
       "      <th></th>\n",
       "      <th></th>\n",
       "    </tr>\n",
       "  </thead>\n",
       "  <tbody>\n",
       "    <tr>\n",
       "      <th>Ga</th>\n",
       "      <td>46</td>\n",
       "      <td>46</td>\n",
       "      <td>46</td>\n",
       "      <td>46</td>\n",
       "      <td>46</td>\n",
       "    </tr>\n",
       "    <tr>\n",
       "      <th>Gc</th>\n",
       "      <td>20</td>\n",
       "      <td>20</td>\n",
       "      <td>20</td>\n",
       "      <td>20</td>\n",
       "      <td>20</td>\n",
       "    </tr>\n",
       "    <tr>\n",
       "      <th>Gb</th>\n",
       "      <td>15</td>\n",
       "      <td>15</td>\n",
       "      <td>14</td>\n",
       "      <td>15</td>\n",
       "      <td>15</td>\n",
       "    </tr>\n",
       "    <tr>\n",
       "      <th>Gd</th>\n",
       "      <td>5</td>\n",
       "      <td>5</td>\n",
       "      <td>5</td>\n",
       "      <td>5</td>\n",
       "      <td>5</td>\n",
       "    </tr>\n",
       "  </tbody>\n",
       "</table>\n",
       "</div>"
      ],
      "text/plain": [
       "      Nom  URL  src_url  art_theme  ino\n",
       "gest                                   \n",
       "Ga     46   46       46         46   46\n",
       "Gc     20   20       20         20   20\n",
       "Gb     15   15       14         15   15\n",
       "Gd      5    5        5          5    5"
      ]
     },
     "execution_count": 10,
     "metadata": {
      "tags": []
     },
     "output_type": "execute_result"
    }
   ],
   "source": [
    "#ordoner les valeurs\n",
    "nbgest.sort_values(by=['Nom'], inplace=True, ascending=False)\n",
    "nbgest"
   ]
  },
  {
   "cell_type": "code",
   "execution_count": 11,
   "metadata": {
    "colab": {
     "base_uri": "https://localhost:8080/",
     "height": 195
    },
    "id": "iLf7l9aYQffK",
    "outputId": "26a85589-a4c0-44a6-cbe6-e84936cb4294"
   },
   "outputs": [
    {
     "data": {
      "text/html": [
       "<div>\n",
       "<style scoped>\n",
       "    .dataframe tbody tr th:only-of-type {\n",
       "        vertical-align: middle;\n",
       "    }\n",
       "\n",
       "    .dataframe tbody tr th {\n",
       "        vertical-align: top;\n",
       "    }\n",
       "\n",
       "    .dataframe thead th {\n",
       "        text-align: right;\n",
       "    }\n",
       "</style>\n",
       "<table border=\"1\" class=\"dataframe\">\n",
       "  <thead>\n",
       "    <tr style=\"text-align: right;\">\n",
       "      <th></th>\n",
       "      <th>Nom</th>\n",
       "      <th>URL</th>\n",
       "      <th>src_url</th>\n",
       "      <th>art_theme</th>\n",
       "      <th>gest</th>\n",
       "    </tr>\n",
       "    <tr>\n",
       "      <th>ino</th>\n",
       "      <th></th>\n",
       "      <th></th>\n",
       "      <th></th>\n",
       "      <th></th>\n",
       "      <th></th>\n",
       "    </tr>\n",
       "  </thead>\n",
       "  <tbody>\n",
       "    <tr>\n",
       "      <th>Ia</th>\n",
       "      <td>47</td>\n",
       "      <td>47</td>\n",
       "      <td>46</td>\n",
       "      <td>47</td>\n",
       "      <td>47</td>\n",
       "    </tr>\n",
       "    <tr>\n",
       "      <th>Ib</th>\n",
       "      <td>20</td>\n",
       "      <td>20</td>\n",
       "      <td>20</td>\n",
       "      <td>20</td>\n",
       "      <td>20</td>\n",
       "    </tr>\n",
       "    <tr>\n",
       "      <th>Ic</th>\n",
       "      <td>14</td>\n",
       "      <td>14</td>\n",
       "      <td>14</td>\n",
       "      <td>14</td>\n",
       "      <td>14</td>\n",
       "    </tr>\n",
       "    <tr>\n",
       "      <th>Id</th>\n",
       "      <td>5</td>\n",
       "      <td>5</td>\n",
       "      <td>5</td>\n",
       "      <td>5</td>\n",
       "      <td>5</td>\n",
       "    </tr>\n",
       "  </tbody>\n",
       "</table>\n",
       "</div>"
      ],
      "text/plain": [
       "     Nom  URL  src_url  art_theme  gest\n",
       "ino                                    \n",
       "Ia    47   47       46         47    47\n",
       "Ib    20   20       20         20    20\n",
       "Ic    14   14       14         14    14\n",
       "Id     5    5        5          5     5"
      ]
     },
     "execution_count": 11,
     "metadata": {
      "tags": []
     },
     "output_type": "execute_result"
    }
   ],
   "source": [
    "nbino.sort_values(by=['Nom'], inplace=True, ascending=False)\n",
    "nbino"
   ]
  },
  {
   "cell_type": "code",
   "execution_count": 12,
   "metadata": {
    "colab": {
     "base_uri": "https://localhost:8080/",
     "height": 402
    },
    "id": "azKbLBNVQffL",
    "outputId": "fbcc547e-924b-4120-a657-bd770f4a6611",
    "scrolled": true
   },
   "outputs": [
    {
     "data": {
      "text/html": [
       "<div>\n",
       "<style scoped>\n",
       "    .dataframe tbody tr th:only-of-type {\n",
       "        vertical-align: middle;\n",
       "    }\n",
       "\n",
       "    .dataframe tbody tr th {\n",
       "        vertical-align: top;\n",
       "    }\n",
       "\n",
       "    .dataframe thead th {\n",
       "        text-align: right;\n",
       "    }\n",
       "</style>\n",
       "<table border=\"1\" class=\"dataframe\">\n",
       "  <thead>\n",
       "    <tr style=\"text-align: right;\">\n",
       "      <th></th>\n",
       "      <th>Nom</th>\n",
       "      <th>URL</th>\n",
       "      <th>src_url</th>\n",
       "      <th>art_theme</th>\n",
       "      <th>gest</th>\n",
       "      <th>ino</th>\n",
       "      <th>art</th>\n",
       "    </tr>\n",
       "  </thead>\n",
       "  <tbody>\n",
       "    <tr>\n",
       "      <th>0</th>\n",
       "      <td>fncdg</td>\n",
       "      <td>http://fncdg.com/</td>\n",
       "      <td>http://fncdg.com/</td>\n",
       "      <td>[Ic, Gd]</td>\n",
       "      <td>Gd</td>\n",
       "      <td>Ic</td>\n",
       "      <td>['Ic', 'Gd']</td>\n",
       "    </tr>\n",
       "    <tr>\n",
       "      <th>1</th>\n",
       "      <td>lab-innovation.cget.gouv</td>\n",
       "      <td>http://lab-innovation.cget.gouv.fr/</td>\n",
       "      <td>http://lab-innovation.cget.gouv.fr/</td>\n",
       "      <td>[Ia, Ga]</td>\n",
       "      <td>Ga</td>\n",
       "      <td>Ia</td>\n",
       "      <td>['Ia', 'Ga']</td>\n",
       "    </tr>\n",
       "    <tr>\n",
       "      <th>2</th>\n",
       "      <td>public.agedi</td>\n",
       "      <td>http://public.agedi.fr/</td>\n",
       "      <td>http://public.agedi.fr/</td>\n",
       "      <td>[Id, Gb]</td>\n",
       "      <td>Gb</td>\n",
       "      <td>Id</td>\n",
       "      <td>['Id', 'Gb']</td>\n",
       "    </tr>\n",
       "    <tr>\n",
       "      <th>4</th>\n",
       "      <td>departements</td>\n",
       "      <td>http://www.departements.fr/</td>\n",
       "      <td>http://www.departements.fr/</td>\n",
       "      <td>[Ia, Gd]</td>\n",
       "      <td>Gd</td>\n",
       "      <td>Ia</td>\n",
       "      <td>['Ia', 'Gd']</td>\n",
       "    </tr>\n",
       "    <tr>\n",
       "      <th>5</th>\n",
       "      <td>departements</td>\n",
       "      <td>http://www.departements.fr/actualites/</td>\n",
       "      <td>http://www.departements.fr/</td>\n",
       "      <td>[Ib, Ga]</td>\n",
       "      <td>Ga</td>\n",
       "      <td>Ib</td>\n",
       "      <td>['Ib', 'Ga']</td>\n",
       "    </tr>\n",
       "    <tr>\n",
       "      <th>...</th>\n",
       "      <td>...</td>\n",
       "      <td>...</td>\n",
       "      <td>...</td>\n",
       "      <td>...</td>\n",
       "      <td>...</td>\n",
       "      <td>...</td>\n",
       "      <td>...</td>\n",
       "    </tr>\n",
       "    <tr>\n",
       "      <th>106</th>\n",
       "      <td>vie-publique</td>\n",
       "      <td>https://www.vie-publique.fr/actualites-feeds.x...</td>\n",
       "      <td>https://www.vie-publique.fr/</td>\n",
       "      <td>[Ia, Ga]</td>\n",
       "      <td>Ga</td>\n",
       "      <td>Ia</td>\n",
       "      <td>['Ia', 'Ga']</td>\n",
       "    </tr>\n",
       "    <tr>\n",
       "      <th>107</th>\n",
       "      <td>vie-publique</td>\n",
       "      <td>https://www.vie-publique.fr/fiches/finances-pu...</td>\n",
       "      <td>https://www.vie-publique.fr/</td>\n",
       "      <td>[Ib, Ga]</td>\n",
       "      <td>Ga</td>\n",
       "      <td>Ib</td>\n",
       "      <td>['Ib', 'Ga']</td>\n",
       "    </tr>\n",
       "    <tr>\n",
       "      <th>108</th>\n",
       "      <td>vie-publique</td>\n",
       "      <td>https://www.vie-publique.fr/finances-publiques',</td>\n",
       "      <td>https://www.vie-publique.fr/</td>\n",
       "      <td>[Ia, Gb]</td>\n",
       "      <td>Gb</td>\n",
       "      <td>Ia</td>\n",
       "      <td>['Ia', 'Gb']</td>\n",
       "    </tr>\n",
       "    <tr>\n",
       "      <th>109</th>\n",
       "      <td>viepublique</td>\n",
       "      <td>https://www.viepublique.fr/fiches/finances-pub...</td>\n",
       "      <td>https://www.viepublique.fr/</td>\n",
       "      <td>[Ia, Ga]</td>\n",
       "      <td>Ga</td>\n",
       "      <td>Ia</td>\n",
       "      <td>['Ia', 'Ga']</td>\n",
       "    </tr>\n",
       "    <tr>\n",
       "      <th>110</th>\n",
       "      <td>villeintelligente-mag</td>\n",
       "      <td>https://www.villeintelligente-mag.fr/</td>\n",
       "      <td>https://www.villeintelligente-mag.fr/</td>\n",
       "      <td>[Ia, Gd]</td>\n",
       "      <td>Gd</td>\n",
       "      <td>Ia</td>\n",
       "      <td>['Ia', 'Gd']</td>\n",
       "    </tr>\n",
       "  </tbody>\n",
       "</table>\n",
       "<p>86 rows × 7 columns</p>\n",
       "</div>"
      ],
      "text/plain": [
       "                          Nom  ...           art\n",
       "0                       fncdg  ...  ['Ic', 'Gd']\n",
       "1    lab-innovation.cget.gouv  ...  ['Ia', 'Ga']\n",
       "2                public.agedi  ...  ['Id', 'Gb']\n",
       "4                departements  ...  ['Ia', 'Gd']\n",
       "5                departements  ...  ['Ib', 'Ga']\n",
       "..                        ...  ...           ...\n",
       "106              vie-publique  ...  ['Ia', 'Ga']\n",
       "107              vie-publique  ...  ['Ib', 'Ga']\n",
       "108              vie-publique  ...  ['Ia', 'Gb']\n",
       "109               viepublique  ...  ['Ia', 'Ga']\n",
       "110     villeintelligente-mag  ...  ['Ia', 'Gd']\n",
       "\n",
       "[86 rows x 7 columns]"
      ]
     },
     "execution_count": 12,
     "metadata": {
      "tags": []
     },
     "output_type": "execute_result"
    }
   ],
   "source": [
    "df['art']=[str(x) for x in df.art_theme]\n",
    "df"
   ]
  },
  {
   "cell_type": "code",
   "execution_count": 13,
   "metadata": {
    "id": "H_AHxrA3QffL"
   },
   "outputs": [],
   "source": [
    "nbart=df.groupby('art').count()"
   ]
  },
  {
   "cell_type": "code",
   "execution_count": 14,
   "metadata": {
    "colab": {
     "base_uri": "https://localhost:8080/",
     "height": 491
    },
    "id": "NDm5kfNdQffM",
    "outputId": "8b69bfac-9faf-4dd2-aaa1-8a97869550e6"
   },
   "outputs": [
    {
     "data": {
      "text/html": [
       "<div>\n",
       "<style scoped>\n",
       "    .dataframe tbody tr th:only-of-type {\n",
       "        vertical-align: middle;\n",
       "    }\n",
       "\n",
       "    .dataframe tbody tr th {\n",
       "        vertical-align: top;\n",
       "    }\n",
       "\n",
       "    .dataframe thead th {\n",
       "        text-align: right;\n",
       "    }\n",
       "</style>\n",
       "<table border=\"1\" class=\"dataframe\">\n",
       "  <thead>\n",
       "    <tr style=\"text-align: right;\">\n",
       "      <th></th>\n",
       "      <th>Nom</th>\n",
       "      <th>URL</th>\n",
       "      <th>src_url</th>\n",
       "      <th>art_theme</th>\n",
       "      <th>gest</th>\n",
       "      <th>ino</th>\n",
       "    </tr>\n",
       "    <tr>\n",
       "      <th>art</th>\n",
       "      <th></th>\n",
       "      <th></th>\n",
       "      <th></th>\n",
       "      <th></th>\n",
       "      <th></th>\n",
       "      <th></th>\n",
       "    </tr>\n",
       "  </thead>\n",
       "  <tbody>\n",
       "    <tr>\n",
       "      <th>['Ia', 'Ga']</th>\n",
       "      <td>24</td>\n",
       "      <td>24</td>\n",
       "      <td>24</td>\n",
       "      <td>24</td>\n",
       "      <td>24</td>\n",
       "      <td>24</td>\n",
       "    </tr>\n",
       "    <tr>\n",
       "      <th>['Ib', 'Ga']</th>\n",
       "      <td>12</td>\n",
       "      <td>12</td>\n",
       "      <td>12</td>\n",
       "      <td>12</td>\n",
       "      <td>12</td>\n",
       "      <td>12</td>\n",
       "    </tr>\n",
       "    <tr>\n",
       "      <th>['Ia', 'Gb']</th>\n",
       "      <td>11</td>\n",
       "      <td>11</td>\n",
       "      <td>10</td>\n",
       "      <td>11</td>\n",
       "      <td>11</td>\n",
       "      <td>11</td>\n",
       "    </tr>\n",
       "    <tr>\n",
       "      <th>['Ia', 'Gc']</th>\n",
       "      <td>8</td>\n",
       "      <td>8</td>\n",
       "      <td>8</td>\n",
       "      <td>8</td>\n",
       "      <td>8</td>\n",
       "      <td>8</td>\n",
       "    </tr>\n",
       "    <tr>\n",
       "      <th>['Ic', 'Ga']</th>\n",
       "      <td>7</td>\n",
       "      <td>7</td>\n",
       "      <td>7</td>\n",
       "      <td>7</td>\n",
       "      <td>7</td>\n",
       "      <td>7</td>\n",
       "    </tr>\n",
       "    <tr>\n",
       "      <th>['Ib', 'Gc']</th>\n",
       "      <td>6</td>\n",
       "      <td>6</td>\n",
       "      <td>6</td>\n",
       "      <td>6</td>\n",
       "      <td>6</td>\n",
       "      <td>6</td>\n",
       "    </tr>\n",
       "    <tr>\n",
       "      <th>['Ic', 'Gc']</th>\n",
       "      <td>5</td>\n",
       "      <td>5</td>\n",
       "      <td>5</td>\n",
       "      <td>5</td>\n",
       "      <td>5</td>\n",
       "      <td>5</td>\n",
       "    </tr>\n",
       "    <tr>\n",
       "      <th>['Ia', 'Gd']</th>\n",
       "      <td>4</td>\n",
       "      <td>4</td>\n",
       "      <td>4</td>\n",
       "      <td>4</td>\n",
       "      <td>4</td>\n",
       "      <td>4</td>\n",
       "    </tr>\n",
       "    <tr>\n",
       "      <th>['Id', 'Ga']</th>\n",
       "      <td>3</td>\n",
       "      <td>3</td>\n",
       "      <td>3</td>\n",
       "      <td>3</td>\n",
       "      <td>3</td>\n",
       "      <td>3</td>\n",
       "    </tr>\n",
       "    <tr>\n",
       "      <th>['Ib', 'Gb']</th>\n",
       "      <td>2</td>\n",
       "      <td>2</td>\n",
       "      <td>2</td>\n",
       "      <td>2</td>\n",
       "      <td>2</td>\n",
       "      <td>2</td>\n",
       "    </tr>\n",
       "    <tr>\n",
       "      <th>['Ic', 'Gb']</th>\n",
       "      <td>1</td>\n",
       "      <td>1</td>\n",
       "      <td>1</td>\n",
       "      <td>1</td>\n",
       "      <td>1</td>\n",
       "      <td>1</td>\n",
       "    </tr>\n",
       "    <tr>\n",
       "      <th>['Ic', 'Gd']</th>\n",
       "      <td>1</td>\n",
       "      <td>1</td>\n",
       "      <td>1</td>\n",
       "      <td>1</td>\n",
       "      <td>1</td>\n",
       "      <td>1</td>\n",
       "    </tr>\n",
       "    <tr>\n",
       "      <th>['Id', 'Gb']</th>\n",
       "      <td>1</td>\n",
       "      <td>1</td>\n",
       "      <td>1</td>\n",
       "      <td>1</td>\n",
       "      <td>1</td>\n",
       "      <td>1</td>\n",
       "    </tr>\n",
       "    <tr>\n",
       "      <th>['Id', 'Gc']</th>\n",
       "      <td>1</td>\n",
       "      <td>1</td>\n",
       "      <td>1</td>\n",
       "      <td>1</td>\n",
       "      <td>1</td>\n",
       "      <td>1</td>\n",
       "    </tr>\n",
       "  </tbody>\n",
       "</table>\n",
       "</div>"
      ],
      "text/plain": [
       "              Nom  URL  src_url  art_theme  gest  ino\n",
       "art                                                  \n",
       "['Ia', 'Ga']   24   24       24         24    24   24\n",
       "['Ib', 'Ga']   12   12       12         12    12   12\n",
       "['Ia', 'Gb']   11   11       10         11    11   11\n",
       "['Ia', 'Gc']    8    8        8          8     8    8\n",
       "['Ic', 'Ga']    7    7        7          7     7    7\n",
       "['Ib', 'Gc']    6    6        6          6     6    6\n",
       "['Ic', 'Gc']    5    5        5          5     5    5\n",
       "['Ia', 'Gd']    4    4        4          4     4    4\n",
       "['Id', 'Ga']    3    3        3          3     3    3\n",
       "['Ib', 'Gb']    2    2        2          2     2    2\n",
       "['Ic', 'Gb']    1    1        1          1     1    1\n",
       "['Ic', 'Gd']    1    1        1          1     1    1\n",
       "['Id', 'Gb']    1    1        1          1     1    1\n",
       "['Id', 'Gc']    1    1        1          1     1    1"
      ]
     },
     "execution_count": 14,
     "metadata": {
      "tags": []
     },
     "output_type": "execute_result"
    }
   ],
   "source": [
    "nbart.sort_values(by=['Nom'], inplace=True, ascending=False)\n",
    "nbart"
   ]
  },
  {
   "cell_type": "code",
   "execution_count": 15,
   "metadata": {
    "colab": {
     "base_uri": "https://localhost:8080/",
     "height": 296
    },
    "id": "_9t-EI8MQffM",
    "outputId": "89078f1b-4f35-42fb-a0a4-ff3355689d38"
   },
   "outputs": [
    {
     "data": {
      "text/plain": [
       "<matplotlib.axes._subplots.AxesSubplot at 0x7f82baeb5160>"
      ]
     },
     "execution_count": 15,
     "metadata": {
      "tags": []
     },
     "output_type": "execute_result"
    },
    {
     "data": {
      "image/png": "[encoded data removed]",
      "text/plain": [
       "<Figure size 432x288 with 1 Axes>"
      ]
     },
     "metadata": {
      "needs_background": "light",
      "tags": []
     },
     "output_type": "display_data"
    }
   ],
   "source": [
    "#graphs\n",
    "nbino[['Nom']].plot()"
   ]
  },
  {
   "cell_type": "code",
   "execution_count": 16,
   "metadata": {
    "colab": {
     "base_uri": "https://localhost:8080/",
     "height": 296
    },
    "id": "Z5xW9Jg1QffN",
    "outputId": "f2f244d0-8e81-4933-c5ae-a62738635c27"
   },
   "outputs": [
    {
     "data": {
      "text/plain": [
       "<matplotlib.axes._subplots.AxesSubplot at 0x7f82badf0a90>"
      ]
     },
     "execution_count": 16,
     "metadata": {
      "tags": []
     },
     "output_type": "execute_result"
    },
    {
     "data": {
      "image/png": "[encoded data removed]",
      "text/plain": [
       "<Figure size 432x288 with 1 Axes>"
      ]
     },
     "metadata": {
      "needs_background": "light",
      "tags": []
     },
     "output_type": "display_data"
    }
   ],
   "source": [
    "nbgest[['Nom']].plot()"
   ]
  },
  {
   "cell_type": "code",
   "execution_count": 17,
   "metadata": {
    "colab": {
     "base_uri": "https://localhost:8080/",
     "height": 299
    },
    "id": "8yMDgevXQffN",
    "outputId": "d3d21b08-6998-4710-bd3a-78085d2bb317"
   },
   "outputs": [
    {
     "data": {
      "text/plain": [
       "<matplotlib.axes._subplots.AxesSubplot at 0x7f82ba992b00>"
      ]
     },
     "execution_count": 17,
     "metadata": {
      "tags": []
     },
     "output_type": "execute_result"
    },
    {
     "data": {
      "image/png": "[encoded data removed]",
      "text/plain": [
       "<Figure size 432x288 with 1 Axes>"
      ]
     },
     "metadata": {
      "needs_background": "light",
      "tags": []
     },
     "output_type": "display_data"
    }
   ],
   "source": [
    "nbart[['Nom']].plot()"
   ]
  },
  {
   "cell_type": "code",
   "execution_count": 18,
   "metadata": {
    "colab": {
     "base_uri": "https://localhost:8080/",
     "height": 1000
    },
    "id": "alb7aYRuQffN",
    "outputId": "0631b381-4e72-43e4-b403-015e1ccffb9f",
    "scrolled": true
   },
   "outputs": [
    {
     "data": {
      "text/plain": [
       "<matplotlib.axes._subplots.AxesSubplot at 0x7f82ba7e7a20>"
      ]
     },
     "execution_count": 18,
     "metadata": {
      "tags": []
     },
     "output_type": "execute_result"
    },
    {
     "data": {
      "image/png": "[encoded data removed]",
      "text/plain": [
       "<Figure size 1800x1080 with 1 Axes>"
      ]
     },
     "metadata": {
      "tags": []
     },
     "output_type": "display_data"
    },
    {
     "data": {
      "image/png": "[encoded data removed]",
      "text/plain": [
       "<Figure size 1080x360 with 1 Axes>"
      ]
     },
     "metadata": {
      "tags": []
     },
     "output_type": "display_data"
    },
    {
     "data": {
      "image/png": "[encoded data removed]",
      "text/plain": [
       "<Figure size 1080x360 with 1 Axes>"
      ]
     },
     "metadata": {
      "tags": []
     },
     "output_type": "display_data"
    }
   ],
   "source": [
    "#pie\n",
    "nbart[['Nom']].plot.pie(y='Nom',figsize=(25,15))\n",
    "nbino[['Nom']].plot.pie(y='Nom',figsize=(15,5))\n",
    "nbgest[['Nom']].plot.pie(y='Nom',figsize=(15,5))"
   ]
  },
  {
   "cell_type": "code",
   "execution_count": 19,
   "metadata": {
    "colab": {
     "base_uri": "https://localhost:8080/",
     "height": 865
    },
    "id": "SmhP7kP9QffO",
    "outputId": "bcee818d-c32a-4c9a-d14a-31c87f1c813c",
    "scrolled": true
   },
   "outputs": [
    {
     "data": {
      "text/plain": [
       "<matplotlib.axes._subplots.AxesSubplot at 0x7f82b8ec47b8>"
      ]
     },
     "execution_count": 19,
     "metadata": {
      "tags": []
     },
     "output_type": "execute_result"
    },
    {
     "data": {
      "image/png": "[encoded data removed]",
      "text/plain": [
       "<Figure size 432x288 with 1 Axes>"
      ]
     },
     "metadata": {
      "needs_background": "light",
      "tags": []
     },
     "output_type": "display_data"
    },
    {
     "data": {
      "image/png": "[encoded data removed]",
      "text/plain": [
       "<Figure size 432x288 with 1 Axes>"
      ]
     },
     "metadata": {
      "needs_background": "light",
      "tags": []
     },
     "output_type": "display_data"
    },
    {
     "data": {
      "image/png": "[encoded data removed]",
      "text/plain": [
       "<Figure size 432x288 with 1 Axes>"
      ]
     },
     "metadata": {
      "needs_background": "light",
      "tags": []
     },
     "output_type": "display_data"
    }
   ],
   "source": [
    "nbart[['Nom']].plot(y='Nom',kind='bar')\n",
    "nbino[['Nom']].plot(y='Nom',kind='bar')\n",
    "nbgest[['Nom']].plot(y='Nom',kind='bar')"
   ]
  },
  {
   "cell_type": "code",
   "execution_count": 20,
   "metadata": {
    "id": "QQfoIkDiQffO"
   },
   "outputs": [],
   "source": [
    "import matplotlib.pyplot as plt"
   ]
  },
  {
   "cell_type": "code",
   "execution_count": 21,
   "metadata": {
    "colab": {
     "base_uri": "https://localhost:8080/",
     "height": 491
    },
    "id": "fO6MKLvFQffO",
    "outputId": "2b3b5a82-6093-4677-dbf3-297925f40616"
   },
   "outputs": [
    {
     "data": {
      "text/html": [
       "<div>\n",
       "<style scoped>\n",
       "    .dataframe tbody tr th:only-of-type {\n",
       "        vertical-align: middle;\n",
       "    }\n",
       "\n",
       "    .dataframe tbody tr th {\n",
       "        vertical-align: top;\n",
       "    }\n",
       "\n",
       "    .dataframe thead th {\n",
       "        text-align: right;\n",
       "    }\n",
       "</style>\n",
       "<table border=\"1\" class=\"dataframe\">\n",
       "  <thead>\n",
       "    <tr style=\"text-align: right;\">\n",
       "      <th></th>\n",
       "      <th></th>\n",
       "      <th>Nom</th>\n",
       "      <th>URL</th>\n",
       "      <th>src_url</th>\n",
       "      <th>art_theme</th>\n",
       "      <th>art</th>\n",
       "    </tr>\n",
       "    <tr>\n",
       "      <th>ino</th>\n",
       "      <th>gest</th>\n",
       "      <th></th>\n",
       "      <th></th>\n",
       "      <th></th>\n",
       "      <th></th>\n",
       "      <th></th>\n",
       "    </tr>\n",
       "  </thead>\n",
       "  <tbody>\n",
       "    <tr>\n",
       "      <th>Ia</th>\n",
       "      <th>Ga</th>\n",
       "      <td>24</td>\n",
       "      <td>24</td>\n",
       "      <td>24</td>\n",
       "      <td>24</td>\n",
       "      <td>24</td>\n",
       "    </tr>\n",
       "    <tr>\n",
       "      <th>Ib</th>\n",
       "      <th>Ga</th>\n",
       "      <td>12</td>\n",
       "      <td>12</td>\n",
       "      <td>12</td>\n",
       "      <td>12</td>\n",
       "      <td>12</td>\n",
       "    </tr>\n",
       "    <tr>\n",
       "      <th rowspan=\"2\" valign=\"top\">Ia</th>\n",
       "      <th>Gb</th>\n",
       "      <td>11</td>\n",
       "      <td>11</td>\n",
       "      <td>10</td>\n",
       "      <td>11</td>\n",
       "      <td>11</td>\n",
       "    </tr>\n",
       "    <tr>\n",
       "      <th>Gc</th>\n",
       "      <td>8</td>\n",
       "      <td>8</td>\n",
       "      <td>8</td>\n",
       "      <td>8</td>\n",
       "      <td>8</td>\n",
       "    </tr>\n",
       "    <tr>\n",
       "      <th>Ic</th>\n",
       "      <th>Ga</th>\n",
       "      <td>7</td>\n",
       "      <td>7</td>\n",
       "      <td>7</td>\n",
       "      <td>7</td>\n",
       "      <td>7</td>\n",
       "    </tr>\n",
       "    <tr>\n",
       "      <th>Ib</th>\n",
       "      <th>Gc</th>\n",
       "      <td>6</td>\n",
       "      <td>6</td>\n",
       "      <td>6</td>\n",
       "      <td>6</td>\n",
       "      <td>6</td>\n",
       "    </tr>\n",
       "    <tr>\n",
       "      <th>Ic</th>\n",
       "      <th>Gc</th>\n",
       "      <td>5</td>\n",
       "      <td>5</td>\n",
       "      <td>5</td>\n",
       "      <td>5</td>\n",
       "      <td>5</td>\n",
       "    </tr>\n",
       "    <tr>\n",
       "      <th>Ia</th>\n",
       "      <th>Gd</th>\n",
       "      <td>4</td>\n",
       "      <td>4</td>\n",
       "      <td>4</td>\n",
       "      <td>4</td>\n",
       "      <td>4</td>\n",
       "    </tr>\n",
       "    <tr>\n",
       "      <th>Id</th>\n",
       "      <th>Ga</th>\n",
       "      <td>3</td>\n",
       "      <td>3</td>\n",
       "      <td>3</td>\n",
       "      <td>3</td>\n",
       "      <td>3</td>\n",
       "    </tr>\n",
       "    <tr>\n",
       "      <th>Ib</th>\n",
       "      <th>Gb</th>\n",
       "      <td>2</td>\n",
       "      <td>2</td>\n",
       "      <td>2</td>\n",
       "      <td>2</td>\n",
       "      <td>2</td>\n",
       "    </tr>\n",
       "    <tr>\n",
       "      <th rowspan=\"2\" valign=\"top\">Ic</th>\n",
       "      <th>Gb</th>\n",
       "      <td>1</td>\n",
       "      <td>1</td>\n",
       "      <td>1</td>\n",
       "      <td>1</td>\n",
       "      <td>1</td>\n",
       "    </tr>\n",
       "    <tr>\n",
       "      <th>Gd</th>\n",
       "      <td>1</td>\n",
       "      <td>1</td>\n",
       "      <td>1</td>\n",
       "      <td>1</td>\n",
       "      <td>1</td>\n",
       "    </tr>\n",
       "    <tr>\n",
       "      <th rowspan=\"2\" valign=\"top\">Id</th>\n",
       "      <th>Gb</th>\n",
       "      <td>1</td>\n",
       "      <td>1</td>\n",
       "      <td>1</td>\n",
       "      <td>1</td>\n",
       "      <td>1</td>\n",
       "    </tr>\n",
       "    <tr>\n",
       "      <th>Gc</th>\n",
       "      <td>1</td>\n",
       "      <td>1</td>\n",
       "      <td>1</td>\n",
       "      <td>1</td>\n",
       "      <td>1</td>\n",
       "    </tr>\n",
       "  </tbody>\n",
       "</table>\n",
       "</div>"
      ],
      "text/plain": [
       "          Nom  URL  src_url  art_theme  art\n",
       "ino gest                                   \n",
       "Ia  Ga     24   24       24         24   24\n",
       "Ib  Ga     12   12       12         12   12\n",
       "Ia  Gb     11   11       10         11   11\n",
       "    Gc      8    8        8          8    8\n",
       "Ic  Ga      7    7        7          7    7\n",
       "Ib  Gc      6    6        6          6    6\n",
       "Ic  Gc      5    5        5          5    5\n",
       "Ia  Gd      4    4        4          4    4\n",
       "Id  Ga      3    3        3          3    3\n",
       "Ib  Gb      2    2        2          2    2\n",
       "Ic  Gb      1    1        1          1    1\n",
       "    Gd      1    1        1          1    1\n",
       "Id  Gb      1    1        1          1    1\n",
       "    Gc      1    1        1          1    1"
      ]
     },
     "execution_count": 21,
     "metadata": {
      "tags": []
     },
     "output_type": "execute_result"
    }
   ],
   "source": [
    "#show the most useful words\n",
    "nuagepoint=df.groupby(['ino','gest']).count()\n",
    "nuagepoint.sort_values(by=['Nom'], inplace=True, ascending=False)\n",
    "nuagepoint"
   ]
  },
  {
   "cell_type": "code",
   "execution_count": 22,
   "metadata": {
    "colab": {
     "base_uri": "https://localhost:8080/",
     "height": 402
    },
    "id": "DptVcOnHQffP",
    "outputId": "3a913e8e-4707-4aab-8024-dc1cfc547fa3",
    "scrolled": true
   },
   "outputs": [
    {
     "data": {
      "text/html": [
       "<div>\n",
       "<style scoped>\n",
       "    .dataframe tbody tr th:only-of-type {\n",
       "        vertical-align: middle;\n",
       "    }\n",
       "\n",
       "    .dataframe tbody tr th {\n",
       "        vertical-align: top;\n",
       "    }\n",
       "\n",
       "    .dataframe thead th {\n",
       "        text-align: right;\n",
       "    }\n",
       "</style>\n",
       "<table border=\"1\" class=\"dataframe\">\n",
       "  <thead>\n",
       "    <tr style=\"text-align: right;\">\n",
       "      <th></th>\n",
       "      <th>ino</th>\n",
       "      <th>gest</th>\n",
       "      <th>art</th>\n",
       "    </tr>\n",
       "  </thead>\n",
       "  <tbody>\n",
       "    <tr>\n",
       "      <th>0</th>\n",
       "      <td>Ic</td>\n",
       "      <td>Gd</td>\n",
       "      <td>['Ic', 'Gd']</td>\n",
       "    </tr>\n",
       "    <tr>\n",
       "      <th>1</th>\n",
       "      <td>Ia</td>\n",
       "      <td>Ga</td>\n",
       "      <td>['Ia', 'Ga']</td>\n",
       "    </tr>\n",
       "    <tr>\n",
       "      <th>2</th>\n",
       "      <td>Id</td>\n",
       "      <td>Gb</td>\n",
       "      <td>['Id', 'Gb']</td>\n",
       "    </tr>\n",
       "    <tr>\n",
       "      <th>4</th>\n",
       "      <td>Ia</td>\n",
       "      <td>Gd</td>\n",
       "      <td>['Ia', 'Gd']</td>\n",
       "    </tr>\n",
       "    <tr>\n",
       "      <th>5</th>\n",
       "      <td>Ib</td>\n",
       "      <td>Ga</td>\n",
       "      <td>['Ib', 'Ga']</td>\n",
       "    </tr>\n",
       "    <tr>\n",
       "      <th>...</th>\n",
       "      <td>...</td>\n",
       "      <td>...</td>\n",
       "      <td>...</td>\n",
       "    </tr>\n",
       "    <tr>\n",
       "      <th>106</th>\n",
       "      <td>Ia</td>\n",
       "      <td>Ga</td>\n",
       "      <td>['Ia', 'Ga']</td>\n",
       "    </tr>\n",
       "    <tr>\n",
       "      <th>107</th>\n",
       "      <td>Ib</td>\n",
       "      <td>Ga</td>\n",
       "      <td>['Ib', 'Ga']</td>\n",
       "    </tr>\n",
       "    <tr>\n",
       "      <th>108</th>\n",
       "      <td>Ia</td>\n",
       "      <td>Gb</td>\n",
       "      <td>['Ia', 'Gb']</td>\n",
       "    </tr>\n",
       "    <tr>\n",
       "      <th>109</th>\n",
       "      <td>Ia</td>\n",
       "      <td>Ga</td>\n",
       "      <td>['Ia', 'Ga']</td>\n",
       "    </tr>\n",
       "    <tr>\n",
       "      <th>110</th>\n",
       "      <td>Ia</td>\n",
       "      <td>Gd</td>\n",
       "      <td>['Ia', 'Gd']</td>\n",
       "    </tr>\n",
       "  </tbody>\n",
       "</table>\n",
       "<p>86 rows × 3 columns</p>\n",
       "</div>"
      ],
      "text/plain": [
       "    ino gest           art\n",
       "0    Ic   Gd  ['Ic', 'Gd']\n",
       "1    Ia   Ga  ['Ia', 'Ga']\n",
       "2    Id   Gb  ['Id', 'Gb']\n",
       "4    Ia   Gd  ['Ia', 'Gd']\n",
       "5    Ib   Ga  ['Ib', 'Ga']\n",
       "..   ..  ...           ...\n",
       "106  Ia   Ga  ['Ia', 'Ga']\n",
       "107  Ib   Ga  ['Ib', 'Ga']\n",
       "108  Ia   Gb  ['Ia', 'Gb']\n",
       "109  Ia   Ga  ['Ia', 'Ga']\n",
       "110  Ia   Gd  ['Ia', 'Gd']\n",
       "\n",
       "[86 rows x 3 columns]"
      ]
     },
     "execution_count": 22,
     "metadata": {
      "tags": []
     },
     "output_type": "execute_result"
    }
   ],
   "source": [
    "dd = df[['ino','gest','art']]\n",
    "dd"
   ]
  },
  {
   "cell_type": "code",
   "execution_count": 23,
   "metadata": {
    "colab": {
     "base_uri": "https://localhost:8080/",
     "height": 462
    },
    "id": "UumdO-0vQffP",
    "outputId": "6ef97d9d-c8e8-4403-f941-c7549a3b4743",
    "scrolled": true
   },
   "outputs": [
    {
     "data": {
      "text/html": [
       "<div>\n",
       "<style scoped>\n",
       "    .dataframe tbody tr th:only-of-type {\n",
       "        vertical-align: middle;\n",
       "    }\n",
       "\n",
       "    .dataframe tbody tr th {\n",
       "        vertical-align: top;\n",
       "    }\n",
       "\n",
       "    .dataframe thead th {\n",
       "        text-align: right;\n",
       "    }\n",
       "</style>\n",
       "<table border=\"1\" class=\"dataframe\">\n",
       "  <thead>\n",
       "    <tr style=\"text-align: right;\">\n",
       "      <th></th>\n",
       "      <th>ino</th>\n",
       "      <th>gest</th>\n",
       "      <th>Number</th>\n",
       "    </tr>\n",
       "  </thead>\n",
       "  <tbody>\n",
       "    <tr>\n",
       "      <th>0</th>\n",
       "      <td>Ia</td>\n",
       "      <td>Ga</td>\n",
       "      <td>24</td>\n",
       "    </tr>\n",
       "    <tr>\n",
       "      <th>1</th>\n",
       "      <td>Ia</td>\n",
       "      <td>Gb</td>\n",
       "      <td>11</td>\n",
       "    </tr>\n",
       "    <tr>\n",
       "      <th>2</th>\n",
       "      <td>Ia</td>\n",
       "      <td>Gc</td>\n",
       "      <td>8</td>\n",
       "    </tr>\n",
       "    <tr>\n",
       "      <th>3</th>\n",
       "      <td>Ia</td>\n",
       "      <td>Gd</td>\n",
       "      <td>4</td>\n",
       "    </tr>\n",
       "    <tr>\n",
       "      <th>4</th>\n",
       "      <td>Ib</td>\n",
       "      <td>Ga</td>\n",
       "      <td>12</td>\n",
       "    </tr>\n",
       "    <tr>\n",
       "      <th>5</th>\n",
       "      <td>Ib</td>\n",
       "      <td>Gb</td>\n",
       "      <td>2</td>\n",
       "    </tr>\n",
       "    <tr>\n",
       "      <th>6</th>\n",
       "      <td>Ib</td>\n",
       "      <td>Gc</td>\n",
       "      <td>6</td>\n",
       "    </tr>\n",
       "    <tr>\n",
       "      <th>7</th>\n",
       "      <td>Ic</td>\n",
       "      <td>Ga</td>\n",
       "      <td>7</td>\n",
       "    </tr>\n",
       "    <tr>\n",
       "      <th>8</th>\n",
       "      <td>Ic</td>\n",
       "      <td>Gb</td>\n",
       "      <td>1</td>\n",
       "    </tr>\n",
       "    <tr>\n",
       "      <th>9</th>\n",
       "      <td>Ic</td>\n",
       "      <td>Gc</td>\n",
       "      <td>5</td>\n",
       "    </tr>\n",
       "    <tr>\n",
       "      <th>10</th>\n",
       "      <td>Ic</td>\n",
       "      <td>Gd</td>\n",
       "      <td>1</td>\n",
       "    </tr>\n",
       "    <tr>\n",
       "      <th>11</th>\n",
       "      <td>Id</td>\n",
       "      <td>Ga</td>\n",
       "      <td>3</td>\n",
       "    </tr>\n",
       "    <tr>\n",
       "      <th>12</th>\n",
       "      <td>Id</td>\n",
       "      <td>Gb</td>\n",
       "      <td>1</td>\n",
       "    </tr>\n",
       "    <tr>\n",
       "      <th>13</th>\n",
       "      <td>Id</td>\n",
       "      <td>Gc</td>\n",
       "      <td>1</td>\n",
       "    </tr>\n",
       "  </tbody>\n",
       "</table>\n",
       "</div>"
      ],
      "text/plain": [
       "   ino gest  Number\n",
       "0   Ia   Ga      24\n",
       "1   Ia   Gb      11\n",
       "2   Ia   Gc       8\n",
       "3   Ia   Gd       4\n",
       "4   Ib   Ga      12\n",
       "5   Ib   Gb       2\n",
       "6   Ib   Gc       6\n",
       "7   Ic   Ga       7\n",
       "8   Ic   Gb       1\n",
       "9   Ic   Gc       5\n",
       "10  Ic   Gd       1\n",
       "11  Id   Ga       3\n",
       "12  Id   Gb       1\n",
       "13  Id   Gc       1"
      ]
     },
     "execution_count": 23,
     "metadata": {
      "tags": []
     },
     "output_type": "execute_result"
    }
   ],
   "source": [
    "gg = dd.groupby(['ino','gest'],as_index=False).count().rename(columns={\"art\":\"Number\"})\n",
    "gg"
   ]
  },
  {
   "cell_type": "code",
   "execution_count": 24,
   "metadata": {
    "colab": {
     "base_uri": "https://localhost:8080/",
     "height": 195
    },
    "id": "e_fVyn8jQffP",
    "outputId": "642e95d6-3b55-4518-e759-a033e582aee0"
   },
   "outputs": [
    {
     "data": {
      "text/html": [
       "<div>\n",
       "<style scoped>\n",
       "    .dataframe tbody tr th:only-of-type {\n",
       "        vertical-align: middle;\n",
       "    }\n",
       "\n",
       "    .dataframe tbody tr th {\n",
       "        vertical-align: top;\n",
       "    }\n",
       "\n",
       "    .dataframe thead th {\n",
       "        text-align: right;\n",
       "    }\n",
       "</style>\n",
       "<table border=\"1\" class=\"dataframe\">\n",
       "  <thead>\n",
       "    <tr style=\"text-align: right;\">\n",
       "      <th>gest</th>\n",
       "      <th>Ga</th>\n",
       "      <th>Gb</th>\n",
       "      <th>Gc</th>\n",
       "      <th>Gd</th>\n",
       "    </tr>\n",
       "    <tr>\n",
       "      <th>ino</th>\n",
       "      <th></th>\n",
       "      <th></th>\n",
       "      <th></th>\n",
       "      <th></th>\n",
       "    </tr>\n",
       "  </thead>\n",
       "  <tbody>\n",
       "    <tr>\n",
       "      <th>Ia</th>\n",
       "      <td>24.0</td>\n",
       "      <td>11.0</td>\n",
       "      <td>8.0</td>\n",
       "      <td>4.0</td>\n",
       "    </tr>\n",
       "    <tr>\n",
       "      <th>Ib</th>\n",
       "      <td>12.0</td>\n",
       "      <td>2.0</td>\n",
       "      <td>6.0</td>\n",
       "      <td>0.0</td>\n",
       "    </tr>\n",
       "    <tr>\n",
       "      <th>Ic</th>\n",
       "      <td>7.0</td>\n",
       "      <td>1.0</td>\n",
       "      <td>5.0</td>\n",
       "      <td>1.0</td>\n",
       "    </tr>\n",
       "    <tr>\n",
       "      <th>Id</th>\n",
       "      <td>3.0</td>\n",
       "      <td>1.0</td>\n",
       "      <td>1.0</td>\n",
       "      <td>0.0</td>\n",
       "    </tr>\n",
       "  </tbody>\n",
       "</table>\n",
       "</div>"
      ],
      "text/plain": [
       "gest    Ga    Gb   Gc   Gd\n",
       "ino                       \n",
       "Ia    24.0  11.0  8.0  4.0\n",
       "Ib    12.0   2.0  6.0  0.0\n",
       "Ic     7.0   1.0  5.0  1.0\n",
       "Id     3.0   1.0  1.0  0.0"
      ]
     },
     "execution_count": 24,
     "metadata": {
      "tags": []
     },
     "output_type": "execute_result"
    }
   ],
   "source": [
    "#pivot words and values\n",
    "gp = gg.pivot(columns=\"gest\",index=\"ino\",values=\"Number\").fillna(0.0)\n",
    "gp"
   ]
  },
  {
   "cell_type": "code",
   "execution_count": 25,
   "metadata": {
    "id": "0hYEcuzoQffQ"
   },
   "outputs": [],
   "source": [
    "import seaborn as sns"
   ]
  },
  {
   "cell_type": "code",
   "execution_count": 26,
   "metadata": {
    "colab": {
     "base_uri": "https://localhost:8080/",
     "height": 296
    },
    "id": "wZKgNovkQffQ",
    "outputId": "c5a4d8d3-fa5c-417a-ee09-073ee086ce54"
   },
   "outputs": [
    {
     "data": {
      "text/plain": [
       "<matplotlib.axes._subplots.AxesSubplot at 0x7f82aa733358>"
      ]
     },
     "execution_count": 26,
     "metadata": {
      "tags": []
     },
     "output_type": "execute_result"
    },
    {
     "data": {
      "image/png": "[encoded data removed]",
      "text/plain": [
       "<Figure size 432x288 with 2 Axes>"
      ]
     },
     "metadata": {
      "needs_background": "light",
      "tags": []
     },
     "output_type": "display_data"
    }
   ],
   "source": [
    "# make a heatmap\n",
    "sns.heatmap(gp)"
   ]
  }
 ],
 "metadata": {
  "colab": {
   "collapsed_sections": [],
   "name": "g2_StatKeyWord_POC.ipynb",
   "provenance": []
  },
  "kernelspec": {
   "display_name": "Python 3",
   "language": "python",
   "name": "python3"
  },
  "language_info": {
   "codemirror_mode": {
    "name": "ipython",
    "version": 3
   },
   "file_extension": ".py",
   "mimetype": "text/x-python",
   "name": "python",
   "nbconvert_exporter": "python",
   "pygments_lexer": "ipython3",
   "version": "3.8.3"
  }
 },
 "nbformat": 4,
 "nbformat_minor": 1
}
