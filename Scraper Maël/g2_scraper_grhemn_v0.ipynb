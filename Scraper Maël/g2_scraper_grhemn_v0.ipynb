{
 "cells": [
  {
   "cell_type": "markdown",
   "metadata": {},
   "source": [
    "Created on Monday 04 January 2021  \n",
    "\n",
    "**Group 2 - Recherche de nouvelles sources**  \n",
    "**Scraping de site**\n",
    "\n",
    "@authors : Maël Lesavourey"
   ]
  },
  {
   "cell_type": "markdown",
   "metadata": {},
   "source": [
    "# Librairies"
   ]
  },
  {
   "cell_type": "code",
   "execution_count": null,
   "metadata": {},
   "outputs": [],
   "source": [
    "!pip install beautifulsoup4\n",
    "!pip install requests"
   ]
  },
  {
   "cell_type": "code",
   "execution_count": null,
   "metadata": {},
   "outputs": [],
   "source": [
    "import pandas as pd\n",
    "import requests\n",
    "from bs4 import BeautifulSoup\n",
    "import numpy as np\n",
    "import datetime"
   ]
  },
  {
   "cell_type": "markdown",
   "metadata": {},
   "source": [
    "# Scrapping with BeautifulSoup"
   ]
  },
  {
   "cell_type": "code",
   "execution_count": null,
   "metadata": {},
   "outputs": [],
   "source": [
    "url: str = 'https://grh-multi.net/fr/2016/05/compte-rendu-de-levenement-big-data-gpec/'"
   ]
  },
  {
   "cell_type": "code",
   "execution_count": null,
   "metadata": {},
   "outputs": [],
   "source": [
    "def get_article_info(soup) -> dict:\n",
    "    \"\"\"Documentation\n",
    "    This function extracts the article information from an html page.\n",
    "    Parameter:\n",
    "        soup: A BeautifulSoup object containing the html page.\n",
    "    Out:\n",
    "        infos: dictionary containing article information\n",
    "    \"\"\"\n",
    "    infos: dict = {}\n",
    "    infos['art_content'] = soup.find('div', {'id':'content'}).get_text()\n",
    "    infos['art_content_html'] = soup.find('div', {'id':'content'})\n",
    "    infos['art_published_datetime'] = datetime.datetime.strptime(\n",
    "        soup.find(\"meta\", {'property':'og:updated_time'})['content'],\n",
    "        '%Y-%m-%dT%H:%M:%S%z').date()\n",
    "    infos['art_lang'] = soup.html.attrs['lang']\n",
    "    infos['art_title'] = soup.title.name\n",
    "    infos['art_url'] = soup.find('link', {'rel':'canonical'})['href']\n",
    "    infos['art_img'] = soup.find('div', {'id':'content'}).find('img')['src']\n",
    "    infos['art_auth'] = np.NaN\n",
    "    infos['art_tag'] = np.NaN\n",
    "    return infos\n",
    "\n",
    "def get_src_info(soup) -> dict:\n",
    "    \"\"\"Documentation\n",
    "    This function extracts the source information from an html page.\n",
    "    Parameters:\n",
    "        soup: A BeautifulSoup object containing the html page.\n",
    "    Out:\n",
    "        infos: dictionary containing source information\n",
    "    \"\"\"\n",
    "    infos: dict = {}\n",
    "    infos['src_name'] = soup.find('meta', {'property':'og:site_name'})['content']\n",
    "    infos['src_type'] = 'xpath_source'\n",
    "    infos['src_url'] = soup.find('a', {'rel':'home'})['href']\n",
    "    return infos\n",
    "\n",
    "def all_infos(url: str) -> dict:\n",
    "    \"\"\"Documentation\n",
    "    This function creates a BeautifulSoup object from an url.\n",
    "    Then it calls the previous functions to get article and source information.\n",
    "    Parameters:\n",
    "        url: String which is the url of the article.\n",
    "    Out:\n",
    "        info: dictionary containing source and article information.\n",
    "    \"\"\"\n",
    "    #Create Soup objet containing html page\n",
    "    response = requests.get(url)\n",
    "    soup = BeautifulSoup(response.text, 'html.parser')\n",
    "    #Build and return infos dict with previous functions\n",
    "    info = get_article_info(soup)\n",
    "    info.update(get_src_info(soup))\n",
    "    return info"
   ]
  }
 ],
 "metadata": {
  "kernelspec": {
   "display_name": "Python 3",
   "language": "python",
   "name": "python3"
  },
  "language_info": {
   "codemirror_mode": {
    "name": "ipython",
    "version": 3
   },
   "file_extension": ".py",
   "mimetype": "text/x-python",
   "name": "python",
   "nbconvert_exporter": "python",
   "pygments_lexer": "ipython3",
   "version": "3.7.3"
  }
 },
 "nbformat": 4,
 "nbformat_minor": 2
}
