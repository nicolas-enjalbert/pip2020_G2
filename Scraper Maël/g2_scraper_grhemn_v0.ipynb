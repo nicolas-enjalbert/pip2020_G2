{
 "cells": [
  {
   "cell_type": "markdown",
   "metadata": {},
   "source": [
    "Created on Monday 04 January 2021  \n",
    "\n",
    "**Group 2 - Recherche de nouvelles sources**  \n",
    "**Scraping de site** (Title)\n",
    "\n",
    "@authors : Maël Lesavourey"
   ]
  },
  {
   "cell_type": "markdown",
   "metadata": {},
   "source": [
    "# Librairies"
   ]
  },
  {
   "cell_type": "code",
   "execution_count": 4,
   "metadata": {},
   "outputs": [
    {
     "name": "stdout",
     "output_type": "stream",
     "text": [
      "Requirement already satisfied: beautifulsoup4 in ./anaconda3/lib/python3.7/site-packages (4.7.1)\n",
      "Requirement already satisfied: soupsieve>=1.2 in ./anaconda3/lib/python3.7/site-packages (from beautifulsoup4) (1.8)\n",
      "Requirement already satisfied: requests in ./anaconda3/lib/python3.7/site-packages (2.22.0)\n",
      "Requirement already satisfied: idna<2.9,>=2.5 in ./anaconda3/lib/python3.7/site-packages (from requests) (2.8)\n",
      "Requirement already satisfied: chardet<3.1.0,>=3.0.2 in ./anaconda3/lib/python3.7/site-packages (from requests) (3.0.4)\n",
      "Requirement already satisfied: certifi>=2017.4.17 in ./anaconda3/lib/python3.7/site-packages (from requests) (2019.6.16)\n",
      "Requirement already satisfied: urllib3!=1.25.0,!=1.25.1,<1.26,>=1.21.1 in ./anaconda3/lib/python3.7/site-packages (from requests) (1.24.2)\n"
     ]
    }
   ],
   "source": [
    "!pip install beautifulsoup4\n",
    "!pip install requests"
   ]
  },
  {
   "cell_type": "code",
   "execution_count": 42,
   "metadata": {
    "collapsed": true
   },
   "outputs": [],
   "source": [
    "import pandas as pd\n",
    "import requests\n",
    "from bs4 import BeautifulSoup\n",
    "import numpy as np"
   ]
  },
  {
   "cell_type": "markdown",
   "metadata": {},
   "source": [
    "# Scrapping with BeautifulSoup"
   ]
  },
  {
   "cell_type": "code",
   "execution_count": 68,
   "metadata": {
    "collapsed": true
   },
   "outputs": [],
   "source": [
    "url: str = 'https://grh-multi.net/fr/2016/05/compte-rendu-de-levenement-big-data-gpec/'"
   ]
  },
  {
   "cell_type": "code",
   "execution_count": 78,
   "metadata": {
    "collapsed": true
   },
   "outputs": [],
   "source": [
    "def get_article_info(soup) -> float:\n",
    "    \"\"\"Documentation\n",
    "    Parameter:\n",
    "        soup: A BeautifulSoup object containing the html page.\n",
    "    Out:\n",
    "        infos: dictionary containing article information\n",
    "    \"\"\"\n",
    "    infos: dict = {}\n",
    "    infos['art_content'] = soup.find('div', {'id':'content'}).get_text()\n",
    "    infos['art_content_html'] = soup.find('div', {'id':'content'})\n",
    "    infos['art_extract_datetime'] = soup.find(\"meta\", {'property':'og:updated_time'})['content']\n",
    "    infos['art_lang'] = soup.html.attrs['lang']\n",
    "    infos['art_title'] = soup.title.name\n",
    "    infos['art_url'] = soup.find('link', {'rel':'canonical'})['href']\n",
    "    infos['art_auth'] = np.NaN\n",
    "    infos['art_tag'] = np.NaN\n",
    "    return infos\n",
    "\n",
    "def get_src_info(soup) -> float:\n",
    "    \"\"\"Documentation\n",
    "    Parameters:\n",
    "        soup: A BeautifulSoup object containing the html page.\n",
    "    Out:\n",
    "        infos: dictionary containing source information\n",
    "    \"\"\"\n",
    "    infos: dict = {}\n",
    "    infos['src_name'] = soup.find('meta', {'property':'og:site_name'})['content']\n",
    "    infos['src_type'] = 'xpath_source'\n",
    "    infos['src_url'] = soup.find('a', {'rel':'home'})['href']\n",
    "    infos['src_img'] = soup.find('div', {'id':'content'}).find('img')['src']\n",
    "    return infos\n",
    "\n",
    "def all_infos(url: str) -> dict:\n",
    "    \"\"\"Documentation\n",
    "    Parameters:\n",
    "        url: String which is the url of the article.\n",
    "    Out:\n",
    "        infos: dictionary containing source and article information.\n",
    "    \"\"\"\n",
    "    #Create Soup objet containing html page\n",
    "    response = requests.get(url)\n",
    "    soup = BeautifulSoup(response.text, 'html.parser')\n",
    "    #Build and return infos dict with previous functions\n",
    "    infos = get_article_info(soup)\n",
    "    infos.update(get_src_info(soup))\n",
    "    return infos"
   ]
  }
 ],
 "metadata": {
  "kernelspec": {
   "display_name": "Python 3",
   "language": "python",
   "name": "python3"
  },
  "language_info": {
   "codemirror_mode": {
    "name": "ipython",
    "version": 3
   },
   "file_extension": ".py",
   "mimetype": "text/x-python",
   "name": "python",
   "nbconvert_exporter": "python",
   "pygments_lexer": "ipython3",
   "version": "3.7.3"
  }
 },
 "nbformat": 4,
 "nbformat_minor": 2
}
