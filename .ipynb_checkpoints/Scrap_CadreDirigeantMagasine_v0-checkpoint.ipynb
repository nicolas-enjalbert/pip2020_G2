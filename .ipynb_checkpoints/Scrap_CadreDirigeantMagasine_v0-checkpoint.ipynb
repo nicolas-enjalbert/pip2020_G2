{
 "cells": [
  {
   "cell_type": "code",
   "execution_count": 55,
   "metadata": {},
   "outputs": [],
   "source": [
    "import requests\n",
    "import numpy as np\n",
    "import pandas as pd\n",
    "from bs4 import BeautifulSoup as bs"
   ]
  },
  {
   "cell_type": "code",
   "execution_count": 56,
   "metadata": {},
   "outputs": [
    {
     "data": {
      "text/html": [
       "<div>\n",
       "<style scoped>\n",
       "    .dataframe tbody tr th:only-of-type {\n",
       "        vertical-align: middle;\n",
       "    }\n",
       "\n",
       "    .dataframe tbody tr th {\n",
       "        vertical-align: top;\n",
       "    }\n",
       "\n",
       "    .dataframe thead th {\n",
       "        text-align: right;\n",
       "    }\n",
       "</style>\n",
       "<table border=\"1\" class=\"dataframe\">\n",
       "  <thead>\n",
       "    <tr style=\"text-align: right;\">\n",
       "      <th></th>\n",
       "      <th>art_content</th>\n",
       "      <th>art_content_html</th>\n",
       "      <th>art_extract_datetime</th>\n",
       "      <th>art_lang</th>\n",
       "      <th>art_title</th>\n",
       "      <th>art_url</th>\n",
       "      <th>src_name</th>\n",
       "      <th>src_type</th>\n",
       "      <th>src_url</th>\n",
       "      <th>src_img</th>\n",
       "      <th>art_auth</th>\n",
       "      <th>art_tag</th>\n",
       "    </tr>\n",
       "  </thead>\n",
       "  <tbody>\n",
       "  </tbody>\n",
       "</table>\n",
       "</div>"
      ],
      "text/plain": [
       "Empty DataFrame\n",
       "Columns: [art_content, art_content_html, art_extract_datetime, art_lang, art_title, art_url, src_name, src_type, src_url, src_img, art_auth, art_tag]\n",
       "Index: []"
      ]
     },
     "execution_count": 56,
     "metadata": {},
     "output_type": "execute_result"
    }
   ],
   "source": [
    "df_scrap = pd.DataFrame(columns=['art_content','art_content_html','art_extract_datetime','art_lang','art_title','art_url','src_name','src_type','src_url','src_img','art_auth','art_tag']  )\n",
    "df_scrap"
   ]
  },
  {
   "cell_type": "code",
   "execution_count": 57,
   "metadata": {},
   "outputs": [],
   "source": [
    "url = \"https://www.cadre-dirigeant-magazine.com/manager/la-recherche-operationnelle-un-formidable-outil-daide-a-la-decision/\""
   ]
  },
  {
   "cell_type": "code",
   "execution_count": 58,
   "metadata": {},
   "outputs": [],
   "source": [
    "def getSoup(url):\n",
    "    response = requests.get(url)\n",
    "    print(\"statut de la reponse \", response.status_code)\n",
    "    print('\\n')\n",
    "    soup = bs(response.text, 'html.parser')\n",
    "    return soup"
   ]
  },
  {
   "cell_type": "code",
   "execution_count": 59,
   "metadata": {},
   "outputs": [
    {
     "name": "stdout",
     "output_type": "stream",
     "text": [
      "statut de la reponse  200\n",
      "\n",
      "\n"
     ]
    }
   ],
   "source": [
    "soup = getSoup(url)"
   ]
  },
  {
   "cell_type": "code",
   "execution_count": 77,
   "metadata": {},
   "outputs": [],
   "source": [
    "def scrapPage(soup):\n",
    "    #Récupération du contenu de la page web (les paragraphes, avec et sans les balises html)\n",
    "    art_content_html = soup.find('div', class_ = 'td-post-content').find_all('p')\n",
    "    art_content = \"\".join([x.text for x in art_content_html])\n",
    "    \n",
    "    #Extraction de la date de l'article\n",
    "    art_extract_datetime = soup.find('meta', property = \"article:modified_time\").get('content')\n",
    "    \n",
    "    #Langue de l'article\n",
    "    art_lang = soup.find('meta', property = \"og:locale\").get('content')\n",
    "    \n",
    "    #Titre\n",
    "    art_title = soup.find('meta', property = \"og:title\").get('content')\n",
    "    \n",
    "    #Url\n",
    "    art_url = soup.find('link', rel = 'canonical').get('href')\n",
    "    \n",
    "    #Nom de la source\n",
    "    src_name = art_title = soup.find('meta', property = \"og:site_name\").get('content')\n",
    "    \n",
    "    #Type de la source\n",
    "    src_type = \"xpath_source\"\n",
    "    \n",
    "    #url source\n",
    "    src_url = soup.find('form', class_ = 'td-search-form').get('action')\n",
    "    \n",
    "    #Image(s)\n",
    "    src_img = art_title = soup.find('meta', property = \"og:image\").get('content')\n",
    "    \n",
    "    #Auteur de l'article\n",
    "    art_auth = soup.find('div', class_ = \"td-post-author-name\").text\n",
    "    \n",
    "    #Tag de l'auteur\n",
    "    art_tag = np.nan\n",
    "    \n",
    "    return art_content, art_content_html, art_extract_datetime, art_lang, art_title, art_url, src_name, src_type, src_url, src_img, art_auth, art_tag"
   ]
  },
  {
   "cell_type": "code",
   "execution_count": 79,
   "metadata": {},
   "outputs": [
    {
     "data": {
      "text/html": [
       "<div>\n",
       "<style scoped>\n",
       "    .dataframe tbody tr th:only-of-type {\n",
       "        vertical-align: middle;\n",
       "    }\n",
       "\n",
       "    .dataframe tbody tr th {\n",
       "        vertical-align: top;\n",
       "    }\n",
       "\n",
       "    .dataframe thead th {\n",
       "        text-align: right;\n",
       "    }\n",
       "</style>\n",
       "<table border=\"1\" class=\"dataframe\">\n",
       "  <thead>\n",
       "    <tr style=\"text-align: right;\">\n",
       "      <th></th>\n",
       "      <th>art_content</th>\n",
       "      <th>art_content_html</th>\n",
       "      <th>art_extract_datetime</th>\n",
       "      <th>art_lang</th>\n",
       "      <th>art_title</th>\n",
       "      <th>art_url</th>\n",
       "      <th>src_name</th>\n",
       "      <th>src_type</th>\n",
       "      <th>src_url</th>\n",
       "      <th>src_img</th>\n",
       "      <th>art_auth</th>\n",
       "      <th>art_tag</th>\n",
       "    </tr>\n",
       "  </thead>\n",
       "  <tbody>\n",
       "    <tr>\n",
       "      <th>1</th>\n",
       "      <td>La recherche opérationnelle recouvre des métho...</td>\n",
       "      <td>[[La recherche opérationnelle recouvre des mét...</td>\n",
       "      <td>2020-06-18T13:10:34+00:00</td>\n",
       "      <td>fr_FR</td>\n",
       "      <td>https://www.cadre-dirigeant-magazine.com/wp-co...</td>\n",
       "      <td>https://www.cadre-dirigeant-magazine.com/manag...</td>\n",
       "      <td>Cadre &amp; Dirigeant Magazine</td>\n",
       "      <td>xpath_source</td>\n",
       "      <td>https://www.cadre-dirigeant-magazine.com/</td>\n",
       "      <td>https://www.cadre-dirigeant-magazine.com/wp-co...</td>\n",
       "      <td>Par Andre Litali, rédacteur de contenus éditor...</td>\n",
       "      <td>NaN</td>\n",
       "    </tr>\n",
       "  </tbody>\n",
       "</table>\n",
       "</div>"
      ],
      "text/plain": [
       "                                         art_content  \\\n",
       "1  La recherche opérationnelle recouvre des métho...   \n",
       "\n",
       "                                    art_content_html  \\\n",
       "1  [[La recherche opérationnelle recouvre des mét...   \n",
       "\n",
       "        art_extract_datetime art_lang  \\\n",
       "1  2020-06-18T13:10:34+00:00    fr_FR   \n",
       "\n",
       "                                           art_title  \\\n",
       "1  https://www.cadre-dirigeant-magazine.com/wp-co...   \n",
       "\n",
       "                                             art_url  \\\n",
       "1  https://www.cadre-dirigeant-magazine.com/manag...   \n",
       "\n",
       "                     src_name      src_type  \\\n",
       "1  Cadre & Dirigeant Magazine  xpath_source   \n",
       "\n",
       "                                     src_url  \\\n",
       "1  https://www.cadre-dirigeant-magazine.com/   \n",
       "\n",
       "                                             src_img  \\\n",
       "1  https://www.cadre-dirigeant-magazine.com/wp-co...   \n",
       "\n",
       "                                            art_auth art_tag  \n",
       "1  Par Andre Litali, rédacteur de contenus éditor...     NaN  "
      ]
     },
     "execution_count": 79,
     "metadata": {},
     "output_type": "execute_result"
    }
   ],
   "source": [
    "df_scrap.loc[1]=scrapPage(soup)\n",
    "df_scrap"
   ]
  }
 ],
 "metadata": {
  "kernelspec": {
   "display_name": "Python 3",
   "language": "python",
   "name": "python3"
  },
  "language_info": {
   "codemirror_mode": {
    "name": "ipython",
    "version": 3
   },
   "file_extension": ".py",
   "mimetype": "text/x-python",
   "name": "python",
   "nbconvert_exporter": "python",
   "pygments_lexer": "ipython3",
   "version": "3.7.3"
  }
 },
 "nbformat": 4,
 "nbformat_minor": 4
}
