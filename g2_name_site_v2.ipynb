{
 "cells": [
  {
   "cell_type": "code",
   "execution_count": 44,
   "metadata": {},
   "outputs": [],
   "source": [
    "#function to extract the name of a site from a url\n",
    "def site_name(url):\n",
    "    site=url.split(\"://\")\n",
    "    \n",
    "    #keep everything on the right side of \"https://\"\"\n",
    "    if site[0]==\"https\" or site[0]==\"http\":\n",
    "        nomsite=site[1]\n",
    "    else:\n",
    "        nomsite=site[0]\n",
    "    \n",
    "    #delete everything after the first \"/\"\n",
    "    tab=nomsite.split(\"/\")\n",
    "    nomsite=tab[0]\n",
    "    \n",
    "    \n",
    "    #delete www. , www2. etc.\n",
    "    sitename=\"\"\n",
    "    if \"www\" in nomsite:\n",
    "        tab=nomsite.split(\".\")\n",
    "        for i in range(len(tab)-1):\n",
    "            sitename=sitename+\".\"+str(tab[i+1])\n",
    "        sitename=sitename[1:]\n",
    "    else:\n",
    "        sitename=nomsite\n",
    "    \n",
    "    #remove extensions\n",
    "    liste=[\"fr.\",\".org\",\".fr\",\".eu\",\".net\",\".com\"]\n",
    "    \n",
    "    for i in liste:\n",
    "        sitename = sitename.replace(i, \"\")\n",
    "    \n",
    "    return(sitename)\n",
    "    "
   ]
  },
  {
   "cell_type": "code",
   "execution_count": 50,
   "metadata": {},
   "outputs": [
    {
     "data": {
      "text/plain": [
       "'hal.et.e.ts.archives-ouvertes.sdf.sd'"
      ]
     },
     "execution_count": 50,
     "metadata": {},
     "output_type": "execute_result"
    }
   ],
   "source": [
    "site_name(\"https://www1.hal.et.e.ts.archives-ouvertes.sdf.sd.fr/index\")"
   ]
  }
 ],
 "metadata": {
  "kernelspec": {
   "display_name": "Python 3",
   "language": "python",
   "name": "python3"
  },
  "language_info": {
   "codemirror_mode": {
    "name": "ipython",
    "version": 3
   },
   "file_extension": ".py",
   "mimetype": "text/x-python",
   "name": "python",
   "nbconvert_exporter": "python",
   "pygments_lexer": "ipython3",
   "version": "3.7.3"
  }
 },
 "nbformat": 4,
 "nbformat_minor": 2
}
