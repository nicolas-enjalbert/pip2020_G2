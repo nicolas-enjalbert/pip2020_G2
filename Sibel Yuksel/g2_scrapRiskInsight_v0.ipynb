{
 "cells": [
  {
   "cell_type": "code",
   "execution_count": 1,
   "metadata": {},
   "outputs": [
    {
     "data": {
      "text/plain": [
       "'Created on Monday Jan 6 11:03:00 \\n2019 Group 2\\n@authors: Sibel Yuksel'"
      ]
     },
     "execution_count": 1,
     "metadata": {},
     "output_type": "execute_result"
    }
   ],
   "source": [
    "\"\"\"Created on Monday Jan 6 11:03:00 \n",
    "2019 Group 2\n",
    "@authors: Sibel Yuksel\"\"\""
   ]
  },
  {
   "cell_type": "code",
   "execution_count": 2,
   "metadata": {},
   "outputs": [
    {
     "name": "stdout",
     "output_type": "stream",
     "text": [
      "Requirement already satisfied: textblob in c:\\users\\y-sib\\anaconda3\\lib\\site-packages (0.15.3)\n",
      "Requirement already satisfied: nltk>=3.1 in c:\\users\\y-sib\\anaconda3\\lib\\site-packages (from textblob) (3.5)\n",
      "Requirement already satisfied: joblib in c:\\users\\y-sib\\anaconda3\\lib\\site-packages (from nltk>=3.1->textblob) (0.16.0)\n",
      "Requirement already satisfied: tqdm in c:\\users\\y-sib\\anaconda3\\lib\\site-packages (from nltk>=3.1->textblob) (4.47.0)\n",
      "Requirement already satisfied: click in c:\\users\\y-sib\\anaconda3\\lib\\site-packages (from nltk>=3.1->textblob) (7.1.2)\n",
      "Requirement already satisfied: regex in c:\\users\\y-sib\\anaconda3\\lib\\site-packages (from nltk>=3.1->textblob) (2020.6.8)\n"
     ]
    }
   ],
   "source": [
    "!pip install textblob"
   ]
  },
  {
   "cell_type": "code",
   "execution_count": 15,
   "metadata": {},
   "outputs": [],
   "source": [
    "import pandas as pd\n",
    "import numpy as np\n",
    "import requests\n",
    "from bs4 import BeautifulSoup\n",
    "from textblob import TextBlob"
   ]
  },
  {
   "cell_type": "code",
   "execution_count": 16,
   "metadata": {},
   "outputs": [
    {
     "data": {
      "text/html": [
       "<div>\n",
       "<style scoped>\n",
       "    .dataframe tbody tr th:only-of-type {\n",
       "        vertical-align: middle;\n",
       "    }\n",
       "\n",
       "    .dataframe tbody tr th {\n",
       "        vertical-align: top;\n",
       "    }\n",
       "\n",
       "    .dataframe thead th {\n",
       "        text-align: right;\n",
       "    }\n",
       "</style>\n",
       "<table border=\"1\" class=\"dataframe\">\n",
       "  <thead>\n",
       "    <tr style=\"text-align: right;\">\n",
       "      <th></th>\n",
       "      <th>art_content</th>\n",
       "      <th>art_content_html</th>\n",
       "      <th>art_extract_datetime</th>\n",
       "      <th>art_lang</th>\n",
       "      <th>art_title</th>\n",
       "      <th>art_url</th>\n",
       "      <th>src_name</th>\n",
       "      <th>src_type</th>\n",
       "      <th>src_url</th>\n",
       "      <th>src_img</th>\n",
       "      <th>art_auth</th>\n",
       "      <th>art_tag</th>\n",
       "    </tr>\n",
       "  </thead>\n",
       "  <tbody>\n",
       "  </tbody>\n",
       "</table>\n",
       "</div>"
      ],
      "text/plain": [
       "Empty DataFrame\n",
       "Columns: [art_content, art_content_html, art_extract_datetime, art_lang, art_title, art_url, src_name, src_type, src_url, src_img, art_auth, art_tag]\n",
       "Index: []"
      ]
     },
     "execution_count": 16,
     "metadata": {},
     "output_type": "execute_result"
    }
   ],
   "source": [
    "df = pd.DataFrame(columns=['art_content','art_content_html','art_extract_datetime','art_lang','art_title','art_url','src_name','src_type','src_url','src_img','art_auth','art_tag']  )\n",
    "df"
   ]
  },
  {
   "cell_type": "code",
   "execution_count": 17,
   "metadata": {},
   "outputs": [
    {
     "data": {
      "text/html": [
       "<div>\n",
       "<style scoped>\n",
       "    .dataframe tbody tr th:only-of-type {\n",
       "        vertical-align: middle;\n",
       "    }\n",
       "\n",
       "    .dataframe tbody tr th {\n",
       "        vertical-align: top;\n",
       "    }\n",
       "\n",
       "    .dataframe thead th {\n",
       "        text-align: right;\n",
       "    }\n",
       "</style>\n",
       "<table border=\"1\" class=\"dataframe\">\n",
       "  <thead>\n",
       "    <tr style=\"text-align: right;\">\n",
       "      <th></th>\n",
       "      <th>art_content</th>\n",
       "      <th>art_content_html</th>\n",
       "      <th>art_extract_datetime</th>\n",
       "      <th>art_lang</th>\n",
       "      <th>art_title</th>\n",
       "      <th>art_url</th>\n",
       "      <th>src_name</th>\n",
       "      <th>src_type</th>\n",
       "      <th>src_url</th>\n",
       "      <th>src_img</th>\n",
       "      <th>art_auth</th>\n",
       "      <th>art_tag</th>\n",
       "    </tr>\n",
       "  </thead>\n",
       "  <tbody>\n",
       "    <tr>\n",
       "      <th>0</th>\n",
       "      <td>Vous êtes ici \\nCyber for Financial Services\\n...</td>\n",
       "      <td>&lt;p class=\"breadcrumb--title visually-hidden\"&gt;V...</td>\n",
       "      <td>2019-12-31</td>\n",
       "      <td>fr</td>\n",
       "      <td>Quelles limitations à l’efficacité de la DSP2 ...</td>\n",
       "      <td>https://www.riskinsight-wavestone.com/2019/01/...</td>\n",
       "      <td>RiskInsight</td>\n",
       "      <td>xpath_source</td>\n",
       "      <td>https://www.riskinsight-wavestone.com/</td>\n",
       "      <td>https://www.riskinsight-wavestone.com/wp-conte...</td>\n",
       "      <td>Bertrand Carlier</td>\n",
       "      <td>[Banque, conformité, financial services cyber,...</td>\n",
       "    </tr>\n",
       "  </tbody>\n",
       "</table>\n",
       "</div>"
      ],
      "text/plain": [
       "                                         art_content  \\\n",
       "0  Vous êtes ici \\nCyber for Financial Services\\n...   \n",
       "\n",
       "                                    art_content_html art_extract_datetime  \\\n",
       "0  <p class=\"breadcrumb--title visually-hidden\">V...           2019-12-31   \n",
       "\n",
       "  art_lang                                          art_title  \\\n",
       "0       fr  Quelles limitations à l’efficacité de la DSP2 ...   \n",
       "\n",
       "                                             art_url     src_name  \\\n",
       "0  https://www.riskinsight-wavestone.com/2019/01/...  RiskInsight   \n",
       "\n",
       "       src_type                                 src_url  \\\n",
       "0  xpath_source  https://www.riskinsight-wavestone.com/   \n",
       "\n",
       "                                             src_img          art_auth  \\\n",
       "0  https://www.riskinsight-wavestone.com/wp-conte...  Bertrand Carlier   \n",
       "\n",
       "                                             art_tag  \n",
       "0  [Banque, conformité, financial services cyber,...  "
      ]
     },
     "execution_count": 17,
     "metadata": {},
     "output_type": "execute_result"
    }
   ],
   "source": [
    "url1 = 'https://www.riskinsight-wavestone.com/2019/08/detecter-incidents-machine-learning/'\n",
    "url2 = \"https://www.riskinsight-wavestone.com/2021/01/bug-bounty-apercu-et-benchmark-du-secteur-bancaire-a-lhorizon-2021/\"\n",
    "url3 = \"https://www.riskinsight-wavestone.com/2019/01/securite-des-operations-financieres-en-ligne-en-2020-quelles-limitations-a-lefficacite-de-la-dsp2-22/\"\n",
    "\n",
    "def get_Title(url : str) -> str :\n",
    "    \"\"\"\n",
    "    This function extracts the title of the webpage/article\n",
    "    \"\"\"\n",
    "    response = requests.get(url)\n",
    "    html_soup = BeautifulSoup(response.text, 'html.parser')\n",
    "    html_titre = html_soup.title\n",
    "    titre = html_titre.get_text()\n",
    "    return titre\n",
    "\n",
    "def get_Author(url : str) -> str :\n",
    "    \"\"\"\n",
    "    This function extracts the name of the author of the webpage/article\n",
    "    \"\"\"\n",
    "    response = requests.get(url)\n",
    "    html_soup = BeautifulSoup(response.text, 'html.parser')\n",
    "    if html_soup.find(\"meta\",{\"name\":\"twitter:data1\"}) is not None:\n",
    "        author = html_soup.find(\"meta\",{\"name\":\"twitter:data1\"})['content']\n",
    "    else:\n",
    "        author = 'no data'\n",
    "    return author\n",
    "\n",
    "\n",
    "def get_Time(url : str) -> str :\n",
    "    \"\"\"\n",
    "    This function extracts the time of the webpage/article\n",
    "    \"\"\"\n",
    "    response = requests.get(url)\n",
    "    html_soup = BeautifulSoup(response.text, 'html.parser')\n",
    "    if html_soup.find(\"meta\", {\"property\": \"article:modified_time\"}) is not None:\n",
    "        date = html_soup.find(\"meta\", {\"property\": \"article:modified_time\"})[\"content\"]\n",
    "    elif html_soup.find(\"meta\", {\"property\": \"article:published_time\"}) is not None:\n",
    "        date = html_soup.find(\"meta\", {\"property\": \"article:published_time\"})[\"content\"]\n",
    "    else:\n",
    "        return 'no data'\n",
    "    return date[:10]\n",
    "\n",
    "        \n",
    "def get_lang(titre : str) -> str : \n",
    "    \"\"\"\n",
    "    This function analyse the webpage/article language\n",
    "    \"\"\"\n",
    "    a = TextBlob(titre)\n",
    "    langue = a.detect_language()\n",
    "    return langue\n",
    "\n",
    "\n",
    "def get_Img(url : str) -> str :\n",
    "    \"\"\"\n",
    "    This function extracts the introducing picture of the webpage/article\n",
    "    \"\"\"\n",
    "    response = requests.get(url)\n",
    "    html_soup = BeautifulSoup(response.text, 'html.parser')\n",
    "    if html_soup.find(\"meta\", {\"property\": \"og:image\"}) is not None:\n",
    "        img = html_soup.find(\"meta\", {\"property\": \"og:image\"})[\"content\"]\n",
    "    else:\n",
    "        return 'no data'\n",
    "    return img\n",
    "\n",
    "\n",
    "\n",
    "def art_content_html(url : str) -> str :\n",
    "    \"\"\"\n",
    "    This function extracts the html content of the webpage/article\n",
    "    \"\"\"\n",
    "    response = requests.get(url)\n",
    "    html_soup = BeautifulSoup(response.text, 'html.parser')\n",
    "    paragraphe = html_soup.find_all('p')\n",
    "    content_html = \" \".join([str(x) for x in paragraphe])\n",
    "    return content_html\n",
    "    \n",
    "def art_content(url : str) -> str :\n",
    "    \"\"\"\n",
    "    This function extracts the clean content of the webpage/article without \n",
    "    \"\"\"\n",
    "    response = requests.get(url)\n",
    "    html_soup = BeautifulSoup(response.text, 'html.parser')\n",
    "    paragraphe = html_soup.find_all('p')\n",
    "    content = \" \".join([x.text for x in paragraphe])\n",
    "    return content\n",
    "\n",
    "def get_Tag(url : str) -> str :\n",
    "    \"\"\"\n",
    "    This function extracts different tags of the webpage/article\n",
    "    \"\"\"\n",
    "    response = requests.get(url)\n",
    "    html_soup = BeautifulSoup(response.text, 'html.parser')\n",
    "    if html_soup.find_all(\"a\",{'class':\"tag--link\"}) is not None:\n",
    "        html_tag = html_soup.find_all(\"a\",{'class':\"tag--link\"})\n",
    "        Tags = []\n",
    "        for i in html_tag:\n",
    "            tag_i = i.get_text()\n",
    "            Tags.append(tag_i[1:])\n",
    "        return Tags\n",
    "    else:\n",
    "        return \"no data\"\n",
    "\n",
    "\n",
    "\n",
    "def remplir_dataFrame(url):\n",
    "    \"\"\"\n",
    "    This function add different information of the webpage/article to the dataFrame\n",
    "    \"\"\"\n",
    "    df.loc[0, 'src_type'] = 'xpath_source'\n",
    "    df.loc[0, 'src_url'] = 'https://www.riskinsight-wavestone.com/'\n",
    "    df.loc[0, 'src_name'] = 'RiskInsight'\n",
    "    df.loc[0, 'art_url'] = url\n",
    "    df.loc[0, 'art_auth'] = get_Author(url)\n",
    "    df.loc[0, 'art_extract_datetime'] = get_Time(url)\n",
    "    title = get_Title(url)\n",
    "    df.loc[0, 'art_title'] = title\n",
    "    df.loc[0, 'art_lang'] = get_lang(title)\n",
    "    tag = get_Tag(url)\n",
    "    if tag is None or tag==[]:\n",
    "        tag = 'no data'\n",
    "    df.loc[0, 'art_tag'] = tag\n",
    "    df.loc[0, 'art_content_html'] = art_content_html(url)\n",
    "    df.loc[0, 'art_content'] = art_content(url)\n",
    "    df.loc[0, 'src_img'] = get_Img(url)\n",
    "    return df\n",
    "\n",
    "remplir_dataFrame(url3)\n"
   ]
  },
  {
   "cell_type": "code",
   "execution_count": 9,
   "metadata": {},
   "outputs": [
    {
     "data": {
      "text/plain": [
       "['détection',\n",
       " 'Intelligence Artificielle',\n",
       " 'Machine learning',\n",
       " 'SOC',\n",
       " 'Threat intelligence']"
      ]
     },
     "execution_count": 9,
     "metadata": {},
     "output_type": "execute_result"
    }
   ],
   "source": []
  },
  {
   "cell_type": "code",
   "execution_count": null,
   "metadata": {},
   "outputs": [],
   "source": [
    "\n"
   ]
  },
  {
   "cell_type": "code",
   "execution_count": null,
   "metadata": {},
   "outputs": [],
   "source": []
  }
 ],
 "metadata": {
  "kernelspec": {
   "display_name": "Python 3",
   "language": "python",
   "name": "python3"
  },
  "language_info": {
   "codemirror_mode": {
    "name": "ipython",
    "version": 3
   },
   "file_extension": ".py",
   "mimetype": "text/x-python",
   "name": "python",
   "nbconvert_exporter": "python",
   "pygments_lexer": "ipython3",
   "version": "3.8.3"
  }
 },
 "nbformat": 4,
 "nbformat_minor": 4
}
