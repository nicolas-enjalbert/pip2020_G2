{
 "cells": [
  {
   "cell_type": "code",
   "execution_count": 1,
   "metadata": {},
   "outputs": [
    {
     "data": {
      "text/plain": [
       "'Created on Monday Jan 6 11:03:00 \\n2019 Group 2\\n@authors: Sibel Yuksel'"
      ]
     },
     "execution_count": 1,
     "metadata": {},
     "output_type": "execute_result"
    }
   ],
   "source": [
    "\"\"\"Created on Monday Jan 6 11:03:00 \n",
    "2019 Group 2\n",
    "@authors: Sibel Yuksel\"\"\""
   ]
  },
  {
   "cell_type": "code",
   "execution_count": 1,
   "metadata": {},
   "outputs": [],
   "source": [
    "import pandas as pd\n",
    "import numpy as np\n",
    "import requests\n",
    "from bs4 import BeautifulSoup\n",
    "from textblob import TextBlob\n",
    "import datetime\n",
    "import json"
   ]
  },
  {
   "cell_type": "code",
   "execution_count": 4,
   "metadata": {},
   "outputs": [
    {
     "ename": "NameError",
     "evalue": "name 'art_tag' is not defined",
     "output_type": "error",
     "traceback": [
      "\u001b[1;31m---------------------------------------------------------------------------\u001b[0m",
      "\u001b[1;31mNameError\u001b[0m                                 Traceback (most recent call last)",
      "\u001b[1;32m<ipython-input-4-ce3c40e68508>\u001b[0m in \u001b[0;36m<module>\u001b[1;34m\u001b[0m\n\u001b[0;32m     83\u001b[0m \u001b[1;33m\u001b[0m\u001b[0m\n\u001b[0;32m     84\u001b[0m \u001b[1;33m\u001b[0m\u001b[0m\n\u001b[1;32m---> 85\u001b[1;33m \u001b[0mscraping_linternaute\u001b[0m\u001b[1;33m(\u001b[0m\u001b[0murl2\u001b[0m\u001b[1;33m)\u001b[0m\u001b[1;33m\u001b[0m\u001b[1;33m\u001b[0m\u001b[0m\n\u001b[0m",
      "\u001b[1;32m<ipython-input-4-ce3c40e68508>\u001b[0m in \u001b[0;36mscraping_linternaute\u001b[1;34m(url)\u001b[0m\n\u001b[0;32m     80\u001b[0m \u001b[1;33m\u001b[0m\u001b[0m\n\u001b[0;32m     81\u001b[0m     \u001b[1;31m#return art_content\u001b[0m\u001b[1;33m\u001b[0m\u001b[1;33m\u001b[0m\u001b[1;33m\u001b[0m\u001b[0m\n\u001b[1;32m---> 82\u001b[1;33m     \u001b[1;32mreturn\u001b[0m \u001b[1;33m[\u001b[0m\u001b[0mart_content\u001b[0m\u001b[1;33m,\u001b[0m\u001b[0mart_content_html\u001b[0m\u001b[1;33m,\u001b[0m\u001b[0mart_published_datetime\u001b[0m\u001b[1;33m,\u001b[0m\u001b[0mart_lang\u001b[0m\u001b[1;33m,\u001b[0m\u001b[0mart_title\u001b[0m\u001b[1;33m,\u001b[0m\u001b[0mart_url\u001b[0m\u001b[1;33m,\u001b[0m\u001b[0msrc_name\u001b[0m\u001b[1;33m,\u001b[0m\u001b[0msrc_type\u001b[0m\u001b[1;33m,\u001b[0m\u001b[0msrc_url\u001b[0m\u001b[1;33m,\u001b[0m\u001b[0mart_img\u001b[0m\u001b[1;33m,\u001b[0m\u001b[0mart_auth\u001b[0m\u001b[1;33m,\u001b[0m\u001b[0mart_tag\u001b[0m\u001b[1;33m]\u001b[0m\u001b[1;33m\u001b[0m\u001b[1;33m\u001b[0m\u001b[0m\n\u001b[0m\u001b[0;32m     83\u001b[0m \u001b[1;33m\u001b[0m\u001b[0m\n\u001b[0;32m     84\u001b[0m \u001b[1;33m\u001b[0m\u001b[0m\n",
      "\u001b[1;31mNameError\u001b[0m: name 'art_tag' is not defined"
     ]
    }
   ],
   "source": [
    "url1 = 'https://www.lemonde.fr/transition-ecologique/article/2020/08/03/les-villes-et-leurs-jumeaux-numeriques_6048030_179.html'\n",
    "url2 = \"https://www.lemonde.fr/pixels/article/2020/09/16/donnees-de-sante-nouveau-recours-contre-le-health-data-hub-devant-le-conseil-d-etat_6052464_4408996.html\"\n",
    "url3 = 'https://www.lemonde.fr/pixels/article/2020/03/20/contre-la-pandemie-de-nombreux-pays-misent-sur-la-surveillance-permise-par-le-big-data_6033851_4408996.html'\n",
    "url4 = 'https://www.lemonde.fr/vie-quotidienne/article/2015/10/20/bruit-victoire-de-riverains-contre-un-data-center_6004076_5057666.html'\n",
    "\n",
    "\n",
    "\n",
    "def scraping_linternaute(url : 'str') -> list:\n",
    "    \"\"\"Documentation\n",
    "    function which from a url creates a BeautifulSoup object, then extract different informations about the article and the \n",
    "    source. Then researches informations about the article and the website. It finally returns all this data as a list\n",
    "  \n",
    "    Parameters:\n",
    "        url(str): The url that we will scrap \n",
    "        \n",
    "    Out:\n",
    "        list: it contains some propreties of the article and the sources \n",
    "\n",
    "    \"\"\"\n",
    "    response = requests.get(url)\n",
    "    html_soup = BeautifulSoup(response.text, 'html.parser')\n",
    "    \n",
    "    src_type = 'xpath_source'\n",
    "    src_url = 'https://www.lemonde.fr/'\n",
    "    src_name = \"Le Monde\"\n",
    "    \n",
    "    # find the article URL (art_url) \n",
    "    if html_soup.find(\"meta\", {\"property\": \"og:url\"}) is not None:\n",
    "        art_url = html_soup.find(\"meta\", {\"property\": \"og:url\"})['content']\n",
    "    else:\n",
    "        art_url = url\n",
    "        \n",
    "    # find the article Title (art_title)  \n",
    "    art_title = html_soup.title.get_text().replace('\\xa0','')\n",
    "    \n",
    "    \n",
    "    # find the article Author (art_auth)  \n",
    "    if html_soup.find(\"meta\",{\"property\":\"og:article:author\"}) is not None:\n",
    "        art_auth = html_soup.find(\"meta\",{\"property\":\"og:article:author\"})['content']\n",
    "        if art_auth==[]: art_auth = 'no-data' \n",
    "    else:\n",
    "        art_auth = 'no-data'\n",
    "        \n",
    "        \n",
    "    # find the date of publication of the article (art_published_datetime) (format: datetime)  \n",
    "    if html_soup.find(\"meta\", {\"property\":\"og:article:published_time\"}) is not None:\n",
    "        art_published = html_soup.find(\"meta\", {\"property\":\"og:article:published_time\"})['content'][:10]      # take the date and remove the hour\n",
    "        art_published_datetime = datetime.datetime.strptime(art_published,'%Y-%m-%d').date()  # put at the format datetime      \n",
    "    # if there is no date, we replace None with the date of today\n",
    "    else:\n",
    "        art_published_datetime = datetime.datetime.today().date()     # \n",
    "\n",
    "        \n",
    "    #src_img  \n",
    "    if html_soup.find(\"figure\", {\"class\":\"article__media\"}) is not None:\n",
    "        art_img = html_soup.find(\"figure\", {\"class\":\"article__media\"}).find('img')['src']\n",
    "    else:\n",
    "        art_img = 'no-data'\n",
    "        \n",
    "        \n",
    "    #art_tag  \n",
    "    art_tag = json.loads(html_soup.find('script', type = 'application/ld+json')['@type'])\n",
    "\n",
    "        \n",
    "    #art_content_html  and  art_content\n",
    "    \n",
    "    art_content_html_corps = html_soup.find(\"article\", {\"class\": \"article__content old__article-content-single\"})\n",
    "    if html_soup.find(\"p\", {\"class\": \"article__desc\"}) is not None:\n",
    "        art_content_html_intro = html_soup.find(\"p\", {\"class\": \"article__desc\"}) #prend une sous balise en trop \n",
    "        art_content_html = [art_content_html_intro,art_content_html_corps]\n",
    "        art_content = (art_content_html_intro.get_text() + art_content_html_corps.get_text()).replace('\\xa0','')\n",
    "    else:\n",
    "        art_content_html = art_content_html_corps\n",
    "        art_content = art_content_html_corps.get_text().replace('\\xa0','')\n",
    "       # REPLACE NE MARCHE PAS\n",
    "\n",
    "    #art_lang   \n",
    "    a = TextBlob(art_content)\n",
    "    art_lang = a.detect_language()\n",
    "    \n",
    "    #return art_content\n",
    "    return [art_content,art_content_html,art_published_datetime,art_lang,art_title,art_url,src_name,src_type,src_url,art_img,art_auth,art_tag] \n",
    "\n",
    "\n",
    "scraping_linternaute(url2)\n"
   ]
  },
  {
   "cell_type": "code",
   "execution_count": null,
   "metadata": {},
   "outputs": [],
   "source": []
  }
 ],
 "metadata": {
  "kernelspec": {
   "display_name": "Python 3",
   "language": "python",
   "name": "python3"
  },
  "language_info": {
   "codemirror_mode": {
    "name": "ipython",
    "version": 3
   },
   "file_extension": ".py",
   "mimetype": "text/x-python",
   "name": "python",
   "nbconvert_exporter": "python",
   "pygments_lexer": "ipython3",
   "version": "3.8.3"
  }
 },
 "nbformat": 4,
 "nbformat_minor": 4
}
