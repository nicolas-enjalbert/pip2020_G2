{
 "cells": [
  {
   "cell_type": "code",
   "execution_count": 1,
   "metadata": {},
   "outputs": [
    {
     "data": {
      "text/plain": [
       "'Created on Monday Jan 6 11:03:00 \\n2019 Group 2\\n@authors: Sibel Yuksel'"
      ]
     },
     "execution_count": 1,
     "metadata": {},
     "output_type": "execute_result"
    }
   ],
   "source": [
    "\"\"\"Created on Monday Jan 6 11:03:00 \n",
    "2019 Group 2\n",
    "@authors: Sibel Yuksel\"\"\""
   ]
  },
  {
   "cell_type": "code",
   "execution_count": 3,
   "metadata": {},
   "outputs": [],
   "source": [
    "import pandas as pd\n",
    "import numpy as np\n",
    "import requests\n",
    "from bs4 import BeautifulSoup\n",
    "from textblob import TextBlob\n",
    "import datetime"
   ]
  },
  {
   "cell_type": "code",
   "execution_count": 46,
   "metadata": {},
   "outputs": [
    {
     "data": {
      "text/plain": [
       "'\\n\\n\\n\\n\\n                    VACCIN COVID. Depuis le début de semaine, le gouvernement s\\'emploie à simplifier et à alléger le calendrier de la campagne de vaccination en France. Dates, chiffres... Tout savoir sur le vaccin anti-Covid.            \\n\\nSommaire\\n\\n\\nVaccin: pour qui et quand?\\nChiffres sur l\\'avancée de la vaccination\\nVaccins commandés en France\\nDates de vaccination\\nFonctionnement des vaccins\\nEffets secondaires\\nVaccination obligatoire ou pas ?\\nUn \"passeport vert\" ?\\nVaccin anti-Covid et allergie\\n\\n\\n\\nLes dernières infos\\nLa vaccination contre le Covid-19 prend de l\\'ampleur.En France, après un démarrage dans la confusion le 27 décembre dernier et surtout des critiques sur le peu de personnes vaccinées, le gouvernement semble avoir fait évoluer sa stratégie, en simplifiant et en accélérant le dispositif. Dernier exemple en date, Gabriel Attal, ce mercredi, qui a révélé que \"100centres destinés à la ville\" allaient prochainement être ouverts pour vacciner. \"Le président de la République a indiqué 500à 600centres dans les prochaines semaines, c\\'est-à-dire cinq à six par département\", a fait savoir le porte-parole du gouvernement, qui a également fait des annonces sur les doses.\\nGabriel Attal a promis \"500 000doses supplémentaires par semaine\" du vaccin de Pfizer, et200 000 \"sur le premier mois\", puis \"500 000doses par mois\" du vaccin de Moderna, qui a été autorisé à l\\'échelle européenne, avant l\\'aval de la France attendu dans les prochains jours. Cette prise de parole intervient au lendemain de celle, devant des élus de Touraine, d\\'Emmanuel Macron. Le chef de l\\'Etat, selon ce qu\\'ont rapporté des participants à cette réunion, aurait fait part de sa volonté de sacrément resserrerle calendrier.\\nPour résumer, il convient de retenir que désormais, deux phases vont rythmer la campagne de vaccination en France. La première, qui a déjà commencé, durerajusqu\\'à fin mars et concerne, globalement, les plus fragiles (Ehpad et hors Ehpad)et les soignants.Pour ce faire, le gouvernement souhaite installer, durant le mois de janvier, cinq à six centres de vaccination par département.Début avril débutera la deuxième étape, beaucoup plus large, qui concernera les personnes considérées comme peu ou pas à risque face au Covid-19. Cette phase sera de \"type grippal\", comme l\\'a fait savoir Emmanuel Macron, selon un participant à la réunion qui s\\'est tenue àTours (Indre-et-Loire).\\nAutrement dit, il faut s\\'attendre à un dispositif vaccinal comparable à celui déjà en place chaque année pour la grippe. Le président a notamment justifié ce choix par l\\'arrivée prochaine de vaccins plus faciles à conserver que celui utilisé actuellement, en l\\'occurrence Pfizer/BioNtech. Ces directives ont fait suite aux annonces d\\'Olivier Véran, réalisées tout au long de la journée de mardi, que ce soit dans les médias (RTL, notamment) ou sur les réseaux sociaux.Voici ce qu\\'il faut retenir :\\n\\nPlus de 5000doses ont été injectées au cours des dernières 24heures ce mardi, a annoncé peu avant 20 heures Olivier Véran sur Twitter. Depuis plus d\\'une semaine et le début de la campagne, près de 2000 personnes avaient jusqu\\'à présent été vaccinées. Sur le site CovidTracker, les chiffres sont confirmés. En tout ce sont donc 7000personnes qui ont reçu à cette heure au moins une dose du vaccin.\\nLavaccination des plus de 75 ans qui ne résident pas en Ehpad débutera avant la fin janvier.\\nLes pompiers et les aides à domicile de plus de 50 ans vont pouvoir se faire vacciner dès à présent.\\nLa\"consultation vaccinale en Ehpad\" va être simplifiée, notamment en permettant\"à un médecin ou une infirmière de vacciner dans les centres\".\\nLes Français pourront bientôt s\\'inscrire et prendre rendez-vous pour se faire vacciner. Cela pourra se faire \"par internet, par téléphone sans doute, et pourquoi pas par l\\'application TousAntiCovid\", a précisé Olivier Véran.\\nConcernant les endroits où se faire vacciner, \"il y aura 100 hôpitaux équipés pour vacciner et 100 centres supplémentaires hors hôpitaux. Nous aurons 300 centres la semaine prochaine et 500 à 600 centres d\\'ici à fin janvier\".\\nLe nombre de doses du vaccin anti-Covid va augmenté sur le sol français, Olivier Véran ayant révélé que le gouvernement allait prochainement \"amplifier les commandes\". \"Un million de doses seront disponibles entre aujourd\\'hui et demain\", a-t-il promis.\\n\\nQuand et pour qui le vaccin anti-Covid est-il administré?\\n\\n\\n\\n\\nUne première phase de janvier à février concerne les résidents, les soignants en Ehpad et les personnels de santé, mais aussi les pompiers, les aides à domicile. Les personnes de plus de 75ans hors Ehpad sont également concernées par cette première phase, ainsi que les pompiers et les aides à domicile de plus de 50ans.\\nEn février-mars, lavaccination sera ensuite élargie aux65-74 ans.\\nEnfin,\"au début duprintemps\",le reste de la population pourrait être vacciné, avec en priorité les personnes de 50 à 64 ans,les personnels de sécurité, d\\'éducation, les personnes vulnérables et précaires.\\n\\nLevaccin estgratuit et la vaccination n\\'est pas obligatoire. Elle ne concerneque les personnes majeures. La France dispose pour l\\'heured\\'un potentiel de 200 millions de doses, qui permettentde vacciner100 millions de personnes sachant que le vaccin nécessite deux doses à quelques semaines d\\'intervalle.La France vadébourser1,5 milliard d\\'euros pour ces vaccins, attribués aubudget de la sécurité sociale. Pour rappel, il convient que 70% de la population soit vaccinée, selon la revue scientifique Nature, pour atteindre l\\'immunité collective.\\nCombien de Français ont-ils déjà été vaccinés ?\\n\\n\\n\\nQuelles sont les avancées de la vaccinationdans le monde ?\\n\\nQuels sont les différents vaccins contre le Covid-19 ?\\n \\n\\n\\n\\n\\n\\n\\n\\n\\n\\nVaccin Moderna: pourquoi son arrivée en France suscite de l\\'espoir\\nLe vaccin Moderna, validé par les autorités européennes, pourrait changer la donne en arrivant en France et donner un coup d\\'accélérateur à la campagne de vaccination.\\n\\n\\n\\n\\n\\n\\n\\n\\n\\n\\n\\n\\nVaccin Pfizer: autorisé en France, que sait-on de sa composition?\\nLe vaccin Pfizer est pour l\\'heure le seul vaccin autorisé en France. Que sait-on exactement de sa composition?\\n\\n\\n\\n\\n\\n\\n\\n\\n\\n\\n\\n\\nVACCIN. Français tirés au sort: qui sont-ils? Quel est leur rôle?\\nLa campagne de vaccination prend une tournure consultative avec 35Français tirés au sort par le gouvernement d\\'ici au 10janvier.\\n\\n\\n\\n\\n\\n\\n\\n\\n\\n\\n\\n\\nVaccin Pasteur: un spray nasal à la place d\\'une injection?\\nPendant que la course au vaccin s\\'intensifie, l\\'Institut Pasteur de Lille développe un vaccin non pas sous forme d\\'injection, mais de spray nasal.\\n\\n\\n\\n\\n\\n\\n\\n\\n\\n\\n\\n\\nVaccin Novavax: vers un accord avec l\\'Union européenne?\\nLe vaccin de Novavax pourrait être le septième précommandé par l\\'Union européenne afin de faire face au Covid-19.\\n\\n\\n\\n\\n\\n\\n\\n\\n\\n\\n\\n\\nVaccin Sanofi: pourquoi la mise sur le marché est retardée\\nCe vendredi, Sanofi a annoncé un retard sur la livraison du vaccin contre le coronavirus developpé avec le laboratoire britannique GSK, qui ne devrait finalement prêt que pour fin 2021.\\n\\n\\n\\n\\n\\n\\n\\nQuels vaccins ont été commandés par la France ?\\nLa France compte investir 1,5 milliards d\\'euros en 2021 pour les différentes campagnes de vaccination. \"On prépare une campagne de vaccination pour être prêt au moment où un vaccin sera validé par les autorités de santé européennes et nationales et pour pouvoir, dans la foulée, immédiatement lancer un vaccin\", faisait savoir le porte-parole du gouvernement, Gabriel Attal, mi-novembre. Concrètement, la France compte recourir au premier vaccin disponible s\\'il est efficace, mais des pré-commandes diverses ont été passées via l\\'Union européenne. Six vaccins et plus d\\'un milliards de doses ont fait l\\'objet de commandes, réparties entre les laboratoires suivants : Pfizer-BioNtech, Moderna, AstraZeneca, Sanofi, Johnson&Johnson et CureVac.\\nSanofi, Moderna, Pfizer... Comment fonctionnent-ils?\\nSi les vaccins des différents laboratoires ont le même objectif, à savoir immuniser contre le Covid-19, tous n\\'emploient pas la même technique pour ce faire. Il existe des fonctionnements diverses :\\n\\nPfizer et Moderna utilisent tous les deux la technique de l\\'ARN Messager.Cette dernière vise à donner au corps les informations génétiques nécessaires pour déclencher une protection contre le virus. L\\'ARN messager du vaccin s\\'insère et prend le contrôle de cette machinerie pour faire fabriquer un antigène spécifique du coronavirus : la \" spicule\" du coronavirus, sa pointe si reconnaissable qui se trouve à sa surface et lui permet de s\\'attacher aux cellules humaines pour les pénétrer. Cette pointe, inoffensive en elle-même, sera ensuite détectée par le système immunitaire qui va produire des anticorps, et ces anticorps vont rester. Cette méthode jamais utilisée pour l\\'homme pourrait provoquer quelques complications notamment sur la conservation du vaccin qui se ferait à de très basses températures.\\nAstraZeneca, Sputnik et Johnson&Johnson utilisent la technique du vecteur viral. Contrairement au procédé originel, celui-ci, relativement récent à l\\'échelle de l\\'histoire de lavaccination, n\\'injecte pas l\\'agent infectieux d’une pathologie, en l\\'occurrence le Covid-19,sous forme vivante ou inactive. A la place, on injecte à l\\'Homme un\"vecteur inoffensif contenant un ou plusieurs gènes de l’agent infectieux codant les antigènes capables d’être reconnus par le système immunitaire\", comme l\\'indique le site de la fédération pour la recherche sur le cerveau. Il existe deux types de vecteurs viraux. Il y a ceux qui sont dits intégratifs, lorsque l’ADN du vecteur viral s’intègre dans l’ADN de l’hôte et les non intégratifs, lorsque le gène thérapeutique demeure dans la cellule sans s’intégrer au génome de l’hôte (Source : Inserm). Plusieurs vaccins bien connus utilisent cette technique, à l\\'image du sérums contre l\\'hépatite B.\\nSanofi, le vaccin français, utilise la technique à base de protéine recombinante. Il s\\'agit d\\'une protéine produite par une cellule dont le génome a été transformé par recombinaison génétique.\\n\\nQuels sont les effets secondaires redoutés du vaccin ?\\nAux Etats-Unis comme en Europe, la distribution des premiers vaccins anti-Covid se poursuit. Cette vague de vaccination se devrait pas se faire sans désagréments, avaient averti fin novembre des médecins américains, qui ont encouragé les responsables de la santé publique ainsi les laboratoires à avertir la population sur les très probables effets secondaires des vaccins. A l\\'occasion d’une réunion avec les conseillers des Centres pour le contrôle et la prévention des maladies américains (CDC), le docteure Sandra Fryhofer s\\'est interrogé sur la possibilité que de nombreuses personnes renoncent à se faire administrer la deuxième dose du vaccin, découragés par ces effets secondaires justement.\\nDes volontaires aux essais de Pfizer et Modernaont témoigné en faisant état de fièvre élevée, des courbatures, des maux de tête et de grande fatigue ressentis après avoir été vacciné. Mais il s\\'agit de phénomène on ne peut plus normal, à en croire Bruno Pitard, chercheur du CNRS au Centre de cancérologie et d’immunologie Nantes-Angers, interrogé par Ouest France. \"Un vaccin n’est jamais indolore, ce n’est pas un Doliprane. C’est totalement normal qu’il y ait des effets secondaires. (...) On injecte le vaccin dans le muscle pour le système immunitaire donc ce sont des effets secondaires communs, il n’y a rien d’étonnant\", estime-t-il.\\n\\n \\n\\n\\n\\n\\n\\n\\n\\n\\n                                                Voir le dossier\\n                    \\n\\n\\nEfficacité, risques... Les vaccins Covid-19arrivent, ce qu\\'on sait\\n\\n\\n\\n\\n\\n\\n\\n\\n\\n\\n\\n\\nLa vaccination est-elle obligatoire ?\\nLa réponse est non. Emmanuel Macron, lors de son allocution du 24 novembre, s\\'y estengagé devant les Français. La stratégie du gouvernement, qui doit malgré tout convaincre le plus grand nombre à se faire vacciner, souhaite plutôt instaurer un rapport de confiance dans ce dossier du vaccin, face à une population particulièrement peu encline à la vaccination. L\\'exécutif souhaite ainsi mettre en place une transparence totale sur le sujet, qui devra participer \"au rapport de confiance que le gouvernement souhaite établir avec les citoyens concernant l\\'appréhension face à ce vaccin\", comme l\\'a glissé un proche du chef de l\\'Etat au Journal du dimanche. La tâche du gouvernement s\\'annonce ardue puisque selon un sondage IFOP réalisé pour le JDD, 59% des Français ne veulent pas se faire vacciner contre le coronavirus.\\nVers l\\'instauration d\\'un passeport vert spécial vaccin ?\\nOn tient cette idée de la députée UDI Valérie Six : et si, d\\'ici quelques mois, un \"passeport\" était nécessaire pour se rendre dans les lieux de cultures (musées, cinémas, théâtres...) et dans les restaurants, actuellement tous fermés ? Ce fameux passeport prouverait que son détenteur est vacciné contre le Covid-19 et qu\\'il ne présente ainsi aucun risque. \"Notre groupe considère qu\\'une telle mesure serait de nature à inciter les Français à se faire vacciner et à faire prendre conscience que la vaccination permet de se protéger soi-même, mais également autrui\", a expliqué la parlementaire, estimant que \"l\\'enjeu est de faire comprendre que se faire vacciner est un acte citoyen, que cela nous permettra collectivement de retrouver une vie sociale, une vie culturelle\". Chacun sera juge de cette idée, qui existe déjà en Israël, mais Emmanuel Macron a promis devant les Français qu\\'il ne souhaitait pas rendre le vaccin obligatoire et cette mesure viendrait contrevenir quelque peu à ce principe pour toute personne désireuse de retrouver une \"vie normale\".\\nDes réactions allergiques peuvent-elle être provoquéespar le vaccin anti-Covid?\\nDepuis que la vaccination a débuté dans plusieurs pays, la pharmacovigilance est naturellement de mise. Chaque information émanant des personnes vaccinées sont analysées et traitées afin d\\'en savoir plus, chaque jour, sur ce fameux vaccin. Aux Etats-Unis et au Royaume-Uni, où le vaccin de Pfizer/BioNtech est administré depuis la mi-décembre, plusieurs personnes vaccinées - en l\\'occurrence des soignants - ont développé de graves réactions allergiques suite à l\\'injection, l\\'une d\\'entre elle ayant par exemple été victime d\\'un choc anaphylactique seulement dix minutes après la prise du vaccin. Si toutes ces personnes ont récupéré depuis, cela pose tout de même question. A tel point que les autorités sanitaires américaineset britanniques ont réagi enprenant des mesures.\\n\\n\\n\\n                            Newsletter\\n                        \\n\\n\\n\\n\\n\\n\\n\\n\\n                                Linternaute.com\\n                            \\n\\n\\n\\n                                Voir un exemple\\n                            \\n\\n\\n\\n\\ninscription Newsletters\\n\\n\\n\\n\\nLes informations recueillies sont destinées à CCM Benchmark Group pour vous assurer l\\'envoi de votre newsletter.\\nElles seront également utilisées sous réserve des options souscrites, à des fins de ciblage publicitaire. \\nVous bénéficiez d\\'un droit d\\'accès et de rectification de vos données personnelles, ainsi que celui d\\'en demander l\\'effacement dans les limites prévues par la loi. \\nVous pouvez également à tout moment revoir vos options en matière de ciblage. En savoir plus sur notre politique de confidentialité.\\n\\n\\n\\nAux Etats-Unis, il est désormais conseilléque la vaccination ne soit pratiquée uniquement dans des établissements disposant d\\'équipements spéciaux, notamment d\\'oxygène et d\\'épinéphrine, alors qu\\'au Royaume-Uni, les personnes ayant déjà été victimes de fortes allergies sont carrément priées de ne pas se faire vacciner pour l\\'instant. En France, on reste plus mesuré, à l\\'image du communiqué de la Fédération française d\\'allergologie. \"Les antécédents d’allergie ou d\\'anaphylaxie ne constituent en aucun cas une contre-indication systématique à cette vaccination\", peut-on lire. Quoi qu\\'il en soit, ces cas d\\'allergie post-vaccination sont suivis de très près et des études sont en cours pour en déterminer la cause.L’Agence américaine des médicaments (FDA) s\\'est dite \"au courant d’informations sur une réaction anaphylactique chez une personne ayant reçu le vaccin contre le Covid-19. L’agence va continuer à travailler avec les CDC (Centres de prévention des maladies) et Pfizer pour mieux comprendre ce qu’il s’est passé\", twittait la FDA lors de la découverte du premier cas.\\n'"
      ]
     },
     "execution_count": 46,
     "metadata": {},
     "output_type": "execute_result"
    }
   ],
   "source": [
    "url3 = 'https://www.linternaute.fr/auto/guide-pratique-auto/1408770-lettre-de-resiliation-d-assurance-auto-modele-de-lettre/'\n",
    "# with a picture:\n",
    "url4 = \"https://www.linternaute.com/actualite/guide-vie-quotidienne/2526290-vaccin-covid-un-calendrier-simplifie-deux-grandes-nouvelles-phases/\"\n",
    "#with author:\n",
    "url5 = 'https://www.linternaute.com/actualite/questions-d-actu/2476457-direct-incidents-aux-usa-un-bilan-lourd-des-images-fortes-le-capitole/'\n",
    "\n",
    "\n",
    "def scraping_linternaute(url : 'str') -> list:\n",
    "    \"\"\"Documentation\n",
    "    function which from a url creates a BeautifulSoup object, then extract different informations about the article and the \n",
    "    source. Then researches informations about the article and the website. It finally returns all this data as a list\n",
    "  \n",
    "    Parameters:\n",
    "        url(str): The url that we will scrap \n",
    "        \n",
    "    Out:\n",
    "        list: it contains some propreties of the article and the sources \n",
    "\n",
    "    \"\"\"\n",
    "    response = requests.get(url)\n",
    "    html_soup = BeautifulSoup(response.text, 'html.parser')\n",
    "    \n",
    "    src_type = 'xpath_source'\n",
    "    src_url = 'https://www.linternaute.com/'\n",
    "    src_name = \"L'internaute\"\n",
    "    \n",
    "    # find the article URL (art_url)\n",
    "    if html_soup.find(\"meta\", {\"property\": \"og:url\"}) is not None:\n",
    "        art_url = html_soup.find(\"meta\", {\"property\": \"og:url\"})['content']\n",
    "    else:\n",
    "        art_url = url\n",
    "        \n",
    "    # find the article Title (art_title)\n",
    "    art_title = html_soup.title.get_text().replace('\\xa0','')\n",
    "    \n",
    "    \n",
    "    # find the article Author (art_auth) \n",
    "    if html_soup.find(\"a\",{\"rel\":\"author\"}) is not None:\n",
    "        art_auth = html_soup.find(\"a\",{\"rel\":\"author\"}).get_text()\n",
    "        if art_auth==[]: art_auth = 'no-data' \n",
    "    else:\n",
    "        art_auth = 'no-data'\n",
    "        \n",
    "        \n",
    "    # find the date of publication of the article (art_published_datetime) (format: datetime)\n",
    "    if html_soup.find(\"time\") is not None:\n",
    "        date = html_soup.find(\"time\")[\"datetime\"]\n",
    "        art_published = date[:10]                # remove the hour of the date \n",
    "        art_published_datetime = datetime.datetime.strptime(art_published,'%Y-%m-%d').date()  # put at the format datetime\n",
    "    # if there is no date we put the date of implement \n",
    "    else:\n",
    "        art_published_datetime = datetime.datetime.today().date()     # \n",
    "\n",
    "        \n",
    "    #src_img\n",
    "    if html_soup.find(\"meta\", {\"property\": \"og:image\"}) is not None:\n",
    "        img = html_soup.find(\"meta\", {\"property\": \"og:image\"})[\"content\"]\n",
    "        art_img = img\n",
    "    else:\n",
    "        art_img = 'no-data'\n",
    "        \n",
    "        \n",
    "    #art_tag\n",
    "    art_tag = []\n",
    "    if html_soup.find_all(\"meta\",{'name':\"keywords\"}) is not None:\n",
    "        html_tag = html_soup.find_all(\"meta\",{'name':\"keywords\"})\n",
    "        for i in html_tag:\n",
    "            tag_i = i['content']\n",
    "            art_tag.append(tag_i)\n",
    "    elif (html_soup.find_all(\"div\",{'name':\"tag[]\"}) is not None) or (html_soup.find_all(\"div\",{'name':\"tag[]\"})):\n",
    "        html_tag = html_soup.find_all(\"div\",{'name':\"tag[]\"})\n",
    "        print(html_tag)\n",
    "        for i in html_tag:\n",
    "            tag_i = i.get_text()\n",
    "            art_tag.append(tag_i[1:])\n",
    "    else:\n",
    "        art_tag = 'no-data'\n",
    "        \n",
    "    #art_content_html  and  art_content\n",
    "    art_content_html = html_soup.find(\"div\",{'id':\"jArticleInside\"})\n",
    "    art_content = art_content_html.get_text().replace ('\\xa0','') \n",
    "\n",
    "    #art_lang\n",
    "    a = TextBlob(art_content)\n",
    "    art_lang = a.detect_language()\n",
    "    \n",
    "    return [art_content,art_content_html,art_published_datetime,art_lang,art_title,art_url,src_name,src_type,src_url,art_img,art_auth,art_tag] \n",
    "\n",
    "\n",
    "scraping_linternaute(url4)\n"
   ]
  },
  {
   "cell_type": "code",
   "execution_count": 47,
   "metadata": {},
   "outputs": [],
   "source": [
    "scraping_linternaute(url3)"
   ]
  },
  {
   "cell_type": "code",
   "execution_count": null,
   "metadata": {},
   "outputs": [],
   "source": []
  }
 ],
 "metadata": {
  "kernelspec": {
   "display_name": "Python 3",
   "language": "python",
   "name": "python3"
  },
  "language_info": {
   "codemirror_mode": {
    "name": "ipython",
    "version": 3
   },
   "file_extension": ".py",
   "mimetype": "text/x-python",
   "name": "python",
   "nbconvert_exporter": "python",
   "pygments_lexer": "ipython3",
   "version": "3.8.3"
  }
 },
 "nbformat": 4,
 "nbformat_minor": 4
}
