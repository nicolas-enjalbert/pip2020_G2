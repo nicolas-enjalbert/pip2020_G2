{
  "nbformat": 4,
  "nbformat_minor": 0,
  "metadata": {
    "kernelspec": {
      "display_name": "Python 3",
      "language": "python",
      "name": "python3"
    },
    "language_info": {
      "codemirror_mode": {
        "name": "ipython",
        "version": 3
      },
      "file_extension": ".py",
      "mimetype": "text/x-python",
      "name": "python",
      "nbconvert_exporter": "python",
      "pygments_lexer": "ipython3",
      "version": "3.7.3"
    },
    "colab": {
      "name": "g2_name_site_POC.ipynb",
      "provenance": [],
      "collapsed_sections": []
    }
  },
  "cells": [
    {
      "cell_type": "markdown",
      "metadata": {
        "id": "VjUarX-MVOFe"
      },
      "source": [
        "**POC : On récupère le nom d'un site à partir d'une url**"
      ]
    },
    {
      "cell_type": "code",
      "metadata": {
        "id": "PGftA121VMcK"
      },
      "source": [
        "#function to extract the name of a site from a url\n",
        "def site_name(url):\n",
        "    site=url.split(\"://\")\n",
        "    \n",
        "    #keep everything on the right side of \"https://\"\"\n",
        "    if site[0]==\"https\" or site[0]==\"http\":\n",
        "        nomsite=site[1]\n",
        "    else:\n",
        "        nomsite=site[0]\n",
        "    \n",
        "    #delete everything after the first \"/\"\n",
        "    tab=nomsite.split(\"/\")\n",
        "    nomsite=tab[0]\n",
        "    \n",
        "    \n",
        "    #delete www. , www2. etc.\n",
        "    sitename=\"\"\n",
        "    if \"www\" in nomsite:\n",
        "        tab=nomsite.split(\".\")\n",
        "        for i in range(len(tab)-1):\n",
        "            sitename=sitename+\".\"+str(tab[i+1])\n",
        "        sitename=sitename[1:]\n",
        "    else:\n",
        "        sitename=nomsite\n",
        "    \n",
        "    #remove extensions\n",
        "    liste=[\"fr.\",\".org\",\".fr\",\".eu\",\".net\",\".com\"]\n",
        "    \n",
        "    for i in liste:\n",
        "        sitename = sitename.replace(i, \"\")\n",
        "    \n",
        "    return(sitename)\n",
        "    "
      ],
      "execution_count": null,
      "outputs": []
    },
    {
      "cell_type": "code",
      "metadata": {
        "id": "YrwSoVl5VMcS",
        "outputId": "7217cef1-2044-4122-ce39-d456e2c98d38"
      },
      "source": [
        "site_name(\"https://www1.hal.et.e.ts.archives-ouvertes.sdf.sd.fr/index\")"
      ],
      "execution_count": null,
      "outputs": [
        {
          "output_type": "execute_result",
          "data": {
            "text/plain": [
              "'hal.et.e.ts.archives-ouvertes.sdf.sd'"
            ]
          },
          "metadata": {
            "tags": []
          },
          "execution_count": 50
        }
      ]
    }
  ]
}