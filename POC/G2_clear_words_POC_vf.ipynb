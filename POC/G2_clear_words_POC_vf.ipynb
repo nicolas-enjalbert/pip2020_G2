{
  "nbformat": 4,
  "nbformat_minor": 0,
  "metadata": {
    "colab": {
      "name": "G2_clear_words_POC_vf.ipynb",
      "provenance": [],
      "collapsed_sections": []
    },
    "kernelspec": {
      "name": "python3",
      "display_name": "Python 3"
    }
  },
  "cells": [
    {
      "cell_type": "markdown",
      "metadata": {
        "id": "9GhhNn_UMeHd"
      },
      "source": [
        "# **Relevancy score**\r\n",
        "\r\n",
        "Authors : F.C, S.B\r\n",
        "\r\n",
        "Date : January 13, 2021\r\n",
        "\r\n",
        "**POC : depuis un data frame, si il y a des mots en commun entre les requêtes et le titre ou entre les requêtes et le résumé, les ajouter dans une nouvelle colonne de DataFrame**"
      ]
    },
    {
      "cell_type": "code",
      "metadata": {
        "colab": {
          "base_uri": "https://localhost:8080/"
        },
        "id": "9qz37Qvo6sYO",
        "outputId": "58116d7a-b294-45b7-aadf-46db6d5496fb"
      },
      "source": [
        "!pip install deplacy\r\n",
        "!python -m spacy download fr_core_news_sm"
      ],
      "execution_count": 55,
      "outputs": [
        {
          "output_type": "stream",
          "text": [
            "Requirement already satisfied: deplacy in /usr/local/lib/python3.6/dist-packages (1.8.8)\n",
            "Requirement already satisfied: fr_core_news_sm==2.2.5 from https://github.com/explosion/spacy-models/releases/download/fr_core_news_sm-2.2.5/fr_core_news_sm-2.2.5.tar.gz#egg=fr_core_news_sm==2.2.5 in /usr/local/lib/python3.6/dist-packages (2.2.5)\n",
            "Requirement already satisfied: spacy>=2.2.2 in /usr/local/lib/python3.6/dist-packages (from fr_core_news_sm==2.2.5) (2.2.4)\n",
            "Requirement already satisfied: requests<3.0.0,>=2.13.0 in /usr/local/lib/python3.6/dist-packages (from spacy>=2.2.2->fr_core_news_sm==2.2.5) (2.23.0)\n",
            "Requirement already satisfied: wasabi<1.1.0,>=0.4.0 in /usr/local/lib/python3.6/dist-packages (from spacy>=2.2.2->fr_core_news_sm==2.2.5) (0.8.0)\n",
            "Requirement already satisfied: srsly<1.1.0,>=1.0.2 in /usr/local/lib/python3.6/dist-packages (from spacy>=2.2.2->fr_core_news_sm==2.2.5) (1.0.5)\n",
            "Requirement already satisfied: plac<1.2.0,>=0.9.6 in /usr/local/lib/python3.6/dist-packages (from spacy>=2.2.2->fr_core_news_sm==2.2.5) (1.1.3)\n",
            "Requirement already satisfied: preshed<3.1.0,>=3.0.2 in /usr/local/lib/python3.6/dist-packages (from spacy>=2.2.2->fr_core_news_sm==2.2.5) (3.0.5)\n",
            "Requirement already satisfied: thinc==7.4.0 in /usr/local/lib/python3.6/dist-packages (from spacy>=2.2.2->fr_core_news_sm==2.2.5) (7.4.0)\n",
            "Requirement already satisfied: numpy>=1.15.0 in /usr/local/lib/python3.6/dist-packages (from spacy>=2.2.2->fr_core_news_sm==2.2.5) (1.19.5)\n",
            "Requirement already satisfied: blis<0.5.0,>=0.4.0 in /usr/local/lib/python3.6/dist-packages (from spacy>=2.2.2->fr_core_news_sm==2.2.5) (0.4.1)\n",
            "Requirement already satisfied: catalogue<1.1.0,>=0.0.7 in /usr/local/lib/python3.6/dist-packages (from spacy>=2.2.2->fr_core_news_sm==2.2.5) (1.0.0)\n",
            "Requirement already satisfied: tqdm<5.0.0,>=4.38.0 in /usr/local/lib/python3.6/dist-packages (from spacy>=2.2.2->fr_core_news_sm==2.2.5) (4.41.1)\n",
            "Requirement already satisfied: cymem<2.1.0,>=2.0.2 in /usr/local/lib/python3.6/dist-packages (from spacy>=2.2.2->fr_core_news_sm==2.2.5) (2.0.5)\n",
            "Requirement already satisfied: setuptools in /usr/local/lib/python3.6/dist-packages (from spacy>=2.2.2->fr_core_news_sm==2.2.5) (51.1.1)\n",
            "Requirement already satisfied: murmurhash<1.1.0,>=0.28.0 in /usr/local/lib/python3.6/dist-packages (from spacy>=2.2.2->fr_core_news_sm==2.2.5) (1.0.5)\n",
            "Requirement already satisfied: certifi>=2017.4.17 in /usr/local/lib/python3.6/dist-packages (from requests<3.0.0,>=2.13.0->spacy>=2.2.2->fr_core_news_sm==2.2.5) (2020.12.5)\n",
            "Requirement already satisfied: urllib3!=1.25.0,!=1.25.1,<1.26,>=1.21.1 in /usr/local/lib/python3.6/dist-packages (from requests<3.0.0,>=2.13.0->spacy>=2.2.2->fr_core_news_sm==2.2.5) (1.24.3)\n",
            "Requirement already satisfied: idna<3,>=2.5 in /usr/local/lib/python3.6/dist-packages (from requests<3.0.0,>=2.13.0->spacy>=2.2.2->fr_core_news_sm==2.2.5) (2.10)\n",
            "Requirement already satisfied: chardet<4,>=3.0.2 in /usr/local/lib/python3.6/dist-packages (from requests<3.0.0,>=2.13.0->spacy>=2.2.2->fr_core_news_sm==2.2.5) (3.0.4)\n",
            "Requirement already satisfied: importlib-metadata>=0.20; python_version < \"3.8\" in /usr/local/lib/python3.6/dist-packages (from catalogue<1.1.0,>=0.0.7->spacy>=2.2.2->fr_core_news_sm==2.2.5) (3.3.0)\n",
            "Requirement already satisfied: typing-extensions>=3.6.4; python_version < \"3.8\" in /usr/local/lib/python3.6/dist-packages (from importlib-metadata>=0.20; python_version < \"3.8\"->catalogue<1.1.0,>=0.0.7->spacy>=2.2.2->fr_core_news_sm==2.2.5) (3.7.4.3)\n",
            "Requirement already satisfied: zipp>=0.5 in /usr/local/lib/python3.6/dist-packages (from importlib-metadata>=0.20; python_version < \"3.8\"->catalogue<1.1.0,>=0.0.7->spacy>=2.2.2->fr_core_news_sm==2.2.5) (3.4.0)\n",
            "\u001b[38;5;2m✔ Download and installation successful\u001b[0m\n",
            "You can now load the model via spacy.load('fr_core_news_sm')\n"
          ],
          "name": "stdout"
        }
      ]
    },
    {
      "cell_type": "code",
      "metadata": {
        "id": "CU2Am6Wy6uTH",
        "colab": {
          "base_uri": "https://localhost:8080/"
        },
        "outputId": "7234ed46-f703-4b80-942a-5d0a633cde1f"
      },
      "source": [
        "import pandas as pd\r\n",
        "import pkg_resources,imp\r\n",
        "imp.reload(pkg_resources)\r\n",
        "import spacy\r\n",
        "import re\r\n",
        "import numpy as np\r\n",
        "nlp=spacy.load(\"fr_core_news_sm\")\r\n",
        "import nltk\r\n",
        "nltk.download('stopwords')\r\n",
        "stopword=nltk.corpus.stopwords.words('french')\r\n",
        "nltk.download('wordnet')\r\n",
        "from nltk.stem.snowball import FrenchStemmer\r\n",
        "stemmer = FrenchStemmer()\r\n"
      ],
      "execution_count": 56,
      "outputs": [
        {
          "output_type": "stream",
          "text": [
            "[nltk_data] Downloading package stopwords to /root/nltk_data...\n",
            "[nltk_data]   Package stopwords is already up-to-date!\n",
            "[nltk_data] Downloading package wordnet to /root/nltk_data...\n",
            "[nltk_data]   Package wordnet is already up-to-date!\n"
          ],
          "name": "stdout"
        }
      ]
    },
    {
      "cell_type": "code",
      "metadata": {
        "id": "_4pgmAXi635F"
      },
      "source": [
        "wn=nltk.WordNetLemmatizer()\r\n",
        "def tokenize(text):\r\n",
        "    tokens = re.split('\\W+', text) #W+ means a word character or - can go there\r\n",
        "    return tokens\r\n",
        "def remove_stopwords(tokenzed_list):\r\n",
        "    text=[word for word in tokenzed_list if word not in stopword]\r\n",
        "    return text\r\n",
        "def lemmatizing(tokenized_text):\r\n",
        "    texte=[]\r\n",
        "    for elem in tokenized_text:\r\n",
        "      texte.append(stemmer.stem(elem))\r\n",
        "    return texte\r\n",
        "def return_mean_embedding(sentence):\r\n",
        "    # Tokeniser la phrase\r\n",
        "    doc = nlp(sentence)\r\n",
        "    # Retourner la moyenne des vecteurs pour chaque phrase\r\n",
        "    return np.mean([(X.vector) for X in doc], axis=0)"
      ],
      "execution_count": 57,
      "outputs": []
    },
    {
      "cell_type": "code",
      "metadata": {
        "id": "0LLdsXJi638K"
      },
      "source": [
        "def return_word_embedding(sentence):\r\n",
        "    # Tokeniser la phrase\r\n",
        "    doc = nlp(sentence)\r\n",
        "    # Retourner le vecteur lié à chaque token\r\n",
        "    return [(X.vector) for X in doc]\r\n",
        "def return_token(sentence):\r\n",
        "    # Tokeniser la phrase\r\n",
        "    doc = nlp(sentence)\r\n",
        "    # Retourner le texte de chaque token\r\n",
        "    return [X.text for X in doc]"
      ],
      "execution_count": 58,
      "outputs": []
    },
    {
      "cell_type": "code",
      "metadata": {
        "id": "x8fxJrNhq8NQ"
      },
      "source": [
        "df_test = pd.read_json('./df_crawling_clean.json', orient='split')"
      ],
      "execution_count": 59,
      "outputs": []
    },
    {
      "cell_type": "code",
      "metadata": {
        "id": "ACuymZ-ZFo6m"
      },
      "source": [
        "df_new=pd.read_json('./df_crawling_clean.json', orient='split')"
      ],
      "execution_count": 60,
      "outputs": []
    },
    {
      "cell_type": "code",
      "metadata": {
        "colab": {
          "base_uri": "https://localhost:8080/",
          "height": 654
        },
        "id": "SIcdF7GfG17a",
        "outputId": "51b5426a-d644-45a9-992b-b2780ec8f8a8"
      },
      "source": [
        "#on a deux data frame, un qui fera les comparaisons un qui gardera les mots d'origine\r\n",
        "\r\n",
        "df_new"
      ],
      "execution_count": 61,
      "outputs": [
        {
          "output_type": "execute_result",
          "data": {
            "text/html": [
              "<div>\n",
              "<style scoped>\n",
              "    .dataframe tbody tr th:only-of-type {\n",
              "        vertical-align: middle;\n",
              "    }\n",
              "\n",
              "    .dataframe tbody tr th {\n",
              "        vertical-align: top;\n",
              "    }\n",
              "\n",
              "    .dataframe thead th {\n",
              "        text-align: right;\n",
              "    }\n",
              "</style>\n",
              "<table border=\"1\" class=\"dataframe\">\n",
              "  <thead>\n",
              "    <tr style=\"text-align: right;\">\n",
              "      <th></th>\n",
              "      <th>URL</th>\n",
              "      <th>Query</th>\n",
              "      <th>Title</th>\n",
              "      <th>Snippet</th>\n",
              "      <th>Position</th>\n",
              "      <th>Rank</th>\n",
              "    </tr>\n",
              "  </thead>\n",
              "  <tbody>\n",
              "    <tr>\n",
              "      <th>0</th>\n",
              "      <td>https://reality.fr/realite-augmentee/</td>\n",
              "      <td>(réalité AROUND(2) augmentée AND trajectoire A...</td>\n",
              "      <td>Agence de Réalité Augmentée - Création d'Appli...</td>\n",
              "      <td>\"</td>\n",
              "      <td>NaN</td>\n",
              "      <td>1</td>\n",
              "    </tr>\n",
              "    <tr>\n",
              "      <th>1</th>\n",
              "      <td>https://www.ptc.com/fr/technologies/augmented-...</td>\n",
              "      <td>(réalité AROUND(2) augmentée AND trajectoire A...</td>\n",
              "      <td>Qu'est-ce que la réalité augmentée ? | PTC</td>\n",
              "      <td>Conséquence directe : elle connecte les employ...</td>\n",
              "      <td>NaN</td>\n",
              "      <td>3</td>\n",
              "    </tr>\n",
              "    <tr>\n",
              "      <th>2</th>\n",
              "      <td>https://www.adobe.com/fr/insights/5-realworld-...</td>\n",
              "      <td>(réalité AROUND(2) augmentée AND trajectoire A...</td>\n",
              "      <td>Cinq exemples de réalité augmentée innovants. ...</td>\n",
              "      <td>Les consommateurs étant de plus en plus récept...</td>\n",
              "      <td>NaN</td>\n",
              "      <td>4</td>\n",
              "    </tr>\n",
              "    <tr>\n",
              "      <th>3</th>\n",
              "      <td>https://cache.media.eduscol.education.fr/file/...</td>\n",
              "      <td>(réalité AROUND(2) augmentée AND trajectoire A...</td>\n",
              "      <td>Découvrir la réalité augmentée - media.eduscol...</td>\n",
              "      <td>La réalité augmentée (RA) ne doit pas être con...</td>\n",
              "      <td>NaN</td>\n",
              "      <td>5</td>\n",
              "    </tr>\n",
              "    <tr>\n",
              "      <th>4</th>\n",
              "      <td>https://corporate.apec.fr/home/nos-etudes/tout...</td>\n",
              "      <td>(réalité AROUND(2) augmentée AND trajectoire A...</td>\n",
              "      <td>La réalité augmentée / la réalité virtuelle – ...</td>\n",
              "      <td>Ces travaux s'inscrivent dans le cadre du proj...</td>\n",
              "      <td>NaN</td>\n",
              "      <td>6</td>\n",
              "    </tr>\n",
              "    <tr>\n",
              "      <th>...</th>\n",
              "      <td>...</td>\n",
              "      <td>...</td>\n",
              "      <td>...</td>\n",
              "      <td>...</td>\n",
              "      <td>...</td>\n",
              "      <td>...</td>\n",
              "    </tr>\n",
              "    <tr>\n",
              "      <th>90168</th>\n",
              "      <td>http://duspviz.mit.edu/tutorials/python-scraping/</td>\n",
              "      <td>(web AROUND(2) scraping AND AP)</td>\n",
              "      <td>Web Scraping with Python - DUSPviz - MIT</td>\n",
              "      <td>In this class</td>\n",
              "      <td>NaN</td>\n",
              "      <td>96</td>\n",
              "    </tr>\n",
              "    <tr>\n",
              "      <th>90169</th>\n",
              "      <td>https://www.mrexcel.com/board/threads/web-scra...</td>\n",
              "      <td>(web AROUND(2) scraping AND AP)</td>\n",
              "      <td>Web Scraping using VBA | MrExcel Message Board</td>\n",
              "      <td>Feb 4</td>\n",
              "      <td>NaN</td>\n",
              "      <td>97</td>\n",
              "    </tr>\n",
              "    <tr>\n",
              "      <th>90170</th>\n",
              "      <td>http://scrapingauthority.com/2016/09/07/xpath-...</td>\n",
              "      <td>(web AROUND(2) scraping AND AP)</td>\n",
              "      <td>How to Write the Best XPATH and CSS Selectors ...</td>\n",
              "      <td>Sep 7</td>\n",
              "      <td>NaN</td>\n",
              "      <td>98</td>\n",
              "    </tr>\n",
              "    <tr>\n",
              "      <th>90171</th>\n",
              "      <td>https://www.niemanlab.org/2017/05/the-ap-style...</td>\n",
              "      <td>(web AROUND(2) scraping AND AP)</td>\n",
              "      <td>The AP Stylebook now includes new guidelines o...</td>\n",
              "      <td>May 31</td>\n",
              "      <td>NaN</td>\n",
              "      <td>99</td>\n",
              "    </tr>\n",
              "    <tr>\n",
              "      <th>90172</th>\n",
              "      <td>https://www.thoughtfulcode.com/php-web-scraping/</td>\n",
              "      <td>(web AROUND(2) scraping AND AP)</td>\n",
              "      <td>PHP Web Scraping: What to know before you star...</td>\n",
              "      <td>Feb 12</td>\n",
              "      <td>NaN</td>\n",
              "      <td>100</td>\n",
              "    </tr>\n",
              "  </tbody>\n",
              "</table>\n",
              "<p>90173 rows × 6 columns</p>\n",
              "</div>"
            ],
            "text/plain": [
              "                                                     URL  ... Rank\n",
              "0                  https://reality.fr/realite-augmentee/  ...    1\n",
              "1      https://www.ptc.com/fr/technologies/augmented-...  ...    3\n",
              "2      https://www.adobe.com/fr/insights/5-realworld-...  ...    4\n",
              "3      https://cache.media.eduscol.education.fr/file/...  ...    5\n",
              "4      https://corporate.apec.fr/home/nos-etudes/tout...  ...    6\n",
              "...                                                  ...  ...  ...\n",
              "90168  http://duspviz.mit.edu/tutorials/python-scraping/  ...   96\n",
              "90169  https://www.mrexcel.com/board/threads/web-scra...  ...   97\n",
              "90170  http://scrapingauthority.com/2016/09/07/xpath-...  ...   98\n",
              "90171  https://www.niemanlab.org/2017/05/the-ap-style...  ...   99\n",
              "90172   https://www.thoughtfulcode.com/php-web-scraping/  ...  100\n",
              "\n",
              "[90173 rows x 6 columns]"
            ]
          },
          "metadata": {
            "tags": []
          },
          "execution_count": 61
        }
      ]
    },
    {
      "cell_type": "code",
      "metadata": {
        "id": "eHXPlzIsFXvR"
      },
      "source": [
        "df_test['Title'] = [x.lower() for x in df_test.Title]"
      ],
      "execution_count": 62,
      "outputs": []
    },
    {
      "cell_type": "code",
      "metadata": {
        "id": "QeGsTDNb_pOG",
        "colab": {
          "base_uri": "https://localhost:8080/"
        },
        "outputId": "09c90406-f0fc-4912-91f4-31030c1299de"
      },
      "source": [
        "for i in range (len(df_test)):\r\n",
        "  df_test['Query'][i] = df_test['Query'][i].lower()"
      ],
      "execution_count": 63,
      "outputs": [
        {
          "output_type": "stream",
          "text": [
            "/usr/local/lib/python3.6/dist-packages/ipykernel_launcher.py:2: SettingWithCopyWarning: \n",
            "A value is trying to be set on a copy of a slice from a DataFrame\n",
            "\n",
            "See the caveats in the documentation: https://pandas.pydata.org/pandas-docs/stable/user_guide/indexing.html#returning-a-view-versus-a-copy\n",
            "  \n"
          ],
          "name": "stderr"
        }
      ]
    },
    {
      "cell_type": "code",
      "metadata": {
        "colab": {
          "base_uri": "https://localhost:8080/"
        },
        "id": "Txve4Eko_Ba4",
        "outputId": "a5e10faa-5c27-4859-b9a4-dda73496f8c2"
      },
      "source": [
        "import nltk\r\n",
        "nltk.download('stopwords')\r\n",
        "import pandas as pd\r\n",
        "import pickle\r\n",
        "import time\r\n",
        "import nltk\r\n",
        "from nltk.corpus import stopwords\r\n",
        "stop_words = set(stopwords.words('french'))\r\n",
        "from nltk.stem import LancasterStemmer\r\n",
        "import numpy as np\r\n",
        "import time"
      ],
      "execution_count": 64,
      "outputs": [
        {
          "output_type": "stream",
          "text": [
            "[nltk_data] Downloading package stopwords to /root/nltk_data...\n",
            "[nltk_data]   Package stopwords is already up-to-date!\n"
          ],
          "name": "stdout"
        }
      ]
    },
    {
      "cell_type": "code",
      "metadata": {
        "colab": {
          "base_uri": "https://localhost:8080/"
        },
        "id": "9C0PpMMH-bkL",
        "outputId": "191a7a31-fa39-4510-8796-05fa0c831b67"
      },
      "source": [
        "from nltk.stem import SnowballStemmer\r\n",
        "def cleandesc(desc):\r\n",
        "    sent = desc\r\n",
        "    sent = \"\".join([x.lower() if x.isalpha()  else \" \" for x in sent])\r\n",
        "    Porter=SnowballStemmer('french')\r\n",
        "    sent = \" \".join([Porter.stem(x) if x.lower() not in stop_words  else \"\" for x in sent.split()])\r\n",
        "    sent = \" \".join(sent.split())\r\n",
        "    return sent\r\n",
        "start_time=time.time()\r\n",
        "\r\n",
        "#On prends la racine des mots pour le data frame df_test pour faire nos tests de comparaison\r\n",
        "\r\n",
        "df_test['Title']= [cleandesc(x.Title) for x in df_test.itertuples()]\r\n",
        "df_test['Snippet']= [cleandesc(x.Snippet) for x in df_test.itertuples()]\r\n",
        "df_test['Query']= [cleandesc(x.Query) for x in df_test.itertuples()]\r\n",
        "end_time=time.time()\r\n",
        "print(\"total time : {} mn\".format((end_time-start_time)/60))"
      ],
      "execution_count": 65,
      "outputs": [
        {
          "output_type": "stream",
          "text": [
            "total time : 0.6333176374435425 mn\n"
          ],
          "name": "stdout"
        }
      ]
    },
    {
      "cell_type": "code",
      "metadata": {
        "colab": {
          "base_uri": "https://localhost:8080/",
          "height": 654
        },
        "id": "srDwxa4YGRfG",
        "outputId": "09237fb4-890b-4a01-bddd-c2c40a0dfc18"
      },
      "source": [
        "for i in range(len(df_test)):\r\n",
        "  df_test['Query'][i]=df_test['Query'][i].replace(\" around\",\"\")\r\n",
        "df_test"
      ],
      "execution_count": 66,
      "outputs": [
        {
          "output_type": "stream",
          "text": [
            "/usr/local/lib/python3.6/dist-packages/ipykernel_launcher.py:2: SettingWithCopyWarning: \n",
            "A value is trying to be set on a copy of a slice from a DataFrame\n",
            "\n",
            "See the caveats in the documentation: https://pandas.pydata.org/pandas-docs/stable/user_guide/indexing.html#returning-a-view-versus-a-copy\n",
            "  \n"
          ],
          "name": "stderr"
        },
        {
          "output_type": "execute_result",
          "data": {
            "text/html": [
              "<div>\n",
              "<style scoped>\n",
              "    .dataframe tbody tr th:only-of-type {\n",
              "        vertical-align: middle;\n",
              "    }\n",
              "\n",
              "    .dataframe tbody tr th {\n",
              "        vertical-align: top;\n",
              "    }\n",
              "\n",
              "    .dataframe thead th {\n",
              "        text-align: right;\n",
              "    }\n",
              "</style>\n",
              "<table border=\"1\" class=\"dataframe\">\n",
              "  <thead>\n",
              "    <tr style=\"text-align: right;\">\n",
              "      <th></th>\n",
              "      <th>URL</th>\n",
              "      <th>Query</th>\n",
              "      <th>Title</th>\n",
              "      <th>Snippet</th>\n",
              "      <th>Position</th>\n",
              "      <th>Rank</th>\n",
              "    </tr>\n",
              "  </thead>\n",
              "  <tbody>\n",
              "    <tr>\n",
              "      <th>0</th>\n",
              "      <td>https://reality.fr/realite-augmentee/</td>\n",
              "      <td>réalit augment and trajectoir financi</td>\n",
              "      <td>agenc réalit augment création appliqu ar</td>\n",
              "      <td></td>\n",
              "      <td>NaN</td>\n",
              "      <td>1</td>\n",
              "    </tr>\n",
              "    <tr>\n",
              "      <th>1</th>\n",
              "      <td>https://www.ptc.com/fr/technologies/augmented-...</td>\n",
              "      <td>réalit augment and trajectoir financi</td>\n",
              "      <td>réalit augment ptc</td>\n",
              "      <td>conséquent direct connect emploi amélior résul...</td>\n",
              "      <td>NaN</td>\n",
              "      <td>3</td>\n",
              "    </tr>\n",
              "    <tr>\n",
              "      <th>2</th>\n",
              "      <td>https://www.adobe.com/fr/insights/5-realworld-...</td>\n",
              "      <td>réalit augment and trajectoir financi</td>\n",
              "      <td>cinq exempl réalit augment innov adob</td>\n",
              "      <td>consomm plus plus récept expérient ra</td>\n",
              "      <td>NaN</td>\n",
              "      <td>4</td>\n",
              "    </tr>\n",
              "    <tr>\n",
              "      <th>3</th>\n",
              "      <td>https://cache.media.eduscol.education.fr/file/...</td>\n",
              "      <td>réalit augment and trajectoir financi</td>\n",
              "      <td>découvr réalit augment medi eduscol educ fr</td>\n",
              "      <td>réalit augment ra doit être confondu réalit vi...</td>\n",
              "      <td>NaN</td>\n",
              "      <td>5</td>\n",
              "    </tr>\n",
              "    <tr>\n",
              "      <th>4</th>\n",
              "      <td>https://corporate.apec.fr/home/nos-etudes/tout...</td>\n",
              "      <td>réalit augment and trajectoir financi</td>\n",
              "      <td>réalit augment réalit virtuel tendanc méti</td>\n",
              "      <td>traval inscrivent cadr projet def co développ ...</td>\n",
              "      <td>NaN</td>\n",
              "      <td>6</td>\n",
              "    </tr>\n",
              "    <tr>\n",
              "      <th>...</th>\n",
              "      <td>...</td>\n",
              "      <td>...</td>\n",
              "      <td>...</td>\n",
              "      <td>...</td>\n",
              "      <td>...</td>\n",
              "      <td>...</td>\n",
              "    </tr>\n",
              "    <tr>\n",
              "      <th>90168</th>\n",
              "      <td>http://duspviz.mit.edu/tutorials/python-scraping/</td>\n",
              "      <td>web scraping and ap</td>\n",
              "      <td>web scraping with python duspviz mit</td>\n",
              "      <td>in this class</td>\n",
              "      <td>NaN</td>\n",
              "      <td>96</td>\n",
              "    </tr>\n",
              "    <tr>\n",
              "      <th>90169</th>\n",
              "      <td>https://www.mrexcel.com/board/threads/web-scra...</td>\n",
              "      <td>web scraping and ap</td>\n",
              "      <td>web scraping using vba mrexcel messag board</td>\n",
              "      <td>feb</td>\n",
              "      <td>NaN</td>\n",
              "      <td>97</td>\n",
              "    </tr>\n",
              "    <tr>\n",
              "      <th>90170</th>\n",
              "      <td>http://scrapingauthority.com/2016/09/07/xpath-...</td>\n",
              "      <td>web scraping and ap</td>\n",
              "      <td>how to writ the best xpath and css selector fo...</td>\n",
              "      <td>sep</td>\n",
              "      <td>NaN</td>\n",
              "      <td>98</td>\n",
              "    </tr>\n",
              "    <tr>\n",
              "      <th>90171</th>\n",
              "      <td>https://www.niemanlab.org/2017/05/the-ap-style...</td>\n",
              "      <td>web scraping and ap</td>\n",
              "      <td>the ap stylebook now includ new guidelin dat</td>\n",
              "      <td>may</td>\n",
              "      <td>NaN</td>\n",
              "      <td>99</td>\n",
              "    </tr>\n",
              "    <tr>\n",
              "      <th>90172</th>\n",
              "      <td>https://www.thoughtfulcode.com/php-web-scraping/</td>\n",
              "      <td>web scraping and ap</td>\n",
              "      <td>php web scraping what to know befor you start ...</td>\n",
              "      <td>feb</td>\n",
              "      <td>NaN</td>\n",
              "      <td>100</td>\n",
              "    </tr>\n",
              "  </tbody>\n",
              "</table>\n",
              "<p>90173 rows × 6 columns</p>\n",
              "</div>"
            ],
            "text/plain": [
              "                                                     URL  ... Rank\n",
              "0                  https://reality.fr/realite-augmentee/  ...    1\n",
              "1      https://www.ptc.com/fr/technologies/augmented-...  ...    3\n",
              "2      https://www.adobe.com/fr/insights/5-realworld-...  ...    4\n",
              "3      https://cache.media.eduscol.education.fr/file/...  ...    5\n",
              "4      https://corporate.apec.fr/home/nos-etudes/tout...  ...    6\n",
              "...                                                  ...  ...  ...\n",
              "90168  http://duspviz.mit.edu/tutorials/python-scraping/  ...   96\n",
              "90169  https://www.mrexcel.com/board/threads/web-scra...  ...   97\n",
              "90170  http://scrapingauthority.com/2016/09/07/xpath-...  ...   98\n",
              "90171  https://www.niemanlab.org/2017/05/the-ap-style...  ...   99\n",
              "90172   https://www.thoughtfulcode.com/php-web-scraping/  ...  100\n",
              "\n",
              "[90173 rows x 6 columns]"
            ]
          },
          "metadata": {
            "tags": []
          },
          "execution_count": 66
        }
      ]
    },
    {
      "cell_type": "code",
      "metadata": {
        "id": "ML-mKMxDK1qp",
        "colab": {
          "base_uri": "https://localhost:8080/"
        },
        "outputId": "cb31c1a9-bc36-4a9e-c9e9-a5dd68e802d9"
      },
      "source": [
        "#On supprime les parenthèses de la requête et la met en minuscule pour le data frame qui servira à la sortie\r\n",
        "for i in range(len(df_new)):\r\n",
        "  df_new['Query'][i]=df_new['Query'][i].lower()\r\n",
        "  df_new['Query'][i]=df_new['Query'][i].replace(\"(\",\"\")\r\n",
        "  df_new['Query'][i]=df_new['Query'][i].replace(\" around2\",\"\")\r\n",
        "  df_new['Query'][i]=df_new['Query'][i].replace(\")\",\"\")"
      ],
      "execution_count": 67,
      "outputs": [
        {
          "output_type": "stream",
          "text": [
            "/usr/local/lib/python3.6/dist-packages/ipykernel_launcher.py:3: SettingWithCopyWarning: \n",
            "A value is trying to be set on a copy of a slice from a DataFrame\n",
            "\n",
            "See the caveats in the documentation: https://pandas.pydata.org/pandas-docs/stable/user_guide/indexing.html#returning-a-view-versus-a-copy\n",
            "  This is separate from the ipykernel package so we can avoid doing imports until\n",
            "/usr/local/lib/python3.6/dist-packages/ipykernel_launcher.py:4: SettingWithCopyWarning: \n",
            "A value is trying to be set on a copy of a slice from a DataFrame\n",
            "\n",
            "See the caveats in the documentation: https://pandas.pydata.org/pandas-docs/stable/user_guide/indexing.html#returning-a-view-versus-a-copy\n",
            "  after removing the cwd from sys.path.\n",
            "/usr/local/lib/python3.6/dist-packages/ipykernel_launcher.py:5: SettingWithCopyWarning: \n",
            "A value is trying to be set on a copy of a slice from a DataFrame\n",
            "\n",
            "See the caveats in the documentation: https://pandas.pydata.org/pandas-docs/stable/user_guide/indexing.html#returning-a-view-versus-a-copy\n",
            "  \"\"\"\n",
            "/usr/local/lib/python3.6/dist-packages/ipykernel_launcher.py:6: SettingWithCopyWarning: \n",
            "A value is trying to be set on a copy of a slice from a DataFrame\n",
            "\n",
            "See the caveats in the documentation: https://pandas.pydata.org/pandas-docs/stable/user_guide/indexing.html#returning-a-view-versus-a-copy\n",
            "  \n"
          ],
          "name": "stderr"
        }
      ]
    },
    {
      "cell_type": "code",
      "metadata": {
        "colab": {
          "base_uri": "https://localhost:8080/",
          "height": 570
        },
        "id": "OUc20D-hLb9J",
        "outputId": "9f424cb8-48af-401c-f851-a821c95746d8"
      },
      "source": [
        "df_new"
      ],
      "execution_count": 68,
      "outputs": [
        {
          "output_type": "execute_result",
          "data": {
            "text/html": [
              "<div>\n",
              "<style scoped>\n",
              "    .dataframe tbody tr th:only-of-type {\n",
              "        vertical-align: middle;\n",
              "    }\n",
              "\n",
              "    .dataframe tbody tr th {\n",
              "        vertical-align: top;\n",
              "    }\n",
              "\n",
              "    .dataframe thead th {\n",
              "        text-align: right;\n",
              "    }\n",
              "</style>\n",
              "<table border=\"1\" class=\"dataframe\">\n",
              "  <thead>\n",
              "    <tr style=\"text-align: right;\">\n",
              "      <th></th>\n",
              "      <th>URL</th>\n",
              "      <th>Query</th>\n",
              "      <th>Title</th>\n",
              "      <th>Snippet</th>\n",
              "      <th>Position</th>\n",
              "      <th>Rank</th>\n",
              "    </tr>\n",
              "  </thead>\n",
              "  <tbody>\n",
              "    <tr>\n",
              "      <th>0</th>\n",
              "      <td>https://reality.fr/realite-augmentee/</td>\n",
              "      <td>réalité augmentée and trajectoire financière</td>\n",
              "      <td>Agence de Réalité Augmentée - Création d'Appli...</td>\n",
              "      <td>\"</td>\n",
              "      <td>NaN</td>\n",
              "      <td>1</td>\n",
              "    </tr>\n",
              "    <tr>\n",
              "      <th>1</th>\n",
              "      <td>https://www.ptc.com/fr/technologies/augmented-...</td>\n",
              "      <td>réalité augmentée and trajectoire financière</td>\n",
              "      <td>Qu'est-ce que la réalité augmentée ? | PTC</td>\n",
              "      <td>Conséquence directe : elle connecte les employ...</td>\n",
              "      <td>NaN</td>\n",
              "      <td>3</td>\n",
              "    </tr>\n",
              "    <tr>\n",
              "      <th>2</th>\n",
              "      <td>https://www.adobe.com/fr/insights/5-realworld-...</td>\n",
              "      <td>réalité augmentée and trajectoire financière</td>\n",
              "      <td>Cinq exemples de réalité augmentée innovants. ...</td>\n",
              "      <td>Les consommateurs étant de plus en plus récept...</td>\n",
              "      <td>NaN</td>\n",
              "      <td>4</td>\n",
              "    </tr>\n",
              "    <tr>\n",
              "      <th>3</th>\n",
              "      <td>https://cache.media.eduscol.education.fr/file/...</td>\n",
              "      <td>réalité augmentée and trajectoire financière</td>\n",
              "      <td>Découvrir la réalité augmentée - media.eduscol...</td>\n",
              "      <td>La réalité augmentée (RA) ne doit pas être con...</td>\n",
              "      <td>NaN</td>\n",
              "      <td>5</td>\n",
              "    </tr>\n",
              "    <tr>\n",
              "      <th>4</th>\n",
              "      <td>https://corporate.apec.fr/home/nos-etudes/tout...</td>\n",
              "      <td>réalité augmentée and trajectoire financière</td>\n",
              "      <td>La réalité augmentée / la réalité virtuelle – ...</td>\n",
              "      <td>Ces travaux s'inscrivent dans le cadre du proj...</td>\n",
              "      <td>NaN</td>\n",
              "      <td>6</td>\n",
              "    </tr>\n",
              "    <tr>\n",
              "      <th>...</th>\n",
              "      <td>...</td>\n",
              "      <td>...</td>\n",
              "      <td>...</td>\n",
              "      <td>...</td>\n",
              "      <td>...</td>\n",
              "      <td>...</td>\n",
              "    </tr>\n",
              "    <tr>\n",
              "      <th>90168</th>\n",
              "      <td>http://duspviz.mit.edu/tutorials/python-scraping/</td>\n",
              "      <td>web scraping and ap</td>\n",
              "      <td>Web Scraping with Python - DUSPviz - MIT</td>\n",
              "      <td>In this class</td>\n",
              "      <td>NaN</td>\n",
              "      <td>96</td>\n",
              "    </tr>\n",
              "    <tr>\n",
              "      <th>90169</th>\n",
              "      <td>https://www.mrexcel.com/board/threads/web-scra...</td>\n",
              "      <td>web scraping and ap</td>\n",
              "      <td>Web Scraping using VBA | MrExcel Message Board</td>\n",
              "      <td>Feb 4</td>\n",
              "      <td>NaN</td>\n",
              "      <td>97</td>\n",
              "    </tr>\n",
              "    <tr>\n",
              "      <th>90170</th>\n",
              "      <td>http://scrapingauthority.com/2016/09/07/xpath-...</td>\n",
              "      <td>web scraping and ap</td>\n",
              "      <td>How to Write the Best XPATH and CSS Selectors ...</td>\n",
              "      <td>Sep 7</td>\n",
              "      <td>NaN</td>\n",
              "      <td>98</td>\n",
              "    </tr>\n",
              "    <tr>\n",
              "      <th>90171</th>\n",
              "      <td>https://www.niemanlab.org/2017/05/the-ap-style...</td>\n",
              "      <td>web scraping and ap</td>\n",
              "      <td>The AP Stylebook now includes new guidelines o...</td>\n",
              "      <td>May 31</td>\n",
              "      <td>NaN</td>\n",
              "      <td>99</td>\n",
              "    </tr>\n",
              "    <tr>\n",
              "      <th>90172</th>\n",
              "      <td>https://www.thoughtfulcode.com/php-web-scraping/</td>\n",
              "      <td>web scraping and ap</td>\n",
              "      <td>PHP Web Scraping: What to know before you star...</td>\n",
              "      <td>Feb 12</td>\n",
              "      <td>NaN</td>\n",
              "      <td>100</td>\n",
              "    </tr>\n",
              "  </tbody>\n",
              "</table>\n",
              "<p>90173 rows × 6 columns</p>\n",
              "</div>"
            ],
            "text/plain": [
              "                                                     URL  ... Rank\n",
              "0                  https://reality.fr/realite-augmentee/  ...    1\n",
              "1      https://www.ptc.com/fr/technologies/augmented-...  ...    3\n",
              "2      https://www.adobe.com/fr/insights/5-realworld-...  ...    4\n",
              "3      https://cache.media.eduscol.education.fr/file/...  ...    5\n",
              "4      https://corporate.apec.fr/home/nos-etudes/tout...  ...    6\n",
              "...                                                  ...  ...  ...\n",
              "90168  http://duspviz.mit.edu/tutorials/python-scraping/  ...   96\n",
              "90169  https://www.mrexcel.com/board/threads/web-scra...  ...   97\n",
              "90170  http://scrapingauthority.com/2016/09/07/xpath-...  ...   98\n",
              "90171  https://www.niemanlab.org/2017/05/the-ap-style...  ...   99\n",
              "90172   https://www.thoughtfulcode.com/php-web-scraping/  ...  100\n",
              "\n",
              "[90173 rows x 6 columns]"
            ]
          },
          "metadata": {
            "tags": []
          },
          "execution_count": 68
        }
      ]
    },
    {
      "cell_type": "code",
      "metadata": {
        "id": "O8H87owJdVn2"
      },
      "source": [
        "df_new['Words_find']=''"
      ],
      "execution_count": 69,
      "outputs": []
    },
    {
      "cell_type": "code",
      "metadata": {
        "id": "aFRpoVl9F0kB"
      },
      "source": [
        "def clear_out(df,df_n) :\r\n",
        "  \"\"\"\r\n",
        "  parameters : df (un data frame avec des mots tokenisé pour faire la comparaison)\r\n",
        "              df_n (un data frame avec les mots d'origine pour les récupérer proprement)\r\n",
        "  L'objectif est de transformer la colone words_find de df_n pour récuper les mots qui sont dans le titre et le resumé.\r\n",
        "  Mais les comparaisons se feront sur les mots réduits de df\r\n",
        "  \"\"\"\r\n",
        "  for j in range (len(df)): # pour chaque ligne du df,\r\n",
        "    separator_or = list(df['Query'][j].split(' or ')) #on stocke tous les couples de la requete dans une liste separator_or\r\n",
        "    sep_or= list(df_n['Query'][j].split(' or '))\r\n",
        "    list_test=[] #liste pour stocker les mots en commun pour chaque ligne\r\n",
        "    for k in range (len(separator_or)): #pour chacun de ces couples,s\r\n",
        "      separator_and = list(separator_or[k].split(' and ')) #on stocke tous les mots du couple de la requete dans une liste separator_and\r\n",
        "      sep_and = list(sep_or[k].split(' and '))\r\n",
        "      for i in range (len(separator_and)): #pour tous les mots de la requete,\r\n",
        "        if (df['Title'][j].find(separator_and[i]) != -1) : #on le cherche dans le titre, et si c'est présent...\r\n",
        "          list_test.append(sep_and[i])\r\n",
        "        if (df['Snippet'][j].find(separator_and[i]) != -1) : #ensuite, on le cherche dans le resumé, et si c'est présent...\r\n",
        "          list_test.append(sep_and[i]) #... on le met dans une liste\r\n",
        "          list_test = list(set(list_test))\r\n",
        "      str = ' '.join(list_test) #...\r\n",
        "    df_n['Words_find'][j]=list_test\r\n",
        "  return(df_n)\r\n"
      ],
      "execution_count": 70,
      "outputs": []
    },
    {
      "cell_type": "code",
      "metadata": {
        "colab": {
          "base_uri": "https://localhost:8080/",
          "height": 754
        },
        "id": "38OnYz0zF3Nt",
        "outputId": "ab4a77c0-dc1d-4c30-c86b-967fad94cc70"
      },
      "source": [
        "dt = clear_out(df_test,df_new)\r\n",
        "dt"
      ],
      "execution_count": 71,
      "outputs": [
        {
          "output_type": "stream",
          "text": [
            "/usr/local/lib/python3.6/dist-packages/ipykernel_launcher.py:16: SettingWithCopyWarning: \n",
            "A value is trying to be set on a copy of a slice from a DataFrame\n",
            "\n",
            "See the caveats in the documentation: https://pandas.pydata.org/pandas-docs/stable/user_guide/indexing.html#returning-a-view-versus-a-copy\n",
            "  app.launch_new_instance()\n"
          ],
          "name": "stderr"
        },
        {
          "output_type": "execute_result",
          "data": {
            "text/html": [
              "<div>\n",
              "<style scoped>\n",
              "    .dataframe tbody tr th:only-of-type {\n",
              "        vertical-align: middle;\n",
              "    }\n",
              "\n",
              "    .dataframe tbody tr th {\n",
              "        vertical-align: top;\n",
              "    }\n",
              "\n",
              "    .dataframe thead th {\n",
              "        text-align: right;\n",
              "    }\n",
              "</style>\n",
              "<table border=\"1\" class=\"dataframe\">\n",
              "  <thead>\n",
              "    <tr style=\"text-align: right;\">\n",
              "      <th></th>\n",
              "      <th>URL</th>\n",
              "      <th>Query</th>\n",
              "      <th>Title</th>\n",
              "      <th>Snippet</th>\n",
              "      <th>Position</th>\n",
              "      <th>Rank</th>\n",
              "      <th>Words_find</th>\n",
              "    </tr>\n",
              "  </thead>\n",
              "  <tbody>\n",
              "    <tr>\n",
              "      <th>0</th>\n",
              "      <td>https://reality.fr/realite-augmentee/</td>\n",
              "      <td>réalité augmentée and trajectoire financière</td>\n",
              "      <td>Agence de Réalité Augmentée - Création d'Appli...</td>\n",
              "      <td>\"</td>\n",
              "      <td>NaN</td>\n",
              "      <td>1</td>\n",
              "      <td>[réalité augmentée]</td>\n",
              "    </tr>\n",
              "    <tr>\n",
              "      <th>1</th>\n",
              "      <td>https://www.ptc.com/fr/technologies/augmented-...</td>\n",
              "      <td>réalité augmentée and trajectoire financière</td>\n",
              "      <td>Qu'est-ce que la réalité augmentée ? | PTC</td>\n",
              "      <td>Conséquence directe : elle connecte les employ...</td>\n",
              "      <td>NaN</td>\n",
              "      <td>3</td>\n",
              "      <td>[réalité augmentée]</td>\n",
              "    </tr>\n",
              "    <tr>\n",
              "      <th>2</th>\n",
              "      <td>https://www.adobe.com/fr/insights/5-realworld-...</td>\n",
              "      <td>réalité augmentée and trajectoire financière</td>\n",
              "      <td>Cinq exemples de réalité augmentée innovants. ...</td>\n",
              "      <td>Les consommateurs étant de plus en plus récept...</td>\n",
              "      <td>NaN</td>\n",
              "      <td>4</td>\n",
              "      <td>[réalité augmentée]</td>\n",
              "    </tr>\n",
              "    <tr>\n",
              "      <th>3</th>\n",
              "      <td>https://cache.media.eduscol.education.fr/file/...</td>\n",
              "      <td>réalité augmentée and trajectoire financière</td>\n",
              "      <td>Découvrir la réalité augmentée - media.eduscol...</td>\n",
              "      <td>La réalité augmentée (RA) ne doit pas être con...</td>\n",
              "      <td>NaN</td>\n",
              "      <td>5</td>\n",
              "      <td>[réalité augmentée]</td>\n",
              "    </tr>\n",
              "    <tr>\n",
              "      <th>4</th>\n",
              "      <td>https://corporate.apec.fr/home/nos-etudes/tout...</td>\n",
              "      <td>réalité augmentée and trajectoire financière</td>\n",
              "      <td>La réalité augmentée / la réalité virtuelle – ...</td>\n",
              "      <td>Ces travaux s'inscrivent dans le cadre du proj...</td>\n",
              "      <td>NaN</td>\n",
              "      <td>6</td>\n",
              "      <td>[réalité augmentée]</td>\n",
              "    </tr>\n",
              "    <tr>\n",
              "      <th>...</th>\n",
              "      <td>...</td>\n",
              "      <td>...</td>\n",
              "      <td>...</td>\n",
              "      <td>...</td>\n",
              "      <td>...</td>\n",
              "      <td>...</td>\n",
              "      <td>...</td>\n",
              "    </tr>\n",
              "    <tr>\n",
              "      <th>90168</th>\n",
              "      <td>http://duspviz.mit.edu/tutorials/python-scraping/</td>\n",
              "      <td>web scraping and ap</td>\n",
              "      <td>Web Scraping with Python - DUSPviz - MIT</td>\n",
              "      <td>In this class</td>\n",
              "      <td>NaN</td>\n",
              "      <td>96</td>\n",
              "      <td>[web scraping, ap]</td>\n",
              "    </tr>\n",
              "    <tr>\n",
              "      <th>90169</th>\n",
              "      <td>https://www.mrexcel.com/board/threads/web-scra...</td>\n",
              "      <td>web scraping and ap</td>\n",
              "      <td>Web Scraping using VBA | MrExcel Message Board</td>\n",
              "      <td>Feb 4</td>\n",
              "      <td>NaN</td>\n",
              "      <td>97</td>\n",
              "      <td>[web scraping, ap]</td>\n",
              "    </tr>\n",
              "    <tr>\n",
              "      <th>90170</th>\n",
              "      <td>http://scrapingauthority.com/2016/09/07/xpath-...</td>\n",
              "      <td>web scraping and ap</td>\n",
              "      <td>How to Write the Best XPATH and CSS Selectors ...</td>\n",
              "      <td>Sep 7</td>\n",
              "      <td>NaN</td>\n",
              "      <td>98</td>\n",
              "      <td>[]</td>\n",
              "    </tr>\n",
              "    <tr>\n",
              "      <th>90171</th>\n",
              "      <td>https://www.niemanlab.org/2017/05/the-ap-style...</td>\n",
              "      <td>web scraping and ap</td>\n",
              "      <td>The AP Stylebook now includes new guidelines o...</td>\n",
              "      <td>May 31</td>\n",
              "      <td>NaN</td>\n",
              "      <td>99</td>\n",
              "      <td>[ap]</td>\n",
              "    </tr>\n",
              "    <tr>\n",
              "      <th>90172</th>\n",
              "      <td>https://www.thoughtfulcode.com/php-web-scraping/</td>\n",
              "      <td>web scraping and ap</td>\n",
              "      <td>PHP Web Scraping: What to know before you star...</td>\n",
              "      <td>Feb 12</td>\n",
              "      <td>NaN</td>\n",
              "      <td>100</td>\n",
              "      <td>[web scraping, ap]</td>\n",
              "    </tr>\n",
              "  </tbody>\n",
              "</table>\n",
              "<p>90173 rows × 7 columns</p>\n",
              "</div>"
            ],
            "text/plain": [
              "                                                     URL  ...           Words_find\n",
              "0                  https://reality.fr/realite-augmentee/  ...  [réalité augmentée]\n",
              "1      https://www.ptc.com/fr/technologies/augmented-...  ...  [réalité augmentée]\n",
              "2      https://www.adobe.com/fr/insights/5-realworld-...  ...  [réalité augmentée]\n",
              "3      https://cache.media.eduscol.education.fr/file/...  ...  [réalité augmentée]\n",
              "4      https://corporate.apec.fr/home/nos-etudes/tout...  ...  [réalité augmentée]\n",
              "...                                                  ...  ...                  ...\n",
              "90168  http://duspviz.mit.edu/tutorials/python-scraping/  ...   [web scraping, ap]\n",
              "90169  https://www.mrexcel.com/board/threads/web-scra...  ...   [web scraping, ap]\n",
              "90170  http://scrapingauthority.com/2016/09/07/xpath-...  ...                   []\n",
              "90171  https://www.niemanlab.org/2017/05/the-ap-style...  ...                 [ap]\n",
              "90172   https://www.thoughtfulcode.com/php-web-scraping/  ...   [web scraping, ap]\n",
              "\n",
              "[90173 rows x 7 columns]"
            ]
          },
          "metadata": {
            "tags": []
          },
          "execution_count": 71
        }
      ]
    },
    {
      "cell_type": "code",
      "metadata": {
        "id": "WZeLjraBl31F"
      },
      "source": [
        "dt.to_json('df_words_find.json')"
      ],
      "execution_count": 73,
      "outputs": []
    }
  ]
}