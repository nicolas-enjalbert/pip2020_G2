{
  "cells": [
    {
      "cell_type": "markdown",
      "metadata": {
        "id": "view-in-github",
        "colab_type": "text"
      },
      "source": [
        "<a href=\"https://colab.research.google.com/github/nicolas-enjalbert/pip2021_G2/blob/main/test_set_analysis.ipynb\" target=\"_parent\"><img src=\"https://colab.research.google.com/assets/colab-badge.svg\" alt=\"Open In Colab\"/></a>"
      ]
    },
    {
      "cell_type": "markdown",
      "id": "7301940f",
      "metadata": {
        "id": "7301940f"
      },
      "source": [
        "# Import des librairies"
      ]
    },
    {
      "cell_type": "code",
      "execution_count": 4,
      "id": "N-5hTJ6VK-bo",
      "metadata": {
        "colab": {
          "base_uri": "https://localhost:8080/"
        },
        "id": "N-5hTJ6VK-bo",
        "outputId": "bff08383-27b7-4635-a981-2f8c4fdaf837"
      },
      "outputs": [
        {
          "output_type": "stream",
          "name": "stdout",
          "text": [
            "Looking in indexes: https://pypi.org/simple, https://us-python.pkg.dev/colab-wheels/public/simple/\n",
            "Collecting fitter\n",
            "  Downloading fitter-1.5.1.tar.gz (27 kB)\n",
            "Requirement already satisfied: click in /usr/local/lib/python3.7/dist-packages (from fitter) (7.1.2)\n",
            "Requirement already satisfied: joblib in /usr/local/lib/python3.7/dist-packages (from fitter) (1.2.0)\n",
            "Requirement already satisfied: matplotlib in /usr/local/lib/python3.7/dist-packages (from fitter) (3.2.2)\n",
            "Requirement already satisfied: numpy in /usr/local/lib/python3.7/dist-packages (from fitter) (1.21.6)\n",
            "Requirement already satisfied: pandas in /usr/local/lib/python3.7/dist-packages (from fitter) (1.3.5)\n",
            "Requirement already satisfied: scipy>=0.18 in /usr/local/lib/python3.7/dist-packages (from fitter) (1.7.3)\n",
            "Requirement already satisfied: tqdm in /usr/local/lib/python3.7/dist-packages (from fitter) (4.64.1)\n",
            "Requirement already satisfied: kiwisolver>=1.0.1 in /usr/local/lib/python3.7/dist-packages (from matplotlib->fitter) (1.4.4)\n",
            "Requirement already satisfied: python-dateutil>=2.1 in /usr/local/lib/python3.7/dist-packages (from matplotlib->fitter) (2.8.2)\n",
            "Requirement already satisfied: pyparsing!=2.0.4,!=2.1.2,!=2.1.6,>=2.0.1 in /usr/local/lib/python3.7/dist-packages (from matplotlib->fitter) (3.0.9)\n",
            "Requirement already satisfied: cycler>=0.10 in /usr/local/lib/python3.7/dist-packages (from matplotlib->fitter) (0.11.0)\n",
            "Requirement already satisfied: typing-extensions in /usr/local/lib/python3.7/dist-packages (from kiwisolver>=1.0.1->matplotlib->fitter) (4.1.1)\n",
            "Requirement already satisfied: six>=1.5 in /usr/local/lib/python3.7/dist-packages (from python-dateutil>=2.1->matplotlib->fitter) (1.15.0)\n",
            "Requirement already satisfied: pytz>=2017.3 in /usr/local/lib/python3.7/dist-packages (from pandas->fitter) (2022.4)\n",
            "Building wheels for collected packages: fitter\n",
            "  Building wheel for fitter (setup.py) ... \u001b[?25l\u001b[?25hdone\n",
            "  Created wheel for fitter: filename=fitter-1.5.1-py3-none-any.whl size=25596 sha256=2e06c50b2ccbd7eacbf0c1038671a863bf6cf7f9d24545f0350860fea227bf84\n",
            "  Stored in directory: /root/.cache/pip/wheels/40/65/62/57b872ba7af36e70111b1f67cffe76f97c747804aff7665ccb\n",
            "Successfully built fitter\n",
            "Installing collected packages: fitter\n",
            "Successfully installed fitter-1.5.1\n",
            "Looking in indexes: https://pypi.org/simple, https://us-python.pkg.dev/colab-wheels/public/simple/\n",
            "Collecting missingpy\n",
            "  Downloading missingpy-0.2.0-py3-none-any.whl (49 kB)\n",
            "\u001b[K     |████████████████████████████████| 49 kB 2.5 MB/s \n",
            "\u001b[?25hInstalling collected packages: missingpy\n",
            "Successfully installed missingpy-0.2.0\n"
          ]
        }
      ],
      "source": [
        "!pip install fitter\n",
        "!pip install missingpy"
      ]
    },
    {
      "cell_type": "code",
      "execution_count": 5,
      "id": "289277e1",
      "metadata": {
        "id": "289277e1"
      },
      "outputs": [],
      "source": [
        "import pandas as pd\n",
        "import matplotlib.pyplot as plt\n",
        "import seaborn as sns\n",
        "import numpy as np\n",
        "from fitter import Fitter, get_common_distributions, get_distributions\n",
        "import sklearn.neighbors._base\n",
        "import sys\n",
        "sys.modules['sklearn.neighbors.base'] = sklearn.neighbors._base\n",
        "from missingpy import MissForest\n",
        "from sklearn.impute import KNNImputer\n",
        "from scipy import stats\n",
        "import warnings\n",
        "warnings.filterwarnings('ignore')\n",
        "from sklearn.linear_model import Ridge\n",
        "from sklearn.preprocessing import PolynomialFeatures\n",
        "from sklearn.pipeline import make_pipeline\n",
        "import operator"
      ]
    },
    {
      "cell_type": "markdown",
      "id": "962021ea",
      "metadata": {
        "id": "962021ea"
      },
      "source": [
        "# Chargement des données"
      ]
    },
    {
      "cell_type": "code",
      "execution_count": 12,
      "id": "1e5aa03e",
      "metadata": {
        "id": "1e5aa03e"
      },
      "outputs": [],
      "source": [
        "df = pd.read_csv(\"test_set.csv\")\n",
        "df_req = df.drop_duplicates(subset=['order_requests'])"
      ]
    },
    {
      "cell_type": "markdown",
      "id": "084299fd",
      "metadata": {
        "id": "084299fd"
      },
      "source": [
        "# Prévisualisation"
      ]
    },
    {
      "cell_type": "code",
      "execution_count": null,
      "id": "27fc30db",
      "metadata": {
        "id": "27fc30db",
        "outputId": "284a6ed1-ec83-4577-f137-19acc147b1ac",
        "colab": {
          "base_uri": "https://localhost:8080/",
          "height": 424
        }
      },
      "outputs": [
        {
          "output_type": "execute_result",
          "data": {
            "text/plain": [
              "      index  order_requests     city  date  language  mobile  avatar_id  \\\n",
              "0         0               1  vilnius    21  romanian       0          1   \n",
              "1         1               1  vilnius    21  romanian       0          1   \n",
              "2         2               1  vilnius    21  romanian       0          1   \n",
              "3         3               1  vilnius    21  romanian       0          1   \n",
              "4         4               1  vilnius    21  romanian       0          1   \n",
              "...     ...             ...      ...   ...       ...     ...        ...   \n",
              "6639   6639             843     rome     5     irish       0        794   \n",
              "6640   6640             844   vienna     1     irish       1        794   \n",
              "6641   6641             844   vienna     1     irish       1        794   \n",
              "6642   6642             844   vienna     1     irish       1        794   \n",
              "6643   6643             844   vienna     1     irish       1        794   \n",
              "\n",
              "      hotel_id  stock  \n",
              "0          161     46  \n",
              "1          187     32  \n",
              "2          279     12  \n",
              "3          395     10  \n",
              "4          488     42  \n",
              "...        ...    ...  \n",
              "6639       987      1  \n",
              "6640        26      1  \n",
              "6641       263      0  \n",
              "6642       456      0  \n",
              "6643       699      0  \n",
              "\n",
              "[6644 rows x 9 columns]"
            ],
            "text/html": [
              "\n",
              "  <div id=\"df-e40eefb6-46fc-4de6-bc15-ec995a072a85\">\n",
              "    <div class=\"colab-df-container\">\n",
              "      <div>\n",
              "<style scoped>\n",
              "    .dataframe tbody tr th:only-of-type {\n",
              "        vertical-align: middle;\n",
              "    }\n",
              "\n",
              "    .dataframe tbody tr th {\n",
              "        vertical-align: top;\n",
              "    }\n",
              "\n",
              "    .dataframe thead th {\n",
              "        text-align: right;\n",
              "    }\n",
              "</style>\n",
              "<table border=\"1\" class=\"dataframe\">\n",
              "  <thead>\n",
              "    <tr style=\"text-align: right;\">\n",
              "      <th></th>\n",
              "      <th>index</th>\n",
              "      <th>order_requests</th>\n",
              "      <th>city</th>\n",
              "      <th>date</th>\n",
              "      <th>language</th>\n",
              "      <th>mobile</th>\n",
              "      <th>avatar_id</th>\n",
              "      <th>hotel_id</th>\n",
              "      <th>stock</th>\n",
              "    </tr>\n",
              "  </thead>\n",
              "  <tbody>\n",
              "    <tr>\n",
              "      <th>0</th>\n",
              "      <td>0</td>\n",
              "      <td>1</td>\n",
              "      <td>vilnius</td>\n",
              "      <td>21</td>\n",
              "      <td>romanian</td>\n",
              "      <td>0</td>\n",
              "      <td>1</td>\n",
              "      <td>161</td>\n",
              "      <td>46</td>\n",
              "    </tr>\n",
              "    <tr>\n",
              "      <th>1</th>\n",
              "      <td>1</td>\n",
              "      <td>1</td>\n",
              "      <td>vilnius</td>\n",
              "      <td>21</td>\n",
              "      <td>romanian</td>\n",
              "      <td>0</td>\n",
              "      <td>1</td>\n",
              "      <td>187</td>\n",
              "      <td>32</td>\n",
              "    </tr>\n",
              "    <tr>\n",
              "      <th>2</th>\n",
              "      <td>2</td>\n",
              "      <td>1</td>\n",
              "      <td>vilnius</td>\n",
              "      <td>21</td>\n",
              "      <td>romanian</td>\n",
              "      <td>0</td>\n",
              "      <td>1</td>\n",
              "      <td>279</td>\n",
              "      <td>12</td>\n",
              "    </tr>\n",
              "    <tr>\n",
              "      <th>3</th>\n",
              "      <td>3</td>\n",
              "      <td>1</td>\n",
              "      <td>vilnius</td>\n",
              "      <td>21</td>\n",
              "      <td>romanian</td>\n",
              "      <td>0</td>\n",
              "      <td>1</td>\n",
              "      <td>395</td>\n",
              "      <td>10</td>\n",
              "    </tr>\n",
              "    <tr>\n",
              "      <th>4</th>\n",
              "      <td>4</td>\n",
              "      <td>1</td>\n",
              "      <td>vilnius</td>\n",
              "      <td>21</td>\n",
              "      <td>romanian</td>\n",
              "      <td>0</td>\n",
              "      <td>1</td>\n",
              "      <td>488</td>\n",
              "      <td>42</td>\n",
              "    </tr>\n",
              "    <tr>\n",
              "      <th>...</th>\n",
              "      <td>...</td>\n",
              "      <td>...</td>\n",
              "      <td>...</td>\n",
              "      <td>...</td>\n",
              "      <td>...</td>\n",
              "      <td>...</td>\n",
              "      <td>...</td>\n",
              "      <td>...</td>\n",
              "      <td>...</td>\n",
              "    </tr>\n",
              "    <tr>\n",
              "      <th>6639</th>\n",
              "      <td>6639</td>\n",
              "      <td>843</td>\n",
              "      <td>rome</td>\n",
              "      <td>5</td>\n",
              "      <td>irish</td>\n",
              "      <td>0</td>\n",
              "      <td>794</td>\n",
              "      <td>987</td>\n",
              "      <td>1</td>\n",
              "    </tr>\n",
              "    <tr>\n",
              "      <th>6640</th>\n",
              "      <td>6640</td>\n",
              "      <td>844</td>\n",
              "      <td>vienna</td>\n",
              "      <td>1</td>\n",
              "      <td>irish</td>\n",
              "      <td>1</td>\n",
              "      <td>794</td>\n",
              "      <td>26</td>\n",
              "      <td>1</td>\n",
              "    </tr>\n",
              "    <tr>\n",
              "      <th>6641</th>\n",
              "      <td>6641</td>\n",
              "      <td>844</td>\n",
              "      <td>vienna</td>\n",
              "      <td>1</td>\n",
              "      <td>irish</td>\n",
              "      <td>1</td>\n",
              "      <td>794</td>\n",
              "      <td>263</td>\n",
              "      <td>0</td>\n",
              "    </tr>\n",
              "    <tr>\n",
              "      <th>6642</th>\n",
              "      <td>6642</td>\n",
              "      <td>844</td>\n",
              "      <td>vienna</td>\n",
              "      <td>1</td>\n",
              "      <td>irish</td>\n",
              "      <td>1</td>\n",
              "      <td>794</td>\n",
              "      <td>456</td>\n",
              "      <td>0</td>\n",
              "    </tr>\n",
              "    <tr>\n",
              "      <th>6643</th>\n",
              "      <td>6643</td>\n",
              "      <td>844</td>\n",
              "      <td>vienna</td>\n",
              "      <td>1</td>\n",
              "      <td>irish</td>\n",
              "      <td>1</td>\n",
              "      <td>794</td>\n",
              "      <td>699</td>\n",
              "      <td>0</td>\n",
              "    </tr>\n",
              "  </tbody>\n",
              "</table>\n",
              "<p>6644 rows × 9 columns</p>\n",
              "</div>\n",
              "      <button class=\"colab-df-convert\" onclick=\"convertToInteractive('df-e40eefb6-46fc-4de6-bc15-ec995a072a85')\"\n",
              "              title=\"Convert this dataframe to an interactive table.\"\n",
              "              style=\"display:none;\">\n",
              "        \n",
              "  <svg xmlns=\"http://www.w3.org/2000/svg\" height=\"24px\"viewBox=\"0 0 24 24\"\n",
              "       width=\"24px\">\n",
              "    <path d=\"M0 0h24v24H0V0z\" fill=\"none\"/>\n",
              "    <path d=\"M18.56 5.44l.94 2.06.94-2.06 2.06-.94-2.06-.94-.94-2.06-.94 2.06-2.06.94zm-11 1L8.5 8.5l.94-2.06 2.06-.94-2.06-.94L8.5 2.5l-.94 2.06-2.06.94zm10 10l.94 2.06.94-2.06 2.06-.94-2.06-.94-.94-2.06-.94 2.06-2.06.94z\"/><path d=\"M17.41 7.96l-1.37-1.37c-.4-.4-.92-.59-1.43-.59-.52 0-1.04.2-1.43.59L10.3 9.45l-7.72 7.72c-.78.78-.78 2.05 0 2.83L4 21.41c.39.39.9.59 1.41.59.51 0 1.02-.2 1.41-.59l7.78-7.78 2.81-2.81c.8-.78.8-2.07 0-2.86zM5.41 20L4 18.59l7.72-7.72 1.47 1.35L5.41 20z\"/>\n",
              "  </svg>\n",
              "      </button>\n",
              "      \n",
              "  <style>\n",
              "    .colab-df-container {\n",
              "      display:flex;\n",
              "      flex-wrap:wrap;\n",
              "      gap: 12px;\n",
              "    }\n",
              "\n",
              "    .colab-df-convert {\n",
              "      background-color: #E8F0FE;\n",
              "      border: none;\n",
              "      border-radius: 50%;\n",
              "      cursor: pointer;\n",
              "      display: none;\n",
              "      fill: #1967D2;\n",
              "      height: 32px;\n",
              "      padding: 0 0 0 0;\n",
              "      width: 32px;\n",
              "    }\n",
              "\n",
              "    .colab-df-convert:hover {\n",
              "      background-color: #E2EBFA;\n",
              "      box-shadow: 0px 1px 2px rgba(60, 64, 67, 0.3), 0px 1px 3px 1px rgba(60, 64, 67, 0.15);\n",
              "      fill: #174EA6;\n",
              "    }\n",
              "\n",
              "    [theme=dark] .colab-df-convert {\n",
              "      background-color: #3B4455;\n",
              "      fill: #D2E3FC;\n",
              "    }\n",
              "\n",
              "    [theme=dark] .colab-df-convert:hover {\n",
              "      background-color: #434B5C;\n",
              "      box-shadow: 0px 1px 3px 1px rgba(0, 0, 0, 0.15);\n",
              "      filter: drop-shadow(0px 1px 2px rgba(0, 0, 0, 0.3));\n",
              "      fill: #FFFFFF;\n",
              "    }\n",
              "  </style>\n",
              "\n",
              "      <script>\n",
              "        const buttonEl =\n",
              "          document.querySelector('#df-e40eefb6-46fc-4de6-bc15-ec995a072a85 button.colab-df-convert');\n",
              "        buttonEl.style.display =\n",
              "          google.colab.kernel.accessAllowed ? 'block' : 'none';\n",
              "\n",
              "        async function convertToInteractive(key) {\n",
              "          const element = document.querySelector('#df-e40eefb6-46fc-4de6-bc15-ec995a072a85');\n",
              "          const dataTable =\n",
              "            await google.colab.kernel.invokeFunction('convertToInteractive',\n",
              "                                                     [key], {});\n",
              "          if (!dataTable) return;\n",
              "\n",
              "          const docLinkHtml = 'Like what you see? Visit the ' +\n",
              "            '<a target=\"_blank\" href=https://colab.research.google.com/notebooks/data_table.ipynb>data table notebook</a>'\n",
              "            + ' to learn more about interactive tables.';\n",
              "          element.innerHTML = '';\n",
              "          dataTable['output_type'] = 'display_data';\n",
              "          await google.colab.output.renderOutput(dataTable, element);\n",
              "          const docLink = document.createElement('div');\n",
              "          docLink.innerHTML = docLinkHtml;\n",
              "          element.appendChild(docLink);\n",
              "        }\n",
              "      </script>\n",
              "    </div>\n",
              "  </div>\n",
              "  "
            ]
          },
          "metadata": {},
          "execution_count": 5
        }
      ],
      "source": [
        "df"
      ]
    },
    {
      "cell_type": "markdown",
      "id": "04abfe63",
      "metadata": {
        "id": "04abfe63"
      },
      "source": [
        "# Etude des villes"
      ]
    },
    {
      "cell_type": "markdown",
      "id": "095d267e",
      "metadata": {
        "id": "095d267e"
      },
      "source": [
        "Premièrement nous allons afficher la répartition des villes dans le dataset de test afin de vérifier si elles sont toutes présentes et de manière équitable."
      ]
    },
    {
      "cell_type": "code",
      "execution_count": null,
      "id": "eb62b8d2",
      "metadata": {
        "id": "eb62b8d2",
        "outputId": "5f19636b-f31f-4ed0-b8bc-6face9c69497"
      },
      "outputs": [
        {
          "data": {
            "text/plain": [
              "amsterdam     1134\n",
              "paris         1125\n",
              "madrid        1094\n",
              "copenhagen     723\n",
              "rome           721\n",
              "vilnius        609\n",
              "vienna         568\n",
              "sofia          374\n",
              "valletta       296\n",
              "Name: city, dtype: int64"
            ]
          },
          "execution_count": 4,
          "metadata": {},
          "output_type": "execute_result"
        }
      ],
      "source": [
        "df[\"city\"].value_counts()"
      ]
    },
    {
      "cell_type": "markdown",
      "id": "fb1f3a60",
      "metadata": {
        "id": "fb1f3a60"
      },
      "source": [
        "Les villes sont effectivement toutes bien présentes mais de manière très déséquilibrée. Ce déséquilibre pourrait être retrouvé dans l'ensemble des données, ou pas. Pour avoir une idée de la réponse je vais utiliser des métadonnées associées aux villes qui pourraient expliquer le nombre d'hotêls que l'API renvoie pour celles-ci."
      ]
    },
    {
      "cell_type": "markdown",
      "id": "b5522265",
      "metadata": {
        "id": "b5522265"
      },
      "source": [
        "Dans un premier temps je vais vérifier si la répartition vue ci-dessus correspond à la taille des villes étudiées (en terme de nombre d'habitants).\n",
        "Les données sont tirées du site : https://www.populationdata.net/palmares/villes/europe/"
      ]
    },
    {
      "cell_type": "code",
      "execution_count": null,
      "id": "9e2aa721",
      "metadata": {
        "id": "9e2aa721"
      },
      "outputs": [],
      "source": [
        "population_data = {\"amsterdam\" : 2480394, \"paris\" : 13114718, \"madrid\" : 6475872, \"copenhagen\" : 2931445, \"rome\" : 4340474, \"vilnius\" : 673921, \"vienna\" : 2717459, \"sofia\" : 1681592, \"valletta\" : 408750}"
      ]
    },
    {
      "cell_type": "markdown",
      "id": "56a2acb1",
      "metadata": {
        "id": "56a2acb1"
      },
      "source": [
        "Ensuite je suis allé extraire le nombre de recherches Google des termes \"hotel\" plus nom de la ville. J'ai stocké le nombre de résultats de la requête dans une liste (ordre = same que renvoyé par df[\"city\"])."
      ]
    },
    {
      "cell_type": "code",
      "execution_count": null,
      "id": "7ad4e8c1",
      "metadata": {
        "id": "7ad4e8c1"
      },
      "outputs": [],
      "source": [
        "nb_url = [258, 705, 328, 69.5, 545, 11.8, 191, 225, 7.47] # unité = 10**6\n",
        "# chiffres obtenus sur google.com langue = anglais US"
      ]
    },
    {
      "cell_type": "markdown",
      "id": "ef7abc1f",
      "metadata": {
        "id": "ef7abc1f"
      },
      "source": [
        "J'ai également été sur le site https://www.booking.com/ et récupéré le nombre d'hôtel renvoyé pour une requête dans chaque ville (pas de dates et résa pour 2 adultes)."
      ]
    },
    {
      "cell_type": "code",
      "execution_count": null,
      "id": "48cedf6c",
      "metadata": {
        "id": "48cedf6c"
      },
      "outputs": [],
      "source": [
        "data_booking = [1061, 4980, 3344, 475, 9029, 651, 2287, 971, 235]"
      ]
    },
    {
      "cell_type": "markdown",
      "id": "7e228081",
      "metadata": {
        "id": "7e228081"
      },
      "source": [
        "Des données sur les pays peuvent également être retenues comme le PIB par habitant (à voir si c'est également utilisable pour la feature language)."
      ]
    },
    {
      "cell_type": "code",
      "execution_count": null,
      "id": "daa32dee",
      "metadata": {
        "id": "daa32dee"
      },
      "outputs": [],
      "source": [
        "PIB = [48424, 38210, 26239, 58586, 31512, 18072, 45091, 8294, 27738]"
      ]
    },
    {
      "cell_type": "code",
      "execution_count": null,
      "id": "9514dbff",
      "metadata": {
        "id": "9514dbff"
      },
      "outputs": [],
      "source": [
        "l = list(df[\"city\"].value_counts())\n",
        "df_city = pd.DataFrame(population_data.items(), columns=['city', 'nb_hab'])\n",
        "df_city[\"nb_url\"] = nb_url\n",
        "df_city[\"booking\"] = data_booking\n",
        "df_city[\"PIB\"] = PIB\n",
        "df_city[\"nb_val\"] = l"
      ]
    },
    {
      "cell_type": "code",
      "execution_count": null,
      "id": "20fd67cc",
      "metadata": {
        "id": "20fd67cc",
        "outputId": "a4eefb9f-d4c6-4bc8-f317-3567a9f27d9c"
      },
      "outputs": [
        {
          "data": {
            "text/html": [
              "<div>\n",
              "<style scoped>\n",
              "    .dataframe tbody tr th:only-of-type {\n",
              "        vertical-align: middle;\n",
              "    }\n",
              "\n",
              "    .dataframe tbody tr th {\n",
              "        vertical-align: top;\n",
              "    }\n",
              "\n",
              "    .dataframe thead th {\n",
              "        text-align: right;\n",
              "    }\n",
              "</style>\n",
              "<table border=\"1\" class=\"dataframe\">\n",
              "  <thead>\n",
              "    <tr style=\"text-align: right;\">\n",
              "      <th></th>\n",
              "      <th>city</th>\n",
              "      <th>nb_hab</th>\n",
              "      <th>nb_url</th>\n",
              "      <th>booking</th>\n",
              "      <th>PIB</th>\n",
              "      <th>nb_val</th>\n",
              "    </tr>\n",
              "  </thead>\n",
              "  <tbody>\n",
              "    <tr>\n",
              "      <th>0</th>\n",
              "      <td>amsterdam</td>\n",
              "      <td>2480394</td>\n",
              "      <td>258.00</td>\n",
              "      <td>1061</td>\n",
              "      <td>48424</td>\n",
              "      <td>1134</td>\n",
              "    </tr>\n",
              "    <tr>\n",
              "      <th>1</th>\n",
              "      <td>paris</td>\n",
              "      <td>13114718</td>\n",
              "      <td>705.00</td>\n",
              "      <td>4980</td>\n",
              "      <td>38210</td>\n",
              "      <td>1125</td>\n",
              "    </tr>\n",
              "    <tr>\n",
              "      <th>2</th>\n",
              "      <td>madrid</td>\n",
              "      <td>6475872</td>\n",
              "      <td>328.00</td>\n",
              "      <td>3344</td>\n",
              "      <td>26239</td>\n",
              "      <td>1094</td>\n",
              "    </tr>\n",
              "    <tr>\n",
              "      <th>3</th>\n",
              "      <td>copenhagen</td>\n",
              "      <td>2931445</td>\n",
              "      <td>69.50</td>\n",
              "      <td>475</td>\n",
              "      <td>58586</td>\n",
              "      <td>723</td>\n",
              "    </tr>\n",
              "    <tr>\n",
              "      <th>4</th>\n",
              "      <td>rome</td>\n",
              "      <td>4340474</td>\n",
              "      <td>545.00</td>\n",
              "      <td>9029</td>\n",
              "      <td>31512</td>\n",
              "      <td>721</td>\n",
              "    </tr>\n",
              "    <tr>\n",
              "      <th>5</th>\n",
              "      <td>vilnius</td>\n",
              "      <td>673921</td>\n",
              "      <td>11.80</td>\n",
              "      <td>651</td>\n",
              "      <td>18072</td>\n",
              "      <td>609</td>\n",
              "    </tr>\n",
              "    <tr>\n",
              "      <th>6</th>\n",
              "      <td>vienna</td>\n",
              "      <td>2717459</td>\n",
              "      <td>191.00</td>\n",
              "      <td>2287</td>\n",
              "      <td>45091</td>\n",
              "      <td>568</td>\n",
              "    </tr>\n",
              "    <tr>\n",
              "      <th>7</th>\n",
              "      <td>sofia</td>\n",
              "      <td>1681592</td>\n",
              "      <td>225.00</td>\n",
              "      <td>971</td>\n",
              "      <td>8294</td>\n",
              "      <td>374</td>\n",
              "    </tr>\n",
              "    <tr>\n",
              "      <th>8</th>\n",
              "      <td>valletta</td>\n",
              "      <td>408750</td>\n",
              "      <td>7.47</td>\n",
              "      <td>235</td>\n",
              "      <td>27738</td>\n",
              "      <td>296</td>\n",
              "    </tr>\n",
              "  </tbody>\n",
              "</table>\n",
              "</div>"
            ],
            "text/plain": [
              "         city    nb_hab  nb_url  booking    PIB  nb_val\n",
              "0   amsterdam   2480394  258.00     1061  48424    1134\n",
              "1       paris  13114718  705.00     4980  38210    1125\n",
              "2      madrid   6475872  328.00     3344  26239    1094\n",
              "3  copenhagen   2931445   69.50      475  58586     723\n",
              "4        rome   4340474  545.00     9029  31512     721\n",
              "5     vilnius    673921   11.80      651  18072     609\n",
              "6      vienna   2717459  191.00     2287  45091     568\n",
              "7       sofia   1681592  225.00      971   8294     374\n",
              "8    valletta    408750    7.47      235  27738     296"
            ]
          },
          "execution_count": 27,
          "metadata": {},
          "output_type": "execute_result"
        }
      ],
      "source": [
        "df_city"
      ]
    },
    {
      "cell_type": "markdown",
      "id": "316b6419",
      "metadata": {
        "id": "316b6419"
      },
      "source": [
        "Toutes ces features pourront également être conservées pour aider à l'entraînement de notre modèle plus tard dans le projet."
      ]
    },
    {
      "cell_type": "markdown",
      "id": "1a7bdf57",
      "metadata": {
        "id": "1a7bdf57"
      },
      "source": [
        "# Etude de la date"
      ]
    },
    {
      "cell_type": "markdown",
      "id": "4232f021",
      "metadata": {
        "id": "4232f021"
      },
      "source": [
        "Ici nous allons étudier la distribution des dates dans le jeu de données de test, afin de voir si il y a un pic de réservation et quand se trouve-t-il."
      ]
    },
    {
      "cell_type": "code",
      "execution_count": null,
      "id": "0aa26bd1",
      "metadata": {
        "colab": {
          "base_uri": "https://localhost:8080/",
          "height": 509
        },
        "id": "0aa26bd1",
        "outputId": "b55d6193-07e6-4721-b542-91aaeeb91640"
      },
      "outputs": [
        {
          "data": {
            "text/plain": [
              "(array([464., 467., 484., 449., 443., 458., 450.,   0.,   0.,   0.,   0.,\n",
              "          0.,   0.,   0.,   0., 267., 281., 264., 279., 235., 252., 268.,\n",
              "          0.,   0.,   0.,   0.,   0.,   0.,   0.,   0.,   0.,   0.,   0.,\n",
              "          0., 222., 264., 237., 241., 250., 189., 180.]),\n",
              " array([ 0.        ,  0.97560976,  1.95121951,  2.92682927,  3.90243902,\n",
              "         4.87804878,  5.85365854,  6.82926829,  7.80487805,  8.7804878 ,\n",
              "         9.75609756, 10.73170732, 11.70731707, 12.68292683, 13.65853659,\n",
              "        14.63414634, 15.6097561 , 16.58536585, 17.56097561, 18.53658537,\n",
              "        19.51219512, 20.48780488, 21.46341463, 22.43902439, 23.41463415,\n",
              "        24.3902439 , 25.36585366, 26.34146341, 27.31707317, 28.29268293,\n",
              "        29.26829268, 30.24390244, 31.2195122 , 32.19512195, 33.17073171,\n",
              "        34.14634146, 35.12195122, 36.09756098, 37.07317073, 38.04878049,\n",
              "        39.02439024, 40.        ]),\n",
              " <a list of 41 Patch objects>)"
            ]
          },
          "execution_count": 8,
          "metadata": {},
          "output_type": "execute_result"
        },
        {
          "data": {
            "image/png": "[encoded data removed]",
            "text/plain": [
              "<Figure size 432x288 with 1 Axes>"
            ]
          },
          "metadata": {
            "needs_background": "light"
          },
          "output_type": "display_data"
        }
      ],
      "source": [
        "plt.hist(df[\"date\"], bins= 41) # attention au nombre de bins"
      ]
    },
    {
      "cell_type": "markdown",
      "id": "af3f3ee5",
      "metadata": {
        "id": "af3f3ee5"
      },
      "source": [
        "En observant la distribution des valeurs il semble clair que celle-ci que des intervalles de dates ont été volontairement retirés du set de test. Nous allons donc tenter d'approximer la distribution de ces valeurs estimant le nombre de réservations à partir de la date dans le but de l'utiliser pour notre stratégie de reqûetage de l'API."
      ]
    },
    {
      "cell_type": "code",
      "execution_count": null,
      "id": "43fdd535",
      "metadata": {
        "colab": {
          "base_uri": "https://localhost:8080/",
          "height": 472
        },
        "id": "43fdd535",
        "outputId": "019048c1-545a-4dd9-f7d1-9e3be0fe1c18"
      },
      "outputs": [
        {
          "name": "stderr",
          "output_type": "stream",
          "text": [
            "Fitting 5 distributions: 100%|██████████| 5/5 [00:03<00:00,  1.48it/s]\n"
          ]
        },
        {
          "data": {
            "text/html": [
              "\n",
              "  <div id=\"df-8928576f-34c7-4a8e-b6b4-5cad925b6e72\">\n",
              "    <div class=\"colab-df-container\">\n",
              "      <div>\n",
              "<style scoped>\n",
              "    .dataframe tbody tr th:only-of-type {\n",
              "        vertical-align: middle;\n",
              "    }\n",
              "\n",
              "    .dataframe tbody tr th {\n",
              "        vertical-align: top;\n",
              "    }\n",
              "\n",
              "    .dataframe thead th {\n",
              "        text-align: right;\n",
              "    }\n",
              "</style>\n",
              "<table border=\"1\" class=\"dataframe\">\n",
              "  <thead>\n",
              "    <tr style=\"text-align: right;\">\n",
              "      <th></th>\n",
              "      <th>sumsquare_error</th>\n",
              "      <th>aic</th>\n",
              "      <th>bic</th>\n",
              "      <th>kl_div</th>\n",
              "      <th>ks_statistic</th>\n",
              "      <th>ks_pvalue</th>\n",
              "    </tr>\n",
              "  </thead>\n",
              "  <tbody>\n",
              "    <tr>\n",
              "      <th>gamma</th>\n",
              "      <td>0.239915</td>\n",
              "      <td>858.239828</td>\n",
              "      <td>-67934.684545</td>\n",
              "      <td>inf</td>\n",
              "      <td>0.258940</td>\n",
              "      <td>0.000000e+00</td>\n",
              "    </tr>\n",
              "    <tr>\n",
              "      <th>burr</th>\n",
              "      <td>0.249705</td>\n",
              "      <td>864.627222</td>\n",
              "      <td>-67660.135711</td>\n",
              "      <td>inf</td>\n",
              "      <td>0.197549</td>\n",
              "      <td>1.106177e-227</td>\n",
              "    </tr>\n",
              "    <tr>\n",
              "      <th>beta</th>\n",
              "      <td>0.258416</td>\n",
              "      <td>828.970049</td>\n",
              "      <td>-67432.313491</td>\n",
              "      <td>inf</td>\n",
              "      <td>0.307845</td>\n",
              "      <td>0.000000e+00</td>\n",
              "    </tr>\n",
              "    <tr>\n",
              "      <th>lognorm</th>\n",
              "      <td>0.273260</td>\n",
              "      <td>1213.927192</td>\n",
              "      <td>-67070.037150</td>\n",
              "      <td>inf</td>\n",
              "      <td>0.425777</td>\n",
              "      <td>0.000000e+00</td>\n",
              "    </tr>\n",
              "    <tr>\n",
              "      <th>norm</th>\n",
              "      <td>0.281189</td>\n",
              "      <td>794.774907</td>\n",
              "      <td>-66888.797458</td>\n",
              "      <td>inf</td>\n",
              "      <td>0.231701</td>\n",
              "      <td>4.208041e-314</td>\n",
              "    </tr>\n",
              "  </tbody>\n",
              "</table>\n",
              "</div>\n",
              "      <button class=\"colab-df-convert\" onclick=\"convertToInteractive('df-8928576f-34c7-4a8e-b6b4-5cad925b6e72')\"\n",
              "              title=\"Convert this dataframe to an interactive table.\"\n",
              "              style=\"display:none;\">\n",
              "        \n",
              "  <svg xmlns=\"http://www.w3.org/2000/svg\" height=\"24px\"viewBox=\"0 0 24 24\"\n",
              "       width=\"24px\">\n",
              "    <path d=\"M0 0h24v24H0V0z\" fill=\"none\"/>\n",
              "    <path d=\"M18.56 5.44l.94 2.06.94-2.06 2.06-.94-2.06-.94-.94-2.06-.94 2.06-2.06.94zm-11 1L8.5 8.5l.94-2.06 2.06-.94-2.06-.94L8.5 2.5l-.94 2.06-2.06.94zm10 10l.94 2.06.94-2.06 2.06-.94-2.06-.94-.94-2.06-.94 2.06-2.06.94z\"/><path d=\"M17.41 7.96l-1.37-1.37c-.4-.4-.92-.59-1.43-.59-.52 0-1.04.2-1.43.59L10.3 9.45l-7.72 7.72c-.78.78-.78 2.05 0 2.83L4 21.41c.39.39.9.59 1.41.59.51 0 1.02-.2 1.41-.59l7.78-7.78 2.81-2.81c.8-.78.8-2.07 0-2.86zM5.41 20L4 18.59l7.72-7.72 1.47 1.35L5.41 20z\"/>\n",
              "  </svg>\n",
              "      </button>\n",
              "      \n",
              "  <style>\n",
              "    .colab-df-container {\n",
              "      display:flex;\n",
              "      flex-wrap:wrap;\n",
              "      gap: 12px;\n",
              "    }\n",
              "\n",
              "    .colab-df-convert {\n",
              "      background-color: #E8F0FE;\n",
              "      border: none;\n",
              "      border-radius: 50%;\n",
              "      cursor: pointer;\n",
              "      display: none;\n",
              "      fill: #1967D2;\n",
              "      height: 32px;\n",
              "      padding: 0 0 0 0;\n",
              "      width: 32px;\n",
              "    }\n",
              "\n",
              "    .colab-df-convert:hover {\n",
              "      background-color: #E2EBFA;\n",
              "      box-shadow: 0px 1px 2px rgba(60, 64, 67, 0.3), 0px 1px 3px 1px rgba(60, 64, 67, 0.15);\n",
              "      fill: #174EA6;\n",
              "    }\n",
              "\n",
              "    [theme=dark] .colab-df-convert {\n",
              "      background-color: #3B4455;\n",
              "      fill: #D2E3FC;\n",
              "    }\n",
              "\n",
              "    [theme=dark] .colab-df-convert:hover {\n",
              "      background-color: #434B5C;\n",
              "      box-shadow: 0px 1px 3px 1px rgba(0, 0, 0, 0.15);\n",
              "      filter: drop-shadow(0px 1px 2px rgba(0, 0, 0, 0.3));\n",
              "      fill: #FFFFFF;\n",
              "    }\n",
              "  </style>\n",
              "\n",
              "      <script>\n",
              "        const buttonEl =\n",
              "          document.querySelector('#df-8928576f-34c7-4a8e-b6b4-5cad925b6e72 button.colab-df-convert');\n",
              "        buttonEl.style.display =\n",
              "          google.colab.kernel.accessAllowed ? 'block' : 'none';\n",
              "\n",
              "        async function convertToInteractive(key) {\n",
              "          const element = document.querySelector('#df-8928576f-34c7-4a8e-b6b4-5cad925b6e72');\n",
              "          const dataTable =\n",
              "            await google.colab.kernel.invokeFunction('convertToInteractive',\n",
              "                                                     [key], {});\n",
              "          if (!dataTable) return;\n",
              "\n",
              "          const docLinkHtml = 'Like what you see? Visit the ' +\n",
              "            '<a target=\"_blank\" href=https://colab.research.google.com/notebooks/data_table.ipynb>data table notebook</a>'\n",
              "            + ' to learn more about interactive tables.';\n",
              "          element.innerHTML = '';\n",
              "          dataTable['output_type'] = 'display_data';\n",
              "          await google.colab.output.renderOutput(dataTable, element);\n",
              "          const docLink = document.createElement('div');\n",
              "          docLink.innerHTML = docLinkHtml;\n",
              "          element.appendChild(docLink);\n",
              "        }\n",
              "      </script>\n",
              "    </div>\n",
              "  </div>\n",
              "  "
            ],
            "text/plain": [
              "         sumsquare_error          aic           bic  kl_div  ks_statistic  \\\n",
              "gamma           0.239915   858.239828 -67934.684545     inf      0.258940   \n",
              "burr            0.249705   864.627222 -67660.135711     inf      0.197549   \n",
              "beta            0.258416   828.970049 -67432.313491     inf      0.307845   \n",
              "lognorm         0.273260  1213.927192 -67070.037150     inf      0.425777   \n",
              "norm            0.281189   794.774907 -66888.797458     inf      0.231701   \n",
              "\n",
              "             ks_pvalue  \n",
              "gamma     0.000000e+00  \n",
              "burr     1.106177e-227  \n",
              "beta      0.000000e+00  \n",
              "lognorm   0.000000e+00  \n",
              "norm     4.208041e-314  "
            ]
          },
          "execution_count": 9,
          "metadata": {},
          "output_type": "execute_result"
        },
        {
          "data": {
            "image/png": "[encoded data removed]",
            "text/plain": [
              "<Figure size 432x288 with 1 Axes>"
            ]
          },
          "metadata": {
            "needs_background": "light"
          },
          "output_type": "display_data"
        }
      ],
      "source": [
        "dates = df[\"date\"].values\n",
        "f = Fitter(dates, distributions=['gamma', 'lognorm', \"beta\", \"burr\", \"norm\"])\n",
        "f.fit()\n",
        "f.summary()"
      ]
    },
    {
      "cell_type": "markdown",
      "id": "7197bc02",
      "metadata": {
        "id": "7197bc02"
      },
      "source": [
        "On peut voir ici que les valeurs manquantes nous empêchent de prédire correctement la distribution des données. On va donc tester différentes techniques de data imputation pour régler ce problème."
      ]
    },
    {
      "cell_type": "code",
      "execution_count": null,
      "id": "adIkma92L9XU",
      "metadata": {
        "id": "adIkma92L9XU"
      },
      "outputs": [],
      "source": [
        "nb_occ_date = df[\"date\"].value_counts().rename_axis('date').reset_index(name='nb_occ').sort_values(by = [\"date\"])\n",
        "# ajout des NaN dans le dataframe\n",
        "for d in range(0,45):\n",
        "  if d not in nb_occ_date[\"date\"].values:\n",
        "    nb_occ_date = nb_occ_date.append({'date':d, 'nb_occ':np.nan}, ignore_index=True)\n",
        "nb_occ_date = nb_occ_date.sort_values(by = [\"date\"])"
      ]
    },
    {
      "cell_type": "markdown",
      "id": "c6Ze9GhPbPjD",
      "metadata": {
        "id": "c6Ze9GhPbPjD"
      },
      "source": [
        "Nous allons effectuer une imputation à l'aide de l'algorithme MissForest."
      ]
    },
    {
      "cell_type": "code",
      "execution_count": null,
      "id": "9RHUXDYNbUQe",
      "metadata": {
        "colab": {
          "base_uri": "https://localhost:8080/"
        },
        "id": "9RHUXDYNbUQe",
        "outputId": "2864c97f-bf22-4aea-e307-9ece7d04339c"
      },
      "outputs": [
        {
          "name": "stderr",
          "output_type": "stream",
          "text": [
            "/usr/local/lib/python3.7/dist-packages/sklearn/ensemble/_forest.py:400: FutureWarning: Criterion 'mse' was deprecated in v1.0 and will be removed in version 1.2. Use `criterion='squared_error'` which is equivalent.\n",
            "  FutureWarning,\n"
          ]
        },
        {
          "name": "stdout",
          "output_type": "stream",
          "text": [
            "Iteration: 0\n"
          ]
        },
        {
          "name": "stderr",
          "output_type": "stream",
          "text": [
            "/usr/local/lib/python3.7/dist-packages/sklearn/ensemble/_forest.py:400: FutureWarning: Criterion 'mse' was deprecated in v1.0 and will be removed in version 1.2. Use `criterion='squared_error'` which is equivalent.\n",
            "  FutureWarning,\n"
          ]
        },
        {
          "name": "stdout",
          "output_type": "stream",
          "text": [
            "Iteration: 1\n"
          ]
        },
        {
          "name": "stderr",
          "output_type": "stream",
          "text": [
            "/usr/local/lib/python3.7/dist-packages/sklearn/ensemble/_forest.py:400: FutureWarning: Criterion 'mse' was deprecated in v1.0 and will be removed in version 1.2. Use `criterion='squared_error'` which is equivalent.\n",
            "  FutureWarning,\n"
          ]
        },
        {
          "name": "stdout",
          "output_type": "stream",
          "text": [
            "Iteration: 2\n"
          ]
        }
      ],
      "source": [
        "# data imputation\n",
        "imp = MissForest()\n",
        "nb_occ_date_mf = imp.fit_transform(nb_occ_date)"
      ]
    },
    {
      "cell_type": "markdown",
      "id": "Vw6ez2Z8WJZe",
      "metadata": {
        "id": "Vw6ez2Z8WJZe"
      },
      "source": [
        "Affichons maintenant le nombre d'occurrences de chaque date après l'imputation."
      ]
    },
    {
      "cell_type": "code",
      "execution_count": null,
      "id": "_4mnfbZLVPks",
      "metadata": {
        "colab": {
          "base_uri": "https://localhost:8080/",
          "height": 282
        },
        "id": "_4mnfbZLVPks",
        "outputId": "61cef0e8-a6f5-4204-ac89-1e32c4520787"
      },
      "outputs": [
        {
          "data": {
            "text/plain": [
              "[<matplotlib.lines.Line2D at 0x7f1b9c99c9d0>]"
            ]
          },
          "execution_count": 178,
          "metadata": {},
          "output_type": "execute_result"
        },
        {
          "data": {
            "image/png": "[encoded data removed]",
            "text/plain": [
              "<Figure size 432x288 with 1 Axes>"
            ]
          },
          "metadata": {
            "needs_background": "light"
          },
          "output_type": "display_data"
        }
      ],
      "source": [
        "df_filled_mf = pd.DataFrame(nb_occ_date_mf, columns = [\"date\", \"nb_occ\"])\n",
        "plt.plot(df_filled_mf[\"date\"], df_filled_mf[\"nb_occ\"])"
      ]
    },
    {
      "cell_type": "markdown",
      "id": "eZAuqmA2bVpK",
      "metadata": {
        "id": "eZAuqmA2bVpK"
      },
      "source": [
        "Nous allons maintenant utiliser l'algorithme KNNImputer et comparer les résultats."
      ]
    },
    {
      "cell_type": "code",
      "execution_count": null,
      "id": "aRZkDiB3bJim",
      "metadata": {
        "id": "aRZkDiB3bJim"
      },
      "outputs": [],
      "source": [
        "imputer = KNNImputer(n_neighbors=8)\n",
        "nb_occ_date_knn = imputer.fit_transform(nb_occ_date)"
      ]
    },
    {
      "cell_type": "code",
      "execution_count": null,
      "id": "UlwVd02eblbS",
      "metadata": {
        "id": "UlwVd02eblbS"
      },
      "outputs": [],
      "source": [
        "df_filled_knn = pd.DataFrame(nb_occ_date_knn, columns = [\"date\", \"nb_occ\"])\n",
        "df_knn = df_filled_knn.copy()\n",
        "# créer dataframe avec nb_occ fois chaque date\n",
        "for index, row in df_filled_knn.iterrows():\n",
        "  for i in range(1, int(row[\"nb_occ\"])): # on commence à 1 car on a déjà 1 fois chaque valeur dans le df\n",
        "    df_knn = df_knn.append({'date':row[\"date\"], 'nb_occ':row[\"nb_occ\"]}, ignore_index = True)\n",
        "#plt.plot(df_filled_knn[\"date\"], df_filled_knn[\"nb_occ\"])\n",
        "df_knn['nb_occ'] = df_knn['nb_occ'].astype(int)"
      ]
    },
    {
      "cell_type": "code",
      "execution_count": null,
      "id": "YhnssAkguV-s",
      "metadata": {
        "colab": {
          "base_uri": "https://localhost:8080/",
          "height": 544
        },
        "id": "YhnssAkguV-s",
        "outputId": "d5854019-bf41-4ed5-9b48-fcfe48b92d88"
      },
      "outputs": [
        {
          "output_type": "execute_result",
          "data": {
            "text/plain": [
              "(array([464., 467., 484., 449., 443., 458., 450., 435., 412., 412., 387.,\n",
              "        334., 310., 287., 287., 267., 281., 264., 279., 235., 252., 268.,\n",
              "        258., 258., 258., 258., 252., 249., 249., 246., 240., 231., 231.,\n",
              "        231., 222., 264., 237., 241., 250., 189., 180., 231., 231., 231.,\n",
              "        231.]),\n",
              " array([ 0.        ,  0.97777778,  1.95555556,  2.93333333,  3.91111111,\n",
              "         4.88888889,  5.86666667,  6.84444444,  7.82222222,  8.8       ,\n",
              "         9.77777778, 10.75555556, 11.73333333, 12.71111111, 13.68888889,\n",
              "        14.66666667, 15.64444444, 16.62222222, 17.6       , 18.57777778,\n",
              "        19.55555556, 20.53333333, 21.51111111, 22.48888889, 23.46666667,\n",
              "        24.44444444, 25.42222222, 26.4       , 27.37777778, 28.35555556,\n",
              "        29.33333333, 30.31111111, 31.28888889, 32.26666667, 33.24444444,\n",
              "        34.22222222, 35.2       , 36.17777778, 37.15555556, 38.13333333,\n",
              "        39.11111111, 40.08888889, 41.06666667, 42.04444444, 43.02222222,\n",
              "        44.        ]),\n",
              " <a list of 45 Patch objects>)"
            ]
          },
          "metadata": {},
          "execution_count": 30
        },
        {
          "output_type": "display_data",
          "data": {
            "text/plain": [
              "<Figure size 432x288 with 1 Axes>"
            ],
            "image/png": "[encoded data removed]"
          },
          "metadata": {
            "needs_background": "light"
          }
        }
      ],
      "source": [
        "plt.hist(df_knn[\"date\"], bins= 45) # attention au nombre de bins"
      ]
    },
    {
      "cell_type": "markdown",
      "id": "zmjXE_Z2clxA",
      "metadata": {
        "id": "zmjXE_Z2clxA"
      },
      "source": [
        "Les résultats semblent s'approcher bien plus d'une distribution réaliste des valeurs, on va maintenant pouvoir approximer cette distribution de valeurs."
      ]
    },
    {
      "cell_type": "code",
      "execution_count": null,
      "id": "mCHOnsBkddii",
      "metadata": {
        "colab": {
          "base_uri": "https://localhost:8080/",
          "height": 265
        },
        "id": "mCHOnsBkddii",
        "outputId": "33dd969e-039a-47d0-8ac4-756f3ab77e40"
      },
      "outputs": [
        {
          "output_type": "display_data",
          "data": {
            "text/plain": [
              "<Figure size 432x288 with 1 Axes>"
            ],
            "image/png": "[encoded data removed]"
          },
          "metadata": {
            "needs_background": "light"
          }
        }
      ],
      "source": [
        "X = df_filled_knn[\"date\"].values.reshape(-1, 1)\n",
        "y = df_filled_knn[\"nb_occ\"].values.reshape(-1, 1)\n",
        "models = []\n",
        "for count, degree in enumerate([3]): # degré à chosir\n",
        "    model = make_pipeline(PolynomialFeatures(degree), Ridge(alpha=0.001))\n",
        "    model.fit(X, y)\n",
        "    models.append(model)\n",
        "    y_pred = model.predict(X)\n",
        "    plt.plot(X, y_pred, linewidth=2, label='degree %d' % degree)\n",
        "plt.legend(loc='upper right')\n",
        "plt.scatter(X, y, s=20, marker='o', label='training points', c = \"black\")\n",
        "plt.hist(df[\"date\"], bins= 41) # attention au nombre de bins\n",
        "plt.show()"
      ]
    },
    {
      "cell_type": "markdown",
      "source": [
        "TO DO : Essayer de trouver sur internet un graphe de l'évolution des prix des chambres d'hôtel en fonction de la date de réservation et comparer à ce qu'on a obtenu ici."
      ],
      "metadata": {
        "id": "PoBc7IwxBGfI"
      },
      "id": "PoBc7IwxBGfI"
    },
    {
      "cell_type": "markdown",
      "source": [
        "# Etude du language"
      ],
      "metadata": {
        "id": "5lb7PsMianby"
      },
      "id": "5lb7PsMianby"
    },
    {
      "cell_type": "markdown",
      "source": [
        "Tout d'abordd récupérons le dataframe avec une ligne par requête et non par hôtel retourné."
      ],
      "metadata": {
        "id": "bwvl8ngRbLJ_"
      },
      "id": "bwvl8ngRbLJ_"
    },
    {
      "cell_type": "code",
      "source": [
        "df_lang = df.drop_duplicates(subset=['order_requests'])\n",
        "df_lang[\"language\"].value_counts()"
      ],
      "metadata": {
        "colab": {
          "base_uri": "https://localhost:8080/"
        },
        "id": "IEhSERWzaqAQ",
        "outputId": "45806081-194e-4667-dab2-c318eedc9e47"
      },
      "id": "IEhSERWzaqAQ",
      "execution_count": null,
      "outputs": [
        {
          "output_type": "execute_result",
          "data": {
            "text/plain": [
              "hungarian        120\n",
              "finnish           59\n",
              "austrian          58\n",
              "slovakian         56\n",
              "romanian          53\n",
              "swedish           52\n",
              "bulgarian         52\n",
              "estonian          49\n",
              "danish            46\n",
              "maltese           25\n",
              "irish             23\n",
              "slovene           22\n",
              "spanish           21\n",
              "greek             20\n",
              "belgian           20\n",
              "french            18\n",
              "dutch             16\n",
              "latvian           16\n",
              "polish            15\n",
              "italian           15\n",
              "lithuanian        14\n",
              "czech             14\n",
              "cypriot           13\n",
              "luxembourgish     13\n",
              "croatian          12\n",
              "german            12\n",
              "portuguese        10\n",
              "Name: language, dtype: int64"
            ]
          },
          "metadata": {},
          "execution_count": 14
        }
      ]
    },
    {
      "cell_type": "markdown",
      "source": [
        "La distribution des langues par requête semble être répartie en 3 classes. Il serait intéressant d'oberser les cardinalités des tuples (city, language) pour voir si il y a des choses à remarquer de ce côté là."
      ],
      "metadata": {
        "id": "FQlxV6aRcmok"
      },
      "id": "FQlxV6aRcmok"
    },
    {
      "cell_type": "code",
      "source": [
        "dico_tuple = {}\n",
        "for index, row in df_lang.iterrows():\n",
        "  crt_tuple = (row[\"city\"], row[\"language\"])\n",
        "  if crt_tuple in dico_tuple.keys():\n",
        "    dico_tuple[crt_tuple] +=1\n",
        "  else:\n",
        "    dico_tuple[crt_tuple] = 1\n",
        "list_tuple= sorted(dico_tuple.items(), key=operator.itemgetter(1)) \n",
        "sort_dict_tuple = dict(list_tuple)\n",
        "print(sort_dict_tuple)"
      ],
      "metadata": {
        "colab": {
          "base_uri": "https://localhost:8080/"
        },
        "id": "P7X4jaPdc93r",
        "outputId": "7b808fb1-2dbd-4bbe-b12f-6dad414120a1"
      },
      "id": "P7X4jaPdc93r",
      "execution_count": null,
      "outputs": [
        {
          "output_type": "stream",
          "name": "stdout",
          "text": [
            "{('paris', 'greek'): 1, ('paris', 'polish'): 1, ('amsterdam', 'belgian'): 1, ('madrid', 'lithuanian'): 1, ('vilnius', 'lithuanian'): 1, ('amsterdam', 'polish'): 1, ('amsterdam', 'italian'): 1, ('valletta', 'italian'): 1, ('paris', 'german'): 1, ('vilnius', 'french'): 1, ('vilnius', 'greek'): 1, ('sofia', 'greek'): 1, ('sofia', 'maltese'): 1, ('rome', 'czech'): 1, ('valletta', 'croatian'): 1, ('paris', 'czech'): 1, ('madrid', 'latvian'): 1, ('rome', 'portuguese'): 1, ('vilnius', 'belgian'): 1, ('amsterdam', 'luxembourgish'): 1, ('vilnius', 'german'): 1, ('sofia', 'german'): 1, ('rome', 'french'): 1, ('vilnius', 'slovene'): 1, ('amsterdam', 'german'): 1, ('vienna', 'portuguese'): 1, ('vienna', 'french'): 1, ('vienna', 'spanish'): 1, ('valletta', 'dutch'): 1, ('sofia', 'luxembourgish'): 1, ('vilnius', 'dutch'): 1, ('copenhagen', 'portuguese'): 1, ('vienna', 'maltese'): 1, ('valletta', 'lithuanian'): 1, ('vilnius', 'italian'): 1, ('vilnius', 'portuguese'): 1, ('rome', 'lithuanian'): 1, ('amsterdam', 'croatian'): 1, ('amsterdam', 'french'): 1, ('paris', 'croatian'): 1, ('amsterdam', 'latvian'): 1, ('madrid', 'belgian'): 2, ('madrid', 'dutch'): 2, ('valletta', 'french'): 2, ('rome', 'polish'): 2, ('paris', 'french'): 2, ('amsterdam', 'lithuanian'): 2, ('vienna', 'dutch'): 2, ('vienna', 'belgian'): 2, ('paris', 'romanian'): 2, ('vienna', 'polish'): 2, ('paris', 'cypriot'): 2, ('copenhagen', 'italian'): 2, ('sofia', 'italian'): 2, ('amsterdam', 'bulgarian'): 2, ('vilnius', 'czech'): 2, ('paris', 'maltese'): 2, ('amsterdam', 'czech'): 2, ('copenhagen', 'lithuanian'): 2, ('vilnius', 'luxembourgish'): 2, ('valletta', 'cypriot'): 2, ('amsterdam', 'portuguese'): 2, ('vienna', 'cypriot'): 2, ('rome', 'belgian'): 2, ('vienna', 'latvian'): 2, ('copenhagen', 'irish'): 2, ('madrid', 'italian'): 2, ('valletta', 'portuguese'): 2, ('sofia', 'polish'): 2, ('sofia', 'portuguese'): 2, ('sofia', 'bulgarian'): 2, ('valletta', 'czech'): 2, ('vilnius', 'croatian'): 2, ('valletta', 'slovene'): 2, ('amsterdam', 'dutch'): 2, ('copenhagen', 'cypriot'): 2, ('amsterdam', 'swedish'): 2, ('rome', 'irish'): 2, ('rome', 'spanish'): 2, ('madrid', 'maltese'): 2, ('paris', 'irish'): 2, ('vienna', 'german'): 2, ('rome', 'cypriot'): 2, ('copenhagen', 'slovene'): 2, ('copenhagen', 'czech'): 2, ('sofia', 'belgian'): 2, ('vienna', 'greek'): 2, ('vilnius', 'irish'): 2, ('sofia', 'french'): 2, ('paris', 'spanish'): 2, ('sofia', 'irish'): 2, ('rome', 'italian'): 2, ('vienna', 'lithuanian'): 2, ('amsterdam', 'slovakian'): 3, ('copenhagen', 'greek'): 3, ('madrid', 'croatian'): 3, ('madrid', 'german'): 3, ('vienna', 'austrian'): 3, ('madrid', 'spanish'): 3, ('madrid', 'cypriot'): 3, ('copenhagen', 'polish'): 3, ('madrid', 'french'): 3, ('amsterdam', 'maltese'): 3, ('vilnius', 'spanish'): 3, ('madrid', 'greek'): 3, ('copenhagen', 'spanish'): 3, ('sofia', 'slovene'): 3, ('madrid', 'slovene'): 3, ('rome', 'austrian'): 3, ('copenhagen', 'luxembourgish'): 3, ('vienna', 'slovene'): 3, ('paris', 'danish'): 3, ('valletta', 'german'): 3, ('sofia', 'spanish'): 3, ('madrid', 'irish'): 3, ('valletta', 'estonian'): 3, ('valletta', 'swedish'): 4, ('copenhagen', 'danish'): 4, ('sofia', 'dutch'): 4, ('vienna', 'croatian'): 4, ('paris', 'lithuanian'): 4, ('sofia', 'danish'): 4, ('paris', 'latvian'): 4, ('amsterdam', 'greek'): 4, ('valletta', 'spanish'): 4, ('paris', 'italian'): 4, ('vilnius', 'latvian'): 4, ('amsterdam', 'slovene'): 4, ('paris', 'dutch'): 4, ('vilnius', 'slovakian'): 4, ('vilnius', 'maltese'): 4, ('madrid', 'romanian'): 4, ('copenhagen', 'bulgarian'): 4, ('vilnius', 'estonian'): 4, ('valletta', 'danish'): 4, ('vienna', 'czech'): 4, ('vienna', 'bulgarian'): 4, ('rome', 'slovene'): 4, ('sofia', 'latvian'): 4, ('vienna', 'irish'): 4, ('vilnius', 'polish'): 4, ('valletta', 'belgian'): 5, ('paris', 'austrian'): 5, ('copenhagen', 'french'): 5, ('paris', 'belgian'): 5, ('rome', 'bulgarian'): 5, ('paris', 'bulgarian'): 5, ('vienna', 'romanian'): 5, ('rome', 'maltese'): 5, ('madrid', 'estonian'): 5, ('rome', 'finnish'): 5, ('valletta', 'slovakian'): 5, ('amsterdam', 'danish'): 5, ('vienna', 'swedish'): 5, ('amsterdam', 'finnish'): 5, ('copenhagen', 'estonian'): 5, ('rome', 'romanian'): 5, ('rome', 'greek'): 5, ('madrid', 'slovakian'): 5, ('copenhagen', 'finnish'): 5, ('madrid', 'swedish'): 5, ('sofia', 'finnish'): 5, ('vilnius', 'romanian'): 6, ('madrid', 'luxembourgish'): 6, ('rome', 'danish'): 6, ('vilnius', 'swedish'): 6, ('valletta', 'romanian'): 6, ('vilnius', 'danish'): 6, ('madrid', 'danish'): 6, ('rome', 'estonian'): 6, ('amsterdam', 'irish'): 6, ('copenhagen', 'romanian'): 6, ('sofia', 'swedish'): 6, ('vienna', 'estonian'): 6, ('madrid', 'finnish'): 6, ('amsterdam', 'estonian'): 6, ('paris', 'estonian'): 6, ('vilnius', 'austrian'): 6, ('paris', 'swedish'): 7, ('valletta', 'maltese'): 7, ('paris', 'slovakian'): 7, ('copenhagen', 'austrian'): 7, ('sofia', 'slovakian'): 7, ('valletta', 'austrian'): 7, ('vienna', 'finnish'): 7, ('rome', 'slovakian'): 7, ('sofia', 'austrian'): 8, ('sofia', 'estonian'): 8, ('madrid', 'bulgarian'): 8, ('vilnius', 'finnish'): 8, ('vienna', 'danish'): 8, ('rome', 'swedish'): 8, ('valletta', 'finnish'): 9, ('copenhagen', 'swedish'): 9, ('madrid', 'austrian'): 9, ('sofia', 'romanian'): 9, ('paris', 'finnish'): 9, ('copenhagen', 'slovakian'): 9, ('vienna', 'slovakian'): 9, ('valletta', 'bulgarian'): 9, ('amsterdam', 'austrian'): 10, ('copenhagen', 'hungarian'): 10, ('madrid', 'hungarian'): 10, ('amsterdam', 'romanian'): 10, ('vilnius', 'hungarian'): 11, ('vienna', 'hungarian'): 11, ('valletta', 'hungarian'): 12, ('vilnius', 'bulgarian'): 13, ('rome', 'hungarian'): 13, ('sofia', 'hungarian'): 16, ('amsterdam', 'hungarian'): 18, ('paris', 'hungarian'): 19}\n"
          ]
        }
      ]
    },
    {
      "cell_type": "markdown",
      "source": [
        "Pas grand chose d'intéressant ici, observons maintenant la distribution des langues par ville pour voir si c'est similaire ou très différent."
      ],
      "metadata": {
        "id": "uSt7mW_qemcJ"
      },
      "id": "uSt7mW_qemcJ"
    },
    {
      "cell_type": "code",
      "source": [
        "def distrib_lang_per_city(df, city):\n",
        "  df_per_request = df.drop_duplicates(subset=['order_requests'])\n",
        "  df_city = df_per_request[df_per_request[\"city\"] == city]\n",
        "  plt.figure(figsize=(20,12))\n",
        "  plt.hist(df_city[\"language\"], bins = df_city[\"language\"].nunique())\n",
        "  return"
      ],
      "metadata": {
        "id": "TzIuvkDpewdu"
      },
      "id": "TzIuvkDpewdu",
      "execution_count": null,
      "outputs": []
    },
    {
      "cell_type": "code",
      "source": [
        "distrib_lang_per_city(df, \"vilnius\")"
      ],
      "metadata": {
        "colab": {
          "base_uri": "https://localhost:8080/",
          "height": 700
        },
        "id": "vT9UhqXefaD3",
        "outputId": "3dd837a7-ebbb-490f-a9f6-6c6bda97327d"
      },
      "id": "vT9UhqXefaD3",
      "execution_count": null,
      "outputs": [
        {
          "output_type": "display_data",
          "data": {
            "text/plain": [
              "<Figure size 1440x864 with 1 Axes>"
            ],
            "image/png": "[encoded data removed]"
          },
          "metadata": {
            "needs_background": "light"
          }
        }
      ]
    },
    {
      "cell_type": "markdown",
      "source": [
        "Caractérisons maintenant les 3 groupes de langue du test set (par ordre décroissant de fréquence). <br>\n",
        "G1 = [\"hungarian\"] <br> mean_G1 = 120 req <br>\n",
        "G2 = [\"finnish\", \"austrian\", \"slovakian\", \"romanian\", \"swedish\", \"bulgarian\", \"estonian\", \"danish\"] <br> mean_G2 = 53.125 <br>\n",
        "G3 = [\"maltese\", \"irish\", \"slovene\", \"spanish\", \"greek\", \"belgian\", \"french\", \"dutch\", \"latvian\", \"polish\", \"italian\", \"lithuanian\", \"czech\", \"cypriot\", \"luxembourgish\", \"croatian\", \"german\", \"portuguese\"] <br> mean_G3 = 16.61 <br>\n",
        "**Ces groupes seront peut-être utilisables plus tard donc autant les garder en mémoire.**"
      ],
      "metadata": {
        "id": "GOHRJbffidjS"
      },
      "id": "GOHRJbffidjS"
    },
    {
      "cell_type": "markdown",
      "source": [
        "# Etude du support (pc/phone)"
      ],
      "metadata": {
        "id": "y5d6CXp5E0zY"
      },
      "id": "y5d6CXp5E0zY"
    },
    {
      "cell_type": "markdown",
      "source": [
        "Nous allons séparer le dataframe en 2 en fonction du support et étudier les différences de distribution des autres variables en fonction de celle-ci."
      ],
      "metadata": {
        "id": "WfEyBRrrFrb_"
      },
      "id": "WfEyBRrrFrb_"
    },
    {
      "cell_type": "code",
      "source": [
        "df_cp = df_req[df_req[\"mobile\"] == 0] # computer\n",
        "df_ph = df_req[df_req[\"mobile\"] == 1] # phone\n",
        "print(len(df_cp))\n",
        "print(len(df_ph))\n",
        "print(df_cp[\"date\"].mean(), \"date mean cp\")\n",
        "print(df_ph[\"date\"].mean(), \"date mean ph\")\n",
        "print(df_cp[\"stock\"].mean(), \"stock mean cp\")\n",
        "print(df_ph[\"stock\"].mean(), \"stock mean ph\")"
      ],
      "metadata": {
        "colab": {
          "base_uri": "https://localhost:8080/"
        },
        "id": "aZpy7u3eE4xb",
        "outputId": "c8f7925f-0b6a-4bda-ae2e-7bf515fc86fe"
      },
      "id": "aZpy7u3eE4xb",
      "execution_count": 13,
      "outputs": [
        {
          "output_type": "stream",
          "name": "stdout",
          "text": [
            "453\n",
            "391\n",
            "16.973509933774835 date mean cp\n",
            "13.838874680306905 date mean ph\n",
            "31.69757174392936 stock mean cp\n",
            "23.84910485933504 stock mean ph\n"
          ]
        }
      ]
    },
    {
      "cell_type": "markdown",
      "source": [
        "Il pourrait être très intéressant de mener une **Analyse Factorielle ici (à voir laquelle) sur RStudio** afin de pouvoir identifier des liens entres les variables (qui sont quantitatives et qualitatives) du jeu de données. <br>\n",
        "Par exemple on peut voir ici, qu'en moyenne, dans le jeu de données de test les recherches par téléphone sont faites à des dates plus proches de la date de réservation (ce qui paraît assez intuitif) que les recherches faites sur ordinateur."
      ],
      "metadata": {
        "id": "LxLKW2r2IyNG"
      },
      "id": "LxLKW2r2IyNG"
    },
    {
      "cell_type": "markdown",
      "source": [
        "# Etude de l'utilisation des avatars"
      ],
      "metadata": {
        "id": "LWxj3TzMKt6H"
      },
      "id": "LWxj3TzMKt6H"
    },
    {
      "cell_type": "markdown",
      "source": [
        "Tout d'abord, on remarque dans la partie prévisualisation qu'il y a **quasiment autant d'avatars que des requêtes**. Ceci pourra être utilisé lorsque nous allons requêter le jeu de données d'entraînement. <br>\n",
        "Observons les avatars étant utilisés plusieurs fois."
      ],
      "metadata": {
        "id": "wLlXUdFvKwYa"
      },
      "id": "wLlXUdFvKwYa"
    },
    {
      "cell_type": "code",
      "source": [
        "df_req_per_avatar = pd.DataFrame(df_req[\"avatar_id\"].value_counts()) # on compte les req par id d'avatar\n",
        "df_multiple_req_per_avatar = df_req_per_avatar[df_req_per_avatar[\"avatar_id\"]>1] # on garde les id tq nb req > 1\n",
        "multiple_req_index_list = df_multiple_req_per_avatar.index # on récupère les index de ces lignes\n",
        "df_avatar = df_req.iloc[multiple_req_index_list] # on récupère les données correspondantes dans le df de départ\n",
        "df_avatar = df_avatar.sort_values(by='avatar_id') # on trie par id avatar\n",
        "df_avatar"
      ],
      "metadata": {
        "colab": {
          "base_uri": "https://localhost:8080/",
          "height": 1000
        },
        "id": "7z6AN51fLCA9",
        "outputId": "67c70267-aefe-44f4-bedb-b42eb5213f86"
      },
      "id": "7z6AN51fLCA9",
      "execution_count": 32,
      "outputs": [
        {
          "output_type": "execute_result",
          "data": {
            "text/plain": [
              "      index  order_requests        city  date       language  mobile  \\\n",
              "9         9               2     vilnius    18       romanian       0   \n",
              "27       27               4       paris    36        swedish       1   \n",
              "18       18               3       paris    39        swedish       1   \n",
              "38       38               5       paris    15        swedish       0   \n",
              "49       49               6    valletta    38        maltese       1   \n",
              "52       52               7    valletta    20        maltese       1   \n",
              "80       80              10      madrid     6  luxembourgish       1   \n",
              "67       67               9      madrid    20  luxembourgish       0   \n",
              "54       54               8      madrid    21        belgian       0   \n",
              "91       91              11      madrid    18  luxembourgish       1   \n",
              "117     117              13      madrid     1          dutch       1   \n",
              "104     104              12      madrid    16  luxembourgish       0   \n",
              "134     134              16    valletta     0         french       1   \n",
              "128     128              14    valletta    15        belgian       1   \n",
              "130     130              15    valletta     5        belgian       0   \n",
              "138     138              17    valletta    38        finnish       1   \n",
              "141     141              18    valletta    35        swedish       1   \n",
              "144     144              19   amsterdam    35       austrian       0   \n",
              "154     154              20   amsterdam    20       austrian       0   \n",
              "165     165              21   amsterdam    18      slovakian       0   \n",
              "198     198              24       paris    16      hungarian       0   \n",
              "176     176              22       paris    19      hungarian       1   \n",
              "187     187              23       paris    17      hungarian       1   \n",
              "209     209              25       paris    18       austrian       0   \n",
              "220     220              26       paris     2      slovakian       0   \n",
              "232     232              27  copenhagen    38       austrian       0   \n",
              "250     250              29  copenhagen    18         french       0   \n",
              "241     241              28  copenhagen    35       austrian       1   \n",
              "254     254              30     vilnius    20       romanian       1   \n",
              "263     263              31     vilnius    18       romanian       1   \n",
              "6200   6200             791       sofia     4      hungarian       0   \n",
              "6213   6213             793        rome     1        finnish       0   \n",
              "6233   6233             795   amsterdam    15      bulgarian       0   \n",
              "6222   6222             794       paris    36      hungarian       0   \n",
              "6204   6204             792  copenhagen    34      hungarian       0   \n",
              "6189   6189             790   amsterdam    15      hungarian       0   \n",
              "\n",
              "      avatar_id  hotel_id  stock  \n",
              "9             1       161     36  \n",
              "27            2        71    171  \n",
              "18            2       238    104  \n",
              "38            2        71     25  \n",
              "49            3       106     96  \n",
              "52            3        81     24  \n",
              "80            4       131      8  \n",
              "67            4        75     16  \n",
              "54            4        75     17  \n",
              "91            5        75     13  \n",
              "117           5       131      1  \n",
              "104           5        75     11  \n",
              "134           6       160      0  \n",
              "128           6        81     14  \n",
              "130           6       160      2  \n",
              "138           7       106     96  \n",
              "141           7       106     79  \n",
              "144           8        30     68  \n",
              "154           8        22     19  \n",
              "165           8        22     16  \n",
              "198           9        71     27  \n",
              "176           9        71     35  \n",
              "187           9        71     29  \n",
              "209          10        71     32  \n",
              "220          10         0      2  \n",
              "232          11        43     99  \n",
              "250          11       367     11  \n",
              "241          11        43     84  \n",
              "254          12       161     44  \n",
              "263          12       161     36  \n",
              "6200        123       459      4  \n",
              "6213        257        46      1  \n",
              "6233        437        22     12  \n",
              "6222        488        71    171  \n",
              "6204        528        43     78  \n",
              "6189        563        22     12  "
            ],
            "text/html": [
              "\n",
              "  <div id=\"df-5bf7dc19-db99-4eed-a46d-950ced2c0b95\">\n",
              "    <div class=\"colab-df-container\">\n",
              "      <div>\n",
              "<style scoped>\n",
              "    .dataframe tbody tr th:only-of-type {\n",
              "        vertical-align: middle;\n",
              "    }\n",
              "\n",
              "    .dataframe tbody tr th {\n",
              "        vertical-align: top;\n",
              "    }\n",
              "\n",
              "    .dataframe thead th {\n",
              "        text-align: right;\n",
              "    }\n",
              "</style>\n",
              "<table border=\"1\" class=\"dataframe\">\n",
              "  <thead>\n",
              "    <tr style=\"text-align: right;\">\n",
              "      <th></th>\n",
              "      <th>index</th>\n",
              "      <th>order_requests</th>\n",
              "      <th>city</th>\n",
              "      <th>date</th>\n",
              "      <th>language</th>\n",
              "      <th>mobile</th>\n",
              "      <th>avatar_id</th>\n",
              "      <th>hotel_id</th>\n",
              "      <th>stock</th>\n",
              "    </tr>\n",
              "  </thead>\n",
              "  <tbody>\n",
              "    <tr>\n",
              "      <th>9</th>\n",
              "      <td>9</td>\n",
              "      <td>2</td>\n",
              "      <td>vilnius</td>\n",
              "      <td>18</td>\n",
              "      <td>romanian</td>\n",
              "      <td>0</td>\n",
              "      <td>1</td>\n",
              "      <td>161</td>\n",
              "      <td>36</td>\n",
              "    </tr>\n",
              "    <tr>\n",
              "      <th>27</th>\n",
              "      <td>27</td>\n",
              "      <td>4</td>\n",
              "      <td>paris</td>\n",
              "      <td>36</td>\n",
              "      <td>swedish</td>\n",
              "      <td>1</td>\n",
              "      <td>2</td>\n",
              "      <td>71</td>\n",
              "      <td>171</td>\n",
              "    </tr>\n",
              "    <tr>\n",
              "      <th>18</th>\n",
              "      <td>18</td>\n",
              "      <td>3</td>\n",
              "      <td>paris</td>\n",
              "      <td>39</td>\n",
              "      <td>swedish</td>\n",
              "      <td>1</td>\n",
              "      <td>2</td>\n",
              "      <td>238</td>\n",
              "      <td>104</td>\n",
              "    </tr>\n",
              "    <tr>\n",
              "      <th>38</th>\n",
              "      <td>38</td>\n",
              "      <td>5</td>\n",
              "      <td>paris</td>\n",
              "      <td>15</td>\n",
              "      <td>swedish</td>\n",
              "      <td>0</td>\n",
              "      <td>2</td>\n",
              "      <td>71</td>\n",
              "      <td>25</td>\n",
              "    </tr>\n",
              "    <tr>\n",
              "      <th>49</th>\n",
              "      <td>49</td>\n",
              "      <td>6</td>\n",
              "      <td>valletta</td>\n",
              "      <td>38</td>\n",
              "      <td>maltese</td>\n",
              "      <td>1</td>\n",
              "      <td>3</td>\n",
              "      <td>106</td>\n",
              "      <td>96</td>\n",
              "    </tr>\n",
              "    <tr>\n",
              "      <th>52</th>\n",
              "      <td>52</td>\n",
              "      <td>7</td>\n",
              "      <td>valletta</td>\n",
              "      <td>20</td>\n",
              "      <td>maltese</td>\n",
              "      <td>1</td>\n",
              "      <td>3</td>\n",
              "      <td>81</td>\n",
              "      <td>24</td>\n",
              "    </tr>\n",
              "    <tr>\n",
              "      <th>80</th>\n",
              "      <td>80</td>\n",
              "      <td>10</td>\n",
              "      <td>madrid</td>\n",
              "      <td>6</td>\n",
              "      <td>luxembourgish</td>\n",
              "      <td>1</td>\n",
              "      <td>4</td>\n",
              "      <td>131</td>\n",
              "      <td>8</td>\n",
              "    </tr>\n",
              "    <tr>\n",
              "      <th>67</th>\n",
              "      <td>67</td>\n",
              "      <td>9</td>\n",
              "      <td>madrid</td>\n",
              "      <td>20</td>\n",
              "      <td>luxembourgish</td>\n",
              "      <td>0</td>\n",
              "      <td>4</td>\n",
              "      <td>75</td>\n",
              "      <td>16</td>\n",
              "    </tr>\n",
              "    <tr>\n",
              "      <th>54</th>\n",
              "      <td>54</td>\n",
              "      <td>8</td>\n",
              "      <td>madrid</td>\n",
              "      <td>21</td>\n",
              "      <td>belgian</td>\n",
              "      <td>0</td>\n",
              "      <td>4</td>\n",
              "      <td>75</td>\n",
              "      <td>17</td>\n",
              "    </tr>\n",
              "    <tr>\n",
              "      <th>91</th>\n",
              "      <td>91</td>\n",
              "      <td>11</td>\n",
              "      <td>madrid</td>\n",
              "      <td>18</td>\n",
              "      <td>luxembourgish</td>\n",
              "      <td>1</td>\n",
              "      <td>5</td>\n",
              "      <td>75</td>\n",
              "      <td>13</td>\n",
              "    </tr>\n",
              "    <tr>\n",
              "      <th>117</th>\n",
              "      <td>117</td>\n",
              "      <td>13</td>\n",
              "      <td>madrid</td>\n",
              "      <td>1</td>\n",
              "      <td>dutch</td>\n",
              "      <td>1</td>\n",
              "      <td>5</td>\n",
              "      <td>131</td>\n",
              "      <td>1</td>\n",
              "    </tr>\n",
              "    <tr>\n",
              "      <th>104</th>\n",
              "      <td>104</td>\n",
              "      <td>12</td>\n",
              "      <td>madrid</td>\n",
              "      <td>16</td>\n",
              "      <td>luxembourgish</td>\n",
              "      <td>0</td>\n",
              "      <td>5</td>\n",
              "      <td>75</td>\n",
              "      <td>11</td>\n",
              "    </tr>\n",
              "    <tr>\n",
              "      <th>134</th>\n",
              "      <td>134</td>\n",
              "      <td>16</td>\n",
              "      <td>valletta</td>\n",
              "      <td>0</td>\n",
              "      <td>french</td>\n",
              "      <td>1</td>\n",
              "      <td>6</td>\n",
              "      <td>160</td>\n",
              "      <td>0</td>\n",
              "    </tr>\n",
              "    <tr>\n",
              "      <th>128</th>\n",
              "      <td>128</td>\n",
              "      <td>14</td>\n",
              "      <td>valletta</td>\n",
              "      <td>15</td>\n",
              "      <td>belgian</td>\n",
              "      <td>1</td>\n",
              "      <td>6</td>\n",
              "      <td>81</td>\n",
              "      <td>14</td>\n",
              "    </tr>\n",
              "    <tr>\n",
              "      <th>130</th>\n",
              "      <td>130</td>\n",
              "      <td>15</td>\n",
              "      <td>valletta</td>\n",
              "      <td>5</td>\n",
              "      <td>belgian</td>\n",
              "      <td>0</td>\n",
              "      <td>6</td>\n",
              "      <td>160</td>\n",
              "      <td>2</td>\n",
              "    </tr>\n",
              "    <tr>\n",
              "      <th>138</th>\n",
              "      <td>138</td>\n",
              "      <td>17</td>\n",
              "      <td>valletta</td>\n",
              "      <td>38</td>\n",
              "      <td>finnish</td>\n",
              "      <td>1</td>\n",
              "      <td>7</td>\n",
              "      <td>106</td>\n",
              "      <td>96</td>\n",
              "    </tr>\n",
              "    <tr>\n",
              "      <th>141</th>\n",
              "      <td>141</td>\n",
              "      <td>18</td>\n",
              "      <td>valletta</td>\n",
              "      <td>35</td>\n",
              "      <td>swedish</td>\n",
              "      <td>1</td>\n",
              "      <td>7</td>\n",
              "      <td>106</td>\n",
              "      <td>79</td>\n",
              "    </tr>\n",
              "    <tr>\n",
              "      <th>144</th>\n",
              "      <td>144</td>\n",
              "      <td>19</td>\n",
              "      <td>amsterdam</td>\n",
              "      <td>35</td>\n",
              "      <td>austrian</td>\n",
              "      <td>0</td>\n",
              "      <td>8</td>\n",
              "      <td>30</td>\n",
              "      <td>68</td>\n",
              "    </tr>\n",
              "    <tr>\n",
              "      <th>154</th>\n",
              "      <td>154</td>\n",
              "      <td>20</td>\n",
              "      <td>amsterdam</td>\n",
              "      <td>20</td>\n",
              "      <td>austrian</td>\n",
              "      <td>0</td>\n",
              "      <td>8</td>\n",
              "      <td>22</td>\n",
              "      <td>19</td>\n",
              "    </tr>\n",
              "    <tr>\n",
              "      <th>165</th>\n",
              "      <td>165</td>\n",
              "      <td>21</td>\n",
              "      <td>amsterdam</td>\n",
              "      <td>18</td>\n",
              "      <td>slovakian</td>\n",
              "      <td>0</td>\n",
              "      <td>8</td>\n",
              "      <td>22</td>\n",
              "      <td>16</td>\n",
              "    </tr>\n",
              "    <tr>\n",
              "      <th>198</th>\n",
              "      <td>198</td>\n",
              "      <td>24</td>\n",
              "      <td>paris</td>\n",
              "      <td>16</td>\n",
              "      <td>hungarian</td>\n",
              "      <td>0</td>\n",
              "      <td>9</td>\n",
              "      <td>71</td>\n",
              "      <td>27</td>\n",
              "    </tr>\n",
              "    <tr>\n",
              "      <th>176</th>\n",
              "      <td>176</td>\n",
              "      <td>22</td>\n",
              "      <td>paris</td>\n",
              "      <td>19</td>\n",
              "      <td>hungarian</td>\n",
              "      <td>1</td>\n",
              "      <td>9</td>\n",
              "      <td>71</td>\n",
              "      <td>35</td>\n",
              "    </tr>\n",
              "    <tr>\n",
              "      <th>187</th>\n",
              "      <td>187</td>\n",
              "      <td>23</td>\n",
              "      <td>paris</td>\n",
              "      <td>17</td>\n",
              "      <td>hungarian</td>\n",
              "      <td>1</td>\n",
              "      <td>9</td>\n",
              "      <td>71</td>\n",
              "      <td>29</td>\n",
              "    </tr>\n",
              "    <tr>\n",
              "      <th>209</th>\n",
              "      <td>209</td>\n",
              "      <td>25</td>\n",
              "      <td>paris</td>\n",
              "      <td>18</td>\n",
              "      <td>austrian</td>\n",
              "      <td>0</td>\n",
              "      <td>10</td>\n",
              "      <td>71</td>\n",
              "      <td>32</td>\n",
              "    </tr>\n",
              "    <tr>\n",
              "      <th>220</th>\n",
              "      <td>220</td>\n",
              "      <td>26</td>\n",
              "      <td>paris</td>\n",
              "      <td>2</td>\n",
              "      <td>slovakian</td>\n",
              "      <td>0</td>\n",
              "      <td>10</td>\n",
              "      <td>0</td>\n",
              "      <td>2</td>\n",
              "    </tr>\n",
              "    <tr>\n",
              "      <th>232</th>\n",
              "      <td>232</td>\n",
              "      <td>27</td>\n",
              "      <td>copenhagen</td>\n",
              "      <td>38</td>\n",
              "      <td>austrian</td>\n",
              "      <td>0</td>\n",
              "      <td>11</td>\n",
              "      <td>43</td>\n",
              "      <td>99</td>\n",
              "    </tr>\n",
              "    <tr>\n",
              "      <th>250</th>\n",
              "      <td>250</td>\n",
              "      <td>29</td>\n",
              "      <td>copenhagen</td>\n",
              "      <td>18</td>\n",
              "      <td>french</td>\n",
              "      <td>0</td>\n",
              "      <td>11</td>\n",
              "      <td>367</td>\n",
              "      <td>11</td>\n",
              "    </tr>\n",
              "    <tr>\n",
              "      <th>241</th>\n",
              "      <td>241</td>\n",
              "      <td>28</td>\n",
              "      <td>copenhagen</td>\n",
              "      <td>35</td>\n",
              "      <td>austrian</td>\n",
              "      <td>1</td>\n",
              "      <td>11</td>\n",
              "      <td>43</td>\n",
              "      <td>84</td>\n",
              "    </tr>\n",
              "    <tr>\n",
              "      <th>254</th>\n",
              "      <td>254</td>\n",
              "      <td>30</td>\n",
              "      <td>vilnius</td>\n",
              "      <td>20</td>\n",
              "      <td>romanian</td>\n",
              "      <td>1</td>\n",
              "      <td>12</td>\n",
              "      <td>161</td>\n",
              "      <td>44</td>\n",
              "    </tr>\n",
              "    <tr>\n",
              "      <th>263</th>\n",
              "      <td>263</td>\n",
              "      <td>31</td>\n",
              "      <td>vilnius</td>\n",
              "      <td>18</td>\n",
              "      <td>romanian</td>\n",
              "      <td>1</td>\n",
              "      <td>12</td>\n",
              "      <td>161</td>\n",
              "      <td>36</td>\n",
              "    </tr>\n",
              "    <tr>\n",
              "      <th>6200</th>\n",
              "      <td>6200</td>\n",
              "      <td>791</td>\n",
              "      <td>sofia</td>\n",
              "      <td>4</td>\n",
              "      <td>hungarian</td>\n",
              "      <td>0</td>\n",
              "      <td>123</td>\n",
              "      <td>459</td>\n",
              "      <td>4</td>\n",
              "    </tr>\n",
              "    <tr>\n",
              "      <th>6213</th>\n",
              "      <td>6213</td>\n",
              "      <td>793</td>\n",
              "      <td>rome</td>\n",
              "      <td>1</td>\n",
              "      <td>finnish</td>\n",
              "      <td>0</td>\n",
              "      <td>257</td>\n",
              "      <td>46</td>\n",
              "      <td>1</td>\n",
              "    </tr>\n",
              "    <tr>\n",
              "      <th>6233</th>\n",
              "      <td>6233</td>\n",
              "      <td>795</td>\n",
              "      <td>amsterdam</td>\n",
              "      <td>15</td>\n",
              "      <td>bulgarian</td>\n",
              "      <td>0</td>\n",
              "      <td>437</td>\n",
              "      <td>22</td>\n",
              "      <td>12</td>\n",
              "    </tr>\n",
              "    <tr>\n",
              "      <th>6222</th>\n",
              "      <td>6222</td>\n",
              "      <td>794</td>\n",
              "      <td>paris</td>\n",
              "      <td>36</td>\n",
              "      <td>hungarian</td>\n",
              "      <td>0</td>\n",
              "      <td>488</td>\n",
              "      <td>71</td>\n",
              "      <td>171</td>\n",
              "    </tr>\n",
              "    <tr>\n",
              "      <th>6204</th>\n",
              "      <td>6204</td>\n",
              "      <td>792</td>\n",
              "      <td>copenhagen</td>\n",
              "      <td>34</td>\n",
              "      <td>hungarian</td>\n",
              "      <td>0</td>\n",
              "      <td>528</td>\n",
              "      <td>43</td>\n",
              "      <td>78</td>\n",
              "    </tr>\n",
              "    <tr>\n",
              "      <th>6189</th>\n",
              "      <td>6189</td>\n",
              "      <td>790</td>\n",
              "      <td>amsterdam</td>\n",
              "      <td>15</td>\n",
              "      <td>hungarian</td>\n",
              "      <td>0</td>\n",
              "      <td>563</td>\n",
              "      <td>22</td>\n",
              "      <td>12</td>\n",
              "    </tr>\n",
              "  </tbody>\n",
              "</table>\n",
              "</div>\n",
              "      <button class=\"colab-df-convert\" onclick=\"convertToInteractive('df-5bf7dc19-db99-4eed-a46d-950ced2c0b95')\"\n",
              "              title=\"Convert this dataframe to an interactive table.\"\n",
              "              style=\"display:none;\">\n",
              "        \n",
              "  <svg xmlns=\"http://www.w3.org/2000/svg\" height=\"24px\"viewBox=\"0 0 24 24\"\n",
              "       width=\"24px\">\n",
              "    <path d=\"M0 0h24v24H0V0z\" fill=\"none\"/>\n",
              "    <path d=\"M18.56 5.44l.94 2.06.94-2.06 2.06-.94-2.06-.94-.94-2.06-.94 2.06-2.06.94zm-11 1L8.5 8.5l.94-2.06 2.06-.94-2.06-.94L8.5 2.5l-.94 2.06-2.06.94zm10 10l.94 2.06.94-2.06 2.06-.94-2.06-.94-.94-2.06-.94 2.06-2.06.94z\"/><path d=\"M17.41 7.96l-1.37-1.37c-.4-.4-.92-.59-1.43-.59-.52 0-1.04.2-1.43.59L10.3 9.45l-7.72 7.72c-.78.78-.78 2.05 0 2.83L4 21.41c.39.39.9.59 1.41.59.51 0 1.02-.2 1.41-.59l7.78-7.78 2.81-2.81c.8-.78.8-2.07 0-2.86zM5.41 20L4 18.59l7.72-7.72 1.47 1.35L5.41 20z\"/>\n",
              "  </svg>\n",
              "      </button>\n",
              "      \n",
              "  <style>\n",
              "    .colab-df-container {\n",
              "      display:flex;\n",
              "      flex-wrap:wrap;\n",
              "      gap: 12px;\n",
              "    }\n",
              "\n",
              "    .colab-df-convert {\n",
              "      background-color: #E8F0FE;\n",
              "      border: none;\n",
              "      border-radius: 50%;\n",
              "      cursor: pointer;\n",
              "      display: none;\n",
              "      fill: #1967D2;\n",
              "      height: 32px;\n",
              "      padding: 0 0 0 0;\n",
              "      width: 32px;\n",
              "    }\n",
              "\n",
              "    .colab-df-convert:hover {\n",
              "      background-color: #E2EBFA;\n",
              "      box-shadow: 0px 1px 2px rgba(60, 64, 67, 0.3), 0px 1px 3px 1px rgba(60, 64, 67, 0.15);\n",
              "      fill: #174EA6;\n",
              "    }\n",
              "\n",
              "    [theme=dark] .colab-df-convert {\n",
              "      background-color: #3B4455;\n",
              "      fill: #D2E3FC;\n",
              "    }\n",
              "\n",
              "    [theme=dark] .colab-df-convert:hover {\n",
              "      background-color: #434B5C;\n",
              "      box-shadow: 0px 1px 3px 1px rgba(0, 0, 0, 0.15);\n",
              "      filter: drop-shadow(0px 1px 2px rgba(0, 0, 0, 0.3));\n",
              "      fill: #FFFFFF;\n",
              "    }\n",
              "  </style>\n",
              "\n",
              "      <script>\n",
              "        const buttonEl =\n",
              "          document.querySelector('#df-5bf7dc19-db99-4eed-a46d-950ced2c0b95 button.colab-df-convert');\n",
              "        buttonEl.style.display =\n",
              "          google.colab.kernel.accessAllowed ? 'block' : 'none';\n",
              "\n",
              "        async function convertToInteractive(key) {\n",
              "          const element = document.querySelector('#df-5bf7dc19-db99-4eed-a46d-950ced2c0b95');\n",
              "          const dataTable =\n",
              "            await google.colab.kernel.invokeFunction('convertToInteractive',\n",
              "                                                     [key], {});\n",
              "          if (!dataTable) return;\n",
              "\n",
              "          const docLinkHtml = 'Like what you see? Visit the ' +\n",
              "            '<a target=\"_blank\" href=https://colab.research.google.com/notebooks/data_table.ipynb>data table notebook</a>'\n",
              "            + ' to learn more about interactive tables.';\n",
              "          element.innerHTML = '';\n",
              "          dataTable['output_type'] = 'display_data';\n",
              "          await google.colab.output.renderOutput(dataTable, element);\n",
              "          const docLink = document.createElement('div');\n",
              "          docLink.innerHTML = docLinkHtml;\n",
              "          element.appendChild(docLink);\n",
              "        }\n",
              "      </script>\n",
              "    </div>\n",
              "  </div>\n",
              "  "
            ]
          },
          "metadata": {},
          "execution_count": 32
        }
      ]
    },
    {
      "cell_type": "code",
      "source": [
        "df_req_per_avatar"
      ],
      "metadata": {
        "colab": {
          "base_uri": "https://localhost:8080/",
          "height": 424
        },
        "id": "jbsqf2GVOnJl",
        "outputId": "a0da2696-dfbe-4055-8f49-789363beea11"
      },
      "id": "jbsqf2GVOnJl",
      "execution_count": 34,
      "outputs": [
        {
          "output_type": "execute_result",
          "data": {
            "text/plain": [
              "     avatar_id\n",
              "794          4\n",
              "790          4\n",
              "789          4\n",
              "12           4\n",
              "5            3\n",
              "..         ...\n",
              "113          1\n",
              "463          1\n",
              "277          1\n",
              "473          1\n",
              "197          1\n",
              "\n",
              "[785 rows x 1 columns]"
            ],
            "text/html": [
              "\n",
              "  <div id=\"df-94278fa3-c290-483f-92e8-5dd2a888d659\">\n",
              "    <div class=\"colab-df-container\">\n",
              "      <div>\n",
              "<style scoped>\n",
              "    .dataframe tbody tr th:only-of-type {\n",
              "        vertical-align: middle;\n",
              "    }\n",
              "\n",
              "    .dataframe tbody tr th {\n",
              "        vertical-align: top;\n",
              "    }\n",
              "\n",
              "    .dataframe thead th {\n",
              "        text-align: right;\n",
              "    }\n",
              "</style>\n",
              "<table border=\"1\" class=\"dataframe\">\n",
              "  <thead>\n",
              "    <tr style=\"text-align: right;\">\n",
              "      <th></th>\n",
              "      <th>avatar_id</th>\n",
              "    </tr>\n",
              "  </thead>\n",
              "  <tbody>\n",
              "    <tr>\n",
              "      <th>794</th>\n",
              "      <td>4</td>\n",
              "    </tr>\n",
              "    <tr>\n",
              "      <th>790</th>\n",
              "      <td>4</td>\n",
              "    </tr>\n",
              "    <tr>\n",
              "      <th>789</th>\n",
              "      <td>4</td>\n",
              "    </tr>\n",
              "    <tr>\n",
              "      <th>12</th>\n",
              "      <td>4</td>\n",
              "    </tr>\n",
              "    <tr>\n",
              "      <th>5</th>\n",
              "      <td>3</td>\n",
              "    </tr>\n",
              "    <tr>\n",
              "      <th>...</th>\n",
              "      <td>...</td>\n",
              "    </tr>\n",
              "    <tr>\n",
              "      <th>113</th>\n",
              "      <td>1</td>\n",
              "    </tr>\n",
              "    <tr>\n",
              "      <th>463</th>\n",
              "      <td>1</td>\n",
              "    </tr>\n",
              "    <tr>\n",
              "      <th>277</th>\n",
              "      <td>1</td>\n",
              "    </tr>\n",
              "    <tr>\n",
              "      <th>473</th>\n",
              "      <td>1</td>\n",
              "    </tr>\n",
              "    <tr>\n",
              "      <th>197</th>\n",
              "      <td>1</td>\n",
              "    </tr>\n",
              "  </tbody>\n",
              "</table>\n",
              "<p>785 rows × 1 columns</p>\n",
              "</div>\n",
              "      <button class=\"colab-df-convert\" onclick=\"convertToInteractive('df-94278fa3-c290-483f-92e8-5dd2a888d659')\"\n",
              "              title=\"Convert this dataframe to an interactive table.\"\n",
              "              style=\"display:none;\">\n",
              "        \n",
              "  <svg xmlns=\"http://www.w3.org/2000/svg\" height=\"24px\"viewBox=\"0 0 24 24\"\n",
              "       width=\"24px\">\n",
              "    <path d=\"M0 0h24v24H0V0z\" fill=\"none\"/>\n",
              "    <path d=\"M18.56 5.44l.94 2.06.94-2.06 2.06-.94-2.06-.94-.94-2.06-.94 2.06-2.06.94zm-11 1L8.5 8.5l.94-2.06 2.06-.94-2.06-.94L8.5 2.5l-.94 2.06-2.06.94zm10 10l.94 2.06.94-2.06 2.06-.94-2.06-.94-.94-2.06-.94 2.06-2.06.94z\"/><path d=\"M17.41 7.96l-1.37-1.37c-.4-.4-.92-.59-1.43-.59-.52 0-1.04.2-1.43.59L10.3 9.45l-7.72 7.72c-.78.78-.78 2.05 0 2.83L4 21.41c.39.39.9.59 1.41.59.51 0 1.02-.2 1.41-.59l7.78-7.78 2.81-2.81c.8-.78.8-2.07 0-2.86zM5.41 20L4 18.59l7.72-7.72 1.47 1.35L5.41 20z\"/>\n",
              "  </svg>\n",
              "      </button>\n",
              "      \n",
              "  <style>\n",
              "    .colab-df-container {\n",
              "      display:flex;\n",
              "      flex-wrap:wrap;\n",
              "      gap: 12px;\n",
              "    }\n",
              "\n",
              "    .colab-df-convert {\n",
              "      background-color: #E8F0FE;\n",
              "      border: none;\n",
              "      border-radius: 50%;\n",
              "      cursor: pointer;\n",
              "      display: none;\n",
              "      fill: #1967D2;\n",
              "      height: 32px;\n",
              "      padding: 0 0 0 0;\n",
              "      width: 32px;\n",
              "    }\n",
              "\n",
              "    .colab-df-convert:hover {\n",
              "      background-color: #E2EBFA;\n",
              "      box-shadow: 0px 1px 2px rgba(60, 64, 67, 0.3), 0px 1px 3px 1px rgba(60, 64, 67, 0.15);\n",
              "      fill: #174EA6;\n",
              "    }\n",
              "\n",
              "    [theme=dark] .colab-df-convert {\n",
              "      background-color: #3B4455;\n",
              "      fill: #D2E3FC;\n",
              "    }\n",
              "\n",
              "    [theme=dark] .colab-df-convert:hover {\n",
              "      background-color: #434B5C;\n",
              "      box-shadow: 0px 1px 3px 1px rgba(0, 0, 0, 0.15);\n",
              "      filter: drop-shadow(0px 1px 2px rgba(0, 0, 0, 0.3));\n",
              "      fill: #FFFFFF;\n",
              "    }\n",
              "  </style>\n",
              "\n",
              "      <script>\n",
              "        const buttonEl =\n",
              "          document.querySelector('#df-94278fa3-c290-483f-92e8-5dd2a888d659 button.colab-df-convert');\n",
              "        buttonEl.style.display =\n",
              "          google.colab.kernel.accessAllowed ? 'block' : 'none';\n",
              "\n",
              "        async function convertToInteractive(key) {\n",
              "          const element = document.querySelector('#df-94278fa3-c290-483f-92e8-5dd2a888d659');\n",
              "          const dataTable =\n",
              "            await google.colab.kernel.invokeFunction('convertToInteractive',\n",
              "                                                     [key], {});\n",
              "          if (!dataTable) return;\n",
              "\n",
              "          const docLinkHtml = 'Like what you see? Visit the ' +\n",
              "            '<a target=\"_blank\" href=https://colab.research.google.com/notebooks/data_table.ipynb>data table notebook</a>'\n",
              "            + ' to learn more about interactive tables.';\n",
              "          element.innerHTML = '';\n",
              "          dataTable['output_type'] = 'display_data';\n",
              "          await google.colab.output.renderOutput(dataTable, element);\n",
              "          const docLink = document.createElement('div');\n",
              "          docLink.innerHTML = docLinkHtml;\n",
              "          element.appendChild(docLink);\n",
              "        }\n",
              "      </script>\n",
              "    </div>\n",
              "  </div>\n",
              "  "
            ]
          },
          "metadata": {},
          "execution_count": 34
        }
      ]
    }
  ],
  "metadata": {
    "colab": {
      "collapsed_sections": [
        "7301940f",
        "962021ea",
        "084299fd",
        "04abfe63",
        "1a7bdf57",
        "5lb7PsMianby",
        "y5d6CXp5E0zY",
        "LWxj3TzMKt6H"
      ],
      "provenance": [],
      "include_colab_link": true
    },
    "kernelspec": {
      "display_name": "Python 3 (ipykernel)",
      "language": "python",
      "name": "python3"
    },
    "language_info": {
      "codemirror_mode": {
        "name": "ipython",
        "version": 3
      },
      "file_extension": ".py",
      "mimetype": "text/x-python",
      "name": "python",
      "nbconvert_exporter": "python",
      "pygments_lexer": "ipython3",
      "version": "3.9.12"
    }
  },
  "nbformat": 4,
  "nbformat_minor": 5
}