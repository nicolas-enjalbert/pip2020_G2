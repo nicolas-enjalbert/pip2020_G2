{
  "nbformat": 4,
  "nbformat_minor": 0,
  "metadata": {
    "colab": {
      "name": "Untitled2.ipynb",
      "provenance": []
    },
    "kernelspec": {
      "name": "python3",
      "display_name": "Python 3"
    }
  },
  "cells": [
    {
      "cell_type": "code",
      "metadata": {
        "id": "9B4fjaVcF_vd"
      },
      "source": [
        "import pandas as pd\r\n",
        "import matplotlib.pyplot as plt\r\n",
        "import seaborn as sns\r\n",
        "import numpy as np\r\n",
        "from google.colab import files\r\n",
        "#import warnings\r\n",
        "#warnings.filterwarnings('ignore')\r\n",
        "%matplotlib inline"
      ],
      "execution_count": null,
      "outputs": []
    },
    {
      "cell_type": "code",
      "metadata": {
        "id": "QSKEca69GBIz"
      },
      "source": [
        "uploaded = files.upload()"
      ],
      "execution_count": null,
      "outputs": []
    },
    {
      "cell_type": "code",
      "metadata": {
        "id": "GCC3RR_OGDlk"
      },
      "source": [
        "#travail avec notre jeu de données\r\n",
        "data=pd.read_excel('Mémo jour 1 .xlsx')\r\n",
        "del data['Nom du site ']\r\n",
        "del data['URL source']\r\n",
        "data['nom_site'] = [nom_site(i) for i in data['URL article']]\r\n",
        "data.columns = ['art_url', 'nom_site']\r\n",
        "data"
      ],
      "execution_count": null,
      "outputs": []
    },
    {
      "cell_type": "code",
      "metadata": {
        "id": "vGk-bZmgGMzT"
      },
      "source": [
        "#fonction pour ajouter le nom du site à un data frame d'url s'articles\r\n",
        "def turnDF(df):\r\n",
        "  df['nom_site'] = [nom_site(i) for i in df['art_URL']]\r\n",
        "  return df\r\n",
        "\r\n",
        "#fonction pour conter le nombre d'apparition d'un site\r\n",
        "def countSite(df):\r\n",
        "  return df.groupby('nom_site').count()\r\n",
        "\r\n",
        "#on applique\r\n",
        "dataSite=data.groupby('nom_site').count()\r\n",
        "dataSite.plot(kind='bar')"
      ],
      "execution_count": null,
      "outputs": []
    },
    {
      "cell_type": "code",
      "metadata": {
        "id": "WpTxXinDGNlM"
      },
      "source": [
        "#fonctions pour avoir les sites les plus vus et ceux vus plus d'une fois (pourcentage ou nombre en paramètre)\r\n",
        "def mostSeenSitesProp(dataSite,prop=5):\r\n",
        "  dataSite=dataSite.sort_values('art_url', axis=0, ascending=False)\r\n",
        "  numb=int((prop/100)*len(dataSite))\r\n",
        "  mostSeen=dataSite.head(n=numb)\r\n",
        "  moreThanOne=dataSite[dataSite.art_url != 1]\r\n",
        "  return mostSeen,moreThanOne\r\n",
        "\r\n",
        "def mostSeenSitesNumb(dataSite,numb=10):\r\n",
        "  dataSite=dataSite.sort_values('art_url', axis=0, ascending=False)\r\n",
        "  mostSeen=dataSite.head(n=numb)\r\n",
        "  moreThanOne=dataSite[dataSite.art_url != 1]\r\n",
        "  return mostSeen,moreThanOne"
      ],
      "execution_count": null,
      "outputs": []
    },
    {
      "cell_type": "code",
      "metadata": {
        "id": "v31pWI4DGRaq"
      },
      "source": [
        "#sites les plus vu (5%) et ceux vu + d'une fois\r\n",
        "mostSeen,moreThanOne=mostSeenSitesProp(dataSite)"
      ],
      "execution_count": null,
      "outputs": []
    },
    {
      "cell_type": "code",
      "metadata": {
        "id": "oec01I3fGUy8"
      },
      "source": [
        "#graphe baton\r\n",
        "moreThanOne.plot(kind=\"bar\", fontsize=4)"
      ],
      "execution_count": null,
      "outputs": []
    },
    {
      "cell_type": "code",
      "metadata": {
        "id": "FLvdjNKRGYVT"
      },
      "source": [
        "new_row={'nom_site':'sites uniques','art_url':len(dataSite)-len(moreThanOne)}\r\n",
        "all_sites=moreThanOne.copy()\r\n",
        "all_sites.loc['sites unique']=new_row\r\n",
        "plot = all_sites.plot.pie(y='art_url', figsize=(5, 5))\r\n",
        "\r\n",
        "#comparer les sites apparaissant 2 fois au moins et l'ensemble des sites apparaissant une fois\r\n",
        "def dfComparaison(dataSite,moreThanOne):\r\n",
        "  new_row={'nom_site':'sites uniques','art_url':len(dataSite)-len(moreThanOne)}\r\n",
        "  all_sites=moreThanOne.copy()\r\n",
        "  all_sites.loc['sites unique']=new_row\r\n",
        "  plot = all_sites.plot.pie(y='art_url', figsize=(5, 5))\r\n",
        "  return all_sites"
      ],
      "execution_count": null,
      "outputs": []
    },
    {
      "cell_type": "code",
      "metadata": {
        "id": "uoMyXk3_GZMP"
      },
      "source": [
        "#affichage de stats basiques\r\n",
        "orderedDataSite=dataSite.sort_values('art_url', axis=0, ascending=False)\r\n",
        "\r\n",
        "def stats(dataSite):\r\n",
        "  print(\"moyenne :\", dataSite.art_url.mean())\r\n",
        "  print(\"Les 10 sites les plus obtenus sont :\")\r\n",
        "  print(dataSite.head(10))\r\n",
        "  print(\"mediane :\", dataSite.art_url.median())\r\n",
        "\r\n",
        "\r\n",
        "stats(orderedDataSite)"
      ],
      "execution_count": null,
      "outputs": []
    },
    {
      "cell_type": "code",
      "metadata": {
        "id": "7VcQV35qGb81"
      },
      "source": [
        ""
      ],
      "execution_count": null,
      "outputs": []
    }
  ]
}