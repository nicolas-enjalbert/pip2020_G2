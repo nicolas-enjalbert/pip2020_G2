{
 "cells": [
  {
   "cell_type": "code",
   "execution_count": null,
   "metadata": {},
   "outputs": [],
   "source": [
    "#!pip install textblob \n",
    "#language recognition"
   ]
  },
  {
   "cell_type": "code",
   "execution_count": 1,
   "metadata": {},
   "outputs": [],
   "source": [
    "import requests\n",
    "import csv\n",
    "import pandas as pd\n",
    "import numpy as np\n",
    "import datetime #today's date\n",
    "from textblob import TextBlob \n",
    "from bs4 import BeautifulSoup\n",
    "import re\n",
    "import time #delay for scrapping multiple articles"
   ]
  },
  {
   "cell_type": "code",
   "execution_count": 2,
   "metadata": {},
   "outputs": [],
   "source": [
    "url = \"https://www.usine-digitale.fr/article/service-client-36-des-francais-prefereraient-ne-jamais-avoir-a-interagir-avec-un-chatbot.N908494\""
   ]
  },
  {
   "cell_type": "code",
   "execution_count": 3,
   "metadata": {},
   "outputs": [
    {
     "data": {
      "text/html": [
       "<div>\n",
       "<style scoped>\n",
       "    .dataframe tbody tr th:only-of-type {\n",
       "        vertical-align: middle;\n",
       "    }\n",
       "\n",
       "    .dataframe tbody tr th {\n",
       "        vertical-align: top;\n",
       "    }\n",
       "\n",
       "    .dataframe thead th {\n",
       "        text-align: right;\n",
       "    }\n",
       "</style>\n",
       "<table border=\"1\" class=\"dataframe\">\n",
       "  <thead>\n",
       "    <tr style=\"text-align: right;\">\n",
       "      <th></th>\n",
       "      <th>art_content</th>\n",
       "      <th>art_content_html</th>\n",
       "      <th>art_published_datetime</th>\n",
       "      <th>art_lang</th>\n",
       "      <th>art_title</th>\n",
       "      <th>art_url</th>\n",
       "      <th>src_name</th>\n",
       "      <th>src_type</th>\n",
       "      <th>src_url</th>\n",
       "      <th>art_img</th>\n",
       "      <th>art_auth</th>\n",
       "      <th>art_tag</th>\n",
       "    </tr>\n",
       "  </thead>\n",
       "  <tbody>\n",
       "  </tbody>\n",
       "</table>\n",
       "</div>"
      ],
      "text/plain": [
       "Empty DataFrame\n",
       "Columns: [art_content, art_content_html, art_published_datetime, art_lang, art_title, art_url, src_name, src_type, src_url, art_img, art_auth, art_tag]\n",
       "Index: []"
      ]
     },
     "execution_count": 3,
     "metadata": {},
     "output_type": "execute_result"
    }
   ],
   "source": [
    "df= pd.DataFrame(columns=['art_content','art_content_html','art_published_datetime','art_lang','art_title','art_url','src_name','src_type','src_url','art_img','art_auth','art_tag']  )\n",
    "df"
   ]
  },
  {
   "cell_type": "code",
   "execution_count": 126,
   "metadata": {},
   "outputs": [],
   "source": [
    "\"\"\" \n",
    "In: url\n",
    "Out: a tuple of strings\n",
    "\"\"\"\n",
    "\n",
    "def get_all(url):\n",
    "    response = requests.get(url)\n",
    "    soup = BeautifulSoup(response.text, 'html.parser')\n",
    "    \n",
    "    #retrieval of the html content\n",
    "    art_content_html = soup.find(\"article\", {\"class\":\"contenuArticle\"})\n",
    "    \n",
    "    if art_content_html is None:\n",
    "        art_content_html = \"no_data\"\n",
    "        \n",
    "    #retrieval of the article content    \n",
    "    art_content = art_content_html.text\n",
    "        \n",
    "    if art_content is None:\n",
    "        art_content = \"no_data\"   \n",
    "    \n",
    "    #retrieval of the publication/modification date\n",
    "    art_published_datetime = soup.find(\"time\", {\"class\": \"dateEtiquette3\"})\n",
    "    \n",
    "    if art_published_datetime is None:\n",
    "        art_published_datetime = datetime.datetime.now()\n",
    "    else:    \n",
    "        art_published_datetime = art_published_datetime[\"datetime\"]\n",
    "        art_published_datetime = datetime.datetime.strptime(art_published_datetime, '%Y-%m-%dT%H:%M').date()\n",
    "\n",
    "    #retrieval of the language\n",
    "    art_lang = soup.find(\"meta\", {\"property\": \"og:locale\"})\n",
    "    \n",
    "    if art_lang is None:\n",
    "        art_lang = \"no_data\"\n",
    "    else:\n",
    "        art_lang = art_lang[\"content\"]\n",
    "    \n",
    "    #retrieval of the title\n",
    "    art_title = soup.find(\"meta\", {\"property\": \"og:title\"}) \n",
    "    \n",
    "    if art_title is None:\n",
    "        art_title = \"no_data\"\n",
    "    else:\n",
    "        art_title = art_title[\"content\"]\n",
    "        \n",
    "    #retrieval of the article url   \n",
    "    art_url = soup.find(\"meta\", {\"property\": \"og:url\"})\n",
    "    \n",
    "    if art_url is None:\n",
    "        art_url = \"no_data\"\n",
    "    else:    \n",
    "        art_url = art_url[\"content\"]\n",
    "    \n",
    "    #retrieval of the website name\n",
    "    src_name = soup.find(\"meta\", {\"name\": \"ipd:siteName\"})\n",
    "    \n",
    "    if src_name is None:\n",
    "        src_name = \"no_data\"\n",
    "    else:\n",
    "        src_name = src_name[\"content\"]\n",
    "    \n",
    "    #retrieval of the source type\n",
    "    src_type = \"xpath_source\" #default value\n",
    "    \n",
    "    #retrieval of the source url\n",
    "    src_url = soup.find(\"meta\", {\"property\": \"og:site_name\"})\n",
    "    \n",
    "    if src_url is None:\n",
    "        src_url = \"no_data\"\n",
    "    else:    \n",
    "        src_url = src_url[\"content\"]\n",
    "    \n",
    "    #retrieval of the article image\n",
    "    art_img = soup.find(\"meta\", {\"property\": \"og:image\"})\n",
    "    \n",
    "    if art_img is None:\n",
    "        art_img = \"no_data\" \n",
    "    else:\n",
    "        art_img = art_img[\"content\"]\n",
    "    \n",
    "    #retrieval of the article author\n",
    "    art_auth = soup.find(\"a\", {\"class\": \"nomAuteur\"})\n",
    "    \n",
    "    if art_auth is None:   \n",
    "        art_auth = \"no_data\"\n",
    "    else:\n",
    "        art_auth = art_auth.text\n",
    "    \n",
    "    #retrieval of the article tags\n",
    "    art_tags = soup.find_all(\"a\", {\"rel\": \"tag\"})    \n",
    "    if art_tags is None:\n",
    "        art_tag = \"no_data\"\n",
    "    else:\n",
    "        art_tag = []\n",
    "        for tag in art_tags:\n",
    "            art_tag.append(str(tag.text))\n",
    "\n",
    "\n",
    "    return art_content_html, art_content, art_published_datetime, art_lang, art_title,\\\n",
    "        art_url, src_name, src_type, src_url, art_img, art_auth, art_tag"
   ]
  },
  {
   "cell_type": "code",
   "execution_count": 127,
   "metadata": {},
   "outputs": [
    {
     "data": {
      "text/plain": [
       "'usine-digitale.fr'"
      ]
     },
     "execution_count": 127,
     "metadata": {},
     "output_type": "execute_result"
    }
   ],
   "source": [
    "get_all(url)[8]"
   ]
  },
  {
   "cell_type": "markdown",
   "metadata": {},
   "source": [
    "'art_content' [0],'art_content_html'[1],'art_published_datetime'[2],'art_lang'[3],\n",
    "    'art_title'[4],'art_url'[5],'src_name'[6],'src_type'[7],'src_url'[8],'src_img'[9],'art_auth'[10],'art_tag'[11]\n",
    "    "
   ]
  },
  {
   "cell_type": "code",
   "execution_count": 128,
   "metadata": {},
   "outputs": [],
   "source": [
    "url_2 = 'https://www.usine-digitale.fr/article/simulation-le-big-bang-du-big-data.N322853'"
   ]
  },
  {
   "cell_type": "code",
   "execution_count": 129,
   "metadata": {},
   "outputs": [
    {
     "data": {
      "text/plain": [
       "datetime.date(2015, 4, 7)"
      ]
     },
     "execution_count": 129,
     "metadata": {},
     "output_type": "execute_result"
    }
   ],
   "source": [
    "get_all(url_2)[2]"
   ]
  },
  {
   "cell_type": "code",
   "execution_count": 130,
   "metadata": {},
   "outputs": [
    {
     "data": {
      "text/plain": [
       "'https://www.usine-digitale.fr/mediatheque/8/1/3/000275318_pageListeTypeACropped/simulation-big-data.jpg'"
      ]
     },
     "execution_count": 130,
     "metadata": {},
     "output_type": "execute_result"
    }
   ],
   "source": [
    "get_all(url_2)[9]"
   ]
  },
  {
   "cell_type": "code",
   "execution_count": null,
   "metadata": {},
   "outputs": [],
   "source": []
  }
 ],
 "metadata": {
  "kernelspec": {
   "display_name": "Python 3",
   "language": "python",
   "name": "python3"
  },
  "language_info": {
   "codemirror_mode": {
    "name": "ipython",
    "version": 3
   },
   "file_extension": ".py",
   "mimetype": "text/x-python",
   "name": "python",
   "nbconvert_exporter": "python",
   "pygments_lexer": "ipython3",
   "version": "3.8.3"
  }
 },
 "nbformat": 4,
 "nbformat_minor": 4
}
